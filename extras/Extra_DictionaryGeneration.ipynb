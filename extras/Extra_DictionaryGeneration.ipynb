{
 "cells": [
  {
   "cell_type": "markdown",
   "metadata": {},
   "source": [
    "# Dictionary Generation\n",
    "In this notebook we generate a dictionary for [PySpellChecker](https://pyspellchecker.readthedocs.io/en/latest/index.html) that we will use when preprocessing PDF files. We do so by doing the following:\n",
    "1. Downloading a frequency list from the Real Academia Española [Reference Corpus (Corpus de Referencia del Español Actual (CREA))](http://corpus.rae.es/lfrecuencias.html).\n",
    "2. Parsing the RAE frequency list into a JSON file that PySpellChecker can read.\n",
    "3. Creating a dictionary by using the documents we downloaded as HTML.\n",
    "4. Merging both dictionaries into a PySpellChecker custom dictionary."
   ]
  },
  {
   "cell_type": "code",
   "execution_count": 16,
   "metadata": {},
   "outputs": [],
   "source": [
    "from spellchecker import SpellChecker\n",
    "from collections import Counter \n",
    "import re\n",
    "import json\n",
    "import requests\n",
    "import os"
   ]
  },
  {
   "cell_type": "markdown",
   "metadata": {},
   "source": [
    "## 1. Downloading CREA frequency list.\n",
    "\n",
    "We begin by downloading the CREA list and saving it to a temporary directory. The list comes in a zip file which we will have to extract later."
   ]
  },
  {
   "cell_type": "code",
   "execution_count": 17,
   "metadata": {},
   "outputs": [],
   "source": [
    "if not os.path.exists('temp'):\n",
    "    os.mkdir('temp')\n",
    "\n",
    "r = requests.get('http://corpus.rae.es/frec/CREA_total.zip')\n",
    "with open('temp/CREA_Dictionary.zip', 'wb') as fp:\n",
    "    fp.write(r.content)"
   ]
  },
  {
   "cell_type": "markdown",
   "metadata": {},
   "source": [
    "Now we extract the zip file to obtain a .txt file."
   ]
  },
  {
   "cell_type": "code",
   "execution_count": 18,
   "metadata": {},
   "outputs": [
    {
     "data": {
      "text/plain": [
       "['CREA_Dictionary.zip',\n",
       " 'dictRae.json',\n",
       " 'philosophyDict.json',\n",
       " 'CREA_total.TXT']"
      ]
     },
     "execution_count": 18,
     "metadata": {},
     "output_type": "execute_result"
    }
   ],
   "source": [
    "import zipfile\n",
    "with zipfile.ZipFile('temp/CREA_Dictionary.zip', 'r') as zip_ref:\n",
    "    zip_ref.extractall('temp/')\n",
    "    \n",
    "os.listdir('temp/')"
   ]
  },
  {
   "cell_type": "markdown",
   "metadata": {},
   "source": [
    "## 2. Parsing the CREA list into a JSON file."
   ]
  },
  {
   "cell_type": "markdown",
   "metadata": {},
   "source": [
    "Now we have `CREA_total.TXT`, which contains frequencies for words in Spanish. We will parse this list into a dictionary which holds the frequency counts. We do so by reading it as a TSV file, since this file has this structure. We will hence use the `csv` module in Python."
   ]
  },
  {
   "cell_type": "code",
   "execution_count": 19,
   "metadata": {},
   "outputs": [],
   "source": [
    "import csv\n",
    "raeCounts = {}\n",
    "with open('temp/CREA_total.TXT', encoding = \"ISO-8859-1\") as fp:\n",
    "    raw = csv.reader(fp, delimiter = '\\t')\n",
    "    next(raw)\n",
    "    for row in raw:\n",
    "        word = re.sub('\\W+', '', row[1])\n",
    "        raeCounts[word] = int(row[2].replace(',', ''))"
   ]
  },
  {
   "cell_type": "code",
   "execution_count": 20,
   "metadata": {},
   "outputs": [
    {
     "data": {
      "text/plain": [
       "736375"
      ]
     },
     "execution_count": 20,
     "metadata": {},
     "output_type": "execute_result"
    }
   ],
   "source": [
    "len(raeCounts)"
   ]
  },
  {
   "cell_type": "markdown",
   "metadata": {},
   "source": [
    "We will save this frequency list dictionary as a JSON file in case we need to reuse it later."
   ]
  },
  {
   "cell_type": "code",
   "execution_count": 21,
   "metadata": {},
   "outputs": [],
   "source": [
    "with open('temp/dictRae.json', 'w') as fp:\n",
    "    json.dump(raeCounts, fp)"
   ]
  },
  {
   "cell_type": "markdown",
   "metadata": {},
   "source": [
    "Lastly, we pass this JSON file to a PySpellChecker object that we will later save as our dictionary."
   ]
  },
  {
   "cell_type": "code",
   "execution_count": 22,
   "metadata": {},
   "outputs": [],
   "source": [
    "customDictionary = SpellChecker(language = None)\n",
    "customDictionary.word_frequency.load_dictionary('temp/dictRae.json')"
   ]
  },
  {
   "cell_type": "markdown",
   "metadata": {},
   "source": [
    "## 3. Creating a dictionary from HTML documents\n",
    "Now we load the documents we got and parsed from HTML files. We have stored this into the `data/parsedHTML` directory."
   ]
  },
  {
   "cell_type": "code",
   "execution_count": 23,
   "metadata": {},
   "outputs": [],
   "source": [
    "import sys\n",
    "\n",
    "module_path = os.path.abspath(os.path.join('..'))\n",
    "if module_path not in sys.path:\n",
    "    sys.path.append(module_path)\n",
    "\n",
    "from utils.loaders import loadCorpusList, loadCorpusDict, saveCorpus\n",
    "\n",
    "corpusPath = '../data/parsedHTML'\n",
    "\n",
    "corpusList = loadCorpusList(corpusPath)"
   ]
  },
  {
   "cell_type": "markdown",
   "metadata": {},
   "source": [
    "Now we count all the words in these files. We will only count words not recognized yet by our dictionary. We will not add them yet though, since we will only count those that are the most frequent. This will help both add only relevant words but also filter out some artifacts."
   ]
  },
  {
   "cell_type": "code",
   "execution_count": 24,
   "metadata": {},
   "outputs": [],
   "source": [
    "philWordCount = Counter()\n",
    "for doc in corpusList:\n",
    "    docWords = re.findall('\\w+', doc.cleanText)\n",
    "    for word in [word for word in docWords if word not in customDictionary]:\n",
    "        philWordCount[word] += 1"
   ]
  },
  {
   "cell_type": "code",
   "execution_count": 26,
   "metadata": {},
   "outputs": [
    {
     "data": {
      "text/plain": [
       "[('Aristotle', 498),\n",
       " ('responsibility', 203),\n",
       " ('καὶ', 146),\n",
       " ('Korsgaard', 140),\n",
       " ('Duica', 133),\n",
       " ('rhetoric', 132),\n",
       " ('Phaedo', 121),\n",
       " ('possibility', 116),\n",
       " ('Eriúgena', 112),\n",
       " ('Brandom', 111),\n",
       " ('philosopher', 106),\n",
       " ('Rancière', 104),\n",
       " ('Zahavi', 104),\n",
       " ('Socratic', 97),\n",
       " ('Hrsg', 94),\n",
       " ('τὸ', 94),\n",
       " ('KRV', 90),\n",
       " ('Callicles', 90),\n",
       " ('necessity', 89),\n",
       " ('Pereboom', 85),\n",
       " ('Badiou', 83),\n",
       " ('autoadscriptivo', 81),\n",
       " ('Metaphysics', 78),\n",
       " ('latter', 77),\n",
       " ('Responsibility', 76),\n",
       " ('KrV', 76),\n",
       " ('princípios', 75),\n",
       " ('Platonic', 74),\n",
       " ('metaphysics', 73),\n",
       " ('McTaggart', 73),\n",
       " ('therefore', 72),\n",
       " ('Gesinnung', 72),\n",
       " ('justiça', 70),\n",
       " ('nihilism', 69),\n",
       " ('precisely', 69),\n",
       " ('ação', 69),\n",
       " ('requires', 68),\n",
       " ('suggest', 67),\n",
       " ('Phenomenology', 67),\n",
       " ('beings', 66),\n",
       " ('instance', 65),\n",
       " ('punishment', 65),\n",
       " ('fatalism', 65),\n",
       " ('appears', 64),\n",
       " ('Trads', 63),\n",
       " ('implies', 63),\n",
       " ('Kritik', 63),\n",
       " ('ideasyvalores', 63),\n",
       " ('Žižek', 63),\n",
       " ('Brucker', 63),\n",
       " ('intuitions', 62),\n",
       " ('consider', 62),\n",
       " ('também', 62),\n",
       " ('accounts', 60),\n",
       " ('compatibilism', 57),\n",
       " ('determinism', 57),\n",
       " ('razão', 57),\n",
       " ('Metaphysik', 56),\n",
       " ('posição', 56),\n",
       " ('Fraassen', 56),\n",
       " ('Widerker', 56),\n",
       " ('relação', 55),\n",
       " ('potentiality', 54),\n",
       " ('understood', 52),\n",
       " ('CFB', 52),\n",
       " ('sentence', 52),\n",
       " ('paixão', 51),\n",
       " ('Niesen', 51),\n",
       " ('Caimi', 50),\n",
       " ('ἡ', 50),\n",
       " ('Epistemology', 49),\n",
       " ('THN', 49),\n",
       " ('Bilgrami', 49),\n",
       " ('δὲ', 48),\n",
       " ('formae', 48),\n",
       " ('SBN', 48),\n",
       " ('indeterminism', 47),\n",
       " ('α', 47),\n",
       " ('metaphysical', 46),\n",
       " ('exception', 46),\n",
       " ('argued', 45),\n",
       " ('namely', 45),\n",
       " ('FCPs', 45),\n",
       " ('Dummett', 45),\n",
       " ('necessarily', 44),\n",
       " ('Pogge', 44),\n",
       " ('possível', 44),\n",
       " ('Psillos', 44),\n",
       " ('semantic', 44),\n",
       " ('perspectivales', 44),\n",
       " ('Φ', 43),\n",
       " ('γὰρ', 43),\n",
       " ('somente', 43),\n",
       " ('princípio', 43),\n",
       " ('theorists', 42),\n",
       " ('Wiesing', 42),\n",
       " ('instead', 41),\n",
       " ('Timpe', 41),\n",
       " ('shown', 41),\n",
       " ('levinasiana', 41)]"
      ]
     },
     "execution_count": 26,
     "metadata": {},
     "output_type": "execute_result"
    }
   ],
   "source": [
    "philWordCount.most_common(100)"
   ]
  },
  {
   "cell_type": "markdown",
   "metadata": {},
   "source": [
    "Notice many of these words are words in English. We can also remove them by importing the default PySpellChecker English dictionary."
   ]
  },
  {
   "cell_type": "code",
   "execution_count": 38,
   "metadata": {},
   "outputs": [],
   "source": [
    "englishDictionary = SpellChecker(language = 'en')\n",
    "portugueseDictionary = SpellChecker(language = 'pt')\n",
    "germanDictionary = SpellChecker(language = 'de')"
   ]
  },
  {
   "cell_type": "code",
   "execution_count": 56,
   "metadata": {},
   "outputs": [],
   "source": [
    "philWords = []\n",
    "for doc in corpusList:\n",
    "    docWords = re.findall('\\w+', doc.cleanText)\n",
    "    for word in customDictionary.unknown(docWords):\n",
    "        if word in englishDictionary or word in portugueseDictionary or word in germanDictionary:\n",
    "            continue\n",
    "        philWords.append(word)\n",
    "philWordCount = Counter(philWords)"
   ]
  },
  {
   "cell_type": "code",
   "execution_count": 57,
   "metadata": {},
   "outputs": [
    {
     "data": {
      "text/plain": [
       "[('ideasyvalores', 63),\n",
       " ('trads', 57),\n",
       " ('hrsg', 40),\n",
       " ('krv', 29),\n",
       " ('metaphysik', 25),\n",
       " ('caimi', 18),\n",
       " ('brandom', 16),\n",
       " ('synthese', 14),\n",
       " ('transzendentale', 14),\n",
       " ('jadiaz', 14),\n",
       " ('καὶ', 14),\n",
       " ('badiou', 13),\n",
       " ('phänomenologische', 13),\n",
       " ('olms', 13),\n",
       " ('diánoia', 12),\n",
       " ('kpv', 12),\n",
       " ('korsgaard', 12),\n",
       " ('pereboom', 11),\n",
       " ('τὸ', 11),\n",
       " ('urteilskraft', 11),\n",
       " ('preussischen', 10),\n",
       " ('grundlegung', 10),\n",
       " ('rowman', 10),\n",
       " ('τὰ', 10),\n",
       " ('noûs', 10),\n",
       " ('γὰρ', 10),\n",
       " ('ἡ', 10),\n",
       " ('žižek', 10),\n",
       " ('sorabji', 9),\n",
       " ('hrsgg', 9),\n",
       " ('dianoia', 9),\n",
       " ('metaphysica', 9),\n",
       " ('τῶν', 9),\n",
       " ('τοῦ', 9),\n",
       " ('coherentismo', 9),\n",
       " ('representacionalista', 9),\n",
       " ('rancière', 9),\n",
       " ('περὶ', 9),\n",
       " ('zahavi', 9),\n",
       " ('compatibilism', 8),\n",
       " ('normativity', 8),\n",
       " ('τῆς', 8),\n",
       " ('rodopi', 8),\n",
       " ('τε', 8),\n",
       " ('ἢ', 8),\n",
       " ('δὲ', 8),\n",
       " ('frede', 8),\n",
       " ('οὐ', 8),\n",
       " ('κατὰ', 8),\n",
       " ('ἐν', 8),\n",
       " ('ashgate', 8),\n",
       " ('subpersonal', 8),\n",
       " ('duica', 8),\n",
       " ('bänden', 8),\n",
       " ('théologie', 8),\n",
       " ('tación', 8),\n",
       " ('posmetafísico', 7),\n",
       " ('libertaristas', 7),\n",
       " ('transzendentalphilosophie', 7),\n",
       " ('königshausen', 7),\n",
       " ('koeniglichen', 7),\n",
       " ('copertenencia', 7),\n",
       " ('vermal', 7),\n",
       " ('neske', 7),\n",
       " ('τὴν', 7),\n",
       " ('οὐκ', 7),\n",
       " ('εἰ', 7),\n",
       " ('pallí', 7),\n",
       " ('δ', 7),\n",
       " ('μὴ', 7),\n",
       " ('τι', 7),\n",
       " ('μὲν', 7),\n",
       " ('λόγος', 7),\n",
       " ('gadameriano', 7),\n",
       " ('riencia', 7),\n",
       " ('bilidad', 7),\n",
       " ('anschauung', 7),\n",
       " ('procedimentalismo', 6),\n",
       " ('faktizität', 6),\n",
       " ('incompatibilist', 6),\n",
       " ('inwagen', 6),\n",
       " ('incompatibilism', 6),\n",
       " ('decisionista', 6),\n",
       " ('ticular', 6),\n",
       " ('gemeinspruch', 6),\n",
       " ('metaphysische', 6),\n",
       " ('acprof', 6),\n",
       " ('zalta', 6),\n",
       " ('analyzes', 6),\n",
       " ('instanciada', 6),\n",
       " ('instanciadas', 6),\n",
       " ('ἔστι', 6),\n",
       " ('εἶδος', 6),\n",
       " ('aubenque', 6),\n",
       " ('asertórica', 6),\n",
       " ('superviene', 6),\n",
       " ('vlastos', 6),\n",
       " ('εἶναι', 6),\n",
       " ('οὐσία', 6),\n",
       " ('παρὰ', 6)]"
      ]
     },
     "execution_count": 57,
     "metadata": {},
     "output_type": "execute_result"
    }
   ],
   "source": [
    "philWordCount.most_common(100)"
   ]
  },
  {
   "cell_type": "markdown",
   "metadata": {},
   "source": [
    "That looks slightly better. We still have words in Greek and Portuguese, but mostly we have names which we are interested in correcting. We can save the philosophy dictionary to file, add these word frequencies into our general dictionary and save the dictionary to file."
   ]
  },
  {
   "cell_type": "code",
   "execution_count": 59,
   "metadata": {},
   "outputs": [
    {
     "ename": "SyntaxError",
     "evalue": "invalid syntax (<ipython-input-59-f1ad46f97097>, line 1)",
     "output_type": "error",
     "traceback": [
      "\u001b[0;36m  File \u001b[0;32m\"<ipython-input-59-f1ad46f97097>\"\u001b[0;36m, line \u001b[0;32m1\u001b[0m\n\u001b[0;31m    philDict = {word: count} for word, count in philWordCount.most_common(100)\u001b[0m\n\u001b[0m                             ^\u001b[0m\n\u001b[0;31mSyntaxError\u001b[0m\u001b[0;31m:\u001b[0m invalid syntax\n"
     ]
    }
   ],
   "source": [
    "\n",
    "for word, count in philWordCount.most_common(100):\n",
    "    philDict[word] = count"
   ]
  },
  {
   "cell_type": "code",
   "execution_count": 51,
   "metadata": {},
   "outputs": [],
   "source": [
    "with open('temp/philosophyDict.json', 'w') as fp:\n",
    "    json.dump(philWordCount, fp)"
   ]
  },
  {
   "cell_type": "code",
   "execution_count": 54,
   "metadata": {},
   "outputs": [
    {
     "ename": "TypeError",
     "evalue": "unhashable type: 'list'",
     "output_type": "error",
     "traceback": [
      "\u001b[0;31m---------------------------------------------------------------------------\u001b[0m",
      "\u001b[0;31mTypeError\u001b[0m                                 Traceback (most recent call last)",
      "\u001b[0;32m<ipython-input-54-65fb68d77cc6>\u001b[0m in \u001b[0;36m<module>\u001b[0;34m\u001b[0m\n\u001b[0;32m----> 1\u001b[0;31m \u001b[0mcustomDictionary\u001b[0m\u001b[0;34m.\u001b[0m\u001b[0mword_frequency\u001b[0m\u001b[0;34m.\u001b[0m\u001b[0mload_dictionary\u001b[0m\u001b[0;34m(\u001b[0m\u001b[0;34m'temp/philosophyDict.json'\u001b[0m\u001b[0;34m)\u001b[0m\u001b[0;34m\u001b[0m\u001b[0;34m\u001b[0m\u001b[0m\n\u001b[0m",
      "\u001b[0;32m~/miniconda3/envs/journal/lib/python3.8/site-packages/spellchecker/spellchecker.py\u001b[0m in \u001b[0;36mload_dictionary\u001b[0;34m(self, filename, encoding)\u001b[0m\n\u001b[1;32m    420\u001b[0m         \u001b[0;32mwith\u001b[0m \u001b[0mload_file\u001b[0m\u001b[0;34m(\u001b[0m\u001b[0mfilename\u001b[0m\u001b[0;34m,\u001b[0m \u001b[0mencoding\u001b[0m\u001b[0;34m)\u001b[0m \u001b[0;32mas\u001b[0m \u001b[0mdata\u001b[0m\u001b[0;34m:\u001b[0m\u001b[0;34m\u001b[0m\u001b[0;34m\u001b[0m\u001b[0m\n\u001b[1;32m    421\u001b[0m             \u001b[0mdata\u001b[0m \u001b[0;34m=\u001b[0m \u001b[0mdata\u001b[0m \u001b[0;32mif\u001b[0m \u001b[0mself\u001b[0m\u001b[0;34m.\u001b[0m\u001b[0m_case_sensitive\u001b[0m \u001b[0;32melse\u001b[0m \u001b[0mdata\u001b[0m\u001b[0;34m.\u001b[0m\u001b[0mlower\u001b[0m\u001b[0;34m(\u001b[0m\u001b[0;34m)\u001b[0m\u001b[0;34m\u001b[0m\u001b[0;34m\u001b[0m\u001b[0m\n\u001b[0;32m--> 422\u001b[0;31m             \u001b[0mself\u001b[0m\u001b[0;34m.\u001b[0m\u001b[0m_dictionary\u001b[0m\u001b[0;34m.\u001b[0m\u001b[0mupdate\u001b[0m\u001b[0;34m(\u001b[0m\u001b[0mjson\u001b[0m\u001b[0;34m.\u001b[0m\u001b[0mloads\u001b[0m\u001b[0;34m(\u001b[0m\u001b[0mdata\u001b[0m\u001b[0;34m,\u001b[0m \u001b[0mencoding\u001b[0m\u001b[0;34m=\u001b[0m\u001b[0mencoding\u001b[0m\u001b[0;34m)\u001b[0m\u001b[0;34m)\u001b[0m\u001b[0;34m\u001b[0m\u001b[0;34m\u001b[0m\u001b[0m\n\u001b[0m\u001b[1;32m    423\u001b[0m             \u001b[0mself\u001b[0m\u001b[0;34m.\u001b[0m\u001b[0m_update_dictionary\u001b[0m\u001b[0;34m(\u001b[0m\u001b[0;34m)\u001b[0m\u001b[0;34m\u001b[0m\u001b[0;34m\u001b[0m\u001b[0m\n\u001b[1;32m    424\u001b[0m \u001b[0;34m\u001b[0m\u001b[0m\n",
      "\u001b[0;32m~/miniconda3/envs/journal/lib/python3.8/collections/__init__.py\u001b[0m in \u001b[0;36mupdate\u001b[0;34m(self, iterable, **kwds)\u001b[0m\n\u001b[1;32m    635\u001b[0m                     \u001b[0msuper\u001b[0m\u001b[0;34m(\u001b[0m\u001b[0mCounter\u001b[0m\u001b[0;34m,\u001b[0m \u001b[0mself\u001b[0m\u001b[0;34m)\u001b[0m\u001b[0;34m.\u001b[0m\u001b[0mupdate\u001b[0m\u001b[0;34m(\u001b[0m\u001b[0miterable\u001b[0m\u001b[0;34m)\u001b[0m \u001b[0;31m# fast path when counter is empty\u001b[0m\u001b[0;34m\u001b[0m\u001b[0;34m\u001b[0m\u001b[0m\n\u001b[1;32m    636\u001b[0m             \u001b[0;32melse\u001b[0m\u001b[0;34m:\u001b[0m\u001b[0;34m\u001b[0m\u001b[0;34m\u001b[0m\u001b[0m\n\u001b[0;32m--> 637\u001b[0;31m                 \u001b[0m_count_elements\u001b[0m\u001b[0;34m(\u001b[0m\u001b[0mself\u001b[0m\u001b[0;34m,\u001b[0m \u001b[0miterable\u001b[0m\u001b[0;34m)\u001b[0m\u001b[0;34m\u001b[0m\u001b[0;34m\u001b[0m\u001b[0m\n\u001b[0m\u001b[1;32m    638\u001b[0m         \u001b[0;32mif\u001b[0m \u001b[0mkwds\u001b[0m\u001b[0;34m:\u001b[0m\u001b[0;34m\u001b[0m\u001b[0;34m\u001b[0m\u001b[0m\n\u001b[1;32m    639\u001b[0m             \u001b[0mself\u001b[0m\u001b[0;34m.\u001b[0m\u001b[0mupdate\u001b[0m\u001b[0;34m(\u001b[0m\u001b[0mkwds\u001b[0m\u001b[0;34m)\u001b[0m\u001b[0;34m\u001b[0m\u001b[0;34m\u001b[0m\u001b[0m\n",
      "\u001b[0;31mTypeError\u001b[0m: unhashable type: 'list'"
     ]
    }
   ],
   "source": [
    "customDictionary.word_frequency.load_dictionary('temp/philosophyDict.json')"
   ]
  },
  {
   "cell_type": "code",
   "execution_count": 53,
   "metadata": {},
   "outputs": [],
   "source": [
    "customDictionary.export('../notebooks/wordlists/customDictionary.gz', gzipped = True)"
   ]
  },
  {
   "cell_type": "code",
   "execution_count": null,
   "metadata": {},
   "outputs": [],
   "source": []
  }
 ],
 "metadata": {
  "kernelspec": {
   "display_name": "Python 3",
   "language": "python",
   "name": "python3"
  },
  "language_info": {
   "codemirror_mode": {
    "name": "ipython",
    "version": 3
   },
   "file_extension": ".py",
   "mimetype": "text/x-python",
   "name": "python",
   "nbconvert_exporter": "python",
   "pygments_lexer": "ipython3",
   "version": "3.8.3"
  }
 },
 "nbformat": 4,
 "nbformat_minor": 4
}
