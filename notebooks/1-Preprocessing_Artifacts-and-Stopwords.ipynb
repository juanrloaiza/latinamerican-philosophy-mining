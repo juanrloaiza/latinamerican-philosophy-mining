{
 "cells": [
  {
   "cell_type": "markdown",
   "metadata": {},
   "source": [
    "## LDA Preprocessing 1\n",
    "# Artifact Removal and Stopword Selection\n",
    "This notebook takes the clean JSON files for each article and does some preprocessing to obtain a text that we can analyze using LDA.\n",
    "\n",
    "Specifically, we do:\n",
    "* Artifact removal\n",
    "* Stopword selection\n",
    "\n",
    "In the next notebook we will do:\n",
    "* Punctuation removal\n",
    "* Lemmatization"
   ]
  },
  {
   "cell_type": "code",
   "execution_count": 1,
   "metadata": {},
   "outputs": [],
   "source": [
    "import json\n",
    "import re"
   ]
  },
  {
   "cell_type": "markdown",
   "metadata": {},
   "source": [
    "We will also use some utility functions we defined in the `utils/` folder:\n",
    "* `loadCorpusList(path)`: Loads the corpus as a list of `Article` objects (see `utils/Article.py`). This will allow us to save the clean text per document into the same JSON file with the metadata included.\n",
    "* `saveCorpus(path)`: Saves the articles in JSON format in their current state. Useful when we want to append information to our clean JSON files."
   ]
  },
  {
   "cell_type": "code",
   "execution_count": 2,
   "metadata": {},
   "outputs": [],
   "source": [
    "import os\n",
    "import sys \n",
    "\n",
    "# Jupyter Notebooks are not good at handling relative imports.\n",
    "# Best solution (not great practice) is to add the project's path\n",
    "# to the module loading paths of sys.\n",
    "\n",
    "module_path = os.path.abspath(os.path.join('..'))\n",
    "if module_path not in sys.path:\n",
    "    sys.path.append(module_path)\n",
    "\n",
    "from utils.loaders import loadCorpusList, saveCorpus"
   ]
  },
  {
   "cell_type": "markdown",
   "metadata": {},
   "source": [
    "## Loading the corpus"
   ]
  },
  {
   "cell_type": "code",
   "execution_count": 3,
   "metadata": {},
   "outputs": [],
   "source": [
    "corpusPath = '../data/parsedHTML'\n",
    "\n",
    "corpusList = loadCorpusList(corpusPath)"
   ]
  },
  {
   "cell_type": "code",
   "execution_count": 4,
   "metadata": {},
   "outputs": [],
   "source": [
    "corpusPath = '../data/parsedPDF'\n",
    "\n",
    "corpusList += loadCorpusList(corpusPath)"
   ]
  },
  {
   "cell_type": "code",
   "execution_count": 5,
   "metadata": {},
   "outputs": [
    {
     "data": {
      "text/plain": [
       "'Kasahara, Javier. “Una relectura leibniziana al mecanicismo.”'"
      ]
     },
     "execution_count": 5,
     "metadata": {},
     "output_type": "execute_result"
    }
   ],
   "source": [
    "corpusList[0].title"
   ]
  },
  {
   "cell_type": "markdown",
   "metadata": {},
   "source": [
    "We will only work with documents in Spanish. Hence, let's replace `corpusList` with only the articles that are in Spanish."
   ]
  },
  {
   "cell_type": "code",
   "execution_count": 6,
   "metadata": {},
   "outputs": [],
   "source": [
    "corpusList = [doc for doc in corpusList if doc.lang == 'es']"
   ]
  },
  {
   "cell_type": "markdown",
   "metadata": {},
   "source": [
    "This leaves is with approximately 1400 articles."
   ]
  },
  {
   "cell_type": "code",
   "execution_count": 7,
   "metadata": {},
   "outputs": [
    {
     "data": {
      "text/plain": [
       "1495"
      ]
     },
     "execution_count": 7,
     "metadata": {},
     "output_type": "execute_result"
    }
   ],
   "source": [
    "len(corpusList) "
   ]
  },
  {
   "cell_type": "markdown",
   "metadata": {},
   "source": [
    "Let's check for duplicates in case we have some. This is important in case we downloaded an article twice, once in PDF and once in HTML."
   ]
  },
  {
   "cell_type": "code",
   "execution_count": 8,
   "metadata": {},
   "outputs": [
    {
     "data": {
      "text/plain": [
       "1495"
      ]
     },
     "execution_count": 8,
     "metadata": {},
     "output_type": "execute_result"
    }
   ],
   "source": [
    "len(set([doc.id for doc in corpusList]))"
   ]
  },
  {
   "cell_type": "markdown",
   "metadata": {},
   "source": [
    "## Artifact removal\n",
    "\n",
    "There are some artifacts included in the text that are produced by HTML processing (or in the future because of how PDF files store text)."
   ]
  },
  {
   "cell_type": "markdown",
   "metadata": {},
   "source": [
    "Let's start by removing numbers and some special characters such as newline characters (`\\n`). We will keep normal punctuation for now as that might help SpaCy when we do lemmatization."
   ]
  },
  {
   "cell_type": "code",
   "execution_count": 9,
   "metadata": {},
   "outputs": [],
   "source": [
    "for doc in corpusList:\n",
    "    doc.cleanText = re.sub('\\d|\\n',' ', doc.text)"
   ]
  },
  {
   "cell_type": "markdown",
   "metadata": {},
   "source": [
    "We can detect some of these artifacts by looking for non-alphanumeric characters between alphanumeric characters (e.g. `\"ar-gument\"`, `\"ar\\xadgument\"`)."
   ]
  },
  {
   "cell_type": "code",
   "execution_count": 10,
   "metadata": {},
   "outputs": [],
   "source": [
    "artifacts = re.compile('\\w+[^a-zA-ZáéíóúÁÉÍÓÚñÑüÜ\\d\\s:]\\w+')"
   ]
  },
  {
   "cell_type": "code",
   "execution_count": 11,
   "metadata": {},
   "outputs": [
    {
     "data": {
      "text/plain": [
       "['35-48',\n",
       " 'mecanicismo,1',\n",
       " 'mente-cuerpo',\n",
       " 'otro.2',\n",
       " 'primero.3',\n",
       " '148-149',\n",
       " '125-194',\n",
       " 'montenegrop.nicolas',\n",
       " 'urosario.edu']"
      ]
     },
     "execution_count": 11,
     "metadata": {},
     "output_type": "execute_result"
    }
   ],
   "source": [
    "[re.findall(artifacts, doc.text) for doc in corpusList][0]"
   ]
  },
  {
   "cell_type": "markdown",
   "metadata": {},
   "source": [
    "One common artifact is the hex `\\xad` for the soft hyphen which is used to break lines. We can remove it easily."
   ]
  },
  {
   "cell_type": "code",
   "execution_count": 12,
   "metadata": {},
   "outputs": [],
   "source": [
    "for doc in corpusList:\n",
    "    doc.cleanText = re.sub('\\\\xad','', doc.cleanText)\n",
    "    doc.cleanText = doc.cleanText.replace(u\"\\xa0\", \"\")"
   ]
  },
  {
   "cell_type": "markdown",
   "metadata": {},
   "source": [
    "We can save the corpus for now."
   ]
  },
  {
   "cell_type": "code",
   "execution_count": 13,
   "metadata": {},
   "outputs": [],
   "source": [
    "if not os.path.exists('../data/corpus'):\n",
    "    os.mkdir('../data/corpus')\n",
    "saveCorpus('../data/corpus', corpusList)"
   ]
  },
  {
   "cell_type": "markdown",
   "metadata": {},
   "source": [
    "## Stopword Removal\n",
    "Stopword removal is perhaps the most difficult part of preprocessing. There are two challenges to meet:\n",
    "* Some stopword lists such as the one included in NLTK for Spanish are too weak and do not filter many stopwords.\n",
    "* Other stopword lists are too inclusive and can eliminate words that are meaningful in philosophy (e.g. 'verdadero', true). \n",
    "It is important to note that stopwords are very context-sensitive. A word in one context may provide little meaning (hence counting as a stopword) while in other contexts it may provide lots of information.\n",
    "\n",
    "To tackle these challenges, we will first to an initial filtering with NTLK's list. This will leave many stopwords in the text, but will reduce the size of each text considerably. Then we will compare the text with a stronger list of stopwords (source). We will see which words are both the text and the stronger stopwords list. We will inspect these lists manually and extract a list of protected words. We will iterate over this process a number of times. Once we have a robust list of protected words, we will concatenate NLTK's stopwords list with the stronger one and eliminate the protected words from it. This will provide a final (hopefully middle ground) stopword list with which to continue."
   ]
  },
  {
   "cell_type": "code",
   "execution_count": 14,
   "metadata": {},
   "outputs": [],
   "source": [
    "from nltk.corpus import stopwords as nltk_stopwords\n",
    "\n",
    "stopwords_weak = nltk_stopwords.words('spanish')"
   ]
  },
  {
   "cell_type": "code",
   "execution_count": 15,
   "metadata": {},
   "outputs": [],
   "source": [
    "import requests\n",
    "\n",
    "r = requests.get('https://raw.githubusercontent.com/stopwords-iso/stopwords-es/master/stopwords-es.txt')\n",
    "stopwords_strong = r.text.split('\\n')"
   ]
  },
  {
   "cell_type": "code",
   "execution_count": 16,
   "metadata": {},
   "outputs": [],
   "source": [
    "docWords = []\n",
    "for doc in corpusList:\n",
    "    docWords += [word for word in re.findall('\\w+', doc.cleanText) if word not in stopwords_weak]"
   ]
  },
  {
   "cell_type": "code",
   "execution_count": 17,
   "metadata": {},
   "outputs": [
    {
     "data": {
      "text/plain": [
       "['Documento',\n",
       " 'título',\n",
       " 'Kasahara',\n",
       " 'Javier',\n",
       " 'Una',\n",
       " 'relectura',\n",
       " 'leibniziana',\n",
       " 'mecanicismo',\n",
       " 'Eidos',\n",
       " 'Kasahara']"
      ]
     },
     "execution_count": 17,
     "metadata": {},
     "output_type": "execute_result"
    }
   ],
   "source": [
    "docWords[:10]"
   ]
  },
  {
   "cell_type": "code",
   "execution_count": 18,
   "metadata": {},
   "outputs": [],
   "source": [
    "from collections import Counter\n",
    "\n",
    "docs_and_stopwords = Counter([word for word in docWords if word in stopwords_strong])"
   ]
  },
  {
   "cell_type": "code",
   "execution_count": 19,
   "metadata": {},
   "outputs": [
    {
     "data": {
      "text/plain": [
       "[('u', 23849),\n",
       " ('ser', 23800),\n",
       " ('puede', 20530),\n",
       " ('si', 16871),\n",
       " ('sino', 12907),\n",
       " ('mismo', 12535),\n",
       " ('i', 10742),\n",
       " ('bien', 10412),\n",
       " ('decir', 9864),\n",
       " ('manera', 8405)]"
      ]
     },
     "execution_count": 19,
     "metadata": {},
     "output_type": "execute_result"
    }
   ],
   "source": [
    "docs_and_stopwords.most_common(10)"
   ]
  },
  {
   "cell_type": "markdown",
   "metadata": {},
   "source": [
    "Already in the first 10 most common words in both the documents and the strong list of stopwords we find words that in philosophy are quite meaningful:\n",
    "* 'ser': being\n",
    "* 'bien': good\n",
    "* 'modo': mode\n",
    "\n",
    "We will start saving those words and eliminating them from the stronger list of stopwords. Then we will repeat the process of selecting the words that are in both lists and see which words are common. By iterating over this process a couple of times, we will get a list of protected words."
   ]
  },
  {
   "cell_type": "code",
   "execution_count": 20,
   "metadata": {},
   "outputs": [],
   "source": [
    "protectedWords = [\n",
    "    'ser',\n",
    "    'bien',\n",
    "    'modo'\n",
    "]"
   ]
  },
  {
   "cell_type": "code",
   "execution_count": 21,
   "metadata": {},
   "outputs": [],
   "source": [
    "stopwords_strong = [word for word in stopwords_strong if word not in protectedWords]\n",
    "docs_and_stopwords = Counter([word for word in docWords if word in stopwords_strong])"
   ]
  },
  {
   "cell_type": "code",
   "execution_count": 22,
   "metadata": {},
   "outputs": [
    {
     "data": {
      "text/plain": [
       "[('u', 23849),\n",
       " ('puede', 20530),\n",
       " ('si', 16871),\n",
       " ('sino', 12907),\n",
       " ('mismo', 12535),\n",
       " ('i', 10742),\n",
       " ('decir', 9864),\n",
       " ('manera', 8405),\n",
       " ('parte', 8370),\n",
       " ('sólo', 7891),\n",
       " ('dos', 7645),\n",
       " ('tal', 7324),\n",
       " ('hace', 6968),\n",
       " ('posible', 6948),\n",
       " ('pues', 6780),\n",
       " ('así', 6768),\n",
       " ('misma', 6477),\n",
       " ('tiempo', 6370),\n",
       " ('lugar', 6328),\n",
       " ('solo', 6229),\n",
       " ('embargo', 6179),\n",
       " ('debe', 6164),\n",
       " ('hecho', 6036),\n",
       " ('vez', 5925),\n",
       " ('ejemplo', 5708),\n",
       " ('verdad', 5646),\n",
       " ('entonces', 5538),\n",
       " ('parece', 5156),\n",
       " ('aquí', 5151),\n",
       " ('toda', 4949),\n",
       " ('ello', 4911),\n",
       " ('según', 4852),\n",
       " ('cómo', 4771),\n",
       " ('siempre', 4722),\n",
       " ('cosas', 4597),\n",
       " ('cada', 4515),\n",
       " ('poder', 4501),\n",
       " ('respecto', 4312),\n",
       " ('pueden', 4281),\n",
       " ('hacer', 4219),\n",
       " ('podría', 4204),\n",
       " ('general', 4174),\n",
       " ('da', 4164),\n",
       " ('menos', 4066),\n",
       " ('partir', 4046),\n",
       " ('saber', 4046),\n",
       " ('trata', 3982),\n",
       " ('primera', 3926),\n",
       " ('h', 3904),\n",
       " ('primer', 3887),\n",
       " ('cuanto', 3823),\n",
       " ('cierto', 3644),\n",
       " ('propia', 3568),\n",
       " ('trabajo', 3560),\n",
       " ('aunque', 3427),\n",
       " ('cuenta', 3395),\n",
       " ('propio', 3330),\n",
       " ('ahora', 3266),\n",
       " ('sido', 3216),\n",
       " ('tener', 3178),\n",
       " ('cualquier', 3151),\n",
       " ('hacia', 3126),\n",
       " ('dice', 3120),\n",
       " ('dentro', 3086),\n",
       " ('acuerdo', 3079),\n",
       " ('ver', 3062),\n",
       " ('todas', 3042),\n",
       " ('último', 3001),\n",
       " ('momento', 2992),\n",
       " ('tan', 2945),\n",
       " ('medio', 2904),\n",
       " ('lado', 2896),\n",
       " ('valor', 2879),\n",
       " ('encuentra', 2813),\n",
       " ('podemos', 2792),\n",
       " ('mejor', 2741),\n",
       " ('segundo', 2728),\n",
       " ('incluso', 2722),\n",
       " ('fin', 2718),\n",
       " ('través', 2673),\n",
       " ('bajo', 2546),\n",
       " ('dado', 2457),\n",
       " ('aquello', 2428),\n",
       " ('existe', 2402),\n",
       " ('dar', 2389),\n",
       " ('b', 2375),\n",
       " ('dicho', 2343),\n",
       " ('diferentes', 2334),\n",
       " ('alguna', 2312),\n",
       " ('aún', 2245),\n",
       " ('cuales', 2245),\n",
       " ('uso', 2236),\n",
       " ('habla', 2200),\n",
       " ('haber', 2191),\n",
       " ('siguiente', 2120),\n",
       " ('pueda', 2105),\n",
       " ('nuevo', 2099),\n",
       " ('segunda', 2089),\n",
       " ('tres', 2083),\n",
       " ('quiere', 2074)]"
      ]
     },
     "execution_count": 22,
     "metadata": {},
     "output_type": "execute_result"
    }
   ],
   "source": [
    "docs_and_stopwords.most_common(100)"
   ]
  },
  {
   "cell_type": "markdown",
   "metadata": {},
   "source": [
    "Additionally, we have added words that we observed were incorrectly lemmatized. We will pass the list of protected words to the lemmatizer later on and we will skip these protected words."
   ]
  },
  {
   "cell_type": "code",
   "execution_count": 23,
   "metadata": {},
   "outputs": [],
   "source": [
    "protectedWords += [\n",
    "    'parte',\n",
    "    'posible',\n",
    "    'lugar',\n",
    "    'hecho',\n",
    "    'poder',\n",
    "    'verdad',\n",
    "    'cosas',\n",
    "    'general',\n",
    "    'fin',\n",
    "    'trabajo',\n",
    "    'cierto',\n",
    "    'uso',\n",
    "    'dado',\n",
    "    'diferentes',\n",
    "    'verdadero',\n",
    "    'verdadera',\n",
    "    'existe',\n",
    "    'valor',\n",
    "    'realizar',\n",
    "    'existen',\n",
    "    'conocer',\n",
    "    'diferente',\n",
    "    'idea',\n",
    "    'caso',\n",
    "    'consciencia',\n",
    "    'conciencia',\n",
    "    'objeto',\n",
    "    'forma',\n",
    "    'obra',\n",
    "    'persona',\n",
    "    'sujeto',\n",
    "    'primer',\n",
    "    'primera',\n",
    "    'primero',\n",
    "    'descartes',\n",
    "    'libre',\n",
    "    'libres',\n",
    "    'regla',\n",
    "    'signo',\n",
    "    'liberté',\n",
    "    'potencia',\n",
    "    'cosa',\n",
    "    'nombre',\n",
    "    'enunciado',\n",
    "    'profundo',\n",
    "    'moneda',\n",
    "    'minuto',\n",
    "    'madera',\n",
    "    'indicio',\n",
    "    'industria',  \n",
    "    'espejo',\n",
    "    'escolio',\n",
    "    'era',\n",
    "    'prototipo',\n",
    "    'discurso',\n",
    "    'escritura'\n",
    "    ]\n",
    "\n",
    "protectedWords = list(set(protectedWords))"
   ]
  },
  {
   "cell_type": "markdown",
   "metadata": {},
   "source": [
    "After a couple of times to make the process less complex, once we are sure of a set of words, we can eliminate those from the list of document words and go back and repeat the process a couple more times."
   ]
  },
  {
   "cell_type": "code",
   "execution_count": 24,
   "metadata": {},
   "outputs": [],
   "source": [
    "stopwordsToRemove = [word[0] for word in docs_and_stopwords.most_common(100)]\n",
    "docWords = [word for word in docWords if word not in stopwordsToRemove]"
   ]
  },
  {
   "cell_type": "markdown",
   "metadata": {},
   "source": [
    "### Removing stopwords in English"
   ]
  },
  {
   "cell_type": "markdown",
   "metadata": {},
   "source": [
    "Given that most of the articles have abstracts in English, some of the usual stopwords in English are appearing frequently in our documents. Thus, we will append the NLTK-generated list of English stopwords. We will also use one for Portuguese, which we sometimes get as well."
   ]
  },
  {
   "cell_type": "code",
   "execution_count": 25,
   "metadata": {},
   "outputs": [],
   "source": [
    "englishStopwords = nltk_stopwords.words(\"english\")\n",
    "portugueseStopwords = nltk_stopwords.words(\"portuguese\")"
   ]
  },
  {
   "cell_type": "markdown",
   "metadata": {},
   "source": [
    "TODO: should we be filtering these just like we filter the Spanish ones?"
   ]
  },
  {
   "cell_type": "markdown",
   "metadata": {},
   "source": [
    "### Other stopwords custom to our corpus"
   ]
  },
  {
   "cell_type": "markdown",
   "metadata": {},
   "source": [
    "There are some other stopwords that we would like to include, but that have not been taken into account in the previous processes. These are:"
   ]
  },
  {
   "cell_type": "code",
   "execution_count": 26,
   "metadata": {},
   "outputs": [],
   "source": [
    "customStopwords = [\n",
    "    \"cf\",\n",
    "    \"no obstante\",\n",
    "    \"sin embargo\",\n",
    "    \"por ejemplo\",\n",
    "    \"es decir\",\n",
    "    \"ak\",\n",
    "    \"krv\",\n",
    "    \"tha\",\n",
    "    \"press\",\n",
    "    \"university\",\n",
    "    \"est\",\n",
    "    \"non\",\n",
    "    \"par\",\n",
    "    \"per\",\n",
    "    \"tod\",\n",
    "    \"ell\",\n",
    "    \"cua\",\n",
    "    \"alg\",\n",
    "    \"segú\",\n",
    "    \"chic\",\n",
    "    \"thi\",\n",
    "    \"cad\",\n",
    "    \"hac\",\n",
    "    \"ca\",\n",
    "    \"pue\",\n",
    "    \"cambridge\",\n",
    "    \"would\"\n",
    "]"
   ]
  },
  {
   "cell_type": "markdown",
   "metadata": {},
   "source": [
    "Once we have a robust set of words we can save both the final stopword list and the protected words list."
   ]
  },
  {
   "cell_type": "code",
   "execution_count": 27,
   "metadata": {},
   "outputs": [],
   "source": [
    "stopwords_final = list(set(\n",
    "    stopwords_weak + stopwords_strong + englishStopwords + portugueseStopwords +  customStopwords\n",
    "))\n",
    "with open('wordlists/stopwords.txt', 'w') as fp:\n",
    "    fp.write('\\n'.join(stopwords_final))\n",
    "\n",
    "with open('wordlists/protectedWords.txt', 'w') as fp:\n",
    "    fp.write('\\n'.join(protectedWords))"
   ]
  },
  {
   "cell_type": "markdown",
   "metadata": {},
   "source": [
    "# Final replacements and edits\n",
    "PDF correction is not perfect and we observe some artifacts left in the LDA. A hotfix is to do those replacements manually for now and check whether we can improve on this process in the future."
   ]
  },
  {
   "cell_type": "code",
   "execution_count": 28,
   "metadata": {},
   "outputs": [],
   "source": [
    "manualReplacements = {\n",
    "    'kan': 'kant',\n",
    "    'Kan': 'Kant',\n",
    "    'entr': 'entre',\n",
    "    'otr': 'otro',\n",
    "    'mism': 'mismo',\n",
    "    'wit': 'with',\n",
    "    'tien': 'tiene',\n",
    "    'maner': 'manera',\n",
    "    'objet': 'objeto',\n",
    "    'Hege': 'Hegel',\n",
    "    'mund': 'mundo',\n",
    "    'sistem': 'sistema',\n",
    "    'obr': 'obra',\n",
    "    'histori': 'historia',\n",
    "    'pode': 'poder',\n",
    "    'deci': 'decir',\n",
    "    'bie': 'bien',\n",
    "    'entonce': 'entonces',\n",
    "    'verda': 'verdad',\n",
    "    'deb': 'deber',\n",
    "    'tant': 'tanto',\n",
    "    'mora': 'moral',\n",
    "    'form': 'forma',\n",
    "    'Hum': 'Hume',\n",
    "    'ide': 'idea',\n",
    "    'mod': 'modo',\n",
    "    'hech': 'hecho',\n",
    "    'vid': 'vida',\n",
    "    'relativ': 'relativo',\n",
    "    'negativ': 'negativo',\n",
    "    'mínim': 'mínimo',\n",
    "    'implícit': 'implícito',\n",
    "    'gegenealógic': 'genealógico',\n",
    "    'explícit': 'explícito',\n",
    "    'disput': 'disputa',\n",
    "    'liberta': 'libertad',\n",
    "    'polític': 'política'\n",
    "    \n",
    "}"
   ]
  },
  {
   "cell_type": "code",
   "execution_count": 29,
   "metadata": {},
   "outputs": [],
   "source": [
    "for doc in corpusList:\n",
    "    for word, replacement in manualReplacements.items():\n",
    "        doc.cleanText = re.sub(r'\\b' + word + r'\\b', replacement, doc.cleanText)"
   ]
  },
  {
   "cell_type": "code",
   "execution_count": 30,
   "metadata": {},
   "outputs": [],
   "source": [
    "if not os.path.exists('../data/corpus'):\n",
    "    os.mkdir('../data/corpus')\n",
    "saveCorpus('../data/corpus', corpusList)"
   ]
  }
 ],
 "metadata": {
  "kernelspec": {
   "display_name": "Python 3",
   "language": "python",
   "name": "python3"
  },
  "language_info": {
   "codemirror_mode": {
    "name": "ipython",
    "version": 3
   },
   "file_extension": ".py",
   "mimetype": "text/x-python",
   "name": "python",
   "nbconvert_exporter": "python",
   "pygments_lexer": "ipython3",
   "version": "3.6.10"
  }
 },
 "nbformat": 4,
 "nbformat_minor": 4
}
