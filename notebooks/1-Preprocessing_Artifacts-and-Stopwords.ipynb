{
 "cells": [
  {
   "cell_type": "markdown",
   "metadata": {},
   "source": [
    "## LDA Preprocessing 1\n",
    "# Artifact Removal and Stopword Selection\n",
    "This notebook takes the clean JSON files for each article and does some preprocessing to obtain a text that we can analyze using LDA.\n",
    "\n",
    "Specifically, we do:\n",
    "* Artifact removal\n",
    "* Stopword selection\n",
    "\n",
    "In the next notebook we will do:\n",
    "* Punctuation removal\n",
    "* Lemmatization"
   ]
  },
  {
   "cell_type": "code",
   "execution_count": 1,
   "metadata": {},
   "outputs": [],
   "source": [
    "import json\n",
    "import re"
   ]
  },
  {
   "cell_type": "markdown",
   "metadata": {},
   "source": [
    "We will also use some utility functions we defined in the `utils/` folder:\n",
    "* `loadCorpusList(path)`: Loads the corpus as a list of `Article` objects (see `utils/Article.py`). This will allow us to save the clean text per document into the same JSON file with the metadata included.\n",
    "* `saveCorpus(path)`: Saves the articles in JSON format in their current state. Useful when we want to append information to our clean JSON files."
   ]
  },
  {
   "cell_type": "code",
   "execution_count": 2,
   "metadata": {},
   "outputs": [],
   "source": [
    "import os\n",
    "import sys \n",
    "\n",
    "# Jupyter Notebooks are not good at handling relative imports.\n",
    "# Best solution (not great practice) is to add the project's path\n",
    "# to the module loading paths of sys.\n",
    "\n",
    "module_path = os.path.abspath(os.path.join('..'))\n",
    "if module_path not in sys.path:\n",
    "    sys.path.append(module_path)\n",
    "\n",
    "from utils.loaders import loadCorpusList, saveCorpus"
   ]
  },
  {
   "cell_type": "markdown",
   "metadata": {},
   "source": [
    "## Loading the corpus"
   ]
  },
  {
   "cell_type": "code",
   "execution_count": 3,
   "metadata": {},
   "outputs": [],
   "source": [
    "corpusPath = '../data/parsedHTML'\n",
    "\n",
    "corpusList = loadCorpusList(corpusPath)"
   ]
  },
  {
   "cell_type": "code",
   "execution_count": 4,
   "metadata": {},
   "outputs": [],
   "source": [
    "corpusPath = '../data/parsedPDF'\n",
    "\n",
    "corpusList += loadCorpusList(corpusPath)"
   ]
  },
  {
   "cell_type": "code",
   "execution_count": 5,
   "metadata": {},
   "outputs": [
    {
     "data": {
      "text/plain": [
       "'Panikkar, Raimon. La religión, el mundo y el cuerpo'"
      ]
     },
     "execution_count": 5,
     "metadata": {},
     "output_type": "execute_result"
    }
   ],
   "source": [
    "corpusList[0].title"
   ]
  },
  {
   "cell_type": "markdown",
   "metadata": {},
   "source": [
    "We will only work with documents in Spanish. Hence, let's replace `corpusList` with only the articles that are in Spanish. There's also some articles that did not have any recognizable text after parsing, so we will remove those as well. Finally, we will only consider articles, not reviews or other kinds of texts present in the journal."
   ]
  },
  {
   "cell_type": "code",
   "execution_count": 8,
   "metadata": {},
   "outputs": [],
   "source": [
    "corpusList = [doc for doc in corpusList if doc.lang == 'es' and doc.text]\n",
    "corpusList = [doc for doc in corpusList if doc.type == 'ARTÍCULOS']"
   ]
  },
  {
   "cell_type": "markdown",
   "metadata": {},
   "source": [
    "This leaves is with approximately 700 articles."
   ]
  },
  {
   "cell_type": "code",
   "execution_count": 9,
   "metadata": {},
   "outputs": [
    {
     "data": {
      "text/plain": [
       "715"
      ]
     },
     "execution_count": 9,
     "metadata": {},
     "output_type": "execute_result"
    }
   ],
   "source": [
    "len(corpusList) "
   ]
  },
  {
   "cell_type": "markdown",
   "metadata": {},
   "source": [
    "Let's check for duplicates in case we have some. This is important in case we downloaded an article twice, once in PDF and once in HTML."
   ]
  },
  {
   "cell_type": "code",
   "execution_count": 8,
   "metadata": {},
   "outputs": [
    {
     "data": {
      "text/plain": [
       "822"
      ]
     },
     "execution_count": 8,
     "metadata": {},
     "output_type": "execute_result"
    }
   ],
   "source": [
    "len(set([doc.id for doc in corpusList]))"
   ]
  },
  {
   "cell_type": "markdown",
   "metadata": {},
   "source": [
    "## Artifact removal\n",
    "\n",
    "There are some artifacts included in the text that are produced by HTML processing (or in the future because of how PDF files store text)."
   ]
  },
  {
   "cell_type": "markdown",
   "metadata": {},
   "source": [
    "Let's start by removing numbers and some special characters such as newline characters (`\\n`). We will keep normal punctuation for now as that might help SpaCy when we do lemmatization."
   ]
  },
  {
   "cell_type": "code",
   "execution_count": 9,
   "metadata": {},
   "outputs": [],
   "source": [
    "for doc in corpusList:\n",
    "    doc.cleanText = re.sub('\\d|\\n',' ', doc.text)"
   ]
  },
  {
   "cell_type": "markdown",
   "metadata": {},
   "source": [
    "We can detect some of these artifacts by looking for non-alphanumeric characters between alphanumeric characters (e.g. `\"ar-gument\"`, `\"ar\\xadgument\"`)."
   ]
  },
  {
   "cell_type": "code",
   "execution_count": 10,
   "metadata": {},
   "outputs": [],
   "source": [
    "artifacts = re.compile('\\w+[^a-zA-ZáéíóúÁÉÍÓÚñÑüÜ\\d\\s:]\\w+')"
   ]
  },
  {
   "cell_type": "code",
   "execution_count": 11,
   "metadata": {},
   "outputs": [
    {
     "data": {
      "text/plain": [
       "['legamab@unal',\n",
       " 'edu.co',\n",
       " \"Abel's\",\n",
       " 'en-sí',\n",
       " 'mundo,ya',\n",
       " 'subjetivo-constructivo',\n",
       " 'for-mas',\n",
       " 'comprensivo-interpretativo',\n",
       " 'mundo.1',\n",
       " 'en-sí',\n",
       " 'panorama.2',\n",
       " 'Hans-Georg',\n",
       " 'Hans-Georg',\n",
       " 'Abel.3',\n",
       " 're-identificado',\n",
       " 'en-sí',\n",
       " 'hablante-oyente',\n",
       " 'interpretación-1',\n",
       " 'espacio-temporal',\n",
       " 'interpretación-1',\n",
       " 'interpretación-1',\n",
       " 'interpretación-2',\n",
       " 'interpretación-3',\n",
       " 'interpretaciones-3',\n",
       " 'socio-culturalmente',\n",
       " 'interpretación-1',\n",
       " 'interpretación-3',\n",
       " 'interpretativo-1',\n",
       " 'nivel-1',\n",
       " 'nivel-2',\n",
       " 'histórico-culturales',\n",
       " 'nivel-3',\n",
       " 'interpretación-3',\n",
       " 'nivel-2',\n",
       " 'interpretaciones-2',\n",
       " 'interpretación-2',\n",
       " 'interpretativos-1',\n",
       " 'c]uando',\n",
       " 'categorializantes-1',\n",
       " 'interpretativa-1',\n",
       " 'nivel-3',\n",
       " 'mundo-1',\n",
       " 'nivel-2',\n",
       " 'nivel-3',\n",
       " 'i-3',\n",
       " 'i-2',\n",
       " 'i-1',\n",
       " 'mundo-1',\n",
       " 'mundos-2',\n",
       " 'mundos-3',\n",
       " 'nivel-3',\n",
       " '1-2',\n",
       " 'histórico-culturales',\n",
       " 'interpretación-3',\n",
       " 'interpretaciones-2',\n",
       " 'socio-históricos',\n",
       " 'nivel-1',\n",
       " 'nivel-1',\n",
       " 'mundos-1',\n",
       " 'interpretaciones-1',\n",
       " 'mundo-1',\n",
       " 'nivel-1',\n",
       " 'nivel-1',\n",
       " 'nivel-3',\n",
       " 'nivel-2',\n",
       " 'nivel-3',\n",
       " 'mundo-2',\n",
       " 'en-sí',\n",
       " 'nivel-1',\n",
       " 'dimensión-1',\n",
       " 'interpretación-1',\n",
       " 'nivel-1',\n",
       " 'nivel-1',\n",
       " 'nivel-1',\n",
       " 'interpretación-1',\n",
       " 'nivel-1',\n",
       " 'mundo.6',\n",
       " 'interpretaciones-1',\n",
       " 'nivel-1',\n",
       " 'a-dualística',\n",
       " 'en-sí',\n",
       " 'en-sí',\n",
       " 'nivel-3',\n",
       " 'nivel-2',\n",
       " 'interpretativas-1',\n",
       " 'nivel-1',\n",
       " 'interpretación-1',\n",
       " 'interpretación-1',\n",
       " 'interpretatividad-1',\n",
       " 'nivel-1',\n",
       " 'interpretaciones-1',\n",
       " 'tam-poco',\n",
       " 'mundo-perspectiva',\n",
       " 'nivel-1',\n",
       " 'interpretativo-1',\n",
       " 'interpretativas-1',\n",
       " 'interpretación-1',\n",
       " 'mundo-1',\n",
       " 'asegurada.7',\n",
       " 'S]i',\n",
       " 'no-interpretativo',\n",
       " 'U]na',\n",
       " 'signo-árbol',\n",
       " 'nivel-3',\n",
       " 'no-interpretativo',\n",
       " 'estructura.9',\n",
       " 'vis-to',\n",
       " 'no-intepretativa',\n",
       " 'no-interpretación',\n",
       " 'nivel-1',\n",
       " 'interpretaciones-3',\n",
       " 'interpretaciones-2',\n",
       " 'histórico-culturales',\n",
       " 'interpretación-1',\n",
       " 'nivel-1',\n",
       " 'nivel-1',\n",
       " 'empírico-histórico',\n",
       " 'superado.10',\n",
       " 'sujeto-objeto',\n",
       " 'nivel-1',\n",
       " 'nivel-1',\n",
       " 'genealógico-reconstructivo',\n",
       " 'nivel-1',\n",
       " 'comprensión-interpretación',\n",
       " '2[151',\n",
       " 'no-interpretar',\n",
       " 'Lévi-Strauss',\n",
       " 'Lévi-Strauss',\n",
       " 'mito-lógico',\n",
       " 'mito-morfo',\n",
       " 'sujeto-objeto',\n",
       " 'verdad-falsedad',\n",
       " '16-35',\n",
       " 'Zeichen-und',\n",
       " 'Gespräch',\n",
       " '29/4',\n",
       " '36-44',\n",
       " 'Zeichen-und',\n",
       " '50/2',\n",
       " '97-123',\n",
       " \"L'écriture\",\n",
       " 'Interpretativität',\n",
       " '253-260',\n",
       " '867-878',\n",
       " 'Realität',\n",
       " 'G-L',\n",
       " 'könnte',\n",
       " '889-901',\n",
       " '73-98',\n",
       " '855-866']"
      ]
     },
     "execution_count": 11,
     "metadata": {},
     "output_type": "execute_result"
    }
   ],
   "source": [
    "[re.findall(artifacts, doc.text) for doc in corpusList][0]"
   ]
  },
  {
   "cell_type": "markdown",
   "metadata": {},
   "source": [
    "One common artifact is the hex `\\xad` for the soft hyphen which is used to break lines. We can remove it easily."
   ]
  },
  {
   "cell_type": "code",
   "execution_count": 12,
   "metadata": {},
   "outputs": [],
   "source": [
    "for doc in corpusList:\n",
    "    doc.cleanText = re.sub('\\\\xad','', doc.cleanText)\n",
    "    doc.cleanText = doc.cleanText.replace(u\"\\xa0\", \"\")"
   ]
  },
  {
   "cell_type": "markdown",
   "metadata": {},
   "source": [
    "We can save the corpus for now."
   ]
  },
  {
   "cell_type": "code",
   "execution_count": 13,
   "metadata": {},
   "outputs": [],
   "source": [
    "if not os.path.exists('../data/corpus'):\n",
    "    os.mkdir('../data/corpus')\n",
    "saveCorpus('../data/corpus', corpusList)"
   ]
  },
  {
   "cell_type": "markdown",
   "metadata": {},
   "source": [
    "## Stopword Removal\n",
    "Stopword removal is perhaps the most difficult part of preprocessing. There are two challenges to meet:\n",
    "* Some stopword lists such as the one included in NLTK for Spanish are too weak and do not filter many stopwords.\n",
    "* Other stopword lists are too inclusive and can eliminate words that are meaningful in philosophy (e.g. 'verdadero', true). \n",
    "It is important to note that stopwords are very context-sensitive. A word in one context may provide little meaning (hence counting as a stopword) while in other contexts it may provide lots of information.\n",
    "\n",
    "To tackle these challenges, we will first to an initial filtering with NTLK's list. This will leave many stopwords in the text, but will reduce the size of each text considerably. Then we will compare the text with a stronger list of stopwords (source). We will see which words are both the text and the stronger stopwords list. We will inspect these lists manually and extract a list of protected words. We will iterate over this process a number of times. Once we have a robust list of protected words, we will concatenate NLTK's stopwords list with the stronger one and eliminate the protected words from it. This will provide a final (hopefully middle ground) stopword list with which to continue."
   ]
  },
  {
   "cell_type": "code",
   "execution_count": 14,
   "metadata": {},
   "outputs": [],
   "source": [
    "from nltk.corpus import stopwords as nltk_stopwords\n",
    "\n",
    "stopwords_weak = nltk_stopwords.words('spanish')"
   ]
  },
  {
   "cell_type": "code",
   "execution_count": 15,
   "metadata": {},
   "outputs": [],
   "source": [
    "import requests\n",
    "\n",
    "r = requests.get('https://raw.githubusercontent.com/stopwords-iso/stopwords-es/master/stopwords-es.txt')\n",
    "stopwords_strong = r.text.split('\\n')"
   ]
  },
  {
   "cell_type": "code",
   "execution_count": 16,
   "metadata": {},
   "outputs": [],
   "source": [
    "docWords = []\n",
    "for doc in corpusList:\n",
    "    docWords += [word for word in re.findall('\\w+', doc.cleanText) if word not in stopwords_weak]"
   ]
  },
  {
   "cell_type": "code",
   "execution_count": 17,
   "metadata": {},
   "outputs": [
    {
     "data": {
      "text/plain": [
       "['INTERPRETACIÓN',\n",
       " 'Y',\n",
       " 'RELATIVISMO',\n",
       " 'OBSERVACIONES',\n",
       " 'SOBRE',\n",
       " 'LA',\n",
       " 'FILOSOFÍA',\n",
       " 'DE',\n",
       " 'GÜNTER',\n",
       " 'ABEL']"
      ]
     },
     "execution_count": 17,
     "metadata": {},
     "output_type": "execute_result"
    }
   ],
   "source": [
    "docWords[:10]"
   ]
  },
  {
   "cell_type": "code",
   "execution_count": 18,
   "metadata": {},
   "outputs": [],
   "source": [
    "from collections import Counter\n",
    "\n",
    "docs_and_stopwords = Counter([word for word in docWords if word in stopwords_strong])"
   ]
  },
  {
   "cell_type": "code",
   "execution_count": 19,
   "metadata": {},
   "outputs": [
    {
     "data": {
      "text/plain": [
       "[('ser', 18998),\n",
       " ('u', 18637),\n",
       " ('puede', 16404),\n",
       " ('si', 13033),\n",
       " ('sino', 10368),\n",
       " ('mismo', 9927),\n",
       " ('i', 8685),\n",
       " ('bien', 8157),\n",
       " ('decir', 7978),\n",
       " ('modo', 6717)]"
      ]
     },
     "execution_count": 19,
     "metadata": {},
     "output_type": "execute_result"
    }
   ],
   "source": [
    "docs_and_stopwords.most_common(10)"
   ]
  },
  {
   "cell_type": "markdown",
   "metadata": {},
   "source": [
    "Already in the first 10 most common words in both the documents and the strong list of stopwords we find words that in philosophy are quite meaningful:\n",
    "* 'ser': being\n",
    "* 'bien': good\n",
    "* 'modo': mode\n",
    "\n",
    "We will start saving those words and eliminating them from the stronger list of stopwords. Then we will repeat the process of selecting the words that are in both lists and see which words are common. By iterating over this process a couple of times, we will get a list of protected words."
   ]
  },
  {
   "cell_type": "code",
   "execution_count": 20,
   "metadata": {},
   "outputs": [],
   "source": [
    "protectedWords = [\n",
    "    'ser',\n",
    "    'bien',\n",
    "    'modo'\n",
    "]"
   ]
  },
  {
   "cell_type": "code",
   "execution_count": 21,
   "metadata": {},
   "outputs": [],
   "source": [
    "stopwords_strong = [word for word in stopwords_strong if word not in protectedWords]\n",
    "docs_and_stopwords = Counter([word for word in docWords if word in stopwords_strong])"
   ]
  },
  {
   "cell_type": "code",
   "execution_count": 22,
   "metadata": {},
   "outputs": [
    {
     "data": {
      "text/plain": [
       "[('u', 18637),\n",
       " ('puede', 16404),\n",
       " ('si', 13033),\n",
       " ('sino', 10368),\n",
       " ('mismo', 9927),\n",
       " ('i', 8685),\n",
       " ('decir', 7978),\n",
       " ('manera', 6427),\n",
       " ('parte', 6355),\n",
       " ('sólo', 6075),\n",
       " ('tal', 5839),\n",
       " ('dos', 5797),\n",
       " ('posible', 5507),\n",
       " ('pues', 5289),\n",
       " ('hace', 5222),\n",
       " ('misma', 5214),\n",
       " ('tiempo', 5184),\n",
       " ('así', 5164),\n",
       " ('solo', 5040),\n",
       " ('lugar', 5006),\n",
       " ('debe', 4985),\n",
       " ('embargo', 4872),\n",
       " ('hecho', 4685),\n",
       " ('ejemplo', 4573),\n",
       " ('verdad', 4558),\n",
       " ('vez', 4492),\n",
       " ('entonces', 4424),\n",
       " ('aquí', 4119),\n",
       " ('toda', 3981),\n",
       " ('parece', 3924),\n",
       " ('según', 3884),\n",
       " ('ello', 3873),\n",
       " ('siempre', 3787),\n",
       " ('cosas', 3560),\n",
       " ('poder', 3559),\n",
       " ('cómo', 3546),\n",
       " ('cada', 3544),\n",
       " ('respecto', 3506),\n",
       " ('pueden', 3436),\n",
       " ('general', 3316),\n",
       " ('saber', 3293),\n",
       " ('da', 3262),\n",
       " ('hacer', 3195),\n",
       " ('cuanto', 3193),\n",
       " ('podría', 3188),\n",
       " ('partir', 3177),\n",
       " ('h', 3134),\n",
       " ('menos', 3112),\n",
       " ('trata', 3112),\n",
       " ('primer', 2979),\n",
       " ('primera', 2966),\n",
       " ('propia', 2905),\n",
       " ('cierto', 2838),\n",
       " ('propio', 2651),\n",
       " ('cuenta', 2646),\n",
       " ('aunque', 2628),\n",
       " ('ahora', 2610),\n",
       " ('acuerdo', 2534),\n",
       " ('cualquier', 2523),\n",
       " ('tener', 2485),\n",
       " ('trabajo', 2474),\n",
       " ('hacia', 2461),\n",
       " ('dice', 2366),\n",
       " ('dentro', 2362),\n",
       " ('momento', 2362),\n",
       " ('sido', 2360),\n",
       " ('todas', 2353),\n",
       " ('podemos', 2312),\n",
       " ('ver', 2292),\n",
       " ('medio', 2290),\n",
       " ('encuentra', 2256),\n",
       " ('fin', 2252),\n",
       " ('valor', 2246),\n",
       " ('último', 2186),\n",
       " ('lado', 2174),\n",
       " ('través', 2148),\n",
       " ('incluso', 2147),\n",
       " ('tan', 2132),\n",
       " ('segundo', 2111),\n",
       " ('b', 2089),\n",
       " ('bajo', 2062),\n",
       " ('mejor', 2041),\n",
       " ('aquello', 1977),\n",
       " ('dado', 1939),\n",
       " ('existe', 1918),\n",
       " ('dar', 1881),\n",
       " ('dicho', 1851),\n",
       " ('diferentes', 1810),\n",
       " ('uso', 1807),\n",
       " ('alguna', 1772),\n",
       " ('aún', 1748),\n",
       " ('siguiente', 1729),\n",
       " ('cuales', 1721),\n",
       " ('verdadero', 1673),\n",
       " ('habla', 1661),\n",
       " ('haber', 1660),\n",
       " ('pueda', 1641),\n",
       " ('mediante', 1634),\n",
       " ('quiere', 1627),\n",
       " ('anterior', 1625)]"
      ]
     },
     "execution_count": 22,
     "metadata": {},
     "output_type": "execute_result"
    }
   ],
   "source": [
    "docs_and_stopwords.most_common(100)"
   ]
  },
  {
   "cell_type": "markdown",
   "metadata": {},
   "source": [
    "Additionally, we have added words that we observed were incorrectly lemmatized. We will pass the list of protected words to the lemmatizer later on and we will skip these protected words."
   ]
  },
  {
   "cell_type": "code",
   "execution_count": 23,
   "metadata": {},
   "outputs": [],
   "source": [
    "protectedWords += [\n",
    "    'parte',\n",
    "    'posible',\n",
    "    'lugar',\n",
    "    'hecho',\n",
    "    'poder',\n",
    "    'verdad',\n",
    "    'cosas',\n",
    "    'general',\n",
    "    'fin',\n",
    "    'trabajo',\n",
    "    'cierto',\n",
    "    'uso',\n",
    "    'dado',\n",
    "    'diferentes',\n",
    "    'verdadero',\n",
    "    'verdadera',\n",
    "    'existe',\n",
    "    'valor',\n",
    "    'realizar',\n",
    "    'existen',\n",
    "    'conocer',\n",
    "    'diferente',\n",
    "    'idea',\n",
    "    'caso',\n",
    "    'consciencia',\n",
    "    'conciencia',\n",
    "    'objeto',\n",
    "    'forma',\n",
    "    'obra',\n",
    "    'persona',\n",
    "    'sujeto',\n",
    "    'primer',\n",
    "    'primera',\n",
    "    'primero',\n",
    "    'descartes',\n",
    "    'libre',\n",
    "    'libres',\n",
    "    'escoto',\n",
    "    'falta',\n",
    "    'regla',\n",
    "    'signo',\n",
    "    'liberté',\n",
    "    'potencia',\n",
    "    'cosa',\n",
    "    'nombre',\n",
    "    'enunciado',\n",
    "    'profundo',\n",
    "    'moneda',\n",
    "    'minuto',\n",
    "    'madera',\n",
    "    'indicio',\n",
    "    'industria',  \n",
    "    'espejo',\n",
    "    'escolio',\n",
    "    'era',\n",
    "    'prototipo',\n",
    "    'discurso',\n",
    "    'escritura',\n",
    "    'cave',\n",
    "    'evidencia',\n",
    "    'principia'\n",
    "    ]\n",
    "\n",
    "protectedWords = list(set(protectedWords))"
   ]
  },
  {
   "cell_type": "markdown",
   "metadata": {},
   "source": [
    "After a couple of times to make the process less complex, once we are sure of a set of words, we can eliminate those from the list of document words and go back and repeat the process a couple more times."
   ]
  },
  {
   "cell_type": "code",
   "execution_count": 24,
   "metadata": {},
   "outputs": [],
   "source": [
    "stopwordsToRemove = [word[0] for word in docs_and_stopwords.most_common(100)]\n",
    "docWords = [word for word in docWords if word not in stopwordsToRemove]"
   ]
  },
  {
   "cell_type": "markdown",
   "metadata": {},
   "source": [
    "### Removing stopwords in English"
   ]
  },
  {
   "cell_type": "markdown",
   "metadata": {},
   "source": [
    "Given that most of the articles have abstracts in English, some of the usual stopwords in English are appearing frequently in our documents. Thus, we will append the NLTK-generated list of English stopwords. We will also use one for Portuguese, which we sometimes get as well."
   ]
  },
  {
   "cell_type": "code",
   "execution_count": 25,
   "metadata": {},
   "outputs": [],
   "source": [
    "englishStopwords = nltk_stopwords.words(\"english\")\n",
    "portugueseStopwords = nltk_stopwords.words(\"portuguese\")"
   ]
  },
  {
   "cell_type": "markdown",
   "metadata": {},
   "source": [
    "TODO: should we be filtering these just like we filter the Spanish ones?"
   ]
  },
  {
   "cell_type": "markdown",
   "metadata": {},
   "source": [
    "### Other stopwords custom to our corpus"
   ]
  },
  {
   "cell_type": "markdown",
   "metadata": {},
   "source": [
    "There are some other stopwords that we would like to include, but that have not been taken into account in the previous processes. These are:"
   ]
  },
  {
   "cell_type": "code",
   "execution_count": 26,
   "metadata": {},
   "outputs": [],
   "source": [
    "customStopwords = [\n",
    "    \"cf\",\n",
    "    \"cfr\",\n",
    "    \"sic\",\n",
    "    \"quae\",\n",
    "    \"pro\",\n",
    "    \"sit\",\n",
    "    \"quod\",\n",
    "    \"quia\",\n",
    "    \"wor\",\n",
    "    \"wha\",\n",
    "    \"whe\",\n",
    "    \"no obstante\",\n",
    "    \"sin embargo\",\n",
    "    \"por ejemplo\",\n",
    "    \"es decir\",\n",
    "    \"ak\",\n",
    "    \"krv\",\n",
    "    \"tha\",\n",
    "    \"press\",\n",
    "    \"university\",\n",
    "    \"est\",\n",
    "    \"non\",\n",
    "    \"par\",\n",
    "    \"per\",\n",
    "    \"tod\",\n",
    "    \"ell\",\n",
    "    \"cua\",\n",
    "    \"alg\",\n",
    "    \"segú\",\n",
    "    \"chic\",\n",
    "    \"thi\",\n",
    "    \"cad\",\n",
    "    \"hac\",\n",
    "    \"ca\",\n",
    "    \"pue\",\n",
    "    \"cambridge\",\n",
    "    \"would\",\n",
    "    \"ést\",\n",
    "    \"hua\",\n",
    "    \"httpsdoiorg\",\n",
    "    \"ser\" # Agrego \"ser\" por ahora porque genera demasiado ruido\n",
    "    \n",
    "]"
   ]
  },
  {
   "cell_type": "markdown",
   "metadata": {},
   "source": [
    "Once we have a robust set of words we can save both the final stopword list and the protected words list."
   ]
  },
  {
   "cell_type": "code",
   "execution_count": 27,
   "metadata": {},
   "outputs": [],
   "source": [
    "stopwords_final = list(set(\n",
    "    stopwords_weak + stopwords_strong + englishStopwords + portugueseStopwords +  customStopwords\n",
    "))\n",
    "with open('wordlists/stopwords.txt', 'w') as fp:\n",
    "    fp.write('\\n'.join(stopwords_final))\n",
    "\n",
    "with open('wordlists/protectedWords.txt', 'w') as fp:\n",
    "    fp.write('\\n'.join(protectedWords))"
   ]
  },
  {
   "cell_type": "markdown",
   "metadata": {},
   "source": [
    "# Final replacements and edits\n",
    "PDF correction is not perfect and we observe some artifacts left in the LDA. A hotfix is to do those replacements manually for now and check whether we can improve on this process in the future."
   ]
  },
  {
   "cell_type": "code",
   "execution_count": 28,
   "metadata": {},
   "outputs": [],
   "source": [
    "manualReplacements = {\n",
    "    'kan': 'kant',\n",
    "    'Kan': 'Kant',\n",
    "    'entr': 'entre',\n",
    "    'otr': 'otro',\n",
    "    'mism': 'mismo',\n",
    "    'wit': 'with',\n",
    "    'tien': 'tiene',\n",
    "    'maner': 'manera',\n",
    "    'objet': 'objeto',\n",
    "    'Hege': 'Hegel',\n",
    "    'mund': 'mundo',\n",
    "    'sistem': 'sistema',\n",
    "    'obr': 'obra',\n",
    "    'histori': 'historia',\n",
    "    'pode': 'poder',\n",
    "    'deci': 'decir',\n",
    "    'bie': 'bien',\n",
    "    'entonce': 'entonces',\n",
    "    'verda': 'verdad',\n",
    "    'deb': 'deber',\n",
    "    'tant': 'tanto',\n",
    "    'mora': 'moral',\n",
    "    'form': 'forma',\n",
    "    'Hum': 'Hume',\n",
    "    'ide': 'idea',\n",
    "    'mod': 'modo',\n",
    "    'hech': 'hecho',\n",
    "    'vid': 'vida',\n",
    "    'relativ': 'relativo',\n",
    "    'negativ': 'negativo',\n",
    "    'mínim': 'mínimo',\n",
    "    'implícit': 'implícito',\n",
    "    'gegenealógic': 'genealógico',\n",
    "    'explícit': 'explícito',\n",
    "    'disput': 'disputa',\n",
    "    'liberta': 'libertad',\n",
    "    'polític': 'política',\n",
    "    'part': 'parte',\n",
    "    'punt': 'punto',\n",
    "    'propi': 'propio',\n",
    "    'crític': 'crítica',\n",
    "    \n",
    "}"
   ]
  },
  {
   "cell_type": "code",
   "execution_count": null,
   "metadata": {},
   "outputs": [],
   "source": [
    "for doc in corpusList:\n",
    "    for word, replacement in manualReplacements.items():\n",
    "        doc.cleanText = re.sub(r'\\b' + word + r'\\b', replacement, doc.cleanText)"
   ]
  },
  {
   "cell_type": "code",
   "execution_count": null,
   "metadata": {},
   "outputs": [],
   "source": [
    "if not os.path.exists('../data/corpus'):\n",
    "    os.mkdir('../data/corpus')\n",
    "saveCorpus('../data/corpus', corpusList)"
   ]
  }
 ],
 "metadata": {
  "kernelspec": {
   "display_name": "Python 3",
   "language": "python",
   "name": "python3"
  },
  "language_info": {
   "codemirror_mode": {
    "name": "ipython",
    "version": 3
   },
   "file_extension": ".py",
   "mimetype": "text/x-python",
   "name": "python",
   "nbconvert_exporter": "python",
   "pygments_lexer": "ipython3",
   "version": "3.8.5"
  }
 },
 "nbformat": 4,
 "nbformat_minor": 4
}
