{
 "cells": [
  {
   "cell_type": "markdown",
   "metadata": {},
   "source": [
    "## LDA Preprocessing 1\n",
    "# Artifact Removal and Stopword Selection\n",
    "This notebook takes the clean JSON files for each article and does some preprocessing to obtain a text that we can analyze using LDA.\n",
    "\n",
    "Specifically, we do:\n",
    "* Artifact removal\n",
    "* Stopword selection\n",
    "\n",
    "In the next notebook we will do:\n",
    "* Punctuation removal\n",
    "* Lemmatization"
   ]
  },
  {
   "cell_type": "code",
   "execution_count": 1,
   "metadata": {},
   "outputs": [],
   "source": [
    "import json\n",
    "import re"
   ]
  },
  {
   "cell_type": "markdown",
   "metadata": {},
   "source": [
    "We will also use some utility functions we defined in the `utils/` folder:\n",
    "* `loadCorpusList(path)`: Loads the corpus as a list of `Article` objects (see `utils/Article.py`). This will allow us to save the clean text per document into the same JSON file with the metadata included.\n",
    "* `saveCorpus(path)`: Saves the articles in JSON format in their current state. Useful when we want to append information to our clean JSON files."
   ]
  },
  {
   "cell_type": "code",
   "execution_count": 2,
   "metadata": {},
   "outputs": [],
   "source": [
    "import os\n",
    "import sys \n",
    "\n",
    "# Jupyter Notebooks are not good at handling relative imports.\n",
    "# Best solution (not great practice) is to add the project's path\n",
    "# to the module loading paths of sys.\n",
    "\n",
    "module_path = os.path.abspath(os.path.join('..'))\n",
    "if module_path not in sys.path:\n",
    "    sys.path.append(module_path)\n",
    "\n",
    "from utils.loaders import loadCorpusList, saveCorpus"
   ]
  },
  {
   "cell_type": "markdown",
   "metadata": {},
   "source": [
    "## Loading the corpus"
   ]
  },
  {
   "cell_type": "code",
   "execution_count": 3,
   "metadata": {},
   "outputs": [],
   "source": [
    "corpusPath = '../data/clean_json'\n",
    "\n",
    "corpusList = loadCorpusList(corpusPath)"
   ]
  },
  {
   "cell_type": "code",
   "execution_count": 4,
   "metadata": {},
   "outputs": [
    {
     "data": {
      "text/plain": [
       "'Kasahara, Javier. “Una relectura leibniziana al mecanicismo.”'"
      ]
     },
     "execution_count": 4,
     "metadata": {},
     "output_type": "execute_result"
    }
   ],
   "source": [
    "corpusList[0].title"
   ]
  },
  {
   "cell_type": "markdown",
   "metadata": {},
   "source": [
    "We will only work with documents in Spanish. Hence, let's replace `corpusList` with only the articles that are in Spanish."
   ]
  },
  {
   "cell_type": "code",
   "execution_count": 5,
   "metadata": {},
   "outputs": [],
   "source": [
    "corpusList = [doc for doc in corpusList if doc.lang == 'es']"
   ]
  },
  {
   "cell_type": "markdown",
   "metadata": {},
   "source": [
    "This leaves is with 554 articles."
   ]
  },
  {
   "cell_type": "code",
   "execution_count": 6,
   "metadata": {},
   "outputs": [
    {
     "data": {
      "text/plain": [
       "554"
      ]
     },
     "execution_count": 6,
     "metadata": {},
     "output_type": "execute_result"
    }
   ],
   "source": [
    "len(corpusList)"
   ]
  },
  {
   "cell_type": "markdown",
   "metadata": {},
   "source": [
    "(Este paso estaba en el otro notebook y siento que es importante pero no conozco bien la justificación.)"
   ]
  },
  {
   "cell_type": "code",
   "execution_count": 7,
   "metadata": {},
   "outputs": [],
   "source": [
    "for doc in corpusList:\n",
    "    doc.cleanText = doc.text.encode(\"utf8\").decode(\"utf8\")"
   ]
  },
  {
   "cell_type": "markdown",
   "metadata": {},
   "source": [
    "## Artifact removal\n",
    "\n",
    "There are some artifacts included in the text that are produced by HTML processing (or in the future because of how PDF files store text)."
   ]
  },
  {
   "cell_type": "markdown",
   "metadata": {},
   "source": [
    "Let's start by removing numbers and some special characters such as newline characters (`\\n`). We will keep normal punctuation for now as that might help SpaCy when we do lemmatization."
   ]
  },
  {
   "cell_type": "code",
   "execution_count": 8,
   "metadata": {},
   "outputs": [],
   "source": [
    "for doc in corpusList:\n",
    "    doc.cleanText = re.sub('\\d|\\n',' ', doc.text)"
   ]
  },
  {
   "cell_type": "markdown",
   "metadata": {},
   "source": [
    "We can detect some of these artifacts by looking for non-alphanumeric characters between alphanumeric characters (e.g. `\"ar-gument\"`, `\"ar\\xadgument\"`)."
   ]
  },
  {
   "cell_type": "code",
   "execution_count": 9,
   "metadata": {},
   "outputs": [],
   "source": [
    "artifacts = re.compile('\\w+[^a-zA-ZáéíóúÁÉÍÓÚñÑüÜ\\d\\s:]\\w+')"
   ]
  },
  {
   "cell_type": "code",
   "execution_count": 10,
   "metadata": {},
   "outputs": [
    {
     "data": {
      "text/plain": [
       "['35-48',\n",
       " 'mecanicismo,1',\n",
       " 'mente-cuerpo',\n",
       " 'otro.2',\n",
       " 'primero.3',\n",
       " '148-149',\n",
       " '125-194',\n",
       " 'montenegrop.nicolas',\n",
       " 'urosario.edu']"
      ]
     },
     "execution_count": 10,
     "metadata": {},
     "output_type": "execute_result"
    }
   ],
   "source": [
    "[re.findall(artifacts, doc.text) for doc in corpusList][0]"
   ]
  },
  {
   "cell_type": "markdown",
   "metadata": {},
   "source": [
    "One common artifact is the hex `\\xad` for the soft hyphen which is used to break lines. We can remove it easily."
   ]
  },
  {
   "cell_type": "code",
   "execution_count": 11,
   "metadata": {},
   "outputs": [],
   "source": [
    "for doc in corpusList:\n",
    "    doc.cleanText = re.sub('\\\\xad',' ', doc.cleanText)"
   ]
  },
  {
   "cell_type": "markdown",
   "metadata": {},
   "source": [
    "We can save the corpus for now."
   ]
  },
  {
   "cell_type": "code",
   "execution_count": 12,
   "metadata": {},
   "outputs": [],
   "source": [
    "saveCorpus('../data/clean_json', corpusList)"
   ]
  },
  {
   "cell_type": "markdown",
   "metadata": {},
   "source": [
    "## Stopword Removal\n",
    "Stopword removal is perhaps the most difficult part of preprocessing. There are two challenges to meet:\n",
    "* Some stopword lists such as the one included in NLTK for Spanish are too weak and do not filter many stopwords.\n",
    "* Other stopword lists are too inclusive and can eliminate words that are meaningful in philosophy (e.g. 'verdadero', true). \n",
    "It is important to note that stopwords are very context-sensitive. A word in one context may provide little meaning (hence counting as a stopword) while in other contexts it may provide lots of information.\n",
    "\n",
    "To tackle these challenges, we will first to an initial filtering with NTLK's list. This will leave many stopwords in the text, but will reduce the size of each text considerably. Then we will compare the text with a stronger list of stopwords (source). We will see which words are both the text and the stronger stopwords list. We will inspect these lists manually and extract a list of protected words. We will iterate over this process a number of times. Once we have a robust list of protected words, we will concatenate NLTK's stopwords list with the stronger one and eliminate the protected words from it. This will provide a final (hopefully middle ground) stopword list with which to continue."
   ]
  },
  {
   "cell_type": "code",
   "execution_count": 13,
   "metadata": {},
   "outputs": [],
   "source": [
    "from nltk.corpus import stopwords\n",
    "\n",
    "stopwords_weak = stopwords.words('spanish')"
   ]
  },
  {
   "cell_type": "code",
   "execution_count": 14,
   "metadata": {},
   "outputs": [],
   "source": [
    "import requests\n",
    "\n",
    "r = requests.get('https://raw.githubusercontent.com/stopwords-iso/stopwords-es/master/stopwords-es.txt')\n",
    "stopwords_strong = r.text.split('\\n')"
   ]
  },
  {
   "cell_type": "code",
   "execution_count": 15,
   "metadata": {},
   "outputs": [],
   "source": [
    "docWords = []\n",
    "for doc in corpusList:\n",
    "    docWords += [word for word in re.findall('\\w+', doc.cleanText) if word not in stopwords_weak]"
   ]
  },
  {
   "cell_type": "code",
   "execution_count": 16,
   "metadata": {},
   "outputs": [
    {
     "data": {
      "text/plain": [
       "['Documento',\n",
       " 'título',\n",
       " 'Kasahara',\n",
       " 'Javier',\n",
       " 'Una',\n",
       " 'relectura',\n",
       " 'leibniziana',\n",
       " 'mecanicismo',\n",
       " 'Eidos',\n",
       " 'Kasahara']"
      ]
     },
     "execution_count": 16,
     "metadata": {},
     "output_type": "execute_result"
    }
   ],
   "source": [
    "docWords[:10]"
   ]
  },
  {
   "cell_type": "code",
   "execution_count": 17,
   "metadata": {},
   "outputs": [],
   "source": [
    "from collections import Counter\n",
    "\n",
    "docs_and_stopwords = Counter([word for word in docWords if word in stopwords_strong])"
   ]
  },
  {
   "cell_type": "code",
   "execution_count": 18,
   "metadata": {},
   "outputs": [
    {
     "data": {
      "text/plain": [
       "[('ser', 11711),\n",
       " ('puede', 7417),\n",
       " ('si', 6667),\n",
       " ('sino', 6335),\n",
       " ('mismo', 5459),\n",
       " ('bien', 5069),\n",
       " ('modo', 4206),\n",
       " ('decir', 4033),\n",
       " ('manera', 3743),\n",
       " ('solo', 3667)]"
      ]
     },
     "execution_count": 18,
     "metadata": {},
     "output_type": "execute_result"
    }
   ],
   "source": [
    "docs_and_stopwords.most_common(10)"
   ]
  },
  {
   "cell_type": "markdown",
   "metadata": {},
   "source": [
    "Already in the first 10 most common words in both the documents and the strong list of stopwords we find words that in philosophy are quite meaningful:\n",
    "* 'ser': being\n",
    "* 'bien': good\n",
    "* 'modo': mode\n",
    "\n",
    "We will start saving those words and eliminating them from the stronger list of stopwords. Then we will repeat the process of selecting the words that are in both lists and see which words are common. By iterating over this process a couple of times, we will get a list of protected words."
   ]
  },
  {
   "cell_type": "code",
   "execution_count": 19,
   "metadata": {},
   "outputs": [],
   "source": [
    "protectedWords = [\n",
    "    'ser',\n",
    "    'bien',\n",
    "    'modo'\n",
    "]"
   ]
  },
  {
   "cell_type": "code",
   "execution_count": 25,
   "metadata": {},
   "outputs": [],
   "source": [
    "stopwords_strong = [word for word in stopwords_strong if word not in protectedWords]\n",
    "docs_and_stopwords = Counter([word for word in docWords if word in stopwords_strong])"
   ]
  },
  {
   "cell_type": "code",
   "execution_count": 26,
   "metadata": {},
   "outputs": [
    {
     "data": {
      "text/plain": [
       "[('primero', 877),\n",
       " ('última', 853),\n",
       " ('quiere', 849),\n",
       " ('anterior', 837),\n",
       " ('ninguna', 801),\n",
       " ('siguiente', 796),\n",
       " ('cierta', 792),\n",
       " ('demás', 786),\n",
       " ('ambos', 771),\n",
       " ('nunca', 753),\n",
       " ('ningún', 748),\n",
       " ('gran', 745),\n",
       " ('sigue', 740),\n",
       " ('mismos', 713),\n",
       " ('deben', 711),\n",
       " ('nueva', 696),\n",
       " ('considera', 696),\n",
       " ('aquella', 689),\n",
       " ('allí', 683),\n",
       " ('luego', 680),\n",
       " ('algún', 675),\n",
       " ('c', 662),\n",
       " ('ahí', 662),\n",
       " ('aquellos', 652),\n",
       " ('lleva', 636),\n",
       " ('final', 617),\n",
       " ('aquel', 617),\n",
       " ('buena', 612),\n",
       " ('tampoco', 610),\n",
       " ('habla', 610),\n",
       " ('pasado', 606),\n",
       " ('pesar', 604),\n",
       " ('va', 588),\n",
       " ('siendo', 587),\n",
       " ('i', 579),\n",
       " ('d', 579),\n",
       " ('ciertas', 577),\n",
       " ('aun', 575),\n",
       " ('x', 569),\n",
       " ('ciertos', 561),\n",
       " ('supuesto', 559),\n",
       " ('después', 556),\n",
       " ('hacen', 544),\n",
       " ('largo', 532),\n",
       " ('igual', 523),\n",
       " ('veces', 519),\n",
       " ('mal', 514),\n",
       " ('propias', 479),\n",
       " ('l', 476),\n",
       " ('mismas', 472),\n",
       " ('aquellas', 467),\n",
       " ('solamente', 463),\n",
       " ('muchas', 455),\n",
       " ('propios', 449),\n",
       " ('creo', 418),\n",
       " ('poner', 414),\n",
       " ('todavía', 412),\n",
       " ('adelante', 412),\n",
       " ('podrían', 405),\n",
       " ('intento', 402),\n",
       " ('debido', 397),\n",
       " ('hoy', 395),\n",
       " ('grandes', 393),\n",
       " ('nuevas', 389),\n",
       " ('cuál', 385),\n",
       " ('p', 380),\n",
       " ('tercera', 375),\n",
       " ('u', 368),\n",
       " ('llevar', 356),\n",
       " ('casi', 347),\n",
       " ('n', 338),\n",
       " ('unas', 335),\n",
       " ('bueno', 331),\n",
       " ('dan', 324),\n",
       " ('primeros', 323),\n",
       " ('intenta', 318),\n",
       " ('hacerlo', 318),\n",
       " ('sabe', 308),\n",
       " ('varios', 298),\n",
       " ('bastante', 279),\n",
       " ('puedo', 279),\n",
       " ('van', 278),\n",
       " ('lejos', 275),\n",
       " ('buen', 273),\n",
       " ('junto', 270),\n",
       " ('ir', 266),\n",
       " ('hizo', 266),\n",
       " ('total', 263),\n",
       " ('tras', 261),\n",
       " ('alguno', 259),\n",
       " ('w', 259),\n",
       " ('últimas', 247),\n",
       " ('cuatro', 243),\n",
       " ('demasiado', 243),\n",
       " ('día', 242),\n",
       " ('haciendo', 241),\n",
       " ('consigo', 240),\n",
       " ('últimos', 239),\n",
       " ('quizás', 239),\n",
       " ('sola', 230)]"
      ]
     },
     "execution_count": 26,
     "metadata": {},
     "output_type": "execute_result"
    }
   ],
   "source": [
    "docs_and_stopwords.most_common(100)"
   ]
  },
  {
   "cell_type": "code",
   "execution_count": 27,
   "metadata": {},
   "outputs": [],
   "source": [
    "protectedWords += [\n",
    "    'parte',\n",
    "    'posible',\n",
    "    'lugar',\n",
    "    'hecho',\n",
    "    'poder',\n",
    "    'verdad',\n",
    "    'cosas',\n",
    "    'general',\n",
    "    'fin',\n",
    "    'trabajo',\n",
    "    'cierto',\n",
    "    'uso',\n",
    "    'dado',\n",
    "    'diferentes',\n",
    "    'verdadero',\n",
    "    'verdadera',\n",
    "    'existe',\n",
    "    'valor',\n",
    "    'realizar',\n",
    "    'existen',\n",
    "    'conocer',\n",
    "    'diferente'\n",
    "]\n",
    "\n",
    "protectedWords = list(set(protectedWords))"
   ]
  },
  {
   "cell_type": "markdown",
   "metadata": {},
   "source": [
    "After a couple of times to make the process less complex, once we are sure of a set of words, we can eliminate those from the list of document words and go back and repeat the process a couple more times."
   ]
  },
  {
   "cell_type": "code",
   "execution_count": 28,
   "metadata": {},
   "outputs": [],
   "source": [
    "stopwordsToRemove = [word[0] for word in docs_and_stopwords.most_common(100)]\n",
    "docWords = [word for word in docWords if word not in stopwordsToRemove]"
   ]
  },
  {
   "cell_type": "markdown",
   "metadata": {},
   "source": [
    "Once we have a robust set of words we can save both the final stopword list and the protected words list."
   ]
  },
  {
   "cell_type": "code",
   "execution_count": 29,
   "metadata": {},
   "outputs": [],
   "source": [
    "stopwords_final = list(set(stopwords_weak + stopwords_strong))\n",
    "with open('wordlists/stopwords.txt', 'w') as fp:\n",
    "    fp.write('\\n'.join(stopwords_final))\n",
    "\n",
    "with open('wordlists/protectedWords.txt', 'w') as fp:\n",
    "    fp.write('\\n'.join(protectedWords))"
   ]
  }
 ],
 "metadata": {
  "kernelspec": {
   "display_name": "Python 3",
   "language": "python",
   "name": "python3"
  },
  "language_info": {
   "codemirror_mode": {
    "name": "ipython",
    "version": 3
   },
   "file_extension": ".py",
   "mimetype": "text/x-python",
   "name": "python",
   "nbconvert_exporter": "python",
   "pygments_lexer": "ipython3",
   "version": "3.8.3"
  }
 },
 "nbformat": 4,
 "nbformat_minor": 4
}
