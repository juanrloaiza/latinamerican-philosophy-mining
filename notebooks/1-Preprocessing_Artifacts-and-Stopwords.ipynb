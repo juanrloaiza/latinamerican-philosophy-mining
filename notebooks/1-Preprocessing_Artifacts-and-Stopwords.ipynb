{
 "cells": [
  {
   "cell_type": "markdown",
   "metadata": {},
   "source": [
    "## LDA Preprocessing 1\n",
    "# Artifact Removal and Stopword Selection\n",
    "This notebook takes the clean JSON files for each article and does some preprocessing to obtain a text that we can analyze using LDA.\n",
    "\n",
    "Specifically, we do:\n",
    "* Artifact removal\n",
    "* Stopword selection\n",
    "\n",
    "In the next notebook we will do:\n",
    "* Punctuation removal\n",
    "* Lemmatization"
   ]
  },
  {
   "cell_type": "code",
   "execution_count": 32,
   "metadata": {},
   "outputs": [],
   "source": [
    "import json\n",
    "import re"
   ]
  },
  {
   "cell_type": "markdown",
   "metadata": {},
   "source": [
    "We will also use some utility functions we defined in the `utils/` folder:\n",
    "* `loadCorpusList(path)`: Loads the corpus as a list of `Article` objects (see `utils/Article.py`). This will allow us to save the clean text per document into the same JSON file with the metadata included.\n",
    "* `saveCorpus(path)`: Saves the articles in JSON format in their current state. Useful when we want to append information to our clean JSON files."
   ]
  },
  {
   "cell_type": "code",
   "execution_count": 33,
   "metadata": {},
   "outputs": [],
   "source": [
    "import os\n",
    "import sys \n",
    "\n",
    "# Jupyter Notebooks are not good at handling relative imports.\n",
    "# Best solution (not great practice) is to add the project's path\n",
    "# to the module loading paths of sys.\n",
    "\n",
    "module_path = os.path.abspath(os.path.join('..'))\n",
    "if module_path not in sys.path:\n",
    "    sys.path.append(module_path)\n",
    "\n",
    "from utils.loaders import loadCorpusList, saveCorpus"
   ]
  },
  {
   "cell_type": "markdown",
   "metadata": {},
   "source": [
    "## Loading the corpus"
   ]
  },
  {
   "cell_type": "code",
   "execution_count": 34,
   "metadata": {},
   "outputs": [],
   "source": [
    "corpusPath = '../data/clean_json'\n",
    "\n",
    "corpusList = loadCorpusList(corpusPath)"
   ]
  },
  {
   "cell_type": "code",
   "execution_count": 35,
   "metadata": {},
   "outputs": [
    {
     "data": {
      "text/plain": [
       "'Los pecados del ateísmo'"
      ]
     },
     "execution_count": 35,
     "metadata": {},
     "output_type": "execute_result"
    }
   ],
   "source": [
    "corpusList[0].title"
   ]
  },
  {
   "cell_type": "markdown",
   "metadata": {},
   "source": [
    "We will only work with documents in Spanish. Hence, let's replace `corpusList` with only the articles that are in Spanish."
   ]
  },
  {
   "cell_type": "code",
   "execution_count": 36,
   "metadata": {},
   "outputs": [],
   "source": [
    "corpusList = [doc for doc in corpusList if doc.lang == 'es']"
   ]
  },
  {
   "cell_type": "markdown",
   "metadata": {},
   "source": [
    "This leaves is with 554 articles."
   ]
  },
  {
   "cell_type": "code",
   "execution_count": 37,
   "metadata": {},
   "outputs": [
    {
     "data": {
      "text/plain": [
       "554"
      ]
     },
     "execution_count": 37,
     "metadata": {},
     "output_type": "execute_result"
    }
   ],
   "source": [
    "len(corpusList)"
   ]
  },
  {
   "cell_type": "markdown",
   "metadata": {},
   "source": [
    "(Este paso estaba en el otro notebook y siento que es importante pero no conozco bien la justificación.)"
   ]
  },
  {
   "cell_type": "markdown",
   "metadata": {},
   "source": [
    "MGD: Creo que podemos borrar este paso. Lo hice para intentar quitar unas cosas que no se estaban quitando."
   ]
  },
  {
   "cell_type": "code",
   "execution_count": 38,
   "metadata": {},
   "outputs": [],
   "source": [
    "for doc in corpusList:\n",
    "    doc.cleanText = doc.text.encode(\"utf8\").decode(\"utf8\")"
   ]
  },
  {
   "cell_type": "markdown",
   "metadata": {},
   "source": [
    "## Artifact removal\n",
    "\n",
    "There are some artifacts included in the text that are produced by HTML processing (or in the future because of how PDF files store text)."
   ]
  },
  {
   "cell_type": "markdown",
   "metadata": {},
   "source": [
    "Let's start by removing numbers and some special characters such as newline characters (`\\n`). We will keep normal punctuation for now as that might help SpaCy when we do lemmatization."
   ]
  },
  {
   "cell_type": "code",
   "execution_count": 39,
   "metadata": {},
   "outputs": [],
   "source": [
    "for doc in corpusList:\n",
    "    doc.cleanText = re.sub('\\d|\\n',' ', doc.text)"
   ]
  },
  {
   "cell_type": "markdown",
   "metadata": {},
   "source": [
    "We can detect some of these artifacts by looking for non-alphanumeric characters between alphanumeric characters (e.g. `\"ar-gument\"`, `\"ar\\xadgument\"`)."
   ]
  },
  {
   "cell_type": "code",
   "execution_count": 40,
   "metadata": {},
   "outputs": [],
   "source": [
    "artifacts = re.compile('\\w+[^a-zA-ZáéíóúÁÉÍÓÚñÑüÜ\\d\\s:]\\w+')"
   ]
  },
  {
   "cell_type": "code",
   "execution_count": 41,
   "metadata": {},
   "outputs": [
    {
     "data": {
      "text/plain": [
       "['reli\\xadgión',\n",
       " 'necesariamen\\xadte',\n",
       " 'in\\xadterpretaciones',\n",
       " 'rela\\xadción',\n",
       " 'tema.1',\n",
       " 'diálo\\xadgo',\n",
       " 'dis\\xadcusión',\n",
       " 'creen\\xadcia',\n",
       " 'cf.Gal',\n",
       " '3.2',\n",
       " 'pre\\xaddicación',\n",
       " 'subjeti\\xadva',\n",
       " 'fomen\\xadtar',\n",
       " 'so\\xadbre',\n",
       " 'sencilla\\xadmente',\n",
       " 'me\\xaddicina',\n",
       " 'meti\\xadculosidad',\n",
       " 'pros\\xadperan',\n",
       " 'conoci\\xadmiento',\n",
       " 'don\\xadde',\n",
       " 'esco\\xadlástica',\n",
       " 'razona\\xadmiento',\n",
       " 'lógico-matemática',\n",
       " 'lógico-matemática',\n",
       " 'lógico-matemática',\n",
       " 'condescen\\xaddientes',\n",
       " 'cf.Comte',\n",
       " 'controver\\xadtible',\n",
       " 'pue\\xaddan',\n",
       " 'fác\\xadticas',\n",
       " 'lógico-matemáticas',\n",
       " 'tiem\\xadpo',\n",
       " 'comu\\xadnicabilidad',\n",
       " 'formal,3',\n",
       " 'ago\\xadta',\n",
       " 'mé\\xadtodo',\n",
       " 'furio\\xadso',\n",
       " '5.9',\n",
       " 'pre\\xadcepto',\n",
       " 'C]uanto',\n",
       " 'herma\\xadnas',\n",
       " '10.21',\n",
       " '29-30',\n",
       " 'pre\\xadtendo',\n",
       " '1917-1980',\n",
       " 'prin\\xadcipalmente',\n",
       " 'de\\xadmostrar',\n",
       " 'es\\xadpecialmente',\n",
       " 'cristia\\xadnismo',\n",
       " 'pre\\xadcisamente',\n",
       " 'argu\\xadmento',\n",
       " 'cons\\xadtituye',\n",
       " 'ha\\xadber',\n",
       " 'resenti\\xadmiento',\n",
       " 'nivela\\xadción',\n",
       " '60-61',\n",
       " 'Dios–todos',\n",
       " 'ateís\\xadmo',\n",
       " 'cuen\\xadta',\n",
       " 'per\\xadsonas',\n",
       " 'efecti\\xadvamente',\n",
       " 'encuen\\xadtro',\n",
       " 'nue\\xadvos',\n",
       " 'positivo.Trad',\n",
       " 'moral.Trad',\n",
       " 'jovial.Trad',\n",
       " 'Zaratustra.Trad',\n",
       " 'des\\xadcartarlos']"
      ]
     },
     "execution_count": 41,
     "metadata": {},
     "output_type": "execute_result"
    }
   ],
   "source": [
    "[re.findall(artifacts, doc.text) for doc in corpusList][0]"
   ]
  },
  {
   "cell_type": "markdown",
   "metadata": {},
   "source": [
    "One common artifact is the hex `\\xad` for the soft hyphen which is used to break lines. We can remove it easily."
   ]
  },
  {
   "cell_type": "code",
   "execution_count": 42,
   "metadata": {},
   "outputs": [],
   "source": [
    "for doc in corpusList:\n",
    "    doc.cleanText = re.sub('\\\\xad','', doc.cleanText)\n",
    "    doc.cleanText = doc.cleanText.replace(u\"\\xa0\", \"\")"
   ]
  },
  {
   "cell_type": "markdown",
   "metadata": {},
   "source": [
    "We can save the corpus for now."
   ]
  },
  {
   "cell_type": "code",
   "execution_count": 43,
   "metadata": {},
   "outputs": [],
   "source": [
    "saveCorpus('../data/clean_json', corpusList)"
   ]
  },
  {
   "cell_type": "markdown",
   "metadata": {},
   "source": [
    "## Stopword Removal\n",
    "Stopword removal is perhaps the most difficult part of preprocessing. There are two challenges to meet:\n",
    "* Some stopword lists such as the one included in NLTK for Spanish are too weak and do not filter many stopwords.\n",
    "* Other stopword lists are too inclusive and can eliminate words that are meaningful in philosophy (e.g. 'verdadero', true). \n",
    "It is important to note that stopwords are very context-sensitive. A word in one context may provide little meaning (hence counting as a stopword) while in other contexts it may provide lots of information.\n",
    "\n",
    "To tackle these challenges, we will first to an initial filtering with NTLK's list. This will leave many stopwords in the text, but will reduce the size of each text considerably. Then we will compare the text with a stronger list of stopwords (source). We will see which words are both the text and the stronger stopwords list. We will inspect these lists manually and extract a list of protected words. We will iterate over this process a number of times. Once we have a robust list of protected words, we will concatenate NLTK's stopwords list with the stronger one and eliminate the protected words from it. This will provide a final (hopefully middle ground) stopword list with which to continue."
   ]
  },
  {
   "cell_type": "code",
   "execution_count": 44,
   "metadata": {},
   "outputs": [],
   "source": [
    "from nltk.corpus import stopwords as nltk_stopwords\n",
    "\n",
    "stopwords_weak = nltk_stopwords.words('spanish')"
   ]
  },
  {
   "cell_type": "code",
   "execution_count": 45,
   "metadata": {},
   "outputs": [],
   "source": [
    "import requests\n",
    "\n",
    "r = requests.get('https://raw.githubusercontent.com/stopwords-iso/stopwords-es/master/stopwords-es.txt')\n",
    "stopwords_strong = r.text.split('\\n')"
   ]
  },
  {
   "cell_type": "code",
   "execution_count": 46,
   "metadata": {},
   "outputs": [],
   "source": [
    "docWords = []\n",
    "for doc in corpusList:\n",
    "    docWords += [word for word in re.findall('\\w+', doc.cleanText) if word not in stopwords_weak]"
   ]
  },
  {
   "cell_type": "code",
   "execution_count": 47,
   "metadata": {},
   "outputs": [
    {
     "data": {
      "text/plain": [
       "['Introducción',\n",
       " 'Quisiera',\n",
       " 'comenzar',\n",
       " 'disertación',\n",
       " 'anécdota',\n",
       " 'puede',\n",
       " 'ser',\n",
       " 'significativa',\n",
       " 'tema',\n",
       " 'convoca']"
      ]
     },
     "execution_count": 47,
     "metadata": {},
     "output_type": "execute_result"
    }
   ],
   "source": [
    "docWords[:10]"
   ]
  },
  {
   "cell_type": "code",
   "execution_count": 48,
   "metadata": {},
   "outputs": [],
   "source": [
    "from collections import Counter\n",
    "\n",
    "docs_and_stopwords = Counter([word for word in docWords if word in stopwords_strong])"
   ]
  },
  {
   "cell_type": "code",
   "execution_count": 49,
   "metadata": {},
   "outputs": [
    {
     "data": {
      "text/plain": [
       "[('ser', 11710),\n",
       " ('puede', 7425),\n",
       " ('si', 6662),\n",
       " ('sino', 6335),\n",
       " ('mismo', 5462),\n",
       " ('bien', 5069),\n",
       " ('modo', 4206),\n",
       " ('decir', 4035),\n",
       " ('manera', 3754),\n",
       " ('solo', 3667)]"
      ]
     },
     "execution_count": 49,
     "metadata": {},
     "output_type": "execute_result"
    }
   ],
   "source": [
    "docs_and_stopwords.most_common(10)"
   ]
  },
  {
   "cell_type": "markdown",
   "metadata": {},
   "source": [
    "Already in the first 10 most common words in both the documents and the strong list of stopwords we find words that in philosophy are quite meaningful:\n",
    "* 'ser': being\n",
    "* 'bien': good\n",
    "* 'modo': mode\n",
    "\n",
    "We will start saving those words and eliminating them from the stronger list of stopwords. Then we will repeat the process of selecting the words that are in both lists and see which words are common. By iterating over this process a couple of times, we will get a list of protected words."
   ]
  },
  {
   "cell_type": "code",
   "execution_count": 50,
   "metadata": {},
   "outputs": [],
   "source": [
    "protectedWords = [\n",
    "    'ser',\n",
    "    'bien',\n",
    "    'modo'\n",
    "]"
   ]
  },
  {
   "cell_type": "code",
   "execution_count": 51,
   "metadata": {},
   "outputs": [],
   "source": [
    "stopwords_strong = [word for word in stopwords_strong if word not in protectedWords]\n",
    "docs_and_stopwords = Counter([word for word in docWords if word in stopwords_strong])"
   ]
  },
  {
   "cell_type": "code",
   "execution_count": 52,
   "metadata": {},
   "outputs": [
    {
     "data": {
      "text/plain": [
       "[('puede', 7425),\n",
       " ('si', 6662),\n",
       " ('sino', 6335),\n",
       " ('mismo', 5462),\n",
       " ('decir', 4035),\n",
       " ('manera', 3754),\n",
       " ('solo', 3667),\n",
       " ('parte', 3640),\n",
       " ('dos', 3522),\n",
       " ('tal', 3423),\n",
       " ('así', 3160),\n",
       " ('pues', 3137),\n",
       " ('lugar', 3111),\n",
       " ('hace', 2895),\n",
       " ('debe', 2793),\n",
       " ('posible', 2769),\n",
       " ('vez', 2749),\n",
       " ('misma', 2709),\n",
       " ('hecho', 2688),\n",
       " ('embargo', 2585),\n",
       " ('entonces', 2476),\n",
       " ('poder', 2453),\n",
       " ('según', 2359),\n",
       " ('tiempo', 2304),\n",
       " ('ejemplo', 2302),\n",
       " ('ello', 2290),\n",
       " ('verdad', 2247),\n",
       " ('respecto', 2236),\n",
       " ('cosas', 2138),\n",
       " ('cada', 2128),\n",
       " ('partir', 2125),\n",
       " ('pueden', 2071),\n",
       " ('parece', 2060),\n",
       " ('cuanto', 2037),\n",
       " ('toda', 2008),\n",
       " ('b', 1992),\n",
       " ('aquí', 1958),\n",
       " ('sólo', 1942),\n",
       " ('cómo', 1941),\n",
       " ('hacer', 1935),\n",
       " ('primera', 1898),\n",
       " ('menos', 1895),\n",
       " ('general', 1852),\n",
       " ('siempre', 1844),\n",
       " ('trata', 1790),\n",
       " ('podría', 1780),\n",
       " ('propia', 1688),\n",
       " ('da', 1667),\n",
       " ('propio', 1604),\n",
       " ('saber', 1564),\n",
       " ('fin', 1561),\n",
       " ('tener', 1537),\n",
       " ('primer', 1502),\n",
       " ('sido', 1471),\n",
       " ('aunque', 1460),\n",
       " ('segundo', 1449),\n",
       " ('podemos', 1437),\n",
       " ('hacia', 1432),\n",
       " ('todas', 1428),\n",
       " ('través', 1411),\n",
       " ('cuenta', 1402),\n",
       " ('acuerdo', 1366),\n",
       " ('medio', 1326),\n",
       " ('momento', 1311),\n",
       " ('tan', 1307),\n",
       " ('cualquier', 1296),\n",
       " ('dice', 1289),\n",
       " ('ver', 1288),\n",
       " ('trabajo', 1269),\n",
       " ('incluso', 1259),\n",
       " ('cierto', 1245),\n",
       " ('bajo', 1238),\n",
       " ('s', 1236),\n",
       " ('lado', 1230),\n",
       " ('mejor', 1215),\n",
       " ('dentro', 1197),\n",
       " ('último', 1166),\n",
       " ('dado', 1152),\n",
       " ('uso', 1137),\n",
       " ('aquello', 1136),\n",
       " ('diferentes', 1119),\n",
       " ('dicho', 1111),\n",
       " ('dar', 1054),\n",
       " ('pueda', 1036),\n",
       " ('segunda', 1028),\n",
       " ('encuentra', 1027),\n",
       " ('valor', 1011),\n",
       " ('alguna', 998),\n",
       " ('ahora', 995),\n",
       " ('mediante', 984),\n",
       " ('tres', 972),\n",
       " ('cuales', 971),\n",
       " ('haber', 941),\n",
       " ('mayor', 930),\n",
       " ('además', 915),\n",
       " ('existe', 911),\n",
       " ('mientras', 888),\n",
       " ('aún', 887),\n",
       " ('claro', 884),\n",
       " ('nuevo', 883)]"
      ]
     },
     "execution_count": 52,
     "metadata": {},
     "output_type": "execute_result"
    }
   ],
   "source": [
    "docs_and_stopwords.most_common(100)"
   ]
  },
  {
   "cell_type": "code",
   "execution_count": 53,
   "metadata": {},
   "outputs": [],
   "source": [
    "protectedWords += [\n",
    "    'parte',\n",
    "    'posible',\n",
    "    'lugar',\n",
    "    'hecho',\n",
    "    'poder',\n",
    "    'verdad',\n",
    "    'cosas',\n",
    "    'general',\n",
    "    'fin',\n",
    "    'trabajo',\n",
    "    'cierto',\n",
    "    'uso',\n",
    "    'dado',\n",
    "    'diferentes',\n",
    "    'verdadero',\n",
    "    'verdadera',\n",
    "    'existe',\n",
    "    'valor',\n",
    "    'realizar',\n",
    "    'existen',\n",
    "    'conocer',\n",
    "    'diferente'\n",
    "]\n",
    "\n",
    "protectedWords = list(set(protectedWords))"
   ]
  },
  {
   "cell_type": "markdown",
   "metadata": {},
   "source": [
    "After a couple of times to make the process less complex, once we are sure of a set of words, we can eliminate those from the list of document words and go back and repeat the process a couple more times."
   ]
  },
  {
   "cell_type": "code",
   "execution_count": 54,
   "metadata": {},
   "outputs": [],
   "source": [
    "stopwordsToRemove = [word[0] for word in docs_and_stopwords.most_common(100)]\n",
    "docWords = [word for word in docWords if word not in stopwordsToRemove]"
   ]
  },
  {
   "cell_type": "markdown",
   "metadata": {},
   "source": [
    "### Removing stopwords in English"
   ]
  },
  {
   "cell_type": "markdown",
   "metadata": {},
   "source": [
    "Given that most of the articles have abstracts in English, some of the usual stopwords in English are appearing frequently in our documents. Thus, we will append the NLTK-generated list of English stopwords."
   ]
  },
  {
   "cell_type": "code",
   "execution_count": 55,
   "metadata": {},
   "outputs": [],
   "source": [
    "english_stopwords = nltk_stopwords.words(\"english\")"
   ]
  },
  {
   "cell_type": "markdown",
   "metadata": {},
   "source": [
    "TODO: should we be filtering these just like we filter the Spanish ones?"
   ]
  },
  {
   "cell_type": "markdown",
   "metadata": {},
   "source": [
    "### Other stopwords custom to our corpus"
   ]
  },
  {
   "cell_type": "markdown",
   "metadata": {},
   "source": [
    "There are some other stopwords that we would like to include, but that have not been taken into account in the previous processes. These are:"
   ]
  },
  {
   "cell_type": "code",
   "execution_count": 56,
   "metadata": {},
   "outputs": [],
   "source": [
    "custom_stopwords = [\n",
    "    \"cf\",\n",
    "    \"no obstante\",\n",
    "    \"sin embargo\",\n",
    "    \"por ejemplo\",\n",
    "    \"es decir\",\n",
    "    \"ak\",\n",
    "    \"krv\"\n",
    "]"
   ]
  },
  {
   "cell_type": "markdown",
   "metadata": {},
   "source": [
    "Once we have a robust set of words we can save both the final stopword list and the protected words list."
   ]
  },
  {
   "cell_type": "code",
   "execution_count": 57,
   "metadata": {},
   "outputs": [],
   "source": [
    "stopwords_final = list(set(\n",
    "    stopwords_weak + stopwords_strong + english_stopwords + custom_stopwords\n",
    "))\n",
    "with open('wordlists/stopwords.txt', 'w') as fp:\n",
    "    fp.write('\\n'.join(stopwords_final))\n",
    "\n",
    "with open('wordlists/protectedWords.txt', 'w') as fp:\n",
    "    fp.write('\\n'.join(protectedWords))"
   ]
  }
 ],
 "metadata": {
  "kernelspec": {
   "display_name": "Python 3",
   "language": "python",
   "name": "python3"
  },
  "language_info": {
   "codemirror_mode": {
    "name": "ipython",
    "version": 3
   },
   "file_extension": ".py",
   "mimetype": "text/x-python",
   "name": "python",
   "nbconvert_exporter": "python",
   "pygments_lexer": "ipython3",
   "version": "3.6.10"
  }
 },
 "nbformat": 4,
 "nbformat_minor": 4
}
