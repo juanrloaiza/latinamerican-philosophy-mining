{
 "cells": [
  {
   "cell_type": "markdown",
   "metadata": {},
   "source": [
    "## LDA 3\n",
    "\n",
    "# Fitting an LDA to our corpus\n",
    "\n",
    "We plan to perform topic modeling using *Latent Dirichlet Allocation* (abbreviated as LDA). An LDA is a *generative model* that learns a group of categories (or *topics*) for words that occur together in a corpus of documents. For a technical presentation of LDAs, see [Appendix A](404).\n",
    "\n",
    "Let's start loading up our corpus:"
   ]
  },
  {
   "cell_type": "code",
   "execution_count": 1,
   "metadata": {},
   "outputs": [],
   "source": [
    "from utils.corpus import Corpus\n",
    "\n",
    "corpus = Corpus(registry_path = 'utils/article_registry.json')"
   ]
  },
  {
   "cell_type": "code",
   "execution_count": 2,
   "metadata": {},
   "outputs": [
    {
     "name": "stdout",
     "output_type": "stream",
     "text": [
      "Loading corpus. Num. of articles: 68\n"
     ]
    }
   ],
   "source": [
    "from utils.model import Model\n",
    "\n",
    "n_topics = 10\n",
    "base_model = Model(corpus, n_topics)"
   ]
  },
  {
   "cell_type": "code",
   "execution_count": 3,
   "metadata": {},
   "outputs": [],
   "source": [
    "base_model.prepare()"
   ]
  },
  {
   "cell_type": "code",
   "execution_count": 5,
   "metadata": {},
   "outputs": [
    {
     "data": {
      "text/plain": [
       "[]"
      ]
     },
     "execution_count": 5,
     "metadata": {},
     "output_type": "execute_result"
    }
   ],
   "source": [
    "base_model.get_orphans()"
   ]
  },
  {
   "cell_type": "markdown",
   "metadata": {},
   "source": [
    "TODO: change for LdaModelMulticore (?)."
   ]
  },
  {
   "cell_type": "markdown",
   "metadata": {},
   "source": [
    "We can save this model:"
   ]
  },
  {
   "cell_type": "code",
   "execution_count": 4,
   "metadata": {},
   "outputs": [
    {
     "name": "stdout",
     "output_type": "stream",
     "text": [
      "Saved to: gensim_models/gensim_10/yLDA_gensim_10.model\n"
     ]
    }
   ],
   "source": [
    "base_model.save()"
   ]
  },
  {
   "cell_type": "markdown",
   "metadata": {},
   "source": [
    "## Analyzing the Model Coherence"
   ]
  },
  {
   "cell_type": "code",
   "execution_count": 6,
   "metadata": {},
   "outputs": [
    {
     "data": {
      "text/plain": [
       "0.31988007276082053"
      ]
     },
     "execution_count": 6,
     "metadata": {},
     "output_type": "execute_result"
    }
   ],
   "source": [
    "base_model.get_coherence()"
   ]
  },
  {
   "cell_type": "markdown",
   "metadata": {},
   "source": [
    "This coherence score allows us to do a search for the \"best\" `n_topics`. Let's print the coherence doing a normal search between 10 and 150 topics. Notice that this coherence score is sensitive to the random number generation that is used when creating the `lda`."
   ]
  },
  {
   "cell_type": "code",
   "execution_count": 8,
   "metadata": {},
   "outputs": [
    {
     "name": "stdout",
     "output_type": "stream",
     "text": [
      "Loading corpus. Num. of articles: 68\n",
      "Topics: 10. Coherence Score: 0.30356294955353064\n",
      "Loading corpus. Num. of articles: 68\n",
      "Topics: 10. Coherence Score: 0.3991402875404363\n",
      "Loading corpus. Num. of articles: 68\n",
      "Topics: 10. Coherence Score: 0.3743846329655319\n",
      "Loading corpus. Num. of articles: 68\n"
     ]
    },
    {
     "ename": "KeyboardInterrupt",
     "evalue": "",
     "output_type": "error",
     "traceback": [
      "\u001b[0;31m---------------------------------------------------------------------------\u001b[0m",
      "\u001b[0;31mKeyboardInterrupt\u001b[0m                         Traceback (most recent call last)",
      "\u001b[1;32m/home/juanrloaiza/JournalMiningProject/latinamerican-philosophy-mining/notebooks/3-LDA-using-gensim.ipynb Cell 12'\u001b[0m in \u001b[0;36m<cell line: 2>\u001b[0;34m()\u001b[0m\n\u001b[1;32m      <a href='vscode-notebook-cell:/home/juanrloaiza/JournalMiningProject/latinamerican-philosophy-mining/notebooks/3-LDA-using-gensim.ipynb#ch0000017?line=3'>4</a>\u001b[0m \u001b[39mfor\u001b[39;00m _ \u001b[39min\u001b[39;00m \u001b[39mrange\u001b[39m(\u001b[39m3\u001b[39m):\n\u001b[1;32m      <a href='vscode-notebook-cell:/home/juanrloaiza/JournalMiningProject/latinamerican-philosophy-mining/notebooks/3-LDA-using-gensim.ipynb#ch0000017?line=4'>5</a>\u001b[0m     model \u001b[39m=\u001b[39m Model(corpus, n_topics)\n\u001b[0;32m----> <a href='vscode-notebook-cell:/home/juanrloaiza/JournalMiningProject/latinamerican-philosophy-mining/notebooks/3-LDA-using-gensim.ipynb#ch0000017?line=5'>6</a>\u001b[0m     model\u001b[39m.\u001b[39;49mprepare()\n\u001b[1;32m      <a href='vscode-notebook-cell:/home/juanrloaiza/JournalMiningProject/latinamerican-philosophy-mining/notebooks/3-LDA-using-gensim.ipynb#ch0000017?line=6'>7</a>\u001b[0m     c \u001b[39m=\u001b[39m model\u001b[39m.\u001b[39mget_coherence()\n\u001b[1;32m      <a href='vscode-notebook-cell:/home/juanrloaiza/JournalMiningProject/latinamerican-philosophy-mining/notebooks/3-LDA-using-gensim.ipynb#ch0000017?line=7'>8</a>\u001b[0m     coherences\u001b[39m.\u001b[39mappend(c)\n",
      "File \u001b[0;32m~/JournalMiningProject/latinamerican-philosophy-mining/notebooks/utils/model.py:22\u001b[0m, in \u001b[0;36mModel.prepare\u001b[0;34m(self)\u001b[0m\n\u001b[1;32m     <a href='file:///home/juanrloaiza/JournalMiningProject/latinamerican-philosophy-mining/notebooks/utils/model.py?line=18'>19</a>\u001b[0m \u001b[39mdef\u001b[39;00m \u001b[39mprepare\u001b[39m(\u001b[39mself\u001b[39m):\n\u001b[1;32m     <a href='file:///home/juanrloaiza/JournalMiningProject/latinamerican-philosophy-mining/notebooks/utils/model.py?line=19'>20</a>\u001b[0m     corpus_bows \u001b[39m=\u001b[39m [\u001b[39mself\u001b[39m\u001b[39m.\u001b[39mid2word\u001b[39m.\u001b[39mdoc2bow(text) \u001b[39mfor\u001b[39;00m text \u001b[39min\u001b[39;00m \u001b[39mself\u001b[39m\u001b[39m.\u001b[39mtexts]\n\u001b[0;32m---> <a href='file:///home/juanrloaiza/JournalMiningProject/latinamerican-philosophy-mining/notebooks/utils/model.py?line=21'>22</a>\u001b[0m     \u001b[39mself\u001b[39m\u001b[39m.\u001b[39mlda \u001b[39m=\u001b[39m LdaMulticore(\n\u001b[1;32m     <a href='file:///home/juanrloaiza/JournalMiningProject/latinamerican-philosophy-mining/notebooks/utils/model.py?line=22'>23</a>\u001b[0m         corpus_bows, num_topics\u001b[39m=\u001b[39;49m\u001b[39mself\u001b[39;49m\u001b[39m.\u001b[39;49mnum_topics, id2word\u001b[39m=\u001b[39;49m\u001b[39mself\u001b[39;49m\u001b[39m.\u001b[39;49mid2word, passes\u001b[39m=\u001b[39;49m\u001b[39m15\u001b[39;49m,\n\u001b[1;32m     <a href='file:///home/juanrloaiza/JournalMiningProject/latinamerican-philosophy-mining/notebooks/utils/model.py?line=23'>24</a>\u001b[0m     )\n",
      "File \u001b[0;32m~/.miniconda3/envs/journal/lib/python3.9/site-packages/gensim/models/ldamulticore.py:186\u001b[0m, in \u001b[0;36mLdaMulticore.__init__\u001b[0;34m(self, corpus, num_topics, id2word, workers, chunksize, passes, batch, alpha, eta, decay, offset, eval_every, iterations, gamma_threshold, random_state, minimum_probability, minimum_phi_value, per_word_topics, dtype)\u001b[0m\n\u001b[1;32m    <a href='file:///home/juanrloaiza/.miniconda3/envs/journal/lib/python3.9/site-packages/gensim/models/ldamulticore.py?line=182'>183</a>\u001b[0m \u001b[39mif\u001b[39;00m \u001b[39misinstance\u001b[39m(alpha, \u001b[39mstr\u001b[39m) \u001b[39mand\u001b[39;00m alpha \u001b[39m==\u001b[39m \u001b[39m'\u001b[39m\u001b[39mauto\u001b[39m\u001b[39m'\u001b[39m:\n\u001b[1;32m    <a href='file:///home/juanrloaiza/.miniconda3/envs/journal/lib/python3.9/site-packages/gensim/models/ldamulticore.py?line=183'>184</a>\u001b[0m     \u001b[39mraise\u001b[39;00m \u001b[39mNotImplementedError\u001b[39;00m(\u001b[39m\"\u001b[39m\u001b[39mauto-tuning alpha not implemented in LdaMulticore; use plain LdaModel.\u001b[39m\u001b[39m\"\u001b[39m)\n\u001b[0;32m--> <a href='file:///home/juanrloaiza/.miniconda3/envs/journal/lib/python3.9/site-packages/gensim/models/ldamulticore.py?line=185'>186</a>\u001b[0m \u001b[39msuper\u001b[39;49m(LdaMulticore, \u001b[39mself\u001b[39;49m)\u001b[39m.\u001b[39;49m\u001b[39m__init__\u001b[39;49m(\n\u001b[1;32m    <a href='file:///home/juanrloaiza/.miniconda3/envs/journal/lib/python3.9/site-packages/gensim/models/ldamulticore.py?line=186'>187</a>\u001b[0m     corpus\u001b[39m=\u001b[39;49mcorpus, num_topics\u001b[39m=\u001b[39;49mnum_topics,\n\u001b[1;32m    <a href='file:///home/juanrloaiza/.miniconda3/envs/journal/lib/python3.9/site-packages/gensim/models/ldamulticore.py?line=187'>188</a>\u001b[0m     id2word\u001b[39m=\u001b[39;49mid2word, chunksize\u001b[39m=\u001b[39;49mchunksize, passes\u001b[39m=\u001b[39;49mpasses, alpha\u001b[39m=\u001b[39;49malpha, eta\u001b[39m=\u001b[39;49meta,\n\u001b[1;32m    <a href='file:///home/juanrloaiza/.miniconda3/envs/journal/lib/python3.9/site-packages/gensim/models/ldamulticore.py?line=188'>189</a>\u001b[0m     decay\u001b[39m=\u001b[39;49mdecay, offset\u001b[39m=\u001b[39;49moffset, eval_every\u001b[39m=\u001b[39;49meval_every, iterations\u001b[39m=\u001b[39;49miterations,\n\u001b[1;32m    <a href='file:///home/juanrloaiza/.miniconda3/envs/journal/lib/python3.9/site-packages/gensim/models/ldamulticore.py?line=189'>190</a>\u001b[0m     gamma_threshold\u001b[39m=\u001b[39;49mgamma_threshold, random_state\u001b[39m=\u001b[39;49mrandom_state, minimum_probability\u001b[39m=\u001b[39;49mminimum_probability,\n\u001b[1;32m    <a href='file:///home/juanrloaiza/.miniconda3/envs/journal/lib/python3.9/site-packages/gensim/models/ldamulticore.py?line=190'>191</a>\u001b[0m     minimum_phi_value\u001b[39m=\u001b[39;49mminimum_phi_value, per_word_topics\u001b[39m=\u001b[39;49mper_word_topics, dtype\u001b[39m=\u001b[39;49mdtype,\n\u001b[1;32m    <a href='file:///home/juanrloaiza/.miniconda3/envs/journal/lib/python3.9/site-packages/gensim/models/ldamulticore.py?line=191'>192</a>\u001b[0m )\n",
      "File \u001b[0;32m~/.miniconda3/envs/journal/lib/python3.9/site-packages/gensim/models/ldamodel.py:520\u001b[0m, in \u001b[0;36mLdaModel.__init__\u001b[0;34m(self, corpus, num_topics, id2word, distributed, chunksize, passes, update_every, alpha, eta, decay, offset, eval_every, iterations, gamma_threshold, minimum_probability, random_state, ns_conf, minimum_phi_value, per_word_topics, callbacks, dtype)\u001b[0m\n\u001b[1;32m    <a href='file:///home/juanrloaiza/.miniconda3/envs/journal/lib/python3.9/site-packages/gensim/models/ldamodel.py?line=517'>518</a>\u001b[0m use_numpy \u001b[39m=\u001b[39m \u001b[39mself\u001b[39m\u001b[39m.\u001b[39mdispatcher \u001b[39mis\u001b[39;00m \u001b[39mnot\u001b[39;00m \u001b[39mNone\u001b[39;00m\n\u001b[1;32m    <a href='file:///home/juanrloaiza/.miniconda3/envs/journal/lib/python3.9/site-packages/gensim/models/ldamodel.py?line=518'>519</a>\u001b[0m start \u001b[39m=\u001b[39m time\u001b[39m.\u001b[39mtime()\n\u001b[0;32m--> <a href='file:///home/juanrloaiza/.miniconda3/envs/journal/lib/python3.9/site-packages/gensim/models/ldamodel.py?line=519'>520</a>\u001b[0m \u001b[39mself\u001b[39;49m\u001b[39m.\u001b[39;49mupdate(corpus, chunks_as_numpy\u001b[39m=\u001b[39;49muse_numpy)\n\u001b[1;32m    <a href='file:///home/juanrloaiza/.miniconda3/envs/journal/lib/python3.9/site-packages/gensim/models/ldamodel.py?line=520'>521</a>\u001b[0m \u001b[39mself\u001b[39m\u001b[39m.\u001b[39madd_lifecycle_event(\n\u001b[1;32m    <a href='file:///home/juanrloaiza/.miniconda3/envs/journal/lib/python3.9/site-packages/gensim/models/ldamodel.py?line=521'>522</a>\u001b[0m     \u001b[39m\"\u001b[39m\u001b[39mcreated\u001b[39m\u001b[39m\"\u001b[39m,\n\u001b[1;32m    <a href='file:///home/juanrloaiza/.miniconda3/envs/journal/lib/python3.9/site-packages/gensim/models/ldamodel.py?line=522'>523</a>\u001b[0m     msg\u001b[39m=\u001b[39m\u001b[39mf\u001b[39m\u001b[39m\"\u001b[39m\u001b[39mtrained \u001b[39m\u001b[39m{\u001b[39;00m\u001b[39mself\u001b[39m\u001b[39m}\u001b[39;00m\u001b[39m in \u001b[39m\u001b[39m{\u001b[39;00mtime\u001b[39m.\u001b[39mtime() \u001b[39m-\u001b[39m start\u001b[39m:\u001b[39;00m\u001b[39m.2f\u001b[39m\u001b[39m}\u001b[39;00m\u001b[39ms\u001b[39m\u001b[39m\"\u001b[39m,\n\u001b[1;32m    <a href='file:///home/juanrloaiza/.miniconda3/envs/journal/lib/python3.9/site-packages/gensim/models/ldamodel.py?line=523'>524</a>\u001b[0m )\n",
      "File \u001b[0;32m~/.miniconda3/envs/journal/lib/python3.9/site-packages/gensim/models/ldamulticore.py:316\u001b[0m, in \u001b[0;36mLdaMulticore.update\u001b[0;34m(self, corpus, chunks_as_numpy)\u001b[0m\n\u001b[1;32m    <a href='file:///home/juanrloaiza/.miniconda3/envs/journal/lib/python3.9/site-packages/gensim/models/ldamulticore.py?line=311'>312</a>\u001b[0m \u001b[39m# endfor single corpus pass\u001b[39;00m\n\u001b[1;32m    <a href='file:///home/juanrloaiza/.miniconda3/envs/journal/lib/python3.9/site-packages/gensim/models/ldamulticore.py?line=312'>313</a>\u001b[0m \n\u001b[1;32m    <a href='file:///home/juanrloaiza/.miniconda3/envs/journal/lib/python3.9/site-packages/gensim/models/ldamulticore.py?line=313'>314</a>\u001b[0m \u001b[39m# wait for all outstanding jobs to finish\u001b[39;00m\n\u001b[1;32m    <a href='file:///home/juanrloaiza/.miniconda3/envs/journal/lib/python3.9/site-packages/gensim/models/ldamulticore.py?line=314'>315</a>\u001b[0m \u001b[39mwhile\u001b[39;00m queue_size[\u001b[39m0\u001b[39m] \u001b[39m>\u001b[39m \u001b[39m0\u001b[39m:\n\u001b[0;32m--> <a href='file:///home/juanrloaiza/.miniconda3/envs/journal/lib/python3.9/site-packages/gensim/models/ldamulticore.py?line=315'>316</a>\u001b[0m     process_result_queue(force\u001b[39m=\u001b[39;49m\u001b[39mTrue\u001b[39;49;00m)\n\u001b[1;32m    <a href='file:///home/juanrloaiza/.miniconda3/envs/journal/lib/python3.9/site-packages/gensim/models/ldamulticore.py?line=317'>318</a>\u001b[0m \u001b[39mif\u001b[39;00m reallen \u001b[39m!=\u001b[39m lencorpus:\n\u001b[1;32m    <a href='file:///home/juanrloaiza/.miniconda3/envs/journal/lib/python3.9/site-packages/gensim/models/ldamulticore.py?line=318'>319</a>\u001b[0m     \u001b[39mraise\u001b[39;00m \u001b[39mRuntimeError\u001b[39;00m(\u001b[39m\"\u001b[39m\u001b[39minput corpus size changed during training (don\u001b[39m\u001b[39m'\u001b[39m\u001b[39mt use generators as input)\u001b[39m\u001b[39m\"\u001b[39m)\n",
      "File \u001b[0;32m~/.miniconda3/envs/journal/lib/python3.9/site-packages/gensim/models/ldamulticore.py:274\u001b[0m, in \u001b[0;36mLdaMulticore.update.<locals>.process_result_queue\u001b[0;34m(force)\u001b[0m\n\u001b[1;32m    <a href='file:///home/juanrloaiza/.miniconda3/envs/journal/lib/python3.9/site-packages/gensim/models/ldamulticore.py?line=267'>268</a>\u001b[0m \u001b[39m\"\"\"\u001b[39;00m\n\u001b[1;32m    <a href='file:///home/juanrloaiza/.miniconda3/envs/journal/lib/python3.9/site-packages/gensim/models/ldamulticore.py?line=268'>269</a>\u001b[0m \u001b[39mClear the result queue, merging all intermediate results, and update the\u001b[39;00m\n\u001b[1;32m    <a href='file:///home/juanrloaiza/.miniconda3/envs/journal/lib/python3.9/site-packages/gensim/models/ldamulticore.py?line=269'>270</a>\u001b[0m \u001b[39mLDA model if necessary.\u001b[39;00m\n\u001b[1;32m    <a href='file:///home/juanrloaiza/.miniconda3/envs/journal/lib/python3.9/site-packages/gensim/models/ldamulticore.py?line=270'>271</a>\u001b[0m \n\u001b[1;32m    <a href='file:///home/juanrloaiza/.miniconda3/envs/journal/lib/python3.9/site-packages/gensim/models/ldamulticore.py?line=271'>272</a>\u001b[0m \u001b[39m\"\"\"\u001b[39;00m\n\u001b[1;32m    <a href='file:///home/juanrloaiza/.miniconda3/envs/journal/lib/python3.9/site-packages/gensim/models/ldamulticore.py?line=272'>273</a>\u001b[0m merged_new \u001b[39m=\u001b[39m \u001b[39mFalse\u001b[39;00m\n\u001b[0;32m--> <a href='file:///home/juanrloaiza/.miniconda3/envs/journal/lib/python3.9/site-packages/gensim/models/ldamulticore.py?line=273'>274</a>\u001b[0m \u001b[39mwhile\u001b[39;00m \u001b[39mnot\u001b[39;00m result_queue\u001b[39m.\u001b[39;49mempty():\n\u001b[1;32m    <a href='file:///home/juanrloaiza/.miniconda3/envs/journal/lib/python3.9/site-packages/gensim/models/ldamulticore.py?line=274'>275</a>\u001b[0m     other\u001b[39m.\u001b[39mmerge(result_queue\u001b[39m.\u001b[39mget())\n\u001b[1;32m    <a href='file:///home/juanrloaiza/.miniconda3/envs/journal/lib/python3.9/site-packages/gensim/models/ldamulticore.py?line=275'>276</a>\u001b[0m     queue_size[\u001b[39m0\u001b[39m] \u001b[39m-\u001b[39m\u001b[39m=\u001b[39m \u001b[39m1\u001b[39m\n",
      "File \u001b[0;32m~/.miniconda3/envs/journal/lib/python3.9/multiprocessing/queues.py:129\u001b[0m, in \u001b[0;36mQueue.empty\u001b[0;34m(self)\u001b[0m\n\u001b[1;32m    <a href='file:///home/juanrloaiza/.miniconda3/envs/journal/lib/python3.9/multiprocessing/queues.py?line=127'>128</a>\u001b[0m \u001b[39mdef\u001b[39;00m \u001b[39mempty\u001b[39m(\u001b[39mself\u001b[39m):\n\u001b[0;32m--> <a href='file:///home/juanrloaiza/.miniconda3/envs/journal/lib/python3.9/multiprocessing/queues.py?line=128'>129</a>\u001b[0m     \u001b[39mreturn\u001b[39;00m \u001b[39mnot\u001b[39;00m \u001b[39mself\u001b[39;49m\u001b[39m.\u001b[39;49m_poll()\n",
      "File \u001b[0;32m~/.miniconda3/envs/journal/lib/python3.9/multiprocessing/connection.py:262\u001b[0m, in \u001b[0;36m_ConnectionBase.poll\u001b[0;34m(self, timeout)\u001b[0m\n\u001b[1;32m    <a href='file:///home/juanrloaiza/.miniconda3/envs/journal/lib/python3.9/multiprocessing/connection.py?line=259'>260</a>\u001b[0m \u001b[39mself\u001b[39m\u001b[39m.\u001b[39m_check_closed()\n\u001b[1;32m    <a href='file:///home/juanrloaiza/.miniconda3/envs/journal/lib/python3.9/multiprocessing/connection.py?line=260'>261</a>\u001b[0m \u001b[39mself\u001b[39m\u001b[39m.\u001b[39m_check_readable()\n\u001b[0;32m--> <a href='file:///home/juanrloaiza/.miniconda3/envs/journal/lib/python3.9/multiprocessing/connection.py?line=261'>262</a>\u001b[0m \u001b[39mreturn\u001b[39;00m \u001b[39mself\u001b[39;49m\u001b[39m.\u001b[39;49m_poll(timeout)\n",
      "File \u001b[0;32m~/.miniconda3/envs/journal/lib/python3.9/multiprocessing/connection.py:429\u001b[0m, in \u001b[0;36mConnection._poll\u001b[0;34m(self, timeout)\u001b[0m\n\u001b[1;32m    <a href='file:///home/juanrloaiza/.miniconda3/envs/journal/lib/python3.9/multiprocessing/connection.py?line=427'>428</a>\u001b[0m \u001b[39mdef\u001b[39;00m \u001b[39m_poll\u001b[39m(\u001b[39mself\u001b[39m, timeout):\n\u001b[0;32m--> <a href='file:///home/juanrloaiza/.miniconda3/envs/journal/lib/python3.9/multiprocessing/connection.py?line=428'>429</a>\u001b[0m     r \u001b[39m=\u001b[39m wait([\u001b[39mself\u001b[39;49m], timeout)\n\u001b[1;32m    <a href='file:///home/juanrloaiza/.miniconda3/envs/journal/lib/python3.9/multiprocessing/connection.py?line=429'>430</a>\u001b[0m     \u001b[39mreturn\u001b[39;00m \u001b[39mbool\u001b[39m(r)\n",
      "File \u001b[0;32m~/.miniconda3/envs/journal/lib/python3.9/multiprocessing/connection.py:930\u001b[0m, in \u001b[0;36mwait\u001b[0;34m(object_list, timeout)\u001b[0m\n\u001b[1;32m    <a href='file:///home/juanrloaiza/.miniconda3/envs/journal/lib/python3.9/multiprocessing/connection.py?line=927'>928</a>\u001b[0m \u001b[39mwith\u001b[39;00m _WaitSelector() \u001b[39mas\u001b[39;00m selector:\n\u001b[1;32m    <a href='file:///home/juanrloaiza/.miniconda3/envs/journal/lib/python3.9/multiprocessing/connection.py?line=928'>929</a>\u001b[0m     \u001b[39mfor\u001b[39;00m obj \u001b[39min\u001b[39;00m object_list:\n\u001b[0;32m--> <a href='file:///home/juanrloaiza/.miniconda3/envs/journal/lib/python3.9/multiprocessing/connection.py?line=929'>930</a>\u001b[0m         selector\u001b[39m.\u001b[39;49mregister(obj, selectors\u001b[39m.\u001b[39;49mEVENT_READ)\n\u001b[1;32m    <a href='file:///home/juanrloaiza/.miniconda3/envs/journal/lib/python3.9/multiprocessing/connection.py?line=931'>932</a>\u001b[0m     \u001b[39mif\u001b[39;00m timeout \u001b[39mis\u001b[39;00m \u001b[39mnot\u001b[39;00m \u001b[39mNone\u001b[39;00m:\n\u001b[1;32m    <a href='file:///home/juanrloaiza/.miniconda3/envs/journal/lib/python3.9/multiprocessing/connection.py?line=932'>933</a>\u001b[0m         deadline \u001b[39m=\u001b[39m time\u001b[39m.\u001b[39mmonotonic() \u001b[39m+\u001b[39m timeout\n",
      "File \u001b[0;32m~/.miniconda3/envs/journal/lib/python3.9/selectors.py:353\u001b[0m, in \u001b[0;36m_PollLikeSelector.register\u001b[0;34m(self, fileobj, events, data)\u001b[0m\n\u001b[1;32m    <a href='file:///home/juanrloaiza/.miniconda3/envs/journal/lib/python3.9/selectors.py?line=351'>352</a>\u001b[0m \u001b[39mdef\u001b[39;00m \u001b[39mregister\u001b[39m(\u001b[39mself\u001b[39m, fileobj, events, data\u001b[39m=\u001b[39m\u001b[39mNone\u001b[39;00m):\n\u001b[0;32m--> <a href='file:///home/juanrloaiza/.miniconda3/envs/journal/lib/python3.9/selectors.py?line=352'>353</a>\u001b[0m     key \u001b[39m=\u001b[39m \u001b[39msuper\u001b[39;49m()\u001b[39m.\u001b[39;49mregister(fileobj, events, data)\n\u001b[1;32m    <a href='file:///home/juanrloaiza/.miniconda3/envs/journal/lib/python3.9/selectors.py?line=353'>354</a>\u001b[0m     poller_events \u001b[39m=\u001b[39m \u001b[39m0\u001b[39m\n\u001b[1;32m    <a href='file:///home/juanrloaiza/.miniconda3/envs/journal/lib/python3.9/selectors.py?line=354'>355</a>\u001b[0m     \u001b[39mif\u001b[39;00m events \u001b[39m&\u001b[39m EVENT_READ:\n",
      "File \u001b[0;32m~/.miniconda3/envs/journal/lib/python3.9/selectors.py:239\u001b[0m, in \u001b[0;36m_BaseSelectorImpl.register\u001b[0;34m(self, fileobj, events, data)\u001b[0m\n\u001b[1;32m    <a href='file:///home/juanrloaiza/.miniconda3/envs/journal/lib/python3.9/selectors.py?line=235'>236</a>\u001b[0m \u001b[39mif\u001b[39;00m (\u001b[39mnot\u001b[39;00m events) \u001b[39mor\u001b[39;00m (events \u001b[39m&\u001b[39m \u001b[39m~\u001b[39m(EVENT_READ \u001b[39m|\u001b[39m EVENT_WRITE)):\n\u001b[1;32m    <a href='file:///home/juanrloaiza/.miniconda3/envs/journal/lib/python3.9/selectors.py?line=236'>237</a>\u001b[0m     \u001b[39mraise\u001b[39;00m \u001b[39mValueError\u001b[39;00m(\u001b[39m\"\u001b[39m\u001b[39mInvalid events: \u001b[39m\u001b[39m{!r}\u001b[39;00m\u001b[39m\"\u001b[39m\u001b[39m.\u001b[39mformat(events))\n\u001b[0;32m--> <a href='file:///home/juanrloaiza/.miniconda3/envs/journal/lib/python3.9/selectors.py?line=238'>239</a>\u001b[0m key \u001b[39m=\u001b[39m SelectorKey(fileobj, \u001b[39mself\u001b[39;49m\u001b[39m.\u001b[39;49m_fileobj_lookup(fileobj), events, data)\n\u001b[1;32m    <a href='file:///home/juanrloaiza/.miniconda3/envs/journal/lib/python3.9/selectors.py?line=240'>241</a>\u001b[0m \u001b[39mif\u001b[39;00m key\u001b[39m.\u001b[39mfd \u001b[39min\u001b[39;00m \u001b[39mself\u001b[39m\u001b[39m.\u001b[39m_fd_to_key:\n\u001b[1;32m    <a href='file:///home/juanrloaiza/.miniconda3/envs/journal/lib/python3.9/selectors.py?line=241'>242</a>\u001b[0m     \u001b[39mraise\u001b[39;00m \u001b[39mKeyError\u001b[39;00m(\u001b[39m\"\u001b[39m\u001b[39m{!r}\u001b[39;00m\u001b[39m (FD \u001b[39m\u001b[39m{}\u001b[39;00m\u001b[39m) is already registered\u001b[39m\u001b[39m\"\u001b[39m\n\u001b[1;32m    <a href='file:///home/juanrloaiza/.miniconda3/envs/journal/lib/python3.9/selectors.py?line=242'>243</a>\u001b[0m                    \u001b[39m.\u001b[39mformat(fileobj, key\u001b[39m.\u001b[39mfd))\n",
      "File \u001b[0;32m<string>:1\u001b[0m, in \u001b[0;36m<lambda>\u001b[0;34m(_cls, fileobj, fd, events, data)\u001b[0m\n",
      "\u001b[0;31mKeyboardInterrupt\u001b[0m: "
     ]
    }
   ],
   "source": [
    "coherence_per_topics = {}\n",
    "for n_topics in range(10, 200, 10):\n",
    "    coherences = []\n",
    "    for _ in range(3):\n",
    "        model = Model(corpus, n_topics)\n",
    "        model.prepare()\n",
    "        c = model.get_coherence()\n",
    "        coherences.append(c)\n",
    "        print(f'Topics: {n_topics}. Coherence Score: {c}')\n",
    "    coherence_per_topics[n_topics] = coherences"
   ]
  },
  {
   "cell_type": "code",
   "execution_count": 9,
   "metadata": {},
   "outputs": [
    {
     "data": {
      "text/plain": [
       "[<matplotlib.lines.Line2D at 0x7f1ff8ad61f0>,\n",
       " <matplotlib.lines.Line2D at 0x7f1ff8ad6310>,\n",
       " <matplotlib.lines.Line2D at 0x7f1ff8ad6430>]"
      ]
     },
     "execution_count": 9,
     "metadata": {},
     "output_type": "execute_result"
    },
    {
     "data": {
      "image/png": "[encoded data removed]",
      "text/plain": [
       "<Figure size 432x288 with 1 Axes>"
      ]
     },
     "metadata": {
      "needs_background": "light"
     },
     "output_type": "display_data"
    }
   ],
   "source": [
    "import numpy as np\n",
    "import matplotlib.pyplot as plt\n",
    "\n",
    "x = list(coherence_per_topics.keys())\n",
    "y = [coherence_per_topics[n] for n in x]\n",
    "\n",
    "plt.plot(x, y, \"--r\")"
   ]
  },
  {
   "cell_type": "markdown",
   "metadata": {},
   "source": [
    "As we can see, the coherence moves between 0.39 and 0.43. The optimal amount of topics seems to be upwards of 100 topics. However, we will run this same gridsearch, but storing more metadata about each model (such as: amount of documents per topic, and time it takes to train)"
   ]
  },
  {
   "cell_type": "markdown",
   "metadata": {},
   "source": [
    "## Running a more complete grid-search"
   ]
  },
  {
   "cell_type": "markdown",
   "metadata": {},
   "source": [
    "TODO: Run it again after addressing this comment: https://github.com/RaRe-Technologies/gensim/issues/2115#issuecomment-443113360"
   ]
  },
  {
   "cell_type": "code",
   "execution_count": 12,
   "metadata": {},
   "outputs": [],
   "source": [
    "def gridsearch(min_topics, max_topics, step, iterations=3, verbose=True):\n",
    "    \"\"\"\n",
    "    Computes an array like this:\n",
    "    experiment = {\n",
    "        n_topics: {\n",
    "            0: get_metadata(n_topics),\n",
    "            1: get_metadata(n_topics),\n",
    "            ...\n",
    "            iterations - 1: get_metadata(n_topics)\n",
    "        }\n",
    "    }\n",
    "    and we expect all these inner get_metadata to be slightly different\n",
    "    due to stochasticity in the models.\n",
    "    \n",
    "    TODO: document better.\n",
    "    \"\"\"\n",
    "    experiment = {}\n",
    "    for n_topics in range(min_topics, max_topics, step):\n",
    "        experiment[n_topics] = {}\n",
    "        for i in range(iterations):\n",
    "            if verbose:\n",
    "                print(f\"Iteration: {i}\")\n",
    "            \n",
    "            model = Model(corpus, n_topics)\n",
    "            model.prepare()\n",
    "            metadata = model.get_stats()\n",
    "            experiment[n_topics][i] = metadata\n",
    "\n",
    "    return experiment"
   ]
  },
  {
   "cell_type": "markdown",
   "metadata": {},
   "source": [
    "**Careful:** this gridsearch can take a whole evening."
   ]
  },
  {
   "cell_type": "code",
   "execution_count": 17,
   "metadata": {
    "scrolled": true
   },
   "outputs": [
    {
     "name": "stdout",
     "output_type": "stream",
     "text": [
      "Iteration: 0\n",
      "Training an LDA model with 80.\n",
      "Time elapsed: 472.41s\n",
      "Training the coherence model with 80.\n",
      "Time elapsed: 132.66102647781372\n",
      "For 80:\n",
      "\tCoherence: 0.40734418775746484\n",
      "\tLog Perplexity: -12.361103083588683\n",
      "Stats on topics:\n",
      "\tAverage number of docs per topic: 12.31\n",
      "\tStandard deviation: 23.57\n",
      "---\n",
      "Iteration: 1\n",
      "Training an LDA model with 80.\n",
      "Time elapsed: 491.94s\n",
      "Training the coherence model with 80.\n",
      "Time elapsed: 134.31068229675293\n",
      "For 80:\n",
      "\tCoherence: 0.4156170568292136\n",
      "\tLog Perplexity: -12.311435930785082\n",
      "Stats on topics:\n",
      "\tAverage number of docs per topic: 12.69\n",
      "\tStandard deviation: 31.56\n",
      "---\n",
      "Iteration: 2\n",
      "Training an LDA model with 80.\n",
      "Time elapsed: 480.89s\n",
      "Training the coherence model with 80.\n",
      "Time elapsed: 131.47425532341003\n",
      "For 80:\n",
      "\tCoherence: 0.40441719240449225\n",
      "\tLog Perplexity: -12.279931317269778\n",
      "Stats on topics:\n",
      "\tAverage number of docs per topic: 12.89\n",
      "\tStandard deviation: 30.44\n",
      "---\n",
      "Iteration: 0\n",
      "Training an LDA model with 90.\n",
      "Time elapsed: 608.53s\n",
      "Training the coherence model with 90.\n",
      "Time elapsed: 165.0283031463623\n",
      "For 90:\n",
      "\tCoherence: 0.40396578313028414\n",
      "\tLog Perplexity: -12.89833817392079\n",
      "Stats on topics:\n",
      "\tAverage number of docs per topic: 12.50\n",
      "\tStandard deviation: 26.64\n",
      "---\n",
      "Iteration: 1\n",
      "Training an LDA model with 90.\n",
      "Time elapsed: 633.74s\n",
      "Training the coherence model with 90.\n",
      "Time elapsed: 158.09878778457642\n",
      "For 90:\n",
      "\tCoherence: 0.4142499058191988\n",
      "\tLog Perplexity: -12.944922334810514\n",
      "Stats on topics:\n",
      "\tAverage number of docs per topic: 12.50\n",
      "\tStandard deviation: 31.99\n",
      "---\n",
      "Iteration: 2\n",
      "Training an LDA model with 90.\n",
      "Time elapsed: 631.92s\n",
      "Training the coherence model with 90.\n",
      "Time elapsed: 154.3802034854889\n",
      "For 90:\n",
      "\tCoherence: 0.3924326807497464\n",
      "\tLog Perplexity: -12.822127591651324\n",
      "Stats on topics:\n",
      "\tAverage number of docs per topic: 12.89\n",
      "\tStandard deviation: 55.00\n",
      "---\n",
      "Iteration: 0\n",
      "Training an LDA model with 100.\n",
      "Time elapsed: 442.98s\n",
      "Training the coherence model with 100.\n",
      "No topic for article Matthias Vollet (2007/05/01). Aristóteles y la economía entre los límites de la razón práctica. 56(134)\n",
      "No topic for article Irina Vaskes (2007/05/01). La axiomática estética: deconstrucción. 56(134)\n",
      "No topic for article Francisco Miro Quesada (1962/01/01). Fundamentación metafísica y fundamentación lógico-axiológica de la praxis política. 4(13)\n",
      "No topic for article Nicolás Vaughan (2007/05/01). ¿Por qué Leibniz requiere del tiempo absoluto?. 56(134)\n",
      "No topic for article Raúl Alberto Milone (2007/09/01). Lebenswelt husserliana y concepción semántica de las teorías. 56(135)\n",
      "No topic for article Tupac Cruz (2007/09/01). Urphänomen y su transposición: Benjamin y el idealismo goetheano. 56(135)\n",
      "No topic for article Andrés Crelier (2007/05/01). Los aspectos éticos de la comunidad en Charles S. Peirce. 56(134)\n",
      "No topic for article Luis Villavicencio (2007/09/01). La concepción política de la persona y las visiones constitutivas del bien. 56(135)\n",
      "No topic for article Carlos García (2007/09/01). Casos Gettier y razonadores normales. 56(135)\n",
      "Time elapsed: 170.6235556602478\n",
      "For 100:\n",
      "\tCoherence: 0.41512248929544804\n",
      "\tLog Perplexity: -13.516516391946443\n",
      "Stats on topics:\n",
      "\tAverage number of docs per topic: 11.15\n",
      "\tStandard deviation: 23.71\n",
      "---\n",
      "Iteration: 1\n",
      "Training an LDA model with 100.\n",
      "Time elapsed: 456.64s\n",
      "Training the coherence model with 100.\n",
      "No topic for article Matthias Vollet (2007/05/01). Aristóteles y la economía entre los límites de la razón práctica. 56(134)\n",
      "No topic for article Irina Vaskes (2007/05/01). La axiomática estética: deconstrucción. 56(134)\n",
      "No topic for article Francisco Miro Quesada (1962/01/01). Fundamentación metafísica y fundamentación lógico-axiológica de la praxis política. 4(13)\n",
      "No topic for article Nicolás Vaughan (2007/05/01). ¿Por qué Leibniz requiere del tiempo absoluto?. 56(134)\n",
      "No topic for article Raúl Alberto Milone (2007/09/01). Lebenswelt husserliana y concepción semántica de las teorías. 56(135)\n",
      "No topic for article Tupac Cruz (2007/09/01). Urphänomen y su transposición: Benjamin y el idealismo goetheano. 56(135)\n",
      "No topic for article Andrés Crelier (2007/05/01). Los aspectos éticos de la comunidad en Charles S. Peirce. 56(134)\n",
      "No topic for article Luis Villavicencio (2007/09/01). La concepción política de la persona y las visiones constitutivas del bien. 56(135)\n",
      "No topic for article Carlos García (2007/09/01). Casos Gettier y razonadores normales. 56(135)\n",
      "Time elapsed: 159.5827293395996\n",
      "For 100:\n",
      "\tCoherence: 0.4061810020390404\n",
      "\tLog Perplexity: -13.482579484560642\n",
      "Stats on topics:\n",
      "\tAverage number of docs per topic: 10.71\n",
      "\tStandard deviation: 21.93\n",
      "---\n",
      "Iteration: 2\n",
      "Training an LDA model with 100.\n",
      "Time elapsed: 441.06s\n",
      "Training the coherence model with 100.\n",
      "No topic for article Matthias Vollet (2007/05/01). Aristóteles y la economía entre los límites de la razón práctica. 56(134)\n",
      "No topic for article Irina Vaskes (2007/05/01). La axiomática estética: deconstrucción. 56(134)\n",
      "No topic for article Francisco Miro Quesada (1962/01/01). Fundamentación metafísica y fundamentación lógico-axiológica de la praxis política. 4(13)\n",
      "No topic for article Nicolás Vaughan (2007/05/01). ¿Por qué Leibniz requiere del tiempo absoluto?. 56(134)\n",
      "No topic for article Raúl Alberto Milone (2007/09/01). Lebenswelt husserliana y concepción semántica de las teorías. 56(135)\n",
      "No topic for article Tupac Cruz (2007/09/01). Urphänomen y su transposición: Benjamin y el idealismo goetheano. 56(135)\n",
      "No topic for article Andrés Crelier (2007/05/01). Los aspectos éticos de la comunidad en Charles S. Peirce. 56(134)\n",
      "No topic for article Luis Villavicencio (2007/09/01). La concepción política de la persona y las visiones constitutivas del bien. 56(135)\n",
      "No topic for article Carlos García (2007/09/01). Casos Gettier y razonadores normales. 56(135)\n",
      "Time elapsed: 162.98852586746216\n",
      "For 100:\n",
      "\tCoherence: 0.4142257618649714\n",
      "\tLog Perplexity: -13.615129129988325\n",
      "Stats on topics:\n",
      "\tAverage number of docs per topic: 10.31\n",
      "\tStandard deviation: 24.72\n",
      "---\n",
      "Iteration: 0\n",
      "Training an LDA model with 110.\n",
      "Time elapsed: 436.03s\n",
      "Training the coherence model with 110.\n",
      "No topic for article Matthias Vollet (2007/05/01). Aristóteles y la economía entre los límites de la razón práctica. 56(134)\n",
      "No topic for article Irina Vaskes (2007/05/01). La axiomática estética: deconstrucción. 56(134)\n",
      "No topic for article Francisco Miro Quesada (1962/01/01). Fundamentación metafísica y fundamentación lógico-axiológica de la praxis política. 4(13)\n",
      "No topic for article Nicolás Vaughan (2007/05/01). ¿Por qué Leibniz requiere del tiempo absoluto?. 56(134)\n",
      "No topic for article Raúl Alberto Milone (2007/09/01). Lebenswelt husserliana y concepción semántica de las teorías. 56(135)\n",
      "No topic for article Tupac Cruz (2007/09/01). Urphänomen y su transposición: Benjamin y el idealismo goetheano. 56(135)\n",
      "No topic for article Andrés Crelier (2007/05/01). Los aspectos éticos de la comunidad en Charles S. Peirce. 56(134)\n",
      "No topic for article Luis Villavicencio (2007/09/01). La concepción política de la persona y las visiones constitutivas del bien. 56(135)\n",
      "No topic for article Carlos García (2007/09/01). Casos Gettier y razonadores normales. 56(135)\n",
      "Time elapsed: 174.36016201972961\n",
      "For 110:\n",
      "\tCoherence: 0.4307494044736551\n",
      "\tLog Perplexity: -14.23425893518086\n",
      "Stats on topics:\n",
      "\tAverage number of docs per topic: 9.71\n",
      "\tStandard deviation: 20.20\n",
      "---\n",
      "Iteration: 1\n",
      "Training an LDA model with 110.\n",
      "Time elapsed: 440.60s\n",
      "Training the coherence model with 110.\n",
      "No topic for article Matthias Vollet (2007/05/01). Aristóteles y la economía entre los límites de la razón práctica. 56(134)\n",
      "No topic for article Irina Vaskes (2007/05/01). La axiomática estética: deconstrucción. 56(134)\n",
      "No topic for article Francisco Miro Quesada (1962/01/01). Fundamentación metafísica y fundamentación lógico-axiológica de la praxis política. 4(13)\n",
      "No topic for article Nicolás Vaughan (2007/05/01). ¿Por qué Leibniz requiere del tiempo absoluto?. 56(134)\n",
      "No topic for article Raúl Alberto Milone (2007/09/01). Lebenswelt husserliana y concepción semántica de las teorías. 56(135)\n",
      "No topic for article Tupac Cruz (2007/09/01). Urphänomen y su transposición: Benjamin y el idealismo goetheano. 56(135)\n",
      "No topic for article Andrés Crelier (2007/05/01). Los aspectos éticos de la comunidad en Charles S. Peirce. 56(134)\n"
     ]
    },
    {
     "name": "stdout",
     "output_type": "stream",
     "text": [
      "No topic for article Luis Villavicencio (2007/09/01). La concepción política de la persona y las visiones constitutivas del bien. 56(135)\n",
      "No topic for article Carlos García (2007/09/01). Casos Gettier y razonadores normales. 56(135)\n",
      "Time elapsed: 165.0029718875885\n",
      "For 110:\n",
      "\tCoherence: 0.450019212818261\n",
      "\tLog Perplexity: -14.079334907717644\n",
      "Stats on topics:\n",
      "\tAverage number of docs per topic: 10.58\n",
      "\tStandard deviation: 32.90\n",
      "---\n",
      "Iteration: 2\n",
      "Training an LDA model with 110.\n",
      "Time elapsed: 432.70s\n",
      "Training the coherence model with 110.\n",
      "No topic for article Matthias Vollet (2007/05/01). Aristóteles y la economía entre los límites de la razón práctica. 56(134)\n",
      "No topic for article Irina Vaskes (2007/05/01). La axiomática estética: deconstrucción. 56(134)\n",
      "No topic for article Francisco Miro Quesada (1962/01/01). Fundamentación metafísica y fundamentación lógico-axiológica de la praxis política. 4(13)\n",
      "No topic for article Nicolás Vaughan (2007/05/01). ¿Por qué Leibniz requiere del tiempo absoluto?. 56(134)\n",
      "No topic for article Raúl Alberto Milone (2007/09/01). Lebenswelt husserliana y concepción semántica de las teorías. 56(135)\n",
      "No topic for article Tupac Cruz (2007/09/01). Urphänomen y su transposición: Benjamin y el idealismo goetheano. 56(135)\n",
      "No topic for article Andrés Crelier (2007/05/01). Los aspectos éticos de la comunidad en Charles S. Peirce. 56(134)\n",
      "No topic for article Luis Villavicencio (2007/09/01). La concepción política de la persona y las visiones constitutivas del bien. 56(135)\n",
      "No topic for article Carlos García (2007/09/01). Casos Gettier y razonadores normales. 56(135)\n",
      "Time elapsed: 194.4419403076172\n",
      "For 110:\n",
      "\tCoherence: 0.4292894259495535\n",
      "\tLog Perplexity: -14.067527065613868\n",
      "Stats on topics:\n",
      "\tAverage number of docs per topic: 11.62\n",
      "\tStandard deviation: 25.50\n",
      "---\n",
      "Iteration: 0\n",
      "Training an LDA model with 120.\n",
      "Time elapsed: 457.01s\n",
      "Training the coherence model with 120.\n",
      "No topic for article Matthias Vollet (2007/05/01). Aristóteles y la economía entre los límites de la razón práctica. 56(134)\n",
      "No topic for article Irina Vaskes (2007/05/01). La axiomática estética: deconstrucción. 56(134)\n",
      "No topic for article Francisco Miro Quesada (1962/01/01). Fundamentación metafísica y fundamentación lógico-axiológica de la praxis política. 4(13)\n",
      "No topic for article Nicolás Vaughan (2007/05/01). ¿Por qué Leibniz requiere del tiempo absoluto?. 56(134)\n",
      "No topic for article Raúl Alberto Milone (2007/09/01). Lebenswelt husserliana y concepción semántica de las teorías. 56(135)\n",
      "No topic for article Tupac Cruz (2007/09/01). Urphänomen y su transposición: Benjamin y el idealismo goetheano. 56(135)\n",
      "No topic for article Andrés Crelier (2007/05/01). Los aspectos éticos de la comunidad en Charles S. Peirce. 56(134)\n",
      "No topic for article Luis Villavicencio (2007/09/01). La concepción política de la persona y las visiones constitutivas del bien. 56(135)\n",
      "No topic for article Carlos García (2007/09/01). Casos Gettier y razonadores normales. 56(135)\n",
      "Time elapsed: 168.5890657901764\n",
      "For 120:\n",
      "\tCoherence: 0.40539053165859257\n",
      "\tLog Perplexity: -14.802403578232536\n",
      "Stats on topics:\n",
      "\tAverage number of docs per topic: 9.71\n",
      "\tStandard deviation: 21.88\n",
      "---\n",
      "Iteration: 1\n",
      "Training an LDA model with 120.\n",
      "Time elapsed: 402.55s\n",
      "Training the coherence model with 120.\n",
      "No topic for article Matthias Vollet (2007/05/01). Aristóteles y la economía entre los límites de la razón práctica. 56(134)\n",
      "No topic for article Irina Vaskes (2007/05/01). La axiomática estética: deconstrucción. 56(134)\n",
      "No topic for article Francisco Miro Quesada (1962/01/01). Fundamentación metafísica y fundamentación lógico-axiológica de la praxis política. 4(13)\n",
      "No topic for article Nicolás Vaughan (2007/05/01). ¿Por qué Leibniz requiere del tiempo absoluto?. 56(134)\n",
      "No topic for article Raúl Alberto Milone (2007/09/01). Lebenswelt husserliana y concepción semántica de las teorías. 56(135)\n",
      "No topic for article Tupac Cruz (2007/09/01). Urphänomen y su transposición: Benjamin y el idealismo goetheano. 56(135)\n",
      "No topic for article Andrés Crelier (2007/05/01). Los aspectos éticos de la comunidad en Charles S. Peirce. 56(134)\n",
      "No topic for article Luis Villavicencio (2007/09/01). La concepción política de la persona y las visiones constitutivas del bien. 56(135)\n",
      "No topic for article Carlos García (2007/09/01). Casos Gettier y razonadores normales. 56(135)\n",
      "Time elapsed: 175.8276767730713\n",
      "For 120:\n",
      "\tCoherence: 0.4303643967045989\n",
      "\tLog Perplexity: -14.815407550694887\n",
      "Stats on topics:\n",
      "\tAverage number of docs per topic: 9.59\n",
      "\tStandard deviation: 18.25\n",
      "---\n",
      "Iteration: 2\n",
      "Training an LDA model with 120.\n",
      "Time elapsed: 402.73s\n",
      "Training the coherence model with 120.\n",
      "No topic for article Matthias Vollet (2007/05/01). Aristóteles y la economía entre los límites de la razón práctica. 56(134)\n",
      "No topic for article Irina Vaskes (2007/05/01). La axiomática estética: deconstrucción. 56(134)\n",
      "No topic for article Francisco Miro Quesada (1962/01/01). Fundamentación metafísica y fundamentación lógico-axiológica de la praxis política. 4(13)\n",
      "No topic for article Nicolás Vaughan (2007/05/01). ¿Por qué Leibniz requiere del tiempo absoluto?. 56(134)\n",
      "No topic for article Raúl Alberto Milone (2007/09/01). Lebenswelt husserliana y concepción semántica de las teorías. 56(135)\n",
      "No topic for article Tupac Cruz (2007/09/01). Urphänomen y su transposición: Benjamin y el idealismo goetheano. 56(135)\n",
      "No topic for article Andrés Crelier (2007/05/01). Los aspectos éticos de la comunidad en Charles S. Peirce. 56(134)\n",
      "No topic for article Luis Villavicencio (2007/09/01). La concepción política de la persona y las visiones constitutivas del bien. 56(135)\n",
      "No topic for article Carlos García (2007/09/01). Casos Gettier y razonadores normales. 56(135)\n",
      "Time elapsed: 170.852530002594\n",
      "For 120:\n",
      "\tCoherence: 0.42413463496587944\n",
      "\tLog Perplexity: -14.602361110136583\n",
      "Stats on topics:\n",
      "\tAverage number of docs per topic: 11.15\n",
      "\tStandard deviation: 48.95\n",
      "---\n",
      "Iteration: 0\n",
      "Training an LDA model with 130.\n",
      "Time elapsed: 418.53s\n",
      "Training the coherence model with 130.\n",
      "No topic for article Matthias Vollet (2007/05/01). Aristóteles y la economía entre los límites de la razón práctica. 56(134)\n",
      "No topic for article Irina Vaskes (2007/05/01). La axiomática estética: deconstrucción. 56(134)\n",
      "No topic for article Francisco Miro Quesada (1962/01/01). Fundamentación metafísica y fundamentación lógico-axiológica de la praxis política. 4(13)\n",
      "No topic for article Nicolás Vaughan (2007/05/01). ¿Por qué Leibniz requiere del tiempo absoluto?. 56(134)\n",
      "No topic for article Raúl Alberto Milone (2007/09/01). Lebenswelt husserliana y concepción semántica de las teorías. 56(135)\n",
      "No topic for article Tupac Cruz (2007/09/01). Urphänomen y su transposición: Benjamin y el idealismo goetheano. 56(135)\n",
      "No topic for article Andrés Crelier (2007/05/01). Los aspectos éticos de la comunidad en Charles S. Peirce. 56(134)\n",
      "No topic for article Luis Villavicencio (2007/09/01). La concepción política de la persona y las visiones constitutivas del bien. 56(135)\n",
      "No topic for article Carlos García (2007/09/01). Casos Gettier y razonadores normales. 56(135)\n",
      "Time elapsed: 161.47965288162231\n",
      "For 130:\n",
      "\tCoherence: 0.4407521396112862\n",
      "\tLog Perplexity: -15.449763900788847\n",
      "Stats on topics:\n",
      "\tAverage number of docs per topic: 9.38\n",
      "\tStandard deviation: 27.56\n",
      "---\n",
      "Iteration: 1\n",
      "Training an LDA model with 130.\n",
      "Time elapsed: 458.62s\n",
      "Training the coherence model with 130.\n",
      "No topic for article Matthias Vollet (2007/05/01). Aristóteles y la economía entre los límites de la razón práctica. 56(134)\n",
      "No topic for article Irina Vaskes (2007/05/01). La axiomática estética: deconstrucción. 56(134)\n",
      "No topic for article Francisco Miro Quesada (1962/01/01). Fundamentación metafísica y fundamentación lógico-axiológica de la praxis política. 4(13)\n",
      "No topic for article Nicolás Vaughan (2007/05/01). ¿Por qué Leibniz requiere del tiempo absoluto?. 56(134)\n",
      "No topic for article Raúl Alberto Milone (2007/09/01). Lebenswelt husserliana y concepción semántica de las teorías. 56(135)\n",
      "No topic for article Tupac Cruz (2007/09/01). Urphänomen y su transposición: Benjamin y el idealismo goetheano. 56(135)\n",
      "No topic for article Andrés Crelier (2007/05/01). Los aspectos éticos de la comunidad en Charles S. Peirce. 56(134)\n"
     ]
    },
    {
     "name": "stdout",
     "output_type": "stream",
     "text": [
      "No topic for article Luis Villavicencio (2007/09/01). La concepción política de la persona y las visiones constitutivas del bien. 56(135)\n",
      "No topic for article Carlos García (2007/09/01). Casos Gettier y razonadores normales. 56(135)\n",
      "Time elapsed: 179.02109122276306\n",
      "For 130:\n",
      "\tCoherence: 0.4193055145249577\n",
      "\tLog Perplexity: -15.481910002831965\n",
      "Stats on topics:\n",
      "\tAverage number of docs per topic: 8.87\n",
      "\tStandard deviation: 17.77\n",
      "---\n",
      "Iteration: 2\n",
      "Training an LDA model with 130.\n",
      "Time elapsed: 457.00s\n",
      "Training the coherence model with 130.\n",
      "No topic for article Matthias Vollet (2007/05/01). Aristóteles y la economía entre los límites de la razón práctica. 56(134)\n",
      "No topic for article Irina Vaskes (2007/05/01). La axiomática estética: deconstrucción. 56(134)\n",
      "No topic for article Francisco Miro Quesada (1962/01/01). Fundamentación metafísica y fundamentación lógico-axiológica de la praxis política. 4(13)\n",
      "No topic for article Nicolás Vaughan (2007/05/01). ¿Por qué Leibniz requiere del tiempo absoluto?. 56(134)\n",
      "No topic for article Raúl Alberto Milone (2007/09/01). Lebenswelt husserliana y concepción semántica de las teorías. 56(135)\n",
      "No topic for article Tupac Cruz (2007/09/01). Urphänomen y su transposición: Benjamin y el idealismo goetheano. 56(135)\n",
      "No topic for article Andrés Crelier (2007/05/01). Los aspectos éticos de la comunidad en Charles S. Peirce. 56(134)\n",
      "No topic for article Luis Villavicencio (2007/09/01). La concepción política de la persona y las visiones constitutivas del bien. 56(135)\n",
      "No topic for article Carlos García (2007/09/01). Casos Gettier y razonadores normales. 56(135)\n",
      "Time elapsed: 175.0964241027832\n",
      "For 130:\n",
      "\tCoherence: 0.4118818376656427\n",
      "\tLog Perplexity: -15.319111967197431\n",
      "Stats on topics:\n",
      "\tAverage number of docs per topic: 10.44\n",
      "\tStandard deviation: 18.65\n",
      "---\n",
      "Iteration: 0\n",
      "Training an LDA model with 140.\n",
      "Time elapsed: 493.88s\n",
      "Training the coherence model with 140.\n",
      "No topic for article Matthias Vollet (2007/05/01). Aristóteles y la economía entre los límites de la razón práctica. 56(134)\n",
      "No topic for article Irina Vaskes (2007/05/01). La axiomática estética: deconstrucción. 56(134)\n",
      "No topic for article Francisco Miro Quesada (1962/01/01). Fundamentación metafísica y fundamentación lógico-axiológica de la praxis política. 4(13)\n",
      "No topic for article Nicolás Vaughan (2007/05/01). ¿Por qué Leibniz requiere del tiempo absoluto?. 56(134)\n",
      "No topic for article Raúl Alberto Milone (2007/09/01). Lebenswelt husserliana y concepción semántica de las teorías. 56(135)\n",
      "No topic for article Tupac Cruz (2007/09/01). Urphänomen y su transposición: Benjamin y el idealismo goetheano. 56(135)\n",
      "No topic for article Andrés Crelier (2007/05/01). Los aspectos éticos de la comunidad en Charles S. Peirce. 56(134)\n",
      "No topic for article Luis Villavicencio (2007/09/01). La concepción política de la persona y las visiones constitutivas del bien. 56(135)\n",
      "No topic for article Carlos García (2007/09/01). Casos Gettier y razonadores normales. 56(135)\n",
      "Time elapsed: 168.636225938797\n",
      "For 140:\n",
      "\tCoherence: 0.44517847957803847\n",
      "\tLog Perplexity: -16.18330269545647\n",
      "Stats on topics:\n",
      "\tAverage number of docs per topic: 9.07\n",
      "\tStandard deviation: 29.45\n",
      "---\n",
      "Iteration: 1\n",
      "Training an LDA model with 140.\n",
      "Time elapsed: 493.97s\n",
      "Training the coherence model with 140.\n",
      "No topic for article Matthias Vollet (2007/05/01). Aristóteles y la economía entre los límites de la razón práctica. 56(134)\n",
      "No topic for article Irina Vaskes (2007/05/01). La axiomática estética: deconstrucción. 56(134)\n",
      "No topic for article Francisco Miro Quesada (1962/01/01). Fundamentación metafísica y fundamentación lógico-axiológica de la praxis política. 4(13)\n",
      "No topic for article Nicolás Vaughan (2007/05/01). ¿Por qué Leibniz requiere del tiempo absoluto?. 56(134)\n",
      "No topic for article Raúl Alberto Milone (2007/09/01). Lebenswelt husserliana y concepción semántica de las teorías. 56(135)\n",
      "No topic for article Tupac Cruz (2007/09/01). Urphänomen y su transposición: Benjamin y el idealismo goetheano. 56(135)\n",
      "No topic for article Andrés Crelier (2007/05/01). Los aspectos éticos de la comunidad en Charles S. Peirce. 56(134)\n",
      "No topic for article Luis Villavicencio (2007/09/01). La concepción política de la persona y las visiones constitutivas del bien. 56(135)\n",
      "No topic for article Carlos García (2007/09/01). Casos Gettier y razonadores normales. 56(135)\n",
      "Time elapsed: 212.12275338172913\n",
      "For 140:\n",
      "\tCoherence: 0.4355894863713107\n",
      "\tLog Perplexity: -16.22693738062772\n",
      "Stats on topics:\n",
      "\tAverage number of docs per topic: 9.82\n",
      "\tStandard deviation: 30.34\n",
      "---\n",
      "Iteration: 2\n",
      "Training an LDA model with 140.\n",
      "Time elapsed: 520.44s\n",
      "Training the coherence model with 140.\n",
      "No topic for article Matthias Vollet (2007/05/01). Aristóteles y la economía entre los límites de la razón práctica. 56(134)\n",
      "No topic for article Irina Vaskes (2007/05/01). La axiomática estética: deconstrucción. 56(134)\n",
      "No topic for article Francisco Miro Quesada (1962/01/01). Fundamentación metafísica y fundamentación lógico-axiológica de la praxis política. 4(13)\n",
      "No topic for article Nicolás Vaughan (2007/05/01). ¿Por qué Leibniz requiere del tiempo absoluto?. 56(134)\n",
      "No topic for article Raúl Alberto Milone (2007/09/01). Lebenswelt husserliana y concepción semántica de las teorías. 56(135)\n",
      "No topic for article Tupac Cruz (2007/09/01). Urphänomen y su transposición: Benjamin y el idealismo goetheano. 56(135)\n",
      "No topic for article Andrés Crelier (2007/05/01). Los aspectos éticos de la comunidad en Charles S. Peirce. 56(134)\n",
      "No topic for article Luis Villavicencio (2007/09/01). La concepción política de la persona y las visiones constitutivas del bien. 56(135)\n",
      "No topic for article Carlos García (2007/09/01). Casos Gettier y razonadores normales. 56(135)\n",
      "Time elapsed: 202.18674659729004\n",
      "For 140:\n",
      "\tCoherence: 0.42715016566153585\n",
      "\tLog Perplexity: -16.1698742116479\n",
      "Stats on topics:\n",
      "\tAverage number of docs per topic: 9.94\n",
      "\tStandard deviation: 20.13\n",
      "---\n"
     ]
    }
   ],
   "source": [
    "experiment = gridsearch(80, 150, 10, iterations=3)"
   ]
  },
  {
   "cell_type": "markdown",
   "metadata": {},
   "source": [
    "Finally, we can save it for further analysis later on:"
   ]
  },
  {
   "cell_type": "code",
   "execution_count": 18,
   "metadata": {},
   "outputs": [],
   "source": [
    "import json"
   ]
  },
  {
   "cell_type": "code",
   "execution_count": 19,
   "metadata": {},
   "outputs": [],
   "source": [
    "with open(\"../data/gridsearch.json\", \"w\") as fp:\n",
    "    json.dump(experiment, fp)"
   ]
  },
  {
   "cell_type": "markdown",
   "metadata": {},
   "source": [
    "## Understanding the gridsearch results "
   ]
  },
  {
   "cell_type": "code",
   "execution_count": null,
   "metadata": {},
   "outputs": [],
   "source": [
    "with open(\"../data/gridsearch.json\") as fp:\n",
    "    gridsearch = json.load(fp)"
   ]
  },
  {
   "cell_type": "code",
   "execution_count": null,
   "metadata": {},
   "outputs": [],
   "source": [
    "gridsearch"
   ]
  },
  {
   "cell_type": "code",
   "execution_count": null,
   "metadata": {},
   "outputs": [],
   "source": [
    "def plotting(gridsearch):\n",
    "    n_topics = np.array(list(gridsearch.keys())).astype(int)\n",
    "    print(n_topics)\n",
    "    coherences = []\n",
    "    log_perplexities = []\n",
    "    times_lda = []\n",
    "    times_coherence = []\n",
    "    \n",
    "    for n in n_topics:\n",
    "        iterations = gridsearch[str(n)]\n",
    "        coherences.append(\n",
    "            [v[\"coherence\"] for v in iterations.values()]\n",
    "        )\n",
    "        log_perplexities.append(\n",
    "            [v[\"log_perplexity\"] for v in iterations.values()]\n",
    "        )\n",
    "        times_lda.append(\n",
    "            [v[\"time_lda\"] for v in iterations.values()]\n",
    "        )\n",
    "        times_coherence.append(\n",
    "            [v[\"time_coherence\"] for v in iterations.values()]\n",
    "        )\n",
    "        \n",
    "    print(np.mean(coherences, axis=1))\n",
    "    \n",
    "    _, axes = plt.subplots(2, 2, figsize=(10, 10))\n",
    "    axes[0, 0].plot(n_topics, np.mean(coherences, axis=1))\n",
    "    axes[0, 0].set_title(\"Coherence metric\")\n",
    "    \n",
    "    axes[0, 1].plot(n_topics, np.mean(log_perplexities, axis=1))\n",
    "    axes[0, 1].set_title(\"Log perplexity\")\n",
    "\n",
    "    axes[1, 0].plot(n_topics, np.mean(times_lda, axis=1))\n",
    "    axes[1, 0].set_title(\"LDA training time\")\n",
    "    \n",
    "    axes[1, 1].plot(n_topics, np.mean(times_coherence, axis=1))\n",
    "    axes[1, 1].set_title(\"Coherence training time\")"
   ]
  },
  {
   "cell_type": "code",
   "execution_count": null,
   "metadata": {},
   "outputs": [],
   "source": [
    "plotting(gridsearch)"
   ]
  },
  {
   "cell_type": "markdown",
   "metadata": {},
   "source": [
    "# Optimal topics seems to be 90"
   ]
  },
  {
   "cell_type": "markdown",
   "metadata": {},
   "source": [
    "Let's reload the gridsearch and study what happens around 90 topics"
   ]
  },
  {
   "cell_type": "code",
   "execution_count": null,
   "metadata": {},
   "outputs": [],
   "source": [
    "with open(\"../data/gridsearch.json\") as fp:\n",
    "    g = json.load(fp)"
   ]
  },
  {
   "cell_type": "code",
   "execution_count": null,
   "metadata": {},
   "outputs": [],
   "source": [
    "g[\"90\"]"
   ]
  },
  {
   "cell_type": "code",
   "execution_count": null,
   "metadata": {},
   "outputs": [],
   "source": [
    "for k in g:\n",
    "    for v in g[k].values():\n",
    "        if \"-1\" in v[\"n_articles_per_topic\"]:\n",
    "            print(f\"Number of topics: {k}\")\n",
    "            print(\"Number of articles without 1st topic:\")\n",
    "            print(v[\"n_articles_per_topic\"][\"-1\"])"
   ]
  },
  {
   "cell_type": "markdown",
   "metadata": {},
   "source": [
    "From 100 onwards, 254 articles get systematically thrown to 0 topics. Weird!\n",
    "\n",
    "90 doesn't have the no-topics-for-article problem, should we stick with it?"
   ]
  },
  {
   "cell_type": "markdown",
   "metadata": {},
   "source": [
    "## Sticking with 90"
   ]
  },
  {
   "cell_type": "markdown",
   "metadata": {},
   "source": [
    "After reading online, people recommend that we save our dictionary in order to prevent randomness in it in the future. I will also set up the seed for the LDA."
   ]
  },
  {
   "cell_type": "markdown",
   "metadata": {},
   "source": [
    "It has been 47,984 days since Wittgetstein was born (as of today, 09/09/20)."
   ]
  },
  {
   "cell_type": "code",
   "execution_count": null,
   "metadata": {},
   "outputs": [],
   "source": [
    "final_model = Model(corpus, 90, seed = 47984)\n",
    "final_model.prepare()\n",
    "final_model.save()"
   ]
  },
  {
   "cell_type": "code",
   "execution_count": null,
   "metadata": {},
   "outputs": [],
   "source": [
    "print(final_model.get_stats())"
   ]
  }
 ],
 "metadata": {
  "kernelspec": {
   "display_name": "Python 3",
   "language": "python",
   "name": "python3"
  },
  "language_info": {
   "codemirror_mode": {
    "name": "ipython",
    "version": 3
   },
   "file_extension": ".py",
   "mimetype": "text/x-python",
   "name": "python",
   "nbconvert_exporter": "python",
   "pygments_lexer": "ipython3",
   "version": "3.9.12"
  }
 },
 "nbformat": 4,
 "nbformat_minor": 4
}
