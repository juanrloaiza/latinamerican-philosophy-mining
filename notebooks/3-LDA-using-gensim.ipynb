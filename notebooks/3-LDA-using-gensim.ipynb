{
 "cells": [
  {
   "cell_type": "markdown",
   "metadata": {},
   "source": [
    "## LDA 3\n",
    "\n",
    "# Fitting an LDA to our corpus\n",
    "\n",
    "We plan to perform topic modeling using *Latent Dirichlet Allocation* (abbreviated as LDA). An LDA is a *generative model* that learns a group of categories (or *topics*) for words that occur together in a corpus of documents. For a technical presentation of LDAs, see [Appendix A](404).\n",
    "\n",
    "Let's start loading up our corpus:"
   ]
  },
  {
   "cell_type": "code",
   "execution_count": 1,
   "metadata": {},
   "outputs": [
    {
     "data": {
      "text/plain": [
       "825"
      ]
     },
     "execution_count": 1,
     "metadata": {},
     "output_type": "execute_result"
    }
   ],
   "source": [
    "from utils.corpus import Corpus\n",
    "\n",
    "corpus = Corpus(registry_path='../utils/article_registry.json')\n",
    "corpusList = corpus.get_documents_list()"
   ]
  },
  {
   "cell_type": "markdown",
   "metadata": {},
   "source": [
    "For `gensim`, we will need to provide the bag-of-words as a list of strings. Thus, we start by implementing a generic function that takes objects of our article class and returns the list representation of its bag of words. It includes a hot fix to a problem we are facing in the generation of the bag of words: there are several spaces that make `bagOfWords.split(\" \")` contain empty strings."
   ]
  },
  {
   "cell_type": "code",
   "execution_count": 2,
   "metadata": {},
   "outputs": [],
   "source": [
    "def prepare_bag_of_words(article):\n",
    "    \"\"\"\n",
    "    A hot fix on some empty strings.\n",
    "    \"\"\"\n",
    "    bow = article.bag_of_words\n",
    "    bow = bow.split(\" \")\n",
    "    return [w for w in bow if len(w) > 1]"
   ]
  },
  {
   "cell_type": "code",
   "execution_count": 3,
   "metadata": {},
   "outputs": [],
   "source": [
    "from gensim import corpora"
   ]
  },
  {
   "cell_type": "code",
   "execution_count": 4,
   "metadata": {},
   "outputs": [],
   "source": [
    "dictionary = corpora.Dictionary([\n",
    "    prepare_bag_of_words(a) for a in corpusList\n",
    "])\n",
    "corpus = [dictionary.doc2bow(prepare_bag_of_words(a)) for a in corpusList]"
   ]
  },
  {
   "cell_type": "markdown",
   "metadata": {},
   "source": [
    "Using this dictionary, we can create an LdaModel:"
   ]
  },
  {
   "cell_type": "markdown",
   "metadata": {},
   "source": [
    "TODO: change for LdaModelMulticore (?)."
   ]
  },
  {
   "cell_type": "code",
   "execution_count": 5,
   "metadata": {},
   "outputs": [],
   "source": [
    "from gensim.models.ldamodel import LdaModel"
   ]
  },
  {
   "cell_type": "code",
   "execution_count": null,
   "metadata": {},
   "outputs": [],
   "source": [
    "n_topics = 10\n",
    "lda = LdaModel(corpus, num_topics=n_topics, id2word=dictionary, passes=15)"
   ]
  },
  {
   "cell_type": "markdown",
   "metadata": {},
   "source": [
    "## Visualizing an LDA using pyLDAvis"
   ]
  },
  {
   "cell_type": "markdown",
   "metadata": {},
   "source": [
    "One of the advantages of using `gensim` is `pyLDAvis`, a visualization utility that takes `gensim`'s objects (the `lda` model, the `corpus` and the `dictionary` we created above) and creates a visualization of the `lda`'s latent space and topic representation:"
   ]
  },
  {
   "cell_type": "code",
   "execution_count": null,
   "metadata": {},
   "outputs": [],
   "source": [
    "import pyLDAvis.gensim\n",
    "lda_display = pyLDAvis.gensim.prepare(lda, corpus, dictionary, sort_topics=False)\n",
    "pyLDAvis.display(lda_display)"
   ]
  },
  {
   "cell_type": "markdown",
   "metadata": {},
   "source": [
    "We can save this model:"
   ]
  },
  {
   "cell_type": "code",
   "execution_count": null,
   "metadata": {},
   "outputs": [],
   "source": [
    "lda.save(f\"gensim_models/LDA_gensim_{n_topics}.model\")"
   ]
  },
  {
   "cell_type": "code",
   "execution_count": null,
   "metadata": {},
   "outputs": [],
   "source": [
    "ls"
   ]
  },
  {
   "cell_type": "markdown",
   "metadata": {},
   "source": [
    "## Analyzing the Model Coherence"
   ]
  },
  {
   "cell_type": "code",
   "execution_count": 14,
   "metadata": {},
   "outputs": [],
   "source": [
    "from gensim.models import CoherenceModel"
   ]
  },
  {
   "cell_type": "code",
   "execution_count": 16,
   "metadata": {},
   "outputs": [],
   "source": [
    "texts = [\n",
    "    prepare_bag_of_words(a) for a in corpusList\n",
    "]"
   ]
  },
  {
   "cell_type": "code",
   "execution_count": null,
   "metadata": {},
   "outputs": [],
   "source": [
    "coherence_model_lda = CoherenceModel(model=lda, texts=texts, dictionary=dictionary, coherence='c_v')\n",
    "coherence_lda = coherence_model_lda.get_coherence()\n",
    "print('Coherence Score: ', coherence_lda)"
   ]
  },
  {
   "cell_type": "markdown",
   "metadata": {},
   "source": [
    "This coherence score allows us to do a search for the \"best\" `n_topics`. Let's print the coherence doing a normal search between 10 and 150 topics. Notice that this coherence score is sensitive to the random number generation that is used when creating the `lda`."
   ]
  },
  {
   "cell_type": "code",
   "execution_count": null,
   "metadata": {},
   "outputs": [],
   "source": [
    "coherence_per_topics = {}\n",
    "for n_topics in range(10, 200, 10):\n",
    "    coherences = []\n",
    "    for _ in range(3):\n",
    "        lda = LdaModel(corpus, num_topics=n_topics, id2word=dictionary, passes=15)\n",
    "        coherence_model_lda = CoherenceModel(model=lda, texts=texts, dictionary=dictionary, coherence='c_v')\n",
    "        c = coherence_model_lda.get_coherence()\n",
    "        coherences.append(c)\n",
    "        print(f'Topics: {n_topics}. Coherence Score: {c}')\n",
    "    coherence_per_topics[n_topics] = coherences"
   ]
  },
  {
   "cell_type": "code",
   "execution_count": null,
   "metadata": {},
   "outputs": [],
   "source": [
    "import numpy as np\n",
    "import matplotlib.pyplot as plt\n",
    "\n",
    "x = list(coherence_per_topics.keys())\n",
    "y = [coherence_per_topics[n] for n in x]\n",
    "\n",
    "plt.plot(x, y, \"--r\")"
   ]
  },
  {
   "cell_type": "markdown",
   "metadata": {},
   "source": [
    "As we can see, the coherence moves between 0.39 and 0.43. The optimal amount of topics seems to be upwards of 100 topics. However, we will run this same gridsearch, but storing more metadata about each model (such as: amount of documents per topic, and time it takes to train)"
   ]
  },
  {
   "cell_type": "markdown",
   "metadata": {},
   "source": [
    "## Running a more complete grid-search"
   ]
  },
  {
   "cell_type": "code",
   "execution_count": 6,
   "metadata": {},
   "outputs": [],
   "source": [
    "import time"
   ]
  },
  {
   "cell_type": "code",
   "execution_count": 7,
   "metadata": {},
   "outputs": [],
   "source": [
    "from collections import defaultdict"
   ]
  },
  {
   "cell_type": "code",
   "execution_count": 8,
   "metadata": {},
   "outputs": [],
   "source": [
    "def articles_per_topic(lda):\n",
    "    \"\"\"\n",
    "    TODO: I'm not exactly sure that corpusList and corpus share order.\n",
    "    The only thing that this affects is the name of the articles being printed.\n",
    "    \"\"\"\n",
    "    n_articles_per_topic = defaultdict(int)\n",
    "    for art, doc in zip(corpusList, corpus):\n",
    "        topics = lda.get_document_topics(doc)\n",
    "        if len(topics) > 0:\n",
    "            first_topic = topics[0][0]\n",
    "            n_articles_per_topic[first_topic] += 1\n",
    "        else:\n",
    "            # -1 will represent no-topic.\n",
    "            # This also needs to be fixed:\n",
    "            # https://github.com/RaRe-Technologies/gensim/issues/2115#issuecomment-443113360\n",
    "            n_articles_per_topic[-1] += 1\n",
    "            print(f\"No topic for article {art}\")\n",
    "    \n",
    "    return n_articles_per_topic"
   ]
  },
  {
   "cell_type": "code",
   "execution_count": 9,
   "metadata": {},
   "outputs": [],
   "source": [
    "from gensim.models.ldamulticore import LdaMulticore"
   ]
  },
  {
   "cell_type": "code",
   "execution_count": 10,
   "metadata": {},
   "outputs": [],
   "source": [
    "import numpy as np\n",
    "import matplotlib.pyplot as plt"
   ]
  },
  {
   "cell_type": "code",
   "execution_count": 11,
   "metadata": {},
   "outputs": [],
   "source": [
    "def get_metadata(n_topics, verbose=True):\n",
    "    if verbose:\n",
    "        print(f\"Training an LDA model with {n_topics}.\")\n",
    "\n",
    "    start_lda = time.time()\n",
    "    lda = LdaModel(corpus, num_topics=n_topics, id2word=dictionary, passes=15)\n",
    "    end_lda = time.time()\n",
    "    \n",
    "    time_lda = end_lda - start_lda\n",
    "    \n",
    "    if verbose:\n",
    "        print(f\"Time elapsed: {time_lda:.2f}s\")\n",
    "        print(f\"Training the coherence model with {n_topics}.\")\n",
    "\n",
    "    start_coherence = time.time()\n",
    "    coherence_model_lda = CoherenceModel(model=lda, texts=texts, dictionary=dictionary, coherence='c_v')\n",
    "\n",
    "    c = coherence_model_lda.get_coherence()\n",
    "    log_perplexity = lda.log_perplexity(corpus)\n",
    "    n_articles_per_topic = articles_per_topic(lda)\n",
    "    \n",
    "    end_coherence = time.time()\n",
    "    \n",
    "    time_coherence = end_coherence - start_coherence\n",
    "    \n",
    "    if verbose:\n",
    "        print(f\"Time elapsed: {time_coherence}\")\n",
    "        print(f\"For {n_topics}:\")\n",
    "        print(\"\\t\" + f\"Coherence: {c}\")\n",
    "        print(\"\\t\" + f\"Log Perplexity: {log_perplexity}\")\n",
    "\n",
    "    metadata = {\n",
    "        \"coherence\": c,\n",
    "        \"log_perplexity\": log_perplexity,\n",
    "        \"time_lda\": time_lda,\n",
    "        \"time_coherence\": time_coherence,\n",
    "        \"n_articles_per_topic\": dict(n_articles_per_topic)\n",
    "    }\n",
    "    \n",
    "    n_per_topic = list(metadata['n_articles_per_topic'].values())\n",
    "    \n",
    "    avg_n_per_topic = np.mean(n_per_topic)\n",
    "    std_n_per_topic = np.std(n_per_topic)\n",
    "    \n",
    "    if verbose:\n",
    "        print(\"Stats on topics:\")\n",
    "        print(f\"\\tAverage number of docs per topic: {avg_n_per_topic:.2f}\")\n",
    "        print(f\"\\tStandard deviation: {std_n_per_topic:.2f}\")\n",
    "        print(\"---\")\n",
    "\n",
    "    return metadata"
   ]
  },
  {
   "cell_type": "markdown",
   "metadata": {},
   "source": [
    "TODO: Run it again after addressing this comment: https://github.com/RaRe-Technologies/gensim/issues/2115#issuecomment-443113360"
   ]
  },
  {
   "cell_type": "code",
   "execution_count": 12,
   "metadata": {},
   "outputs": [],
   "source": [
    "def gridsearch(min_topics, max_topics, step, iterations=3, verbose=True):\n",
    "    \"\"\"\n",
    "    Computes an array like this:\n",
    "    experiment = {\n",
    "        n_topics: {\n",
    "            0: get_metadata(n_topics),\n",
    "            1: get_metadata(n_topics),\n",
    "            ...\n",
    "            iterations - 1: get_metadata(n_topics)\n",
    "        }\n",
    "    }\n",
    "    and we expect all these inner get_metadata to be slightly different\n",
    "    due to stochasticity in the models.\n",
    "    \n",
    "    TODO: document better.\n",
    "    \"\"\"\n",
    "    experiment = {}\n",
    "    for n_topics in range(min_topics, max_topics, step):\n",
    "        experiment[n_topics] = {}\n",
    "        for i in range(iterations):\n",
    "            if verbose:\n",
    "                print(f\"Iteration: {i}\")\n",
    "                \n",
    "            metadata = get_metadata(n_topics, verbose=verbose)\n",
    "            experiment[n_topics][i] = metadata\n",
    "\n",
    "    return experiment"
   ]
  },
  {
   "cell_type": "markdown",
   "metadata": {},
   "source": [
    "**Careful:** this gridsearch can take a whole evening."
   ]
  },
  {
   "cell_type": "code",
   "execution_count": 17,
   "metadata": {
    "scrolled": true
   },
   "outputs": [
    {
     "name": "stdout",
     "output_type": "stream",
     "text": [
      "Iteration: 0\n",
      "Training an LDA model with 80.\n",
      "Time elapsed: 472.41s\n",
      "Training the coherence model with 80.\n",
      "Time elapsed: 132.66102647781372\n",
      "For 80:\n",
      "\tCoherence: 0.40734418775746484\n",
      "\tLog Perplexity: -12.361103083588683\n",
      "Stats on topics:\n",
      "\tAverage number of docs per topic: 12.31\n",
      "\tStandard deviation: 23.57\n",
      "---\n",
      "Iteration: 1\n",
      "Training an LDA model with 80.\n",
      "Time elapsed: 491.94s\n",
      "Training the coherence model with 80.\n",
      "Time elapsed: 134.31068229675293\n",
      "For 80:\n",
      "\tCoherence: 0.4156170568292136\n",
      "\tLog Perplexity: -12.311435930785082\n",
      "Stats on topics:\n",
      "\tAverage number of docs per topic: 12.69\n",
      "\tStandard deviation: 31.56\n",
      "---\n",
      "Iteration: 2\n",
      "Training an LDA model with 80.\n",
      "Time elapsed: 480.89s\n",
      "Training the coherence model with 80.\n",
      "Time elapsed: 131.47425532341003\n",
      "For 80:\n",
      "\tCoherence: 0.40441719240449225\n",
      "\tLog Perplexity: -12.279931317269778\n",
      "Stats on topics:\n",
      "\tAverage number of docs per topic: 12.89\n",
      "\tStandard deviation: 30.44\n",
      "---\n",
      "Iteration: 0\n",
      "Training an LDA model with 90.\n",
      "Time elapsed: 608.53s\n",
      "Training the coherence model with 90.\n",
      "Time elapsed: 165.0283031463623\n",
      "For 90:\n",
      "\tCoherence: 0.40396578313028414\n",
      "\tLog Perplexity: -12.89833817392079\n",
      "Stats on topics:\n",
      "\tAverage number of docs per topic: 12.50\n",
      "\tStandard deviation: 26.64\n",
      "---\n",
      "Iteration: 1\n",
      "Training an LDA model with 90.\n",
      "Time elapsed: 633.74s\n",
      "Training the coherence model with 90.\n",
      "Time elapsed: 158.09878778457642\n",
      "For 90:\n",
      "\tCoherence: 0.4142499058191988\n",
      "\tLog Perplexity: -12.944922334810514\n",
      "Stats on topics:\n",
      "\tAverage number of docs per topic: 12.50\n",
      "\tStandard deviation: 31.99\n",
      "---\n",
      "Iteration: 2\n",
      "Training an LDA model with 90.\n",
      "Time elapsed: 631.92s\n",
      "Training the coherence model with 90.\n",
      "Time elapsed: 154.3802034854889\n",
      "For 90:\n",
      "\tCoherence: 0.3924326807497464\n",
      "\tLog Perplexity: -12.822127591651324\n",
      "Stats on topics:\n",
      "\tAverage number of docs per topic: 12.89\n",
      "\tStandard deviation: 55.00\n",
      "---\n",
      "Iteration: 0\n",
      "Training an LDA model with 100.\n",
      "Time elapsed: 442.98s\n",
      "Training the coherence model with 100.\n",
      "No topic for article Matthias Vollet (2007/05/01). Aristóteles y la economía entre los límites de la razón práctica. 56(134)\n",
      "No topic for article Irina Vaskes (2007/05/01). La axiomática estética: deconstrucción. 56(134)\n",
      "No topic for article Francisco Miro Quesada (1962/01/01). Fundamentación metafísica y fundamentación lógico-axiológica de la praxis política. 4(13)\n",
      "No topic for article Nicolás Vaughan (2007/05/01). ¿Por qué Leibniz requiere del tiempo absoluto?. 56(134)\n",
      "No topic for article Raúl Alberto Milone (2007/09/01). Lebenswelt husserliana y concepción semántica de las teorías. 56(135)\n",
      "No topic for article Tupac Cruz (2007/09/01). Urphänomen y su transposición: Benjamin y el idealismo goetheano. 56(135)\n",
      "No topic for article Andrés Crelier (2007/05/01). Los aspectos éticos de la comunidad en Charles S. Peirce. 56(134)\n",
      "No topic for article Luis Villavicencio (2007/09/01). La concepción política de la persona y las visiones constitutivas del bien. 56(135)\n",
      "No topic for article Carlos García (2007/09/01). Casos Gettier y razonadores normales. 56(135)\n",
      "Time elapsed: 170.6235556602478\n",
      "For 100:\n",
      "\tCoherence: 0.41512248929544804\n",
      "\tLog Perplexity: -13.516516391946443\n",
      "Stats on topics:\n",
      "\tAverage number of docs per topic: 11.15\n",
      "\tStandard deviation: 23.71\n",
      "---\n",
      "Iteration: 1\n",
      "Training an LDA model with 100.\n",
      "Time elapsed: 456.64s\n",
      "Training the coherence model with 100.\n",
      "No topic for article Matthias Vollet (2007/05/01). Aristóteles y la economía entre los límites de la razón práctica. 56(134)\n",
      "No topic for article Irina Vaskes (2007/05/01). La axiomática estética: deconstrucción. 56(134)\n",
      "No topic for article Francisco Miro Quesada (1962/01/01). Fundamentación metafísica y fundamentación lógico-axiológica de la praxis política. 4(13)\n",
      "No topic for article Nicolás Vaughan (2007/05/01). ¿Por qué Leibniz requiere del tiempo absoluto?. 56(134)\n",
      "No topic for article Raúl Alberto Milone (2007/09/01). Lebenswelt husserliana y concepción semántica de las teorías. 56(135)\n",
      "No topic for article Tupac Cruz (2007/09/01). Urphänomen y su transposición: Benjamin y el idealismo goetheano. 56(135)\n",
      "No topic for article Andrés Crelier (2007/05/01). Los aspectos éticos de la comunidad en Charles S. Peirce. 56(134)\n",
      "No topic for article Luis Villavicencio (2007/09/01). La concepción política de la persona y las visiones constitutivas del bien. 56(135)\n",
      "No topic for article Carlos García (2007/09/01). Casos Gettier y razonadores normales. 56(135)\n",
      "Time elapsed: 159.5827293395996\n",
      "For 100:\n",
      "\tCoherence: 0.4061810020390404\n",
      "\tLog Perplexity: -13.482579484560642\n",
      "Stats on topics:\n",
      "\tAverage number of docs per topic: 10.71\n",
      "\tStandard deviation: 21.93\n",
      "---\n",
      "Iteration: 2\n",
      "Training an LDA model with 100.\n",
      "Time elapsed: 441.06s\n",
      "Training the coherence model with 100.\n",
      "No topic for article Matthias Vollet (2007/05/01). Aristóteles y la economía entre los límites de la razón práctica. 56(134)\n",
      "No topic for article Irina Vaskes (2007/05/01). La axiomática estética: deconstrucción. 56(134)\n",
      "No topic for article Francisco Miro Quesada (1962/01/01). Fundamentación metafísica y fundamentación lógico-axiológica de la praxis política. 4(13)\n",
      "No topic for article Nicolás Vaughan (2007/05/01). ¿Por qué Leibniz requiere del tiempo absoluto?. 56(134)\n",
      "No topic for article Raúl Alberto Milone (2007/09/01). Lebenswelt husserliana y concepción semántica de las teorías. 56(135)\n",
      "No topic for article Tupac Cruz (2007/09/01). Urphänomen y su transposición: Benjamin y el idealismo goetheano. 56(135)\n",
      "No topic for article Andrés Crelier (2007/05/01). Los aspectos éticos de la comunidad en Charles S. Peirce. 56(134)\n",
      "No topic for article Luis Villavicencio (2007/09/01). La concepción política de la persona y las visiones constitutivas del bien. 56(135)\n",
      "No topic for article Carlos García (2007/09/01). Casos Gettier y razonadores normales. 56(135)\n",
      "Time elapsed: 162.98852586746216\n",
      "For 100:\n",
      "\tCoherence: 0.4142257618649714\n",
      "\tLog Perplexity: -13.615129129988325\n",
      "Stats on topics:\n",
      "\tAverage number of docs per topic: 10.31\n",
      "\tStandard deviation: 24.72\n",
      "---\n",
      "Iteration: 0\n",
      "Training an LDA model with 110.\n",
      "Time elapsed: 436.03s\n",
      "Training the coherence model with 110.\n",
      "No topic for article Matthias Vollet (2007/05/01). Aristóteles y la economía entre los límites de la razón práctica. 56(134)\n",
      "No topic for article Irina Vaskes (2007/05/01). La axiomática estética: deconstrucción. 56(134)\n",
      "No topic for article Francisco Miro Quesada (1962/01/01). Fundamentación metafísica y fundamentación lógico-axiológica de la praxis política. 4(13)\n",
      "No topic for article Nicolás Vaughan (2007/05/01). ¿Por qué Leibniz requiere del tiempo absoluto?. 56(134)\n",
      "No topic for article Raúl Alberto Milone (2007/09/01). Lebenswelt husserliana y concepción semántica de las teorías. 56(135)\n",
      "No topic for article Tupac Cruz (2007/09/01). Urphänomen y su transposición: Benjamin y el idealismo goetheano. 56(135)\n",
      "No topic for article Andrés Crelier (2007/05/01). Los aspectos éticos de la comunidad en Charles S. Peirce. 56(134)\n",
      "No topic for article Luis Villavicencio (2007/09/01). La concepción política de la persona y las visiones constitutivas del bien. 56(135)\n",
      "No topic for article Carlos García (2007/09/01). Casos Gettier y razonadores normales. 56(135)\n",
      "Time elapsed: 174.36016201972961\n",
      "For 110:\n",
      "\tCoherence: 0.4307494044736551\n",
      "\tLog Perplexity: -14.23425893518086\n",
      "Stats on topics:\n",
      "\tAverage number of docs per topic: 9.71\n",
      "\tStandard deviation: 20.20\n",
      "---\n",
      "Iteration: 1\n",
      "Training an LDA model with 110.\n",
      "Time elapsed: 440.60s\n",
      "Training the coherence model with 110.\n",
      "No topic for article Matthias Vollet (2007/05/01). Aristóteles y la economía entre los límites de la razón práctica. 56(134)\n",
      "No topic for article Irina Vaskes (2007/05/01). La axiomática estética: deconstrucción. 56(134)\n",
      "No topic for article Francisco Miro Quesada (1962/01/01). Fundamentación metafísica y fundamentación lógico-axiológica de la praxis política. 4(13)\n",
      "No topic for article Nicolás Vaughan (2007/05/01). ¿Por qué Leibniz requiere del tiempo absoluto?. 56(134)\n",
      "No topic for article Raúl Alberto Milone (2007/09/01). Lebenswelt husserliana y concepción semántica de las teorías. 56(135)\n",
      "No topic for article Tupac Cruz (2007/09/01). Urphänomen y su transposición: Benjamin y el idealismo goetheano. 56(135)\n",
      "No topic for article Andrés Crelier (2007/05/01). Los aspectos éticos de la comunidad en Charles S. Peirce. 56(134)\n"
     ]
    },
    {
     "name": "stdout",
     "output_type": "stream",
     "text": [
      "No topic for article Luis Villavicencio (2007/09/01). La concepción política de la persona y las visiones constitutivas del bien. 56(135)\n",
      "No topic for article Carlos García (2007/09/01). Casos Gettier y razonadores normales. 56(135)\n",
      "Time elapsed: 165.0029718875885\n",
      "For 110:\n",
      "\tCoherence: 0.450019212818261\n",
      "\tLog Perplexity: -14.079334907717644\n",
      "Stats on topics:\n",
      "\tAverage number of docs per topic: 10.58\n",
      "\tStandard deviation: 32.90\n",
      "---\n",
      "Iteration: 2\n",
      "Training an LDA model with 110.\n",
      "Time elapsed: 432.70s\n",
      "Training the coherence model with 110.\n",
      "No topic for article Matthias Vollet (2007/05/01). Aristóteles y la economía entre los límites de la razón práctica. 56(134)\n",
      "No topic for article Irina Vaskes (2007/05/01). La axiomática estética: deconstrucción. 56(134)\n",
      "No topic for article Francisco Miro Quesada (1962/01/01). Fundamentación metafísica y fundamentación lógico-axiológica de la praxis política. 4(13)\n",
      "No topic for article Nicolás Vaughan (2007/05/01). ¿Por qué Leibniz requiere del tiempo absoluto?. 56(134)\n",
      "No topic for article Raúl Alberto Milone (2007/09/01). Lebenswelt husserliana y concepción semántica de las teorías. 56(135)\n",
      "No topic for article Tupac Cruz (2007/09/01). Urphänomen y su transposición: Benjamin y el idealismo goetheano. 56(135)\n",
      "No topic for article Andrés Crelier (2007/05/01). Los aspectos éticos de la comunidad en Charles S. Peirce. 56(134)\n",
      "No topic for article Luis Villavicencio (2007/09/01). La concepción política de la persona y las visiones constitutivas del bien. 56(135)\n",
      "No topic for article Carlos García (2007/09/01). Casos Gettier y razonadores normales. 56(135)\n",
      "Time elapsed: 194.4419403076172\n",
      "For 110:\n",
      "\tCoherence: 0.4292894259495535\n",
      "\tLog Perplexity: -14.067527065613868\n",
      "Stats on topics:\n",
      "\tAverage number of docs per topic: 11.62\n",
      "\tStandard deviation: 25.50\n",
      "---\n",
      "Iteration: 0\n",
      "Training an LDA model with 120.\n",
      "Time elapsed: 457.01s\n",
      "Training the coherence model with 120.\n",
      "No topic for article Matthias Vollet (2007/05/01). Aristóteles y la economía entre los límites de la razón práctica. 56(134)\n",
      "No topic for article Irina Vaskes (2007/05/01). La axiomática estética: deconstrucción. 56(134)\n",
      "No topic for article Francisco Miro Quesada (1962/01/01). Fundamentación metafísica y fundamentación lógico-axiológica de la praxis política. 4(13)\n",
      "No topic for article Nicolás Vaughan (2007/05/01). ¿Por qué Leibniz requiere del tiempo absoluto?. 56(134)\n",
      "No topic for article Raúl Alberto Milone (2007/09/01). Lebenswelt husserliana y concepción semántica de las teorías. 56(135)\n",
      "No topic for article Tupac Cruz (2007/09/01). Urphänomen y su transposición: Benjamin y el idealismo goetheano. 56(135)\n",
      "No topic for article Andrés Crelier (2007/05/01). Los aspectos éticos de la comunidad en Charles S. Peirce. 56(134)\n",
      "No topic for article Luis Villavicencio (2007/09/01). La concepción política de la persona y las visiones constitutivas del bien. 56(135)\n",
      "No topic for article Carlos García (2007/09/01). Casos Gettier y razonadores normales. 56(135)\n",
      "Time elapsed: 168.5890657901764\n",
      "For 120:\n",
      "\tCoherence: 0.40539053165859257\n",
      "\tLog Perplexity: -14.802403578232536\n",
      "Stats on topics:\n",
      "\tAverage number of docs per topic: 9.71\n",
      "\tStandard deviation: 21.88\n",
      "---\n",
      "Iteration: 1\n",
      "Training an LDA model with 120.\n",
      "Time elapsed: 402.55s\n",
      "Training the coherence model with 120.\n",
      "No topic for article Matthias Vollet (2007/05/01). Aristóteles y la economía entre los límites de la razón práctica. 56(134)\n",
      "No topic for article Irina Vaskes (2007/05/01). La axiomática estética: deconstrucción. 56(134)\n",
      "No topic for article Francisco Miro Quesada (1962/01/01). Fundamentación metafísica y fundamentación lógico-axiológica de la praxis política. 4(13)\n",
      "No topic for article Nicolás Vaughan (2007/05/01). ¿Por qué Leibniz requiere del tiempo absoluto?. 56(134)\n",
      "No topic for article Raúl Alberto Milone (2007/09/01). Lebenswelt husserliana y concepción semántica de las teorías. 56(135)\n",
      "No topic for article Tupac Cruz (2007/09/01). Urphänomen y su transposición: Benjamin y el idealismo goetheano. 56(135)\n",
      "No topic for article Andrés Crelier (2007/05/01). Los aspectos éticos de la comunidad en Charles S. Peirce. 56(134)\n",
      "No topic for article Luis Villavicencio (2007/09/01). La concepción política de la persona y las visiones constitutivas del bien. 56(135)\n",
      "No topic for article Carlos García (2007/09/01). Casos Gettier y razonadores normales. 56(135)\n",
      "Time elapsed: 175.8276767730713\n",
      "For 120:\n",
      "\tCoherence: 0.4303643967045989\n",
      "\tLog Perplexity: -14.815407550694887\n",
      "Stats on topics:\n",
      "\tAverage number of docs per topic: 9.59\n",
      "\tStandard deviation: 18.25\n",
      "---\n",
      "Iteration: 2\n",
      "Training an LDA model with 120.\n",
      "Time elapsed: 402.73s\n",
      "Training the coherence model with 120.\n",
      "No topic for article Matthias Vollet (2007/05/01). Aristóteles y la economía entre los límites de la razón práctica. 56(134)\n",
      "No topic for article Irina Vaskes (2007/05/01). La axiomática estética: deconstrucción. 56(134)\n",
      "No topic for article Francisco Miro Quesada (1962/01/01). Fundamentación metafísica y fundamentación lógico-axiológica de la praxis política. 4(13)\n",
      "No topic for article Nicolás Vaughan (2007/05/01). ¿Por qué Leibniz requiere del tiempo absoluto?. 56(134)\n",
      "No topic for article Raúl Alberto Milone (2007/09/01). Lebenswelt husserliana y concepción semántica de las teorías. 56(135)\n",
      "No topic for article Tupac Cruz (2007/09/01). Urphänomen y su transposición: Benjamin y el idealismo goetheano. 56(135)\n",
      "No topic for article Andrés Crelier (2007/05/01). Los aspectos éticos de la comunidad en Charles S. Peirce. 56(134)\n",
      "No topic for article Luis Villavicencio (2007/09/01). La concepción política de la persona y las visiones constitutivas del bien. 56(135)\n",
      "No topic for article Carlos García (2007/09/01). Casos Gettier y razonadores normales. 56(135)\n",
      "Time elapsed: 170.852530002594\n",
      "For 120:\n",
      "\tCoherence: 0.42413463496587944\n",
      "\tLog Perplexity: -14.602361110136583\n",
      "Stats on topics:\n",
      "\tAverage number of docs per topic: 11.15\n",
      "\tStandard deviation: 48.95\n",
      "---\n",
      "Iteration: 0\n",
      "Training an LDA model with 130.\n",
      "Time elapsed: 418.53s\n",
      "Training the coherence model with 130.\n",
      "No topic for article Matthias Vollet (2007/05/01). Aristóteles y la economía entre los límites de la razón práctica. 56(134)\n",
      "No topic for article Irina Vaskes (2007/05/01). La axiomática estética: deconstrucción. 56(134)\n",
      "No topic for article Francisco Miro Quesada (1962/01/01). Fundamentación metafísica y fundamentación lógico-axiológica de la praxis política. 4(13)\n",
      "No topic for article Nicolás Vaughan (2007/05/01). ¿Por qué Leibniz requiere del tiempo absoluto?. 56(134)\n",
      "No topic for article Raúl Alberto Milone (2007/09/01). Lebenswelt husserliana y concepción semántica de las teorías. 56(135)\n",
      "No topic for article Tupac Cruz (2007/09/01). Urphänomen y su transposición: Benjamin y el idealismo goetheano. 56(135)\n",
      "No topic for article Andrés Crelier (2007/05/01). Los aspectos éticos de la comunidad en Charles S. Peirce. 56(134)\n",
      "No topic for article Luis Villavicencio (2007/09/01). La concepción política de la persona y las visiones constitutivas del bien. 56(135)\n",
      "No topic for article Carlos García (2007/09/01). Casos Gettier y razonadores normales. 56(135)\n",
      "Time elapsed: 161.47965288162231\n",
      "For 130:\n",
      "\tCoherence: 0.4407521396112862\n",
      "\tLog Perplexity: -15.449763900788847\n",
      "Stats on topics:\n",
      "\tAverage number of docs per topic: 9.38\n",
      "\tStandard deviation: 27.56\n",
      "---\n",
      "Iteration: 1\n",
      "Training an LDA model with 130.\n",
      "Time elapsed: 458.62s\n",
      "Training the coherence model with 130.\n",
      "No topic for article Matthias Vollet (2007/05/01). Aristóteles y la economía entre los límites de la razón práctica. 56(134)\n",
      "No topic for article Irina Vaskes (2007/05/01). La axiomática estética: deconstrucción. 56(134)\n",
      "No topic for article Francisco Miro Quesada (1962/01/01). Fundamentación metafísica y fundamentación lógico-axiológica de la praxis política. 4(13)\n",
      "No topic for article Nicolás Vaughan (2007/05/01). ¿Por qué Leibniz requiere del tiempo absoluto?. 56(134)\n",
      "No topic for article Raúl Alberto Milone (2007/09/01). Lebenswelt husserliana y concepción semántica de las teorías. 56(135)\n",
      "No topic for article Tupac Cruz (2007/09/01). Urphänomen y su transposición: Benjamin y el idealismo goetheano. 56(135)\n",
      "No topic for article Andrés Crelier (2007/05/01). Los aspectos éticos de la comunidad en Charles S. Peirce. 56(134)\n"
     ]
    },
    {
     "name": "stdout",
     "output_type": "stream",
     "text": [
      "No topic for article Luis Villavicencio (2007/09/01). La concepción política de la persona y las visiones constitutivas del bien. 56(135)\n",
      "No topic for article Carlos García (2007/09/01). Casos Gettier y razonadores normales. 56(135)\n",
      "Time elapsed: 179.02109122276306\n",
      "For 130:\n",
      "\tCoherence: 0.4193055145249577\n",
      "\tLog Perplexity: -15.481910002831965\n",
      "Stats on topics:\n",
      "\tAverage number of docs per topic: 8.87\n",
      "\tStandard deviation: 17.77\n",
      "---\n",
      "Iteration: 2\n",
      "Training an LDA model with 130.\n",
      "Time elapsed: 457.00s\n",
      "Training the coherence model with 130.\n",
      "No topic for article Matthias Vollet (2007/05/01). Aristóteles y la economía entre los límites de la razón práctica. 56(134)\n",
      "No topic for article Irina Vaskes (2007/05/01). La axiomática estética: deconstrucción. 56(134)\n",
      "No topic for article Francisco Miro Quesada (1962/01/01). Fundamentación metafísica y fundamentación lógico-axiológica de la praxis política. 4(13)\n",
      "No topic for article Nicolás Vaughan (2007/05/01). ¿Por qué Leibniz requiere del tiempo absoluto?. 56(134)\n",
      "No topic for article Raúl Alberto Milone (2007/09/01). Lebenswelt husserliana y concepción semántica de las teorías. 56(135)\n",
      "No topic for article Tupac Cruz (2007/09/01). Urphänomen y su transposición: Benjamin y el idealismo goetheano. 56(135)\n",
      "No topic for article Andrés Crelier (2007/05/01). Los aspectos éticos de la comunidad en Charles S. Peirce. 56(134)\n",
      "No topic for article Luis Villavicencio (2007/09/01). La concepción política de la persona y las visiones constitutivas del bien. 56(135)\n",
      "No topic for article Carlos García (2007/09/01). Casos Gettier y razonadores normales. 56(135)\n",
      "Time elapsed: 175.0964241027832\n",
      "For 130:\n",
      "\tCoherence: 0.4118818376656427\n",
      "\tLog Perplexity: -15.319111967197431\n",
      "Stats on topics:\n",
      "\tAverage number of docs per topic: 10.44\n",
      "\tStandard deviation: 18.65\n",
      "---\n",
      "Iteration: 0\n",
      "Training an LDA model with 140.\n",
      "Time elapsed: 493.88s\n",
      "Training the coherence model with 140.\n",
      "No topic for article Matthias Vollet (2007/05/01). Aristóteles y la economía entre los límites de la razón práctica. 56(134)\n",
      "No topic for article Irina Vaskes (2007/05/01). La axiomática estética: deconstrucción. 56(134)\n",
      "No topic for article Francisco Miro Quesada (1962/01/01). Fundamentación metafísica y fundamentación lógico-axiológica de la praxis política. 4(13)\n",
      "No topic for article Nicolás Vaughan (2007/05/01). ¿Por qué Leibniz requiere del tiempo absoluto?. 56(134)\n",
      "No topic for article Raúl Alberto Milone (2007/09/01). Lebenswelt husserliana y concepción semántica de las teorías. 56(135)\n",
      "No topic for article Tupac Cruz (2007/09/01). Urphänomen y su transposición: Benjamin y el idealismo goetheano. 56(135)\n",
      "No topic for article Andrés Crelier (2007/05/01). Los aspectos éticos de la comunidad en Charles S. Peirce. 56(134)\n",
      "No topic for article Luis Villavicencio (2007/09/01). La concepción política de la persona y las visiones constitutivas del bien. 56(135)\n",
      "No topic for article Carlos García (2007/09/01). Casos Gettier y razonadores normales. 56(135)\n",
      "Time elapsed: 168.636225938797\n",
      "For 140:\n",
      "\tCoherence: 0.44517847957803847\n",
      "\tLog Perplexity: -16.18330269545647\n",
      "Stats on topics:\n",
      "\tAverage number of docs per topic: 9.07\n",
      "\tStandard deviation: 29.45\n",
      "---\n",
      "Iteration: 1\n",
      "Training an LDA model with 140.\n",
      "Time elapsed: 493.97s\n",
      "Training the coherence model with 140.\n",
      "No topic for article Matthias Vollet (2007/05/01). Aristóteles y la economía entre los límites de la razón práctica. 56(134)\n",
      "No topic for article Irina Vaskes (2007/05/01). La axiomática estética: deconstrucción. 56(134)\n",
      "No topic for article Francisco Miro Quesada (1962/01/01). Fundamentación metafísica y fundamentación lógico-axiológica de la praxis política. 4(13)\n",
      "No topic for article Nicolás Vaughan (2007/05/01). ¿Por qué Leibniz requiere del tiempo absoluto?. 56(134)\n",
      "No topic for article Raúl Alberto Milone (2007/09/01). Lebenswelt husserliana y concepción semántica de las teorías. 56(135)\n",
      "No topic for article Tupac Cruz (2007/09/01). Urphänomen y su transposición: Benjamin y el idealismo goetheano. 56(135)\n",
      "No topic for article Andrés Crelier (2007/05/01). Los aspectos éticos de la comunidad en Charles S. Peirce. 56(134)\n",
      "No topic for article Luis Villavicencio (2007/09/01). La concepción política de la persona y las visiones constitutivas del bien. 56(135)\n",
      "No topic for article Carlos García (2007/09/01). Casos Gettier y razonadores normales. 56(135)\n",
      "Time elapsed: 212.12275338172913\n",
      "For 140:\n",
      "\tCoherence: 0.4355894863713107\n",
      "\tLog Perplexity: -16.22693738062772\n",
      "Stats on topics:\n",
      "\tAverage number of docs per topic: 9.82\n",
      "\tStandard deviation: 30.34\n",
      "---\n",
      "Iteration: 2\n",
      "Training an LDA model with 140.\n",
      "Time elapsed: 520.44s\n",
      "Training the coherence model with 140.\n",
      "No topic for article Matthias Vollet (2007/05/01). Aristóteles y la economía entre los límites de la razón práctica. 56(134)\n",
      "No topic for article Irina Vaskes (2007/05/01). La axiomática estética: deconstrucción. 56(134)\n",
      "No topic for article Francisco Miro Quesada (1962/01/01). Fundamentación metafísica y fundamentación lógico-axiológica de la praxis política. 4(13)\n",
      "No topic for article Nicolás Vaughan (2007/05/01). ¿Por qué Leibniz requiere del tiempo absoluto?. 56(134)\n",
      "No topic for article Raúl Alberto Milone (2007/09/01). Lebenswelt husserliana y concepción semántica de las teorías. 56(135)\n",
      "No topic for article Tupac Cruz (2007/09/01). Urphänomen y su transposición: Benjamin y el idealismo goetheano. 56(135)\n",
      "No topic for article Andrés Crelier (2007/05/01). Los aspectos éticos de la comunidad en Charles S. Peirce. 56(134)\n",
      "No topic for article Luis Villavicencio (2007/09/01). La concepción política de la persona y las visiones constitutivas del bien. 56(135)\n",
      "No topic for article Carlos García (2007/09/01). Casos Gettier y razonadores normales. 56(135)\n",
      "Time elapsed: 202.18674659729004\n",
      "For 140:\n",
      "\tCoherence: 0.42715016566153585\n",
      "\tLog Perplexity: -16.1698742116479\n",
      "Stats on topics:\n",
      "\tAverage number of docs per topic: 9.94\n",
      "\tStandard deviation: 20.13\n",
      "---\n"
     ]
    }
   ],
   "source": [
    "experiment = gridsearch(80, 150, 10, iterations=3)"
   ]
  },
  {
   "cell_type": "markdown",
   "metadata": {},
   "source": [
    "Finally, we can save it for further analysis later on:"
   ]
  },
  {
   "cell_type": "code",
   "execution_count": 18,
   "metadata": {},
   "outputs": [],
   "source": [
    "import json"
   ]
  },
  {
   "cell_type": "code",
   "execution_count": 19,
   "metadata": {},
   "outputs": [],
   "source": [
    "with open(\"../data/gridsearch.json\", \"w\") as fp:\n",
    "    json.dump(experiment, fp)"
   ]
  },
  {
   "cell_type": "markdown",
   "metadata": {},
   "source": [
    "## Understanding the gridsearch results "
   ]
  },
  {
   "cell_type": "code",
   "execution_count": null,
   "metadata": {},
   "outputs": [],
   "source": [
    "with open(\"../data/gridsearch.json\") as fp:\n",
    "    gridsearch = json.load(fp)"
   ]
  },
  {
   "cell_type": "code",
   "execution_count": null,
   "metadata": {},
   "outputs": [],
   "source": [
    "gridsearch"
   ]
  },
  {
   "cell_type": "code",
   "execution_count": null,
   "metadata": {},
   "outputs": [],
   "source": [
    "def plotting(gridsearch):\n",
    "    n_topics = np.array(list(gridsearch.keys())).astype(int)\n",
    "    print(n_topics)\n",
    "    coherences = []\n",
    "    log_perplexities = []\n",
    "    times_lda = []\n",
    "    times_coherence = []\n",
    "    \n",
    "    for n in n_topics:\n",
    "        iterations = gridsearch[str(n)]\n",
    "        coherences.append(\n",
    "            [v[\"coherence\"] for v in iterations.values()]\n",
    "        )\n",
    "        log_perplexities.append(\n",
    "            [v[\"log_perplexity\"] for v in iterations.values()]\n",
    "        )\n",
    "        times_lda.append(\n",
    "            [v[\"time_lda\"] for v in iterations.values()]\n",
    "        )\n",
    "        times_coherence.append(\n",
    "            [v[\"time_coherence\"] for v in iterations.values()]\n",
    "        )\n",
    "        \n",
    "    print(np.mean(coherences, axis=1))\n",
    "    \n",
    "    _, axes = plt.subplots(2, 2, figsize=(10, 10))\n",
    "    axes[0, 0].plot(n_topics, np.mean(coherences, axis=1))\n",
    "    axes[0, 0].set_title(\"Coherence metric\")\n",
    "    \n",
    "    axes[0, 1].plot(n_topics, np.mean(log_perplexities, axis=1))\n",
    "    axes[0, 1].set_title(\"Log perplexity\")\n",
    "\n",
    "    axes[1, 0].plot(n_topics, np.mean(times_lda, axis=1))\n",
    "    axes[1, 0].set_title(\"LDA training time\")\n",
    "    \n",
    "    axes[1, 1].plot(n_topics, np.mean(times_coherence, axis=1))\n",
    "    axes[1, 1].set_title(\"Coherence training time\")"
   ]
  },
  {
   "cell_type": "code",
   "execution_count": null,
   "metadata": {},
   "outputs": [],
   "source": [
    "plotting(gridsearch)"
   ]
  },
  {
   "cell_type": "markdown",
   "metadata": {},
   "source": [
    "# Optimal topics seems to be 90"
   ]
  },
  {
   "cell_type": "markdown",
   "metadata": {},
   "source": [
    "Let's reload the gridsearch and study what happens around 90 topics"
   ]
  },
  {
   "cell_type": "code",
   "execution_count": null,
   "metadata": {},
   "outputs": [],
   "source": [
    "with open(\"../data/gridsearch.json\") as fp:\n",
    "    g = json.load(fp)"
   ]
  },
  {
   "cell_type": "code",
   "execution_count": null,
   "metadata": {},
   "outputs": [],
   "source": [
    "g[\"90\"]"
   ]
  },
  {
   "cell_type": "code",
   "execution_count": null,
   "metadata": {},
   "outputs": [],
   "source": [
    "for k in g:\n",
    "    for v in g[k].values():\n",
    "        if \"-1\" in v[\"n_articles_per_topic\"]:\n",
    "            print(f\"Number of topics: {k}\")\n",
    "            print(\"Number of articles without 1st topic:\")\n",
    "            print(v[\"n_articles_per_topic\"][\"-1\"])"
   ]
  },
  {
   "cell_type": "markdown",
   "metadata": {},
   "source": [
    "From 100 onwards, 254 articles get systematically thrown to 0 topics. Weird!\n",
    "\n",
    "90 doesn't have the no-topics-for-article problem, should we stick with it?"
   ]
  },
  {
   "cell_type": "markdown",
   "metadata": {},
   "source": [
    "## Sticking with 90"
   ]
  },
  {
   "cell_type": "markdown",
   "metadata": {},
   "source": [
    "After reading online, people recommend that we save our dictionary in order to prevent randomness in it in the future. I will also set up the seed for the LDA."
   ]
  },
  {
   "cell_type": "code",
   "execution_count": 6,
   "metadata": {},
   "outputs": [],
   "source": [
    "dictionary.save(\"../data/dictionary.gensim\")\n",
    "dictionary = corpora.Dictionary.load(\"../data/dictionary.gensim\")"
   ]
  },
  {
   "cell_type": "markdown",
   "metadata": {},
   "source": [
    "It has been 47,984 days since Wittgetstein was born (as of today, 09/09/20)."
   ]
  },
  {
   "cell_type": "code",
   "execution_count": 7,
   "metadata": {},
   "outputs": [
    {
     "name": "stdout",
     "output_type": "stream",
     "text": [
      "Creating model for 50 topics...\n",
      "Done! \n",
      " ---\n",
      "Creating model for 70 topics...\n",
      "Done! \n",
      " ---\n",
      "Creating model for 90 topics...\n",
      "Done! \n",
      " ---\n",
      "CPU times: user 1h 4min 37s, sys: 39.3 s, total: 1h 5min 16s\n",
      "Wall time: 16min 58s\n"
     ]
    }
   ],
   "source": [
    "%%time\n",
    "\n",
    "for n_topics in [50, 70, 90]:\n",
    "\n",
    "    print(f\"Creating model for {n_topics} topics...\")\n",
    "    \n",
    "    lda = LdaModel(corpus, num_topics=n_topics, id2word=dictionary, passes=15, random_state=47984)\n",
    "\n",
    "    if not os.path.exists(f'models/{n_topics}_topics/'):\n",
    "        os.makedirs(f'models/{n_topics}_topics/')\n",
    "\n",
    "    lda.save(f\"models/{n_topics}_topics/LDA_gensim_{n_topics}.model\")\n",
    "    \n",
    "    print(\"Done! \\n ---\")"
   ]
  },
  {
   "cell_type": "code",
   "execution_count": null,
   "metadata": {},
   "outputs": [],
   "source": [
    "lda.save(f\"LDA_gensim_{n_topics}_final.model\")"
   ]
  },
  {
   "cell_type": "code",
   "execution_count": null,
   "metadata": {},
   "outputs": [],
   "source": [
    "ls"
   ]
  },
  {
   "cell_type": "code",
   "execution_count": null,
   "metadata": {},
   "outputs": [],
   "source": [
    "import time"
   ]
  },
  {
   "cell_type": "code",
   "execution_count": null,
   "metadata": {},
   "outputs": [],
   "source": [
    "verbose = True\n",
    "start_coherence = time.time()\n",
    "coherence_model_lda = CoherenceModel(model=lda, texts=texts, dictionary=dictionary, coherence='c_v')\n",
    "end_coherence = time.time()\n",
    "\n",
    "time_coherence = end_coherence - start_coherence\n",
    "\n",
    "if verbose:\n",
    "    print(f\"Time elapsed: {time_coherence}\")\n",
    "\n",
    "c = coherence_model_lda.get_coherence()\n",
    "log_perplexity = lda.log_perplexity(corpus)\n",
    "n_articles_per_topic = articles_per_topic(lda)\n",
    "\n",
    "if verbose:\n",
    "    print(f\"For {n_topics}:\")\n",
    "    print(\"\\t\" + f\"Coherence: {c}\")\n",
    "    print(\"\\t\" + f\"Log Perplexity: {log_perplexity}\")\n",
    "\n",
    "metadata = {\n",
    "    \"coherence\": c,\n",
    "    \"log_perplexity\": log_perplexity,\n",
    "    \"time_coherence\": time_coherence,\n",
    "    \"n_articles_per_topic\": dict(n_articles_per_topic)\n",
    "}"
   ]
  }
 ],
 "metadata": {
  "kernelspec": {
   "display_name": "Python 3",
   "language": "python",
   "name": "python3"
  },
  "language_info": {
   "codemirror_mode": {
    "name": "ipython",
    "version": 3
   },
   "file_extension": ".py",
   "mimetype": "text/x-python",
   "name": "python",
   "nbconvert_exporter": "python",
   "pygments_lexer": "ipython3",
   "version": "3.8.5"
  }
 },
 "nbformat": 4,
 "nbformat_minor": 4
}
