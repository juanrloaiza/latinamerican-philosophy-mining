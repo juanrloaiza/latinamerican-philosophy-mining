{
 "cells": [
  {
   "cell_type": "markdown",
   "metadata": {},
   "source": [
    "## LDA 3\n",
    "\n",
    "# Fitting an LDA to our corpus\n",
    "\n",
    "We plan to perform topic modeling using *Latent Dirichlet Allocation* (abbreviated as LDA). An LDA is a *generative model* that learns a group of categories (or *topics*) for words that occur together in a corpus of documents. For a technical presentation of LDAs, see [Appendix A](404).\n",
    "\n",
    "Let's start loading up our corpus:"
   ]
  },
  {
   "cell_type": "code",
   "execution_count": 3,
   "metadata": {},
   "outputs": [],
   "source": [
    "from utils.corpus import Corpus\n",
    "\n",
    "corpus = Corpus(registry_path = 'utils/article_registry.json')"
   ]
  },
  {
   "cell_type": "markdown",
   "metadata": {},
   "source": [
    "We instantiate an initial `Model` object and give it access to our corpus. We must also give it the number of topics it should train on."
   ]
  },
  {
   "cell_type": "code",
   "execution_count": 4,
   "metadata": {},
   "outputs": [
    {
     "name": "stdout",
     "output_type": "stream",
     "text": [
      "Loading corpus. Num. of articles: 771\n"
     ]
    }
   ],
   "source": [
    "from utils.model import Model\n",
    "\n",
    "n_topics = 10\n",
    "base_model = Model(corpus, n_topics)"
   ]
  },
  {
   "cell_type": "markdown",
   "metadata": {},
   "source": [
    "To train the `Model`, we can use the `train()` method. "
   ]
  },
  {
   "cell_type": "code",
   "execution_count": 5,
   "metadata": {},
   "outputs": [
    {
     "name": "stdout",
     "output_type": "stream",
     "text": [
      "Bags of words collected. Starting training...\n",
      "Model trained! Creating Topic objects...\n"
     ]
    }
   ],
   "source": [
    "base_model.train()"
   ]
  },
  {
   "cell_type": "markdown",
   "metadata": {},
   "source": [
    "We can save this model to a file using the `save()` method:"
   ]
  },
  {
   "cell_type": "code",
   "execution_count": 4,
   "metadata": {},
   "outputs": [
    {
     "name": "stdout",
     "output_type": "stream",
     "text": [
      "Saved to: gensim_models/gensim_10/yLDA_gensim_10\n"
     ]
    }
   ],
   "source": [
    "base_model.save()"
   ]
  },
  {
   "cell_type": "markdown",
   "metadata": {},
   "source": [
    "## Analyzing the Model Coherence"
   ]
  },
  {
   "cell_type": "markdown",
   "metadata": {},
   "source": [
    "Coherence is an important statistic to compute in order to calibrate how many topics should we have on our final model. We can compute coherence by calling the `get_coherence()` method."
   ]
  },
  {
   "cell_type": "code",
   "execution_count": 5,
   "metadata": {},
   "outputs": [
    {
     "data": {
      "text/plain": [
       "0.3901658822280553"
      ]
     },
     "execution_count": 5,
     "metadata": {},
     "output_type": "execute_result"
    }
   ],
   "source": [
    "base_model.get_coherence()"
   ]
  },
  {
   "cell_type": "markdown",
   "metadata": {},
   "source": [
    "This coherence score allows us to do a search for the \"best\" `n_topics`. Let's print the coherence doing a normal search between 10 and 150 topics. Notice that this coherence score is sensitive to the random number generation that is used when creating the `lda`. If we wanted to control this randomness, we can pass a `seed` parameter to the `train()` method. We will do this later when we implement our final model."
   ]
  },
  {
   "cell_type": "code",
   "execution_count": 6,
   "metadata": {},
   "outputs": [
    {
     "name": "stdout",
     "output_type": "stream",
     "text": [
      "Loading corpus. Num. of articles: 771\n",
      "Bags of words collected. Starting training...\n",
      "Model trained! Creating Topic objects...\n",
      "Topics: 10. Coherence Score: 0.335999843591321\n",
      "Loading corpus. Num. of articles: 771\n",
      "Bags of words collected. Starting training...\n",
      "Model trained! Creating Topic objects...\n",
      "Topics: 10. Coherence Score: 0.3812417291690635\n",
      "Loading corpus. Num. of articles: 771\n",
      "Bags of words collected. Starting training...\n",
      "Model trained! Creating Topic objects...\n",
      "Topics: 10. Coherence Score: 0.41825009395521695\n",
      "Loading corpus. Num. of articles: 771\n",
      "Bags of words collected. Starting training...\n",
      "Model trained! Creating Topic objects...\n",
      "Topics: 20. Coherence Score: 0.36018794128071946\n",
      "Loading corpus. Num. of articles: 771\n",
      "Bags of words collected. Starting training...\n",
      "Model trained! Creating Topic objects...\n",
      "Topics: 20. Coherence Score: 0.37382284656077935\n",
      "Loading corpus. Num. of articles: 771\n",
      "Bags of words collected. Starting training...\n",
      "Model trained! Creating Topic objects...\n",
      "Topics: 20. Coherence Score: 0.38760273201256334\n",
      "Loading corpus. Num. of articles: 771\n",
      "Bags of words collected. Starting training...\n",
      "Model trained! Creating Topic objects...\n",
      "Topics: 30. Coherence Score: 0.3828081295351214\n",
      "Loading corpus. Num. of articles: 771\n",
      "Bags of words collected. Starting training...\n",
      "Model trained! Creating Topic objects...\n",
      "Topics: 30. Coherence Score: 0.3735052292266526\n",
      "Loading corpus. Num. of articles: 771\n",
      "Bags of words collected. Starting training...\n",
      "Model trained! Creating Topic objects...\n",
      "Topics: 30. Coherence Score: 0.3813411232457611\n",
      "Loading corpus. Num. of articles: 771\n",
      "Bags of words collected. Starting training...\n",
      "Model trained! Creating Topic objects...\n",
      "Topics: 40. Coherence Score: 0.3917757335706852\n",
      "Loading corpus. Num. of articles: 771\n",
      "Bags of words collected. Starting training...\n",
      "Model trained! Creating Topic objects...\n",
      "Topics: 40. Coherence Score: 0.37757613982686544\n",
      "Loading corpus. Num. of articles: 771\n",
      "Bags of words collected. Starting training...\n",
      "Model trained! Creating Topic objects...\n",
      "Topics: 40. Coherence Score: 0.3701263458489903\n",
      "Loading corpus. Num. of articles: 771\n",
      "Bags of words collected. Starting training...\n",
      "Model trained! Creating Topic objects...\n",
      "Topics: 50. Coherence Score: 0.37244419780223725\n",
      "Loading corpus. Num. of articles: 771\n",
      "Bags of words collected. Starting training...\n",
      "Model trained! Creating Topic objects...\n",
      "Topics: 50. Coherence Score: 0.38347152620991987\n",
      "Loading corpus. Num. of articles: 771\n",
      "Bags of words collected. Starting training...\n",
      "Model trained! Creating Topic objects...\n",
      "Topics: 50. Coherence Score: 0.398001441790066\n",
      "Loading corpus. Num. of articles: 771\n",
      "Bags of words collected. Starting training...\n",
      "Model trained! Creating Topic objects...\n",
      "Topics: 60. Coherence Score: 0.40353690946315535\n",
      "Loading corpus. Num. of articles: 771\n",
      "Bags of words collected. Starting training...\n",
      "Model trained! Creating Topic objects...\n",
      "Topics: 60. Coherence Score: 0.397102128267643\n",
      "Loading corpus. Num. of articles: 771\n",
      "Bags of words collected. Starting training...\n",
      "Model trained! Creating Topic objects...\n",
      "Topics: 60. Coherence Score: 0.39469481526905587\n",
      "Loading corpus. Num. of articles: 771\n",
      "Bags of words collected. Starting training...\n",
      "Model trained! Creating Topic objects...\n",
      "Topics: 70. Coherence Score: 0.42775497206135293\n",
      "Loading corpus. Num. of articles: 771\n",
      "Bags of words collected. Starting training...\n",
      "Model trained! Creating Topic objects...\n",
      "Topics: 70. Coherence Score: 0.40631598897715104\n",
      "Loading corpus. Num. of articles: 771\n",
      "Bags of words collected. Starting training...\n",
      "Model trained! Creating Topic objects...\n",
      "Topics: 70. Coherence Score: 0.39843245795141213\n",
      "Loading corpus. Num. of articles: 771\n",
      "Bags of words collected. Starting training...\n",
      "Model trained! Creating Topic objects...\n",
      "Topics: 80. Coherence Score: 0.406047292748546\n",
      "Loading corpus. Num. of articles: 771\n",
      "Bags of words collected. Starting training...\n",
      "Model trained! Creating Topic objects...\n",
      "Topics: 80. Coherence Score: 0.4030709125917462\n",
      "Loading corpus. Num. of articles: 771\n",
      "Bags of words collected. Starting training...\n",
      "Model trained! Creating Topic objects...\n",
      "Topics: 80. Coherence Score: 0.4190816487653283\n",
      "Loading corpus. Num. of articles: 771\n",
      "Bags of words collected. Starting training...\n",
      "Model trained! Creating Topic objects...\n",
      "Topics: 90. Coherence Score: 0.42068661970892346\n",
      "Loading corpus. Num. of articles: 771\n",
      "Bags of words collected. Starting training...\n",
      "Model trained! Creating Topic objects...\n",
      "Topics: 90. Coherence Score: 0.44074123485808936\n",
      "Loading corpus. Num. of articles: 771\n",
      "Bags of words collected. Starting training...\n",
      "Model trained! Creating Topic objects...\n",
      "Topics: 90. Coherence Score: 0.40873970773798035\n",
      "Loading corpus. Num. of articles: 771\n",
      "Bags of words collected. Starting training...\n",
      "Model trained! Creating Topic objects...\n",
      "Topics: 100. Coherence Score: 0.4447557140691861\n",
      "Loading corpus. Num. of articles: 771\n",
      "Bags of words collected. Starting training...\n",
      "Model trained! Creating Topic objects...\n",
      "Topics: 100. Coherence Score: 0.43262113265415264\n",
      "Loading corpus. Num. of articles: 771\n",
      "Bags of words collected. Starting training...\n",
      "Model trained! Creating Topic objects...\n",
      "Topics: 100. Coherence Score: 0.39693503914705097\n",
      "Loading corpus. Num. of articles: 771\n",
      "Bags of words collected. Starting training...\n",
      "Model trained! Creating Topic objects...\n",
      "Topics: 110. Coherence Score: 0.4196423246184339\n",
      "Loading corpus. Num. of articles: 771\n",
      "Bags of words collected. Starting training...\n",
      "Model trained! Creating Topic objects...\n",
      "Topics: 110. Coherence Score: 0.39926702092047994\n",
      "Loading corpus. Num. of articles: 771\n",
      "Bags of words collected. Starting training...\n",
      "Model trained! Creating Topic objects...\n",
      "Topics: 110. Coherence Score: 0.39466974503445174\n",
      "Loading corpus. Num. of articles: 771\n",
      "Bags of words collected. Starting training...\n",
      "Model trained! Creating Topic objects...\n",
      "Topics: 120. Coherence Score: 0.4103787461522325\n",
      "Loading corpus. Num. of articles: 771\n",
      "Bags of words collected. Starting training...\n",
      "Model trained! Creating Topic objects...\n",
      "Topics: 120. Coherence Score: 0.4302492452293787\n",
      "Loading corpus. Num. of articles: 771\n",
      "Bags of words collected. Starting training...\n",
      "Model trained! Creating Topic objects...\n",
      "Topics: 120. Coherence Score: 0.41935119267131243\n",
      "Loading corpus. Num. of articles: 771\n",
      "Bags of words collected. Starting training...\n",
      "Model trained! Creating Topic objects...\n",
      "Topics: 130. Coherence Score: 0.4277980601834009\n",
      "Loading corpus. Num. of articles: 771\n",
      "Bags of words collected. Starting training...\n",
      "Model trained! Creating Topic objects...\n",
      "Topics: 130. Coherence Score: 0.4147541118867179\n",
      "Loading corpus. Num. of articles: 771\n",
      "Bags of words collected. Starting training...\n",
      "Model trained! Creating Topic objects...\n",
      "Topics: 130. Coherence Score: 0.4182937710811466\n",
      "Loading corpus. Num. of articles: 771\n",
      "Bags of words collected. Starting training...\n",
      "Model trained! Creating Topic objects...\n",
      "Topics: 140. Coherence Score: 0.41538378547290794\n",
      "Loading corpus. Num. of articles: 771\n",
      "Bags of words collected. Starting training...\n",
      "Model trained! Creating Topic objects...\n",
      "Topics: 140. Coherence Score: 0.41269593326773657\n",
      "Loading corpus. Num. of articles: 771\n",
      "Bags of words collected. Starting training...\n",
      "Model trained! Creating Topic objects...\n",
      "Topics: 140. Coherence Score: 0.4156133940478819\n",
      "Loading corpus. Num. of articles: 771\n",
      "Bags of words collected. Starting training...\n",
      "Model trained! Creating Topic objects...\n",
      "Topics: 150. Coherence Score: 0.4222537782549255\n",
      "Loading corpus. Num. of articles: 771\n",
      "Bags of words collected. Starting training...\n",
      "Model trained! Creating Topic objects...\n",
      "Topics: 150. Coherence Score: 0.4092331507472509\n",
      "Loading corpus. Num. of articles: 771\n",
      "Bags of words collected. Starting training...\n",
      "Model trained! Creating Topic objects...\n",
      "Topics: 150. Coherence Score: 0.42116196484571544\n",
      "Loading corpus. Num. of articles: 771\n",
      "Bags of words collected. Starting training...\n",
      "Model trained! Creating Topic objects...\n",
      "Topics: 160. Coherence Score: 0.4008034303143302\n",
      "Loading corpus. Num. of articles: 771\n",
      "Bags of words collected. Starting training...\n",
      "Model trained! Creating Topic objects...\n",
      "Topics: 160. Coherence Score: 0.42535871914277673\n",
      "Loading corpus. Num. of articles: 771\n",
      "Bags of words collected. Starting training...\n",
      "Model trained! Creating Topic objects...\n",
      "Topics: 160. Coherence Score: 0.4072948939826563\n",
      "Loading corpus. Num. of articles: 771\n",
      "Bags of words collected. Starting training...\n",
      "Model trained! Creating Topic objects...\n",
      "Topics: 170. Coherence Score: 0.4218444301002941\n",
      "Loading corpus. Num. of articles: 771\n",
      "Bags of words collected. Starting training...\n",
      "Model trained! Creating Topic objects...\n",
      "Topics: 170. Coherence Score: 0.42104084414141696\n",
      "Loading corpus. Num. of articles: 771\n",
      "Bags of words collected. Starting training...\n",
      "Model trained! Creating Topic objects...\n",
      "Topics: 170. Coherence Score: 0.4187494342420895\n",
      "Loading corpus. Num. of articles: 771\n",
      "Bags of words collected. Starting training...\n",
      "Model trained! Creating Topic objects...\n",
      "Topics: 180. Coherence Score: 0.41716412499410876\n",
      "Loading corpus. Num. of articles: 771\n",
      "Bags of words collected. Starting training...\n",
      "Model trained! Creating Topic objects...\n",
      "Topics: 180. Coherence Score: 0.4205794536875751\n",
      "Loading corpus. Num. of articles: 771\n",
      "Bags of words collected. Starting training...\n",
      "Model trained! Creating Topic objects...\n",
      "Topics: 180. Coherence Score: 0.4085162018860381\n",
      "Loading corpus. Num. of articles: 771\n",
      "Bags of words collected. Starting training...\n",
      "Model trained! Creating Topic objects...\n",
      "Topics: 190. Coherence Score: 0.41380480243628565\n",
      "Loading corpus. Num. of articles: 771\n",
      "Bags of words collected. Starting training...\n",
      "Model trained! Creating Topic objects...\n",
      "Topics: 190. Coherence Score: 0.41390122340828717\n",
      "Loading corpus. Num. of articles: 771\n",
      "Bags of words collected. Starting training...\n",
      "Model trained! Creating Topic objects...\n",
      "Topics: 190. Coherence Score: 0.4203906927559513\n"
     ]
    }
   ],
   "source": [
    "coherence_per_topics = {}\n",
    "for n_topics in range(10, 200, 10):\n",
    "    coherences = []\n",
    "    for _ in range(3):\n",
    "        model = Model(corpus, n_topics)\n",
    "        model.train()\n",
    "        model_coherence = model.get_coherence()\n",
    "        coherences.append(model_coherence)\n",
    "        print(f'Topics: {n_topics}. Coherence Score: {model_coherence}')\n",
    "    coherence_per_topics[n_topics] = coherences"
   ]
  },
  {
   "cell_type": "code",
   "execution_count": 7,
   "metadata": {},
   "outputs": [
    {
     "data": {
      "text/plain": [
       "[<matplotlib.lines.Line2D at 0x7f9de0a13310>,\n",
       " <matplotlib.lines.Line2D at 0x7f9de0a13430>,\n",
       " <matplotlib.lines.Line2D at 0x7f9de0a13550>]"
      ]
     },
     "execution_count": 7,
     "metadata": {},
     "output_type": "execute_result"
    },
    {
     "data": {
      "image/png": "[encoded data removed]",
      "text/plain": [
       "<Figure size 432x288 with 1 Axes>"
      ]
     },
     "metadata": {
      "needs_background": "light"
     },
     "output_type": "display_data"
    }
   ],
   "source": [
    "import numpy as np\n",
    "import matplotlib.pyplot as plt\n",
    "\n",
    "x = list(coherence_per_topics.keys())\n",
    "y = [coherence_per_topics[n] for n in x]\n",
    "\n",
    "plt.plot(x, y, \"--r\")"
   ]
  },
  {
   "cell_type": "markdown",
   "metadata": {},
   "source": [
    "As we can see, the coherence moves between 0.39 and 0.43. The optimal amount of topics seems to be upwards of 100 topics. However, we will run this same gridsearch, but storing more metadata about each model (such as: amount of documents per topic, and time it takes to train)"
   ]
  },
  {
   "cell_type": "markdown",
   "metadata": {},
   "source": [
    "## Running a more complete grid-search"
   ]
  },
  {
   "cell_type": "markdown",
   "metadata": {},
   "source": [
    "The last section shows we can compare different models and calibrate an optimal number of topics by training several models on a given number of topics. Now we will implement this experiment using a `gridsearch()` function. This function also makes use of the `get_stats()` method we included for each model."
   ]
  },
  {
   "cell_type": "markdown",
   "metadata": {},
   "source": [
    "TODO: Run it again after addressing this comment: https://github.com/RaRe-Technologies/gensim/issues/2115#issuecomment-443113360"
   ]
  },
  {
   "cell_type": "code",
   "execution_count": 8,
   "metadata": {},
   "outputs": [],
   "source": [
    "def gridsearch(min_topics, max_topics, step, iterations=3, verbose=True):\n",
    "    \"\"\"\n",
    "    Computes an array where we store statistics for each model. We run a search\n",
    "    n number of times per number of topics and record a set of statistics for each model.\n",
    "    At the end we will have n models per number of topics to compare.\n",
    "\n",
    "    Returns an array of the following form:\n",
    "\n",
    "    experiment = {\n",
    "        n_topics: {\n",
    "            0: [model(n_topics = 0).get_stats * iterations],\n",
    "            1: [model(n_topics = 1).get_stats * iterations],\n",
    "            ...\n",
    "            iterations - 1: [model(n_topics = iterations - 1).get_stats()]\n",
    "        }\n",
    "    }\n",
    "    \n",
    "    We expect all these inner model_stats() to be slightly different\n",
    "    due to stochasticity in the models.\n",
    "    \"\"\"\n",
    "    \n",
    "    experiment = {}\n",
    "    for n_topics in range(min_topics, max_topics, step):\n",
    "        experiment[n_topics] = {}\n",
    "        print(f\"\\nRunning experiment for {n_topics} topics.\")\n",
    "        print(\"----------\")\n",
    "        for i in range(iterations):\n",
    "            if verbose:\n",
    "                print(f\"Iteration: {i}\")\n",
    "\n",
    "            experiment[n_topics][i] = Model(corpus, n_topics).get_stats()\n",
    "\n",
    "    return experiment"
   ]
  },
  {
   "cell_type": "markdown",
   "metadata": {},
   "source": [
    "**Careful:** this gridsearch can take a whole evening."
   ]
  },
  {
   "cell_type": "code",
   "execution_count": 9,
   "metadata": {
    "scrolled": true
   },
   "outputs": [
    {
     "name": "stdout",
     "output_type": "stream",
     "text": [
      "\n",
      "Running experiment for 80 topics.\n",
      "----------\n",
      "Iteration: 0\n",
      "Loading corpus. Num. of articles: 771\n",
      "Timing training...\n",
      "Bags of words collected. Starting training...\n",
      "Model trained! Creating Topic objects...\n",
      "Getting model coherence...\n",
      "Iteration: 1\n",
      "Loading corpus. Num. of articles: 771\n",
      "Timing training...\n",
      "Bags of words collected. Starting training...\n",
      "Model trained! Creating Topic objects...\n",
      "Getting model coherence...\n",
      "Iteration: 2\n",
      "Loading corpus. Num. of articles: 771\n",
      "Timing training...\n",
      "Bags of words collected. Starting training...\n",
      "Model trained! Creating Topic objects...\n",
      "Getting model coherence...\n",
      "\n",
      "Running experiment for 90 topics.\n",
      "----------\n",
      "Iteration: 0\n",
      "Loading corpus. Num. of articles: 771\n",
      "Timing training...\n",
      "Bags of words collected. Starting training...\n",
      "Model trained! Creating Topic objects...\n",
      "Getting model coherence...\n",
      "Iteration: 1\n",
      "Loading corpus. Num. of articles: 771\n",
      "Timing training...\n",
      "Bags of words collected. Starting training...\n",
      "Model trained! Creating Topic objects...\n",
      "Getting model coherence...\n",
      "Iteration: 2\n",
      "Loading corpus. Num. of articles: 771\n",
      "Timing training...\n",
      "Bags of words collected. Starting training...\n",
      "Model trained! Creating Topic objects...\n",
      "Getting model coherence...\n",
      "\n",
      "Running experiment for 100 topics.\n",
      "----------\n",
      "Iteration: 0\n",
      "Loading corpus. Num. of articles: 771\n",
      "Timing training...\n",
      "Bags of words collected. Starting training...\n",
      "Model trained! Creating Topic objects...\n",
      "Getting model coherence...\n",
      "Iteration: 1\n",
      "Loading corpus. Num. of articles: 771\n",
      "Timing training...\n",
      "Bags of words collected. Starting training...\n",
      "Model trained! Creating Topic objects...\n",
      "Getting model coherence...\n",
      "Iteration: 2\n",
      "Loading corpus. Num. of articles: 771\n",
      "Timing training...\n",
      "Bags of words collected. Starting training...\n",
      "Model trained! Creating Topic objects...\n",
      "Getting model coherence...\n"
     ]
    }
   ],
   "source": [
    "experiment = gridsearch(80, 150, 10, iterations=3)"
   ]
  },
  {
   "cell_type": "markdown",
   "metadata": {},
   "source": [
    "Finally, we can save it for further analysis later on:"
   ]
  },
  {
   "cell_type": "code",
   "execution_count": 10,
   "metadata": {},
   "outputs": [],
   "source": [
    "import json"
   ]
  },
  {
   "cell_type": "code",
   "execution_count": 11,
   "metadata": {},
   "outputs": [],
   "source": [
    "with open(\"../data/gridsearch.json\", \"w\") as fp:\n",
    "    json.dump(experiment, fp)"
   ]
  },
  {
   "cell_type": "markdown",
   "metadata": {},
   "source": [
    "## Understanding the gridsearch results "
   ]
  },
  {
   "cell_type": "code",
   "execution_count": 12,
   "metadata": {},
   "outputs": [],
   "source": [
    "with open(\"../data/gridsearch.json\") as fp:\n",
    "    gridsearch = json.load(fp)"
   ]
  },
  {
   "cell_type": "code",
   "execution_count": 13,
   "metadata": {},
   "outputs": [
    {
     "data": {
      "text/plain": [
       "{'80': {'0': {'coherence': 0.4047119304989887,\n",
       "   'log_perplexity': -12.062238247479334,\n",
       "   'time_lda': 792.5756280422211,\n",
       "   'time_coherence': 74.07882285118103,\n",
       "   'orphans': 746,\n",
       "   'avg_num_per_topic': 0.625,\n",
       "   'std_num_per_topic': 0.899652710772329},\n",
       "  '1': {'coherence': 0.4204455911034713,\n",
       "   'log_perplexity': -12.021909924130577,\n",
       "   'time_lda': 795.3768892288208,\n",
       "   'time_coherence': 81.40315651893616,\n",
       "   'orphans': 750,\n",
       "   'avg_num_per_topic': 0.525,\n",
       "   'std_num_per_topic': 0.7741931283601011},\n",
       "  '2': {'coherence': 0.41608414859982046,\n",
       "   'log_perplexity': -12.087465580926331,\n",
       "   'time_lda': 818.9453876018524,\n",
       "   'time_coherence': 83.9928331375122,\n",
       "   'orphans': 744,\n",
       "   'avg_num_per_topic': 0.675,\n",
       "   'std_num_per_topic': 0.9971835337589566}},\n",
       " '90': {'0': {'coherence': 0.40884667322149826,\n",
       "   'log_perplexity': -12.630776089306574,\n",
       "   'time_lda': 964.1778750419617,\n",
       "   'time_coherence': 86.45833325386047,\n",
       "   'orphans': 741,\n",
       "   'avg_num_per_topic': 0.6666666666666666,\n",
       "   'std_num_per_topic': 1.2018504251546633},\n",
       "  '1': {'coherence': 0.43527518694706807,\n",
       "   'log_perplexity': -12.729371389599105,\n",
       "   'time_lda': 965.6527936458588,\n",
       "   'time_coherence': 87.27617835998535,\n",
       "   'orphans': 747,\n",
       "   'avg_num_per_topic': 0.5333333333333333,\n",
       "   'std_num_per_topic': 0.9568466729604883},\n",
       "  '2': {'coherence': 0.3933955804897393,\n",
       "   'log_perplexity': -12.660372093564968,\n",
       "   'time_lda': 960.5202634334564,\n",
       "   'time_coherence': 81.33149313926697,\n",
       "   'orphans': 747,\n",
       "   'avg_num_per_topic': 0.5333333333333333,\n",
       "   'std_num_per_topic': 0.8844332774281066}},\n",
       " '100': {'0': {'coherence': 0.42608637215244294,\n",
       "   'log_perplexity': -13.136326906472258,\n",
       "   'time_lda': 723.4250965118408,\n",
       "   'time_coherence': 93.18005800247192,\n",
       "   'orphans': 744,\n",
       "   'avg_num_per_topic': 0.54,\n",
       "   'std_num_per_topic': 1.0432641084595982},\n",
       "  '1': {'coherence': 0.40644162896333774,\n",
       "   'log_perplexity': -13.236420215973991,\n",
       "   'time_lda': 723.81933760643,\n",
       "   'time_coherence': 88.86443066596985,\n",
       "   'orphans': 744,\n",
       "   'avg_num_per_topic': 0.54,\n",
       "   'std_num_per_topic': 0.9425497334358544},\n",
       "  '2': {'coherence': 0.4024775423989197,\n",
       "   'log_perplexity': -13.319382479404997,\n",
       "   'time_lda': 738.3380882740021,\n",
       "   'time_coherence': 109.073401927948,\n",
       "   'orphans': 747,\n",
       "   'avg_num_per_topic': 0.48,\n",
       "   'std_num_per_topic': 1.3526270735128734}}}"
      ]
     },
     "execution_count": 13,
     "metadata": {},
     "output_type": "execute_result"
    }
   ],
   "source": [
    "gridsearch"
   ]
  },
  {
   "cell_type": "code",
   "execution_count": 14,
   "metadata": {},
   "outputs": [],
   "source": [
    "def plotting(gridsearch):\n",
    "    n_topics = np.array(list(gridsearch.keys())).astype(int)\n",
    "    print(n_topics)\n",
    "    coherences = []\n",
    "    log_perplexities = []\n",
    "    times_lda = []\n",
    "    times_coherence = []\n",
    "    \n",
    "    for n in n_topics:\n",
    "        iterations = gridsearch[str(n)]\n",
    "        coherences.append(\n",
    "            [v[\"coherence\"] for v in iterations.values()]\n",
    "        )\n",
    "        log_perplexities.append(\n",
    "            [v[\"log_perplexity\"] for v in iterations.values()]\n",
    "        )\n",
    "        times_lda.append(\n",
    "            [v[\"time_lda\"] for v in iterations.values()]\n",
    "        )\n",
    "        times_coherence.append(\n",
    "            [v[\"time_coherence\"] for v in iterations.values()]\n",
    "        )\n",
    "        \n",
    "    print(np.mean(coherences, axis=1))\n",
    "    \n",
    "    _, axes = plt.subplots(2, 2, figsize=(10, 10))\n",
    "    axes[0, 0].plot(n_topics, np.mean(coherences, axis=1))\n",
    "    axes[0, 0].set_title(\"Coherence metric\")\n",
    "    \n",
    "    axes[0, 1].plot(n_topics, np.mean(log_perplexities, axis=1))\n",
    "    axes[0, 1].set_title(\"Log perplexity\")\n",
    "\n",
    "    axes[1, 0].plot(n_topics, np.mean(times_lda, axis=1))\n",
    "    axes[1, 0].set_title(\"LDA training time\")\n",
    "    \n",
    "    axes[1, 1].plot(n_topics, np.mean(times_coherence, axis=1))\n",
    "    axes[1, 1].set_title(\"Coherence training time\")"
   ]
  },
  {
   "cell_type": "code",
   "execution_count": 15,
   "metadata": {},
   "outputs": [
    {
     "name": "stdout",
     "output_type": "stream",
     "text": [
      "[ 80  90 100]\n",
      "[0.41374722 0.41250581 0.41166851]\n"
     ]
    },
    {
     "data": {
      "image/png": "[encoded data removed]",
      "text/plain": [
       "<Figure size 720x720 with 4 Axes>"
      ]
     },
     "metadata": {
      "needs_background": "light"
     },
     "output_type": "display_data"
    }
   ],
   "source": [
    "plotting(gridsearch)"
   ]
  },
  {
   "cell_type": "markdown",
   "metadata": {},
   "source": [
    "# Optimal topics seems to be 90"
   ]
  },
  {
   "cell_type": "markdown",
   "metadata": {},
   "source": [
    "Let's reload the gridsearch and study what happens around 90 topics"
   ]
  },
  {
   "cell_type": "code",
   "execution_count": 16,
   "metadata": {},
   "outputs": [],
   "source": [
    "with open(\"../data/gridsearch.json\") as fp:\n",
    "    g = json.load(fp)"
   ]
  },
  {
   "cell_type": "code",
   "execution_count": 17,
   "metadata": {},
   "outputs": [
    {
     "data": {
      "text/plain": [
       "{'0': {'coherence': 0.40884667322149826,\n",
       "  'log_perplexity': -12.630776089306574,\n",
       "  'time_lda': 964.1778750419617,\n",
       "  'time_coherence': 86.45833325386047,\n",
       "  'orphans': 741,\n",
       "  'avg_num_per_topic': 0.6666666666666666,\n",
       "  'std_num_per_topic': 1.2018504251546633},\n",
       " '1': {'coherence': 0.43527518694706807,\n",
       "  'log_perplexity': -12.729371389599105,\n",
       "  'time_lda': 965.6527936458588,\n",
       "  'time_coherence': 87.27617835998535,\n",
       "  'orphans': 747,\n",
       "  'avg_num_per_topic': 0.5333333333333333,\n",
       "  'std_num_per_topic': 0.9568466729604883},\n",
       " '2': {'coherence': 0.3933955804897393,\n",
       "  'log_perplexity': -12.660372093564968,\n",
       "  'time_lda': 960.5202634334564,\n",
       "  'time_coherence': 81.33149313926697,\n",
       "  'orphans': 747,\n",
       "  'avg_num_per_topic': 0.5333333333333333,\n",
       "  'std_num_per_topic': 0.8844332774281066}}"
      ]
     },
     "execution_count": 17,
     "metadata": {},
     "output_type": "execute_result"
    }
   ],
   "source": [
    "g[\"90\"]"
   ]
  },
  {
   "cell_type": "code",
   "execution_count": 18,
   "metadata": {},
   "outputs": [
    {
     "ename": "KeyError",
     "evalue": "'n_articles_per_topic'",
     "output_type": "error",
     "traceback": [
      "\u001b[0;31m---------------------------------------------------------------------------\u001b[0m",
      "\u001b[0;31mKeyError\u001b[0m                                  Traceback (most recent call last)",
      "\u001b[1;32m/home/juanrloaiza/JournalMiningProject/latinamerican-philosophy-mining/notebooks/3-LDA-using-gensim.ipynb Cell 34'\u001b[0m in \u001b[0;36m<cell line: 1>\u001b[0;34m()\u001b[0m\n\u001b[1;32m      <a href='vscode-notebook-cell:/home/juanrloaiza/JournalMiningProject/latinamerican-philosophy-mining/notebooks/3-LDA-using-gensim.ipynb#ch0000033?line=0'>1</a>\u001b[0m \u001b[39mfor\u001b[39;00m k \u001b[39min\u001b[39;00m g:\n\u001b[1;32m      <a href='vscode-notebook-cell:/home/juanrloaiza/JournalMiningProject/latinamerican-philosophy-mining/notebooks/3-LDA-using-gensim.ipynb#ch0000033?line=1'>2</a>\u001b[0m     \u001b[39mfor\u001b[39;00m v \u001b[39min\u001b[39;00m g[k]\u001b[39m.\u001b[39mvalues():\n\u001b[0;32m----> <a href='vscode-notebook-cell:/home/juanrloaiza/JournalMiningProject/latinamerican-philosophy-mining/notebooks/3-LDA-using-gensim.ipynb#ch0000033?line=2'>3</a>\u001b[0m         \u001b[39mif\u001b[39;00m \u001b[39m\"\u001b[39m\u001b[39m-1\u001b[39m\u001b[39m\"\u001b[39m \u001b[39min\u001b[39;00m v[\u001b[39m\"\u001b[39;49m\u001b[39mn_articles_per_topic\u001b[39;49m\u001b[39m\"\u001b[39;49m]:\n\u001b[1;32m      <a href='vscode-notebook-cell:/home/juanrloaiza/JournalMiningProject/latinamerican-philosophy-mining/notebooks/3-LDA-using-gensim.ipynb#ch0000033?line=3'>4</a>\u001b[0m             \u001b[39mprint\u001b[39m(\u001b[39mf\u001b[39m\u001b[39m\"\u001b[39m\u001b[39mNumber of topics: \u001b[39m\u001b[39m{\u001b[39;00mk\u001b[39m}\u001b[39;00m\u001b[39m\"\u001b[39m)\n\u001b[1;32m      <a href='vscode-notebook-cell:/home/juanrloaiza/JournalMiningProject/latinamerican-philosophy-mining/notebooks/3-LDA-using-gensim.ipynb#ch0000033?line=4'>5</a>\u001b[0m             \u001b[39mprint\u001b[39m(\u001b[39m\"\u001b[39m\u001b[39mNumber of articles without 1st topic:\u001b[39m\u001b[39m\"\u001b[39m)\n",
      "\u001b[0;31mKeyError\u001b[0m: 'n_articles_per_topic'"
     ]
    }
   ],
   "source": [
    "for k in g:\n",
    "    for v in g[k].values():\n",
    "        if \"-1\" in v[\"n_articles_per_topic\"]:\n",
    "            print(f\"Number of topics: {k}\")\n",
    "            print(\"Number of articles without 1st topic:\")\n",
    "            print(v[\"n_articles_per_topic\"][\"-1\"])"
   ]
  },
  {
   "cell_type": "markdown",
   "metadata": {},
   "source": [
    "From 100 onwards, 254 articles get systematically thrown to 0 topics. Weird!\n",
    "\n",
    "90 doesn't have the no-topics-for-article problem, should we stick with it?"
   ]
  },
  {
   "cell_type": "markdown",
   "metadata": {},
   "source": [
    "## Sticking with 90"
   ]
  },
  {
   "cell_type": "markdown",
   "metadata": {},
   "source": [
    "After reading online, people recommend that we save our dictionary in order to prevent randomness in it in the future. I will also set up the seed for the LDA."
   ]
  },
  {
   "cell_type": "markdown",
   "metadata": {},
   "source": [
    "It has been 47,984 days since Wittgetstein was born (as of today, 09/09/20)."
   ]
  },
  {
   "cell_type": "code",
   "execution_count": null,
   "metadata": {},
   "outputs": [
    {
     "name": "stdout",
     "output_type": "stream",
     "text": [
      "Loading corpus. Num. of articles: 771\n",
      "Bags of words collected. Starting training...\n",
      "Model trained! Creating Topic objects...\n",
      "Saved to: gensim_models/gensim_90/yLDA_gensim_90\n"
     ]
    }
   ],
   "source": [
    "final_model = Model(corpus, 90)\n",
    "final_model.train(seed = 47984)\n",
    "final_model.save()"
   ]
  },
  {
   "cell_type": "code",
   "execution_count": null,
   "metadata": {},
   "outputs": [],
   "source": [
    "print(final_model.get_stats())"
   ]
  }
 ],
 "metadata": {
  "kernelspec": {
   "display_name": "Python 3",
   "language": "python",
   "name": "python3"
  },
  "language_info": {
   "codemirror_mode": {
    "name": "ipython",
    "version": 3
   },
   "file_extension": ".py",
   "mimetype": "text/x-python",
   "name": "python",
   "nbconvert_exporter": "python",
   "pygments_lexer": "ipython3",
   "version": "3.9.12"
  }
 },
 "nbformat": 4,
 "nbformat_minor": 4
}
