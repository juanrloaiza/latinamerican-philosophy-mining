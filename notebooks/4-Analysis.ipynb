{
    "cells": [
        {
            "cell_type": "code",
            "execution_count": 1,
            "metadata": {},
            "outputs": [
                {
                    "name": "stdout",
                    "output_type": "stream",
                    "text": [
                        "1950 - 1959: 38\n",
                        "1960 - 1969: 31\n",
                        "1970 - 1979: 53\n",
                        "1980 - 1989: 94\n",
                        "1990 - 1999: 108\n",
                        "2000 - 2009: 144\n",
                        "2010 - 2019: 341\n",
                        "2020 - 2029: 66\n"
                    ]
                }
            ],
            "source": [
                "from utils.corpus import Corpus\n",
                "\n",
                "corpus = Corpus(registry_path = 'utils/article_registry.json')\n",
                "\n",
                "from utils.model import Model\n",
                "\n",
                "model = Model(corpus, 90, seed=36775)\n",
                "model.load_topics()"
            ]
        },
        {
            "cell_type": "code",
            "execution_count": 3,
            "metadata": {},
            "outputs": [],
            "source": [
                "import pandas as pd"
            ]
        },
        {
            "cell_type": "code",
            "execution_count": 4,
            "metadata": {},
            "outputs": [],
            "source": [
                "from collections import Counter\n",
                "\n",
                "main_areas_count = Counter([topic.tags[0].capitalize() for topic in model.topics if topic.tags])"
            ]
        },
        {
            "cell_type": "code",
            "execution_count": 5,
            "metadata": {},
            "outputs": [],
            "source": [
                "import matplotlib.pyplot as plt"
            ]
        },
        {
            "cell_type": "code",
            "execution_count": 6,
            "metadata": {},
            "outputs": [
                {
                    "data": {
                        "text/plain": [
                            "<BarContainer object of 6 artists>"
                        ]
                    },
                    "execution_count": 6,
                    "metadata": {},
                    "output_type": "execute_result"
                },
                {
                    "data": {
                        "image/png": "[encoded data removed]",
                        "text/plain": [
                            "<Figure size 432x288 with 1 Axes>"
                        ]
                    },
                    "metadata": {
                        "needs_background": "light"
                    },
                    "output_type": "display_data"
                }
            ],
            "source": [
                "plt.barh(list(main_areas_count.keys()), main_areas_count.values())"
            ]
        },
        {
            "cell_type": "code",
            "execution_count": 7,
            "metadata": {},
            "outputs": [],
            "source": [
                "import datetime as dt"
            ]
        },
        {
            "cell_type": "code",
            "execution_count": 13,
            "metadata": {},
            "outputs": [],
            "source": [
                "data = []\n",
                "\n",
                "for topic in model.topics:\n",
                "    for doc, _ in topic.docs:\n",
                "        if topic.tags:\n",
                "            data.append((topic.tags[0].capitalize(), dt.datetime.strptime(doc.date, '%Y/%m/%d').year))"
            ]
        },
        {
            "cell_type": "code",
            "execution_count": 29,
            "metadata": {},
            "outputs": [],
            "source": [
                "df = pd.DataFrame(data, columns = ['Main area', 'Date'])"
            ]
        },
        {
            "cell_type": "code",
            "execution_count": 20,
            "metadata": {},
            "outputs": [
                {
                    "data": {
                        "text/html": [
                            "<div>\n",
                            "<style scoped>\n",
                            "    .dataframe tbody tr th:only-of-type {\n",
                            "        vertical-align: middle;\n",
                            "    }\n",
                            "\n",
                            "    .dataframe tbody tr th {\n",
                            "        vertical-align: top;\n",
                            "    }\n",
                            "\n",
                            "    .dataframe thead th {\n",
                            "        text-align: right;\n",
                            "    }\n",
                            "</style>\n",
                            "<table border=\"1\" class=\"dataframe\">\n",
                            "  <thead>\n",
                            "    <tr style=\"text-align: right;\">\n",
                            "      <th></th>\n",
                            "      <th>Main area</th>\n",
                            "      <th>Date</th>\n",
                            "    </tr>\n",
                            "  </thead>\n",
                            "  <tbody>\n",
                            "    <tr>\n",
                            "      <th>0</th>\n",
                            "      <td>Value theory</td>\n",
                            "      <td>2011</td>\n",
                            "    </tr>\n",
                            "    <tr>\n",
                            "      <th>1</th>\n",
                            "      <td>Value theory</td>\n",
                            "      <td>2021</td>\n",
                            "    </tr>\n",
                            "    <tr>\n",
                            "      <th>2</th>\n",
                            "      <td>Value theory</td>\n",
                            "      <td>2010</td>\n",
                            "    </tr>\n",
                            "    <tr>\n",
                            "      <th>3</th>\n",
                            "      <td>Value theory</td>\n",
                            "      <td>2018</td>\n",
                            "    </tr>\n",
                            "    <tr>\n",
                            "      <th>4</th>\n",
                            "      <td>Value theory</td>\n",
                            "      <td>2013</td>\n",
                            "    </tr>\n",
                            "  </tbody>\n",
                            "</table>\n",
                            "</div>"
                        ],
                        "text/plain": [
                            "      Main area  Date\n",
                            "0  Value theory  2011\n",
                            "1  Value theory  2021\n",
                            "2  Value theory  2010\n",
                            "3  Value theory  2018\n",
                            "4  Value theory  2013"
                        ]
                    },
                    "execution_count": 20,
                    "metadata": {},
                    "output_type": "execute_result"
                }
            ],
            "source": [
                "df.head()"
            ]
        },
        {
            "cell_type": "code",
            "execution_count": 30,
            "metadata": {},
            "outputs": [
                {
                    "data": {
                        "text/html": [
                            "<div>\n",
                            "<style scoped>\n",
                            "    .dataframe tbody tr th:only-of-type {\n",
                            "        vertical-align: middle;\n",
                            "    }\n",
                            "\n",
                            "    .dataframe tbody tr th {\n",
                            "        vertical-align: top;\n",
                            "    }\n",
                            "\n",
                            "    .dataframe thead th {\n",
                            "        text-align: right;\n",
                            "    }\n",
                            "</style>\n",
                            "<table border=\"1\" class=\"dataframe\">\n",
                            "  <thead>\n",
                            "    <tr style=\"text-align: right;\">\n",
                            "      <th></th>\n",
                            "      <th>Date</th>\n",
                            "    </tr>\n",
                            "    <tr>\n",
                            "      <th>Main area</th>\n",
                            "      <th></th>\n",
                            "    </tr>\n",
                            "  </thead>\n",
                            "  <tbody>\n",
                            "    <tr>\n",
                            "      <th>History of western philosophy</th>\n",
                            "      <td>222</td>\n",
                            "    </tr>\n",
                            "    <tr>\n",
                            "      <th>Metaphysics and epistemology</th>\n",
                            "      <td>249</td>\n",
                            "    </tr>\n",
                            "    <tr>\n",
                            "      <th>Other</th>\n",
                            "      <td>231</td>\n",
                            "    </tr>\n",
                            "    <tr>\n",
                            "      <th>Philosophical traditions</th>\n",
                            "      <td>84</td>\n",
                            "    </tr>\n",
                            "    <tr>\n",
                            "      <th>Science, logic, and mathematics</th>\n",
                            "      <td>160</td>\n",
                            "    </tr>\n",
                            "    <tr>\n",
                            "      <th>Value theory</th>\n",
                            "      <td>571</td>\n",
                            "    </tr>\n",
                            "  </tbody>\n",
                            "</table>\n",
                            "</div>"
                        ],
                        "text/plain": [
                            "                                 Date\n",
                            "Main area                            \n",
                            "History of western philosophy     222\n",
                            "Metaphysics and epistemology      249\n",
                            "Other                             231\n",
                            "Philosophical traditions           84\n",
                            "Science, logic, and mathematics   160\n",
                            "Value theory                      571"
                        ]
                    },
                    "execution_count": 30,
                    "metadata": {},
                    "output_type": "execute_result"
                }
            ],
            "source": [
                "df.groupby('Main area').count()"
            ]
        },
        {
            "cell_type": "code",
            "execution_count": 28,
            "metadata": {},
            "outputs": [
                {
                    "data": {
                        "text/html": [
                            "<div>\n",
                            "<style scoped>\n",
                            "    .dataframe tbody tr th:only-of-type {\n",
                            "        vertical-align: middle;\n",
                            "    }\n",
                            "\n",
                            "    .dataframe tbody tr th {\n",
                            "        vertical-align: top;\n",
                            "    }\n",
                            "\n",
                            "    .dataframe thead th {\n",
                            "        text-align: right;\n",
                            "    }\n",
                            "</style>\n",
                            "<table border=\"1\" class=\"dataframe\">\n",
                            "  <thead>\n",
                            "    <tr style=\"text-align: right;\">\n",
                            "      <th></th>\n",
                            "    </tr>\n",
                            "    <tr>\n",
                            "      <th>Main area</th>\n",
                            "    </tr>\n",
                            "  </thead>\n",
                            "  <tbody>\n",
                            "    <tr>\n",
                            "      <th>History of western philosophy</th>\n",
                            "    </tr>\n",
                            "    <tr>\n",
                            "      <th>Metaphysics and epistemology</th>\n",
                            "    </tr>\n",
                            "    <tr>\n",
                            "      <th>Other</th>\n",
                            "    </tr>\n",
                            "    <tr>\n",
                            "      <th>Philosophical traditions</th>\n",
                            "    </tr>\n",
                            "    <tr>\n",
                            "      <th>Science, logic, and mathematics</th>\n",
                            "    </tr>\n",
                            "    <tr>\n",
                            "      <th>Value theory</th>\n",
                            "    </tr>\n",
                            "  </tbody>\n",
                            "</table>\n",
                            "</div>"
                        ],
                        "text/plain": [
                            "Empty DataFrame\n",
                            "Columns: []\n",
                            "Index: [History of western philosophy, Metaphysics and epistemology, Other, Philosophical traditions, Science, logic, and mathematics, Value theory]"
                        ]
                    },
                    "execution_count": 28,
                    "metadata": {},
                    "output_type": "execute_result"
                }
            ],
            "source": [
                "df"
            ]
        },
        {
            "cell_type": "code",
            "execution_count": 15,
            "metadata": {},
            "outputs": [],
            "source": [
                "import seaborn as sns"
            ]
        },
        {
            "cell_type": "code",
            "execution_count": 16,
            "metadata": {},
            "outputs": [],
            "source": [
                "df.columns = ['Main area', 'Year', 'Docs']"
            ]
        },
        {
            "cell_type": "code",
            "execution_count": 18,
            "metadata": {},
            "outputs": [
                {
                    "data": {
                        "text/plain": [
                            "<AxesSubplot:xlabel='Year', ylabel='Docs'>"
                        ]
                    },
                    "execution_count": 18,
                    "metadata": {},
                    "output_type": "execute_result"
                },
                {
                    "data": {
                        "image/png": "[encoded data removed]",
                        "text/plain": [
                            "<Figure size 432x288 with 1 Axes>"
                        ]
                    },
                    "metadata": {
                        "needs_background": "light"
                    },
                    "output_type": "display_data"
                }
            ],
            "source": [
                "sns.lineplot(data = df, x = 'Year', y = 'Docs', hue = 'Main area')"
            ]
        },
        {
            "cell_type": "markdown",
            "metadata": {},
            "source": [
                "## Stream graph"
            ]
        },
        {
            "cell_type": "code",
            "execution_count": null,
            "metadata": {},
            "outputs": [],
            "source": [
                "x = np.arange(1950, 2022, 5)\n",
                "\n",
                "y = []\n",
                "for topic in topics:\n",
                "    topic_array = np.zeros(len(x))\n",
                "    for doc in topic.docs:\n",
                "        bin = (int(doc.date[:4]) - 1950) // 5\n",
                "        topic_array[bin] += 1\n",
                "    y.append(topic_array)"
            ]
        },
        {
            "cell_type": "code",
            "execution_count": null,
            "metadata": {},
            "outputs": [],
            "source": [
                "fig, ax = plt.subplots(figsize=(10, 7))\n",
                "_ = ax.stackplot(x, [y_ for y_ in y if np.mean(y_) > 1], baseline='sym')"
            ]
        },
        {
            "cell_type": "markdown",
            "metadata": {},
            "source": [
                "Code copied from [Streamgraph with Python and Matplotlib\n",
                "](https://www.python-graph-gallery.com/streamchart-basic-matplotlib)"
            ]
        },
        {
            "cell_type": "code",
            "execution_count": null,
            "metadata": {},
            "outputs": [],
            "source": [
                "from scipy import stats"
            ]
        },
        {
            "cell_type": "code",
            "execution_count": null,
            "metadata": {},
            "outputs": [],
            "source": [
                "def gaussian_smooth(x, y, sd):\n",
                "    weights = np.array([stats.norm.pdf(x, m, sd) for m in x])\n",
                "    weights = weights / weights.sum(1)\n",
                "    return (weights * y).sum(1)"
            ]
        },
        {
            "cell_type": "code",
            "execution_count": null,
            "metadata": {},
            "outputs": [],
            "source": [
                "pd.DataFrame(y).T.describe().T.sort_values('mean')"
            ]
        },
        {
            "cell_type": "code",
            "execution_count": null,
            "metadata": {},
            "outputs": [],
            "source": [
                "fig, ax = plt.subplots(figsize=(10, 7))\n",
                "y_smoothed = [gaussian_smooth(x, y_, 10) for y_ in y if y_.mean() > 1]\n",
                "_ = ax.stackplot(x, y_smoothed, baseline=\"weighted_wiggle\", labels=[topic.tag for topic in topics])\n",
                "sns.despine(left=True)\n",
                "plt.legend()"
            ]
        }
    ],
    "metadata": {
        "kernelspec": {
            "display_name": "journal",
            "language": "python",
            "name": "python3"
        },
        "language_info": {
            "codemirror_mode": {
                "name": "ipython",
                "version": 3
            },
            "file_extension": ".py",
            "mimetype": "text/x-python",
            "name": "python",
            "nbconvert_exporter": "python",
            "pygments_lexer": "ipython3",
            "version": "3.9.12"
        }
    },
    "nbformat": 4,
    "nbformat_minor": 2
}
