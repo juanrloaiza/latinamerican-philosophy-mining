{
 "cells": [
  {
   "cell_type": "markdown",
   "metadata": {},
   "source": [
    "## LDA 3\n",
    "\n",
    "# Fitting an LDA to our corpus\n",
    "\n",
    "We plan to perform topic modeling using *Latent Dirichlet Allocation* (abbreviated as LDA). An LDA is a *generative model* that learns a group of categories (or *topics*) for words that occur together in a corpus of documents. For a technical presentation of LDAs, see [Appendix A](404).\n",
    "\n",
    "Let's start loading up our corpus:"
   ]
  },
  {
   "cell_type": "code",
   "execution_count": 28,
   "metadata": {},
   "outputs": [],
   "source": [
    "import json\n",
    "import re\n",
    "import os\n",
    "import sys \n",
    "\n",
    "# Jupyter Notebooks are not good at handling relative imports.\n",
    "# Best solution (not great practice) is to add the project's path\n",
    "# to the module loading paths of sys.\n",
    "\n",
    "module_path = os.path.abspath(os.path.join('..'))\n",
    "if module_path not in sys.path:\n",
    "    sys.path.append(module_path)\n",
    "\n",
    "from utils.loaders import loadCorpusList, saveCorpus\n",
    "\n",
    "corpusPath = '../data/clean_json'\n",
    "\n",
    "corpusList = loadCorpusList(corpusPath)\n",
    "corpusList = [a for a in corpusList if a.lang == \"es\"]"
   ]
  },
  {
   "cell_type": "code",
   "execution_count": 29,
   "metadata": {},
   "outputs": [],
   "source": [
    "import pandas as pd\n",
    "from sklearn.decomposition import LatentDirichletAllocation"
   ]
  },
  {
   "cell_type": "markdown",
   "metadata": {},
   "source": [
    "## Creating the term-document matrix"
   ]
  },
  {
   "cell_type": "markdown",
   "metadata": {},
   "source": [
    "LDAs accept as input a bag-of-words representation of each document. In this representation, we build a matrix in which each column represents a word (lemmatized and in lowercase in our analysis), and each row is a document. Thus, if the matrix is called $A$, the entry $A_{ij}$ is given by how many times word $j$ appears in document $i$."
   ]
  },
  {
   "cell_type": "markdown",
   "metadata": {},
   "source": [
    "Thankfully, there is a simple way of constructing the term-document matrix using auxiliary tools from `scikit-learn`."
   ]
  },
  {
   "cell_type": "code",
   "execution_count": 30,
   "metadata": {},
   "outputs": [],
   "source": [
    "from sklearn.feature_extraction.text import CountVectorizer"
   ]
  },
  {
   "cell_type": "code",
   "execution_count": 31,
   "metadata": {},
   "outputs": [],
   "source": [
    "documents = [a.bagOfWords for a in corpusList]"
   ]
  },
  {
   "cell_type": "code",
   "execution_count": 32,
   "metadata": {},
   "outputs": [
    {
     "data": {
      "text/plain": [
       "'   introducción querer comenzar disertación anécdota ser significativo temer convocar colega filósofo oportunidad participar asistente congreso religión organizar pontificio universidad javeriana par año atrás preguntarle temer tratar congreso concepto religioso distinto credo antiguo moderno institucional personal espiritualidad religioso etcétera   sorprender congreso dedicar ponencia temer ateísmo causar instintivamente salir boca consideración “ congreso religión temer ateísmo ausentar congreso físico antimateria ” texto formar paliar mencionar problema poner ateísmo temer suplementar filosofía religión bien considerar ateísmo religión estilar precisamente ser postura religión relevancia debatir temer religioso    consideración previo religioso frente ateo temer religioso dividir sociedad necesariamente creyente creyente ocasionar diferenciar personar compartir credo igualar interpretación librar sagrado parecer enconar ateo creyente   temer tratar escribir interesarme relación ateo creyente número personar creyente ocupar ser fiel iglesia católico romano cuestionar institución antiguo mundialmente conocido influjo occidente grande razón facilitar exponer temer religión conocimiento considerar hablar académicamente personalmente bando ventaja abordar temer   bien relación católico ateo época contemporáneo problema diálogo especialmente despreciar mutuo cuestión terminar conversación sordo despreciar error previo cometido ateo hora entablar discusión temer religioso personar creyente   pensar creyente personar idóneo hablar religión frecuentar desconocimiento ateo temer hablar error relacionar   creyente religión ateo creyente personar idóneo hablar religión pertenecer credo determinar temer debatir buscar creyente entablar discusión personar religioso terminar poner ridículo argumento ateo ateo victoria falso creyente creyente ser argumentativamente derrotar ateo irracional creyente seguir creyente discusión racional demostrar creencia pertenecer mundo fantasía yacer ignorancia ateo frente naturaleza creencia religioso explicar enfoque primeramente creyente acceder racionalmente creencia razón ser destruir racionalmente apóstol santo pablar sostener fe venir predicación cfgal     ciertamente exposición seriar argumento deductivo inductivo sostener grupo determinar proposición predicación exposición enseñanza moral espiritual explícito narración parábola creyente sencillamente identificar continuar escuchar predicación poner práctico talar enseñanza identificación predicación voluntario predicación talar enseñanza comenzar creyente caso niñez constitutivo ser personar individuo episodio llamar “ conversión ” poder seguir antedecir identificación predicación modo creyente dueño creencia vida   creencia religioso creyente “ acontecer ” decidir libremente creer consecuencia creyente personar idóneo hablar temer religioso contrario mujer embarazar conocimiento obstetricia personar idóneo hablar científicamente crecer embrión vientre máximo decirnos experiencia subjetivo embarazar ateo preguntar cuestionar creyente temer religión preguntar experiencia subjetivo relación temer recordar fracasar rotundo prueba filosófico existencia dios referir fracasar término lógico resultar adverso propósito fomentar creencia religioso personar creyente inicial    ignorancia ateo cuestionar postura iglesia católico crítico religión profeso sostener aceptar crítico venir “ ” iglesia sonar planteamiento oír ateo iglesia razón sostenerlo tratar mostrar   considerar iglesia acepto crítico sencillamente reconocer   creyente comprender seriar asunto creyente entender   conocimiento específico criticar religión contrario crítico convertir infundado merar prejuicio nacer ignorancia modo profesional medicinar aceptar crítico procedimiento quirúrgico provenir personar ignorar materia – profesional derecho artista plástico – convencer suficiente énfasis ignorancia ateo temer religioso quedar contradictores fondo comprender sorprender filósofo ateo refinar pulir cuidadosamente habilidad artesano concepto emplear formar preciso temer contexto diverso argumento adecuar temer tratar religión talar pensador dejar meticulosidad acudir prejuicio tradicional punto vestir ateísmo sostener personar creyente vida informar ateo modo propenso cliché hora crítico diálogo ser fructífero debatir argumento darse formar factor ocasionar ateísmo tomar seriar ignorancia ateísmo fracasar formar rotundo razón ateo libro asociación partir político divulgación ideo diverso medio comunicación literatura cine columna periódico seguir ver religión mundo prosperar número creyente dejar aumentar revolución francés industrial implicar problema interior ateísmo permitir éxito buscar   pecar positivismo   diversidad credo postura religioso ateo formar postura típico grupo considerable ateo manir positivismo definir discursar filosófico surgir método científico postura auge siglo xix supuesto establecer siglo encontrar empirismo británico ilustración francés corriente conocimiento otorgar método científico concebir deber ser instancia nombrar ciencia conocimiento estricto positivismo nicho querer mencionar citar eminente empirista británico david hume mostrar entender positivismo   tomar volumen teología metafísico escolástico   preguntar contener raciocinio abstracto acercar número cantidad contener razonamiento experiencial acercar cuestionar existencia consúmanlo llamar contener sofisma ilusión       hume mostrar conocimiento fiable ser matemático empírico   decir basar experiencia fáctico demostración lógicomatemática modo argumentar central ateísmo basar método científico diagramarse     conocimiento basar bien experiencia fáctico bien demostración lógicomatemática método científico     postular religión existencia dios ser verificar experiencia fáctico demostración lógicomatemática     carácter epistemológico religión pseudociencia hume sofisma ilusión positivista creer religión nivel cuento hada mitología alquimia astrología condescendiente estatus infancia humanidad claramente desecharse mano herramienta método científico proveernos conocimiento realidad cfcomte       avanzar ciencia tecnología disminución considerable creyente religión contrario número aumentar respuesta positivista interrogante ciencia falto divulgación número defensor órgano gobernar cargar educación personar divulgación representación gubernamental favor adjudicar fracasar hombre común crédulo caso calificar completar estúpido   considerar argumentar presentar controvertible tratar probar   premiso ser fiable considerar aceptarse considerar postular religión poder probarse método científico contrario hablar creencia dios certeza dios casar   premiso considerar problemático preguntarse   aceptar experiencia fáctico demostración lógicomatemáticas sustrato conocimiento máximo ventaja fuente capacidad réplica comunicabilidad   experimentar ser repetir tanto necesitar principiar necesitar demostración ser elaborar verificar comprender término reglar servir resultar procedimiento conocimiento comunicable   réplica comunicabilidad condicionar verificación conocimiento “ júpiter luna ” basto tomar telescopio verificarlo suceder “ número    único número par primar ” postular religión verificar experiencia fáctico demostración formal    significar poder verificar “ ” tratar probar continuación rama arqueología denominar “ bíblico ” interesar lugar arqueológico narrar historia biblia descartar ciencia método verificar postular religión considerar importante religión postular carácter moral traer existencia histórico emitir talar postular decir creyente serlo quedo jerusalén mapa ser capaz enumerar doce tribu israel creencia religioso agotar “ conocimiento bíblico ” teólogo   considerar especie “ método verificación ” postular religioso naturaleza extraño método científico positivista inaceptable absurdo historia bíblico ser utilidad profeta eliseo jefe ejército sirio aram biblia llamar naamán rey sirio israel intercambiar carta militar sirio naamán sufrir lepra saber región profeta israel capaz invocar dios curar enfermedad rey israel responder monarca sirio enviar siervo naamán eliseo discípulo elías reconocer profeta israel citar comenzar llegar naamán casar profeta   naamán caballo carro detener entrar casar eliseo enviar mensajero decirle “ lávate jordán carne renacer quedar limpiar ” naamán poner furioso marchar decir “ salir seguramente encontrar detener invocar nombrar dios frotar manir enfermo sanar lepra abaná farfar río damasco mejorar aguar israel poder bañarme quedar limpiar ” volver marchar furioso servidor acercar “ padre profeta mandar coser difícil lávate quedar limpiar ” bajar bañar jordán conformar palabra hombre dios carne volver ser niño pequeño limpiar comitiva volver hombre dios llegar detener exclamar   “ conocer tierra dios israel ”           cuestión central historia naamán recibir precepto contraintuitivo militar esperar profeta curar salir encontrar frotar piel enfermo invocar dios profeta salir enviar mensajero mensaje bañarse reír jordán condecir expectativa naamán río país mejorar israel comprender razón ser mensaje enviar hombre convencer obedecer profeta convencimiento perder quedo curar reconocer dios israel dios tierra modo ver naamán verificar precepto formar priori estudiar composición químico reír jordán poniéndolo práctico naamán comprender precepto llevar acción modo verificar fondo religión “ método verificación ” repugnar positivista suponer gradar confianza fe prometer precepto cumplir cuestión repugnar ateo personar creyente precisamente poner práctico predicación recibir positivista decir curación facto imposible modo probar precepto cuyo realización alcanzar   véndelo dáselo pobre tesoro cielo … asegurar dejar casar hermano hermano madre padre hijo hacendar evangelio quedar recibir ciento presentar casar hermano hermano madre hijo hacendar persecución mundo venidero vida eterno mc             reaccionar ateo frente precepto testimonio personar llevar práctico fe cumplir   pecar conservadurismo derecho político   mayoría creyente calificar políticamente hablar adepto tipo conservadurismo político ser moderar radical versionar extremo fascismo asociación catolicismo conservadurismo común jerga político internacional colombiano punto transformar cliché negar asociación facto pretender tapar sol dedo importante considerar asociación necesario experiencia histórico desmentir relación único casar historia latinoamérica nación centroamericano salvador escenario movimiento guerrillero izquierdo apoyar iglesia católico consecuencia perseguir partidario derecho político cobrar vida sacerdote arzobispo santo salvador óscar arnulfo romero           exintegrantes guerrilla gobernar salvador casar cuestión ateísmo relacionar postura político generalmente posicionar izquierdo liberalismo izquierdo moderar socialismo izquierdo radical   indudable talar movimiento buscar sociedad “ emancipar ” religión visionar moral oponer proponer catolicismo punto considerar ser ateo ser izquierdo sinónimo término intercambiable discursar casar salvador demostrar “ conservador ” “ católico ” lógicamente intercambiable tratar demostrar “ ateo ” “ izquierdo ” casar problema yacer precisamente mantener confusión referirme célebre pensador cuyo obrar trascender historia filosofía sostener ateísmo singular pensar friedrich nietzsche pensador distinto tipo izquierdo especialmente francés admirar obrar nietzsche bien rico intérprete resaltar especialmente aspecto central crítico cristianismo pensador izquierdo gustar crítico cristianismo religión afirmar derecho socavar cristianismo significar abrir campar libertar igualdad económico social hacernos ideo admiración autor sentir pensador sartre bataille craso error caer pensador precisamente monopolizar crítico cristianismo   pensar izquierdo político cristianismo criticable argumentar diagramarse     pensador hacer crítico cristianismo izquierdo influenciar izquierdo simpatizar nivel    nietzsche formidable crítico cristianismo constituir centrar pensamiento madurez    nietzsche pensador izquierdo influenciar izquierdo simpatizar modo   error “ izquierdo nietzcheana ” juicio entender bien cristianismo comprender bien nietzsche error concretar premiso argumentar izquierdo diametral absolutamente oponer sostener cristianismo filosofía nietzsche izquierdo resaltar crítico cristianismo nietzsche nivel efectuar ilustración marxismo nietzsche devastador valorar cristianismo compartir religión liberalismo socialismo creencia igualdad hombre liberal socialista creer trinidad resurrección muerto claramente creer igualdad hombre presupuestar basar construir edificio ideológico nietzsche igualdad aberración ley imponer débil contener fuerte modo liberal socialista modo continuador valorar cristiano nietzsche dios tradición judeocristiana sostener metafísico seriar valorar conjuntar encarnar moral débil “ muerte dios ” valorar sostener permanecer sombrar luchas–después buda morir sombrar seguir mostrándose siglo caverna – sombrar monstruoso terrible dios morir dar naturaleza especie humano seguir existir milenio caverna mostrar sombrar – vencer sombrar – nietzsche           sombrar dios judeocristiano morir valorar izquierdo compartir cristianismo moral débil nietzsche claramente rechazar carácter plebeyo popular carente nobleza citar probar   decisivo profundar reformar protestante judea volver vencer ideal clásico revolución francés nobleza político europa siglo xvii xviii francés sucumbir instinto resentimiento … frente viejo mendaz consignar primar frente voluntad descenso rebajamiento nivelación hundimiento crepúsculo hombre resonar fuerte simple penetrante terrible fascinante anticonsigna primar nietzsche             valorar cristiano cadena aprisionar hombre noble obligar tratar igualar personar nietzsche deber ser esclavo modo nietzsche izquierdo buscar continuar labor religión pelear mantener igualdad hombre dios “ voluntad nivelación ” mantener izquierdo suceder revolución francés nietzsche significar coser mantener statu quo término valorar moral noble hombre superior término valorar frente valorar defender poblar zaratustra recomendar hombre superior hablar plaza mercar congregar poblar   hombre superior aprender plaza mercar creer hombre superior querer hablar bien plebe parpadear decir “ igualar ” “ hombre superior – parpadear plebe decir hombre superior igualar hombre hombre dios–todos igualar ” dios – dios morir – plebe ser igualar hombre superior marchaos plaza mercar nietzsche            conclusión presentar detallar “ pecar ” ateísmo cometer frecuentemente discusión creyente aportar diálogo creyente ateo fructífero ateísmo valer penar ser continuar caer pecar voz ateo contemporáneo richard dawkins daniel dennett suficiente eco caer llenar pecar mayor reparación pensador político izquierdo seguir fomentar ateísmo conservar valorar cristiano igualdad hombre caridad dignidad personar – vertido discursar derecho humano – único ateo – conocer – caer pecar nietzsche razón considerar merecer respetar creyente contendor efectivamente jugar discusión valorar moral jesús existir aparecer evangelio iglesia católico violar robar matar iglesia católico apoyar heliocentrismo discutir sexo ángel cristianismo quedar invalidar encontrar forzar postura nietzsche ateo batallar religión dar término valorar moral decir religión defender sustentar temer trivial venir continuación nietzsche notar dios sostener metafísico valorar conducir modo práctico vivir matar dios dejar valorar soportar abrir puerta seguramente contrario sostener divinidad yacer cenotafio nietzsche caer pecar incurrir error condición previo ignorancia temer religioso ateo considerar seguir crítico religión ignorancia seguir caer pecar mencionar diálogo seguir estéril presenciar personar afiliar masivamente culto religioso mirar expectante decir advertir    bibliografía   biblia jerusalén bilbao desclée brouwer       comte discursar espíritu positivotrad julián maría madrid alianza       hume investigación entendimiento humanar trad magdalena holguín bogotá norma       nietzsche genealogía moraltrad andrés sánchez pascual madrid alianza       nietzsche ciencia jovialtrad germán cano madrid biblioteca       nietzsche hablar zaratustratrad luis acosta madrid cátedra       noto    significar escribir usar palabra “ creyente ” hacer referenciar “ católico ” creyente cumplirse practicante credo religión    creyente cometer sinnúmero error hora discutir temer religioso ateo considerar necesario mencionarlos tremendamente conocido disertación enfocar ateísmo cuyo error pecar normalmente sacar luz    defensor prueba filosófico existencia dios decir modo demostrar postular religioso seguir reglar lógico creencia católico milagro llevar postular religión verificar empíricamente bien catolicismo romano afirmar veracidad tipo probar considerar mor texto necesario descartarlos prueba estricto método científico unánime replicar milagro aceptar prueba formal existencia dios lógicamente válido argumento servir fomentar creencia religioso    ciertamente anarquismo deber ser incluir listo movimiento izquierdo radical radical promover formar ateísmo influenciar historia político significativo  '"
      ]
     },
     "execution_count": 32,
     "metadata": {},
     "output_type": "execute_result"
    }
   ],
   "source": [
    "documents[0]"
   ]
  },
  {
   "cell_type": "code",
   "execution_count": 33,
   "metadata": {},
   "outputs": [],
   "source": [
    "vec = CountVectorizer(min_df=10)\n",
    "X = vec.fit_transform(documents)"
   ]
  },
  {
   "cell_type": "code",
   "execution_count": 34,
   "metadata": {},
   "outputs": [],
   "source": [
    "from operator import itemgetter"
   ]
  },
  {
   "cell_type": "code",
   "execution_count": 35,
   "metadata": {},
   "outputs": [
    {
     "name": "stdout",
     "output_type": "stream",
     "text": [
      "1, ('ser', 12803)\n",
      "2, ('formar', 5931)\n",
      "3, ('bien', 5433)\n",
      "4, ('mundo', 5186)\n",
      "5, ('político', 4857)\n",
      "6, ('filosofía', 4736)\n",
      "7, ('modo', 4654)\n",
      "8, ('vida', 3963)\n",
      "9, ('moral', 3904)\n",
      "10, ('ideo', 3900)\n",
      "11, ('teoría', 3787)\n",
      "12, ('concepto', 3690)\n",
      "13, ('razón', 3433)\n",
      "14, ('relación', 3274)\n",
      "15, ('casar', 3247)\n",
      "16, ('hombre', 3233)\n",
      "17, ('kant', 3168)\n",
      "18, ('punto', 3067)\n",
      "19, ('presentar', 3040)\n",
      "20, ('problema', 3002)\n",
      "21, ('resultar', 2969)\n",
      "22, ('experiencia', 2964)\n",
      "23, ('término', 2962)\n",
      "24, ('pensar', 2941)\n",
      "25, ('obrar', 2897)\n",
      "26, ('naturaleza', 2845)\n",
      "27, ('crítico', 2813)\n",
      "28, ('pensamiento', 2723)\n",
      "29, ('autor', 2694)\n",
      "30, ('humano', 2662)\n",
      "31, ('acción', 2629)\n",
      "32, ('conocimiento', 2562)\n",
      "33, ('práctico', 2519)\n",
      "34, ('mostrar', 2483)\n",
      "35, ('tipo', 2477)\n",
      "36, ('derecho', 2460)\n",
      "37, ('objetar', 2451)\n",
      "38, ('deber', 2388)\n",
      "39, ('posibilidad', 2375)\n",
      "40, ('concienciar', 2364)\n",
      "41, ('permitir', 2345)\n",
      "42, ('social', 2313)\n",
      "43, ('diferenciar', 2290)\n",
      "44, ('creencia', 2272)\n",
      "45, ('realidad', 2259)\n",
      "46, ('determinar', 2239)\n",
      "47, ('lenguaje', 2235)\n",
      "48, ('librar', 2227)\n",
      "49, ('filosófico', 2218)\n",
      "50, ('libertar', 2206)\n"
     ]
    }
   ],
   "source": [
    "counts = {\n",
    "    word: count for word, count in zip(vec.get_feature_names(), X.sum(axis=0).tolist()[0])\n",
    "}\n",
    "sorted_counts = list(counts.items())\n",
    "sorted_counts.sort(key=itemgetter(1), reverse=True)\n",
    "\n",
    "for i, wordcount in enumerate(sorted_counts[:50]):\n",
    "    print(f\"{i+1}, {wordcount}\")"
   ]
  },
  {
   "cell_type": "code",
   "execution_count": null,
   "metadata": {},
   "outputs": [],
   "source": []
  }
 ],
 "metadata": {
  "kernelspec": {
   "display_name": "Python 3",
   "language": "python",
   "name": "python3"
  },
  "language_info": {
   "codemirror_mode": {
    "name": "ipython",
    "version": 3
   },
   "file_extension": ".py",
   "mimetype": "text/x-python",
   "name": "python",
   "nbconvert_exporter": "python",
   "pygments_lexer": "ipython3",
   "version": "3.6.10"
  }
 },
 "nbformat": 4,
 "nbformat_minor": 4
}
