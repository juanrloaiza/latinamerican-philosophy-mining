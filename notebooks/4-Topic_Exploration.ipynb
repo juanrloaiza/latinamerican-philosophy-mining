{
 "cells": [
  {
   "cell_type": "markdown",
   "metadata": {},
   "source": [
    "# Topic Exploration"
   ]
  },
  {
   "cell_type": "markdown",
   "metadata": {},
   "source": [
    "This notebook serves as an interface with the LDA model, and uses several utility functions that are specifically implemented to explore what each topic contains.\n",
    "\n",
    "Let's start by loading up the model and these auxiliar functions:"
   ]
  },
  {
   "cell_type": "markdown",
   "metadata": {},
   "source": [
    "And now, the LDA model:"
   ]
  },
  {
   "cell_type": "code",
   "execution_count": 1,
   "metadata": {},
   "outputs": [
    {
     "name": "stdout",
     "output_type": "stream",
     "text": [
      "Loading corpus. Num. of articles: 68\n"
     ]
    }
   ],
   "source": [
    "from utils.model import Model\n",
    "from utils.corpus import Corpus\n",
    "\n",
    "corpus = Corpus(registry_path = 'utils/article_registry.json')\n",
    "model = Model(corpus, num_topics=10)\n",
    "model.load('gensim_models')"
   ]
  },
  {
   "cell_type": "markdown",
   "metadata": {},
   "source": [
    "Our `Model` object uses `Topic` objects that we can interface with. We will use methods of both classes to navigate the model we have trained."
   ]
  },
  {
   "cell_type": "markdown",
   "metadata": {},
   "source": [
    "## Getting the top words in a topic"
   ]
  },
  {
   "cell_type": "markdown",
   "metadata": {},
   "source": [
    "The `Topic.get_top_words()` method returns the top `n` words and their probabilities:"
   ]
  },
  {
   "cell_type": "code",
   "execution_count": 2,
   "metadata": {},
   "outputs": [
    {
     "data": {
      "text/plain": [
       "[('smith', '0.010'),\n",
       " ('él', '0.010'),\n",
       " ('moral', '0.008'),\n",
       " ('naturaleza', '0.006'),\n",
       " ('objeto', '0.006'),\n",
       " ('humano', '0.005'),\n",
       " ('razón', '0.005'),\n",
       " ('idea', '0.005'),\n",
       " ('kant', '0.005'),\n",
       " ('hombre', '0.004')]"
      ]
     },
     "execution_count": 2,
     "metadata": {},
     "output_type": "execute_result"
    }
   ],
   "source": [
    "model.topics[0].get_top_words()"
   ]
  },
  {
   "cell_type": "markdown",
   "metadata": {},
   "source": [
    "## Getting all articles in a topic"
   ]
  },
  {
   "cell_type": "markdown",
   "metadata": {},
   "source": [
    "You can get all article ID's and probabilities in a topic using the `Topic.get_top_articles()` method. Set an `n` if you want to cap the results. By default we have `n=5`."
   ]
  },
  {
   "cell_type": "code",
   "execution_count": 3,
   "metadata": {},
   "outputs": [
    {
     "data": {
      "text/plain": [
       "[('43084', 0.9998350143432617),\n",
       " ('41646', 0.9998076558113098),\n",
       " ('44484', 0.9997923970222473),\n",
       " ('42080', 0.9997804164886475),\n",
       " ('42085', 0.9997314810752869)]"
      ]
     },
     "execution_count": 3,
     "metadata": {},
     "output_type": "execute_result"
    }
   ],
   "source": [
    "model.topics[0].get_top_articles()"
   ]
  },
  {
   "cell_type": "markdown",
   "metadata": {},
   "source": [
    "We can also get titles."
   ]
  },
  {
   "cell_type": "code",
   "execution_count": 4,
   "metadata": {},
   "outputs": [
    {
     "data": {
      "text/plain": [
       "['Rosa Colmenarejo (2016/01/01). Enfoque de capacidades  y sostenibilidad. Aportaciones de Amartya Sen  y Martha Nussbaum',\n",
       " 'José de la Cruz Garrido (2015/09/01). El papel de la imaginación en la refutación de Adam Smith a la tesis del homo economicus',\n",
       " 'Nicolás Novoa Artigas (2016/01/01). La problemática posición  de Adam Smith acerca  de la suerte moral',\n",
       " 'Martín Fleitas González (2015/09/01). ¿Solo hay realismo o constructivismo moral dentro del neokantismo contemporáneo? Notas para una fundamentación moral kantiana con base en la idea de libertad',\n",
       " 'Emilse Galvis (2016/01/01). La subjetivación política  más allá de la esfera pública: Michel Foucault, Jacques Rancière  y Simone Weil']"
      ]
     },
     "execution_count": 4,
     "metadata": {},
     "output_type": "execute_result"
    }
   ],
   "source": [
    "model.topics[0].get_top_titles()"
   ]
  },
  {
   "cell_type": "markdown",
   "metadata": {},
   "source": [
    "## Summarize an article"
   ]
  },
  {
   "cell_type": "markdown",
   "metadata": {},
   "source": [
    "If you have an `Article` object, you can use the `Model.get_topics_in_article(Article)` method to get a summary of what topics the article is likely to be in."
   ]
  },
  {
   "cell_type": "code",
   "execution_count": 5,
   "metadata": {},
   "outputs": [
    {
     "data": {
      "text/plain": [
       "[(1, 0.99981743)]"
      ]
     },
     "execution_count": 5,
     "metadata": {},
     "output_type": "execute_result"
    }
   ],
   "source": [
    "model.get_topics_in_article(corpus.documents[0])"
   ]
  },
  {
   "cell_type": "markdown",
   "metadata": {},
   "source": [
    "## Summarizing an entire topic"
   ]
  },
  {
   "cell_type": "markdown",
   "metadata": {},
   "source": [
    "For this, we have implemented `Topic.summary()`."
   ]
  },
  {
   "cell_type": "code",
   "execution_count": 6,
   "metadata": {},
   "outputs": [
    {
     "data": {
      "text/markdown": [
       "# Topic 0\n",
       "\n",
       "## Top words:\n",
       "|    | Word       |   Probability |\n",
       "|---:|:-----------|--------------:|\n",
       "|  0 | smith      |         0.01  |\n",
       "|  1 | él         |         0.01  |\n",
       "|  2 | moral      |         0.008 |\n",
       "|  3 | naturaleza |         0.006 |\n",
       "|  4 | objeto     |         0.006 |\n",
       "|  5 | humano     |         0.005 |\n",
       "|  6 | razón      |         0.005 |\n",
       "|  7 | idea       |         0.005 |\n",
       "|  8 | kant       |         0.005 |\n",
       "|  9 | hombre     |         0.004 |\n",
       "## Top articles:\n",
       "\n",
       "* Rosa Colmenarejo (2016/01/01). Enfoque de capacidades  y sostenibilidad. Aportaciones de Amartya Sen  y Martha Nussbaum\n",
       "* José de la Cruz Garrido (2015/09/01). El papel de la imaginación en la refutación de Adam Smith a la tesis del homo economicus\n",
       "* Nicolás Novoa Artigas (2016/01/01). La problemática posición  de Adam Smith acerca  de la suerte moral\n",
       "* Martín Fleitas González (2015/09/01). ¿Solo hay realismo o constructivismo moral dentro del neokantismo contemporáneo? Notas para una fundamentación moral kantiana con base en la idea de libertad\n",
       "* Emilse Galvis (2016/01/01). La subjetivación política  más allá de la esfera pública: Michel Foucault, Jacques Rancière  y Simone Weil\n"
      ],
      "text/plain": [
       "<IPython.core.display.Markdown object>"
      ]
     },
     "execution_count": 6,
     "metadata": {},
     "output_type": "execute_result"
    }
   ],
   "source": [
    "from IPython.display import Markdown as md\n",
    "\n",
    "\n",
    "md(model.topics[0].summary())"
   ]
  },
  {
   "cell_type": "markdown",
   "metadata": {},
   "source": [
    "We can export the summary of all topics in the model to pdf by using the `Model.export_summary()` method. This will output a `summary.pdf` file we can read."
   ]
  },
  {
   "cell_type": "code",
   "execution_count": 7,
   "metadata": {},
   "outputs": [],
   "source": [
    "model.export_summary(\"summary.pdf\")"
   ]
  }
 ],
 "metadata": {
  "kernelspec": {
   "display_name": "Python 3",
   "language": "python",
   "name": "python3"
  },
  "language_info": {
   "codemirror_mode": {
    "name": "ipython",
    "version": 3
   },
   "file_extension": ".py",
   "mimetype": "text/x-python",
   "name": "python",
   "nbconvert_exporter": "python",
   "pygments_lexer": "ipython3",
   "version": "3.9.12"
  }
 },
 "nbformat": 4,
 "nbformat_minor": 4
}
