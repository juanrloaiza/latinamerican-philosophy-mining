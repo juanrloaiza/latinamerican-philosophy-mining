{
 "cells": [
  {
   "cell_type": "markdown",
   "metadata": {},
   "source": [
    "# Topic Exploration"
   ]
  },
  {
   "cell_type": "markdown",
   "metadata": {},
   "source": [
    "This notebook serves as an interface with the LDA model, and uses several utility functions that are specifically implemented to explore what each topic contains.\n",
    "\n",
    "Let's start by loading up the model and these auxiliary functions:"
   ]
  },
  {
   "cell_type": "markdown",
   "metadata": {},
   "source": [
    "And now, the LDA model:"
   ]
  },
  {
   "cell_type": "code",
   "execution_count": 1,
   "metadata": {},
   "outputs": [],
   "source": [
    "import seaborn as sns\n",
    "import matplotlib.pyplot as plt\n",
    "import pandas as pd"
   ]
  },
  {
   "cell_type": "code",
   "execution_count": 3,
   "metadata": {},
   "outputs": [
    {
     "name": "stdout",
     "output_type": "stream",
     "text": [
      "Loading corpus. Num. of articles: 877\n"
     ]
    }
   ],
   "source": [
    "from utils.model import Model\n",
    "from utils.corpus import Corpus\n",
    "\n",
    "corpus = Corpus(registry_path = 'utils/article_registry.json')\n",
    "model = Model(corpus, num_topics=90)"
   ]
  },
  {
   "cell_type": "code",
   "execution_count": 4,
   "metadata": {},
   "outputs": [],
   "source": [
    "model.load()"
   ]
  },
  {
   "cell_type": "code",
   "execution_count": 5,
   "metadata": {},
   "outputs": [
    {
     "data": {
      "text/plain": [
       "<utils.dtmmodel.DtmModel at 0x7fac8d444040>"
      ]
     },
     "execution_count": 5,
     "metadata": {},
     "output_type": "execute_result"
    }
   ],
   "source": [
    "model.ldaseq"
   ]
  },
  {
   "cell_type": "markdown",
   "metadata": {},
   "source": [
    "Our `Model` object uses `Topic` objects that we can interface with. We will use methods of both classes to navigate the model we have trained."
   ]
  },
  {
   "cell_type": "markdown",
   "metadata": {},
   "source": [
    "## Getting the top words in a topic"
   ]
  },
  {
   "cell_type": "markdown",
   "metadata": {},
   "source": [
    "The `Topic.get_top_words()` method returns the top `n` words and their probabilities:"
   ]
  },
  {
   "cell_type": "code",
   "execution_count": 6,
   "metadata": {},
   "outputs": [],
   "source": [
    "evolution = \"\"\n",
    "for topic in model.topics:\n",
    "    topic_list = []\n",
    "    for time in range(15):\n",
    "        time_slice = []\n",
    "        for prob, word in model.ldaseq.show_topic(topicid=topic.id, time = time, topn=10):\n",
    "            time_slice.append(word)\n",
    "        topic_list.append(time_slice)\n",
    "    evolution += pd.DataFrame(topic_list).T.to_markdown(index = False) + \"\\n\\n---\\n\\n\""
   ]
  },
  {
   "cell_type": "code",
   "execution_count": 7,
   "metadata": {},
   "outputs": [],
   "source": [
    "with open('topic_evolution.md', 'w') as fp:\n",
    "    fp.write(evolution)"
   ]
  },
  {
   "cell_type": "code",
   "execution_count": 8,
   "metadata": {},
   "outputs": [],
   "source": [
    "import numpy as np"
   ]
  },
  {
   "cell_type": "code",
   "execution_count": 9,
   "metadata": {},
   "outputs": [
    {
     "data": {
      "text/plain": [
       "[(4.046617028164455e-05, 'poéticamente'),\n",
       " (4.046617028164455e-05, 'precede'),\n",
       " (4.046617028164455e-05, 'plegaria'),\n",
       " (4.046617028164455e-05, 'pop'),\n",
       " (4.046617028164455e-05, 'populacho'),\n",
       " (4.046617028164455e-05, 'parición'),\n",
       " (4.046617028164455e-05, 'premeditación'),\n",
       " (4.046617028164455e-05, 'prefigurar'),\n",
       " (4.046617028164455e-05, 'otorgado'),\n",
       " (4.046617028164455e-05, 'precedentemente')]"
      ]
     },
     "execution_count": 9,
     "metadata": {},
     "output_type": "execute_result"
    }
   ],
   "source": [
    "model.ldaseq.show_topic(topicid=2, time=0, topn=10)"
   ]
  },
  {
   "cell_type": "code",
   "execution_count": 10,
   "metadata": {},
   "outputs": [],
   "source": [
    "from collections import defaultdict"
   ]
  },
  {
   "cell_type": "code",
   "execution_count": 11,
   "metadata": {},
   "outputs": [],
   "source": [
    "for doc in corpus.documents:\n",
    "    doc.bin = (int(doc.date[:4]) - 1951) // 5"
   ]
  },
  {
   "cell_type": "code",
   "execution_count": 12,
   "metadata": {},
   "outputs": [],
   "source": [
    "data = {topic: defaultdict(int) for topic in range(model.num_topics)}\n",
    "\n",
    "for i, doc in enumerate(corpus.documents):\n",
    "    topic = np.argmax(model.ldaseq.gamma_[i])\n",
    "    if model.ldaseq.gamma_[i][topic] > 0.25:\n",
    "        data[topic][doc.bin] += 1"
   ]
  },
  {
   "cell_type": "code",
   "execution_count": 13,
   "metadata": {},
   "outputs": [],
   "source": [
    "new_data = []\n",
    "for topic, vals in data.items():\n",
    "    for year, counts in vals.items():\n",
    "        new_data.append((topic, year, counts))"
   ]
  },
  {
   "cell_type": "code",
   "execution_count": 14,
   "metadata": {},
   "outputs": [],
   "source": [
    "df = pd.DataFrame(new_data, columns = ['Topic', 'Bin', 'Count'])\n",
    "df['Year'] = (df['Bin'] * 5) + 1952"
   ]
  },
  {
   "cell_type": "code",
   "execution_count": 17,
   "metadata": {},
   "outputs": [
    {
     "data": {
      "text/html": [
       "<div>\n",
       "<style scoped>\n",
       "    .dataframe tbody tr th:only-of-type {\n",
       "        vertical-align: middle;\n",
       "    }\n",
       "\n",
       "    .dataframe tbody tr th {\n",
       "        vertical-align: top;\n",
       "    }\n",
       "\n",
       "    .dataframe thead th {\n",
       "        text-align: right;\n",
       "    }\n",
       "</style>\n",
       "<table border=\"1\" class=\"dataframe\">\n",
       "  <thead>\n",
       "    <tr style=\"text-align: right;\">\n",
       "      <th></th>\n",
       "      <th>Bin</th>\n",
       "      <th>Count</th>\n",
       "      <th>Year</th>\n",
       "    </tr>\n",
       "    <tr>\n",
       "      <th>Topic</th>\n",
       "      <th></th>\n",
       "      <th></th>\n",
       "      <th></th>\n",
       "    </tr>\n",
       "  </thead>\n",
       "  <tbody>\n",
       "    <tr>\n",
       "      <th>10</th>\n",
       "      <td>24</td>\n",
       "      <td>6</td>\n",
       "      <td>7928</td>\n",
       "    </tr>\n",
       "    <tr>\n",
       "      <th>15</th>\n",
       "      <td>90</td>\n",
       "      <td>66</td>\n",
       "      <td>18018</td>\n",
       "    </tr>\n",
       "    <tr>\n",
       "      <th>16</th>\n",
       "      <td>67</td>\n",
       "      <td>21</td>\n",
       "      <td>15951</td>\n",
       "    </tr>\n",
       "    <tr>\n",
       "      <th>17</th>\n",
       "      <td>36</td>\n",
       "      <td>5</td>\n",
       "      <td>6036</td>\n",
       "    </tr>\n",
       "    <tr>\n",
       "      <th>18</th>\n",
       "      <td>34</td>\n",
       "      <td>7</td>\n",
       "      <td>7978</td>\n",
       "    </tr>\n",
       "    <tr>\n",
       "      <th>19</th>\n",
       "      <td>86</td>\n",
       "      <td>38</td>\n",
       "      <td>17998</td>\n",
       "    </tr>\n",
       "    <tr>\n",
       "      <th>28</th>\n",
       "      <td>3</td>\n",
       "      <td>1</td>\n",
       "      <td>1967</td>\n",
       "    </tr>\n",
       "    <tr>\n",
       "      <th>33</th>\n",
       "      <td>13</td>\n",
       "      <td>1</td>\n",
       "      <td>2017</td>\n",
       "    </tr>\n",
       "    <tr>\n",
       "      <th>43</th>\n",
       "      <td>89</td>\n",
       "      <td>37</td>\n",
       "      <td>18013</td>\n",
       "    </tr>\n",
       "    <tr>\n",
       "      <th>49</th>\n",
       "      <td>13</td>\n",
       "      <td>1</td>\n",
       "      <td>2017</td>\n",
       "    </tr>\n",
       "    <tr>\n",
       "      <th>50</th>\n",
       "      <td>13</td>\n",
       "      <td>5</td>\n",
       "      <td>2017</td>\n",
       "    </tr>\n",
       "    <tr>\n",
       "      <th>53</th>\n",
       "      <td>90</td>\n",
       "      <td>30</td>\n",
       "      <td>18018</td>\n",
       "    </tr>\n",
       "    <tr>\n",
       "      <th>55</th>\n",
       "      <td>104</td>\n",
       "      <td>390</td>\n",
       "      <td>27848</td>\n",
       "    </tr>\n",
       "    <tr>\n",
       "      <th>56</th>\n",
       "      <td>69</td>\n",
       "      <td>63</td>\n",
       "      <td>12057</td>\n",
       "    </tr>\n",
       "    <tr>\n",
       "      <th>65</th>\n",
       "      <td>45</td>\n",
       "      <td>9</td>\n",
       "      <td>8033</td>\n",
       "    </tr>\n",
       "    <tr>\n",
       "      <th>70</th>\n",
       "      <td>16</td>\n",
       "      <td>2</td>\n",
       "      <td>3984</td>\n",
       "    </tr>\n",
       "    <tr>\n",
       "      <th>71</th>\n",
       "      <td>42</td>\n",
       "      <td>6</td>\n",
       "      <td>8018</td>\n",
       "    </tr>\n",
       "    <tr>\n",
       "      <th>73</th>\n",
       "      <td>25</td>\n",
       "      <td>2</td>\n",
       "      <td>4029</td>\n",
       "    </tr>\n",
       "    <tr>\n",
       "      <th>83</th>\n",
       "      <td>10</td>\n",
       "      <td>1</td>\n",
       "      <td>2002</td>\n",
       "    </tr>\n",
       "    <tr>\n",
       "      <th>88</th>\n",
       "      <td>94</td>\n",
       "      <td>174</td>\n",
       "      <td>19990</td>\n",
       "    </tr>\n",
       "  </tbody>\n",
       "</table>\n",
       "</div>"
      ],
      "text/plain": [
       "       Bin  Count   Year\n",
       "Topic                   \n",
       "10      24      6   7928\n",
       "15      90     66  18018\n",
       "16      67     21  15951\n",
       "17      36      5   6036\n",
       "18      34      7   7978\n",
       "19      86     38  17998\n",
       "28       3      1   1967\n",
       "33      13      1   2017\n",
       "43      89     37  18013\n",
       "49      13      1   2017\n",
       "50      13      5   2017\n",
       "53      90     30  18018\n",
       "55     104    390  27848\n",
       "56      69     63  12057\n",
       "65      45      9   8033\n",
       "70      16      2   3984\n",
       "71      42      6   8018\n",
       "73      25      2   4029\n",
       "83      10      1   2002\n",
       "88      94    174  19990"
      ]
     },
     "execution_count": 17,
     "metadata": {},
     "output_type": "execute_result"
    }
   ],
   "source": [
    "df.groupby('Topic').sum()"
   ]
  },
  {
   "cell_type": "code",
   "execution_count": 15,
   "metadata": {},
   "outputs": [
    {
     "data": {
      "text/html": [
       "\n",
       "<div id=\"altair-viz-8fed223ee3d449cc8a4be643c195401d\"></div>\n",
       "<script type=\"text/javascript\">\n",
       "  (function(spec, embedOpt){\n",
       "    let outputDiv = document.currentScript.previousElementSibling;\n",
       "    if (outputDiv.id !== \"altair-viz-8fed223ee3d449cc8a4be643c195401d\") {\n",
       "      outputDiv = document.getElementById(\"altair-viz-8fed223ee3d449cc8a4be643c195401d\");\n",
       "    }\n",
       "    const paths = {\n",
       "      \"vega\": \"https://cdn.jsdelivr.net/npm//vega@5?noext\",\n",
       "      \"vega-lib\": \"https://cdn.jsdelivr.net/npm//vega-lib?noext\",\n",
       "      \"vega-lite\": \"https://cdn.jsdelivr.net/npm//vega-lite@4.8.1?noext\",\n",
       "      \"vega-embed\": \"https://cdn.jsdelivr.net/npm//vega-embed@6?noext\",\n",
       "    };\n",
       "\n",
       "    function loadScript(lib) {\n",
       "      return new Promise(function(resolve, reject) {\n",
       "        var s = document.createElement('script');\n",
       "        s.src = paths[lib];\n",
       "        s.async = true;\n",
       "        s.onload = () => resolve(paths[lib]);\n",
       "        s.onerror = () => reject(`Error loading script: ${paths[lib]}`);\n",
       "        document.getElementsByTagName(\"head\")[0].appendChild(s);\n",
       "      });\n",
       "    }\n",
       "\n",
       "    function showError(err) {\n",
       "      outputDiv.innerHTML = `<div class=\"error\" style=\"color:red;\">${err}</div>`;\n",
       "      throw err;\n",
       "    }\n",
       "\n",
       "    function displayChart(vegaEmbed) {\n",
       "      vegaEmbed(outputDiv, spec, embedOpt)\n",
       "        .catch(err => showError(`Javascript Error: ${err.message}<br>This usually means there's a typo in your chart specification. See the javascript console for the full traceback.`));\n",
       "    }\n",
       "\n",
       "    if(typeof define === \"function\" && define.amd) {\n",
       "      requirejs.config({paths});\n",
       "      require([\"vega-embed\"], displayChart, err => showError(`Error loading script: ${err.message}`));\n",
       "    } else if (typeof vegaEmbed === \"function\") {\n",
       "      displayChart(vegaEmbed);\n",
       "    } else {\n",
       "      loadScript(\"vega\")\n",
       "        .then(() => loadScript(\"vega-lite\"))\n",
       "        .then(() => loadScript(\"vega-embed\"))\n",
       "        .catch(showError)\n",
       "        .then(() => displayChart(vegaEmbed));\n",
       "    }\n",
       "  })({\"config\": {\"view\": {\"continuousWidth\": 400, \"continuousHeight\": 300}}, \"data\": {\"name\": \"data-cc022599841c5dd3b7c3188ad81e8032\"}, \"mark\": \"area\", \"encoding\": {\"color\": {\"type\": \"quantitative\", \"field\": \"Topic\", \"scale\": {\"scheme\": \"category20b\"}}, \"x\": {\"type\": \"nominal\", \"field\": \"Year\"}, \"y\": {\"type\": \"quantitative\", \"aggregate\": \"sum\", \"axis\": null, \"field\": \"Count\", \"stack\": \"center\"}}, \"width\": 800, \"$schema\": \"https://vega.github.io/schema/vega-lite/v4.8.1.json\", \"datasets\": {\"data-cc022599841c5dd3b7c3188ad81e8032\": [{\"Topic\": 10, \"Bin\": 2, \"Count\": 1, \"Year\": 1962}, {\"Topic\": 10, \"Bin\": 5, \"Count\": 1, \"Year\": 1977}, {\"Topic\": 10, \"Bin\": 7, \"Count\": 2, \"Year\": 1987}, {\"Topic\": 10, \"Bin\": 10, \"Count\": 2, \"Year\": 2002}, {\"Topic\": 15, \"Bin\": 6, \"Count\": 5, \"Year\": 1982}, {\"Topic\": 15, \"Bin\": 7, \"Count\": 4, \"Year\": 1987}, {\"Topic\": 15, \"Bin\": 8, \"Count\": 4, \"Year\": 1992}, {\"Topic\": 15, \"Bin\": 9, \"Count\": 9, \"Year\": 1997}, {\"Topic\": 15, \"Bin\": 10, \"Count\": 3, \"Year\": 2002}, {\"Topic\": 15, \"Bin\": 11, \"Count\": 8, \"Year\": 2007}, {\"Topic\": 15, \"Bin\": 12, \"Count\": 11, \"Year\": 2012}, {\"Topic\": 15, \"Bin\": 13, \"Count\": 19, \"Year\": 2017}, {\"Topic\": 15, \"Bin\": 14, \"Count\": 3, \"Year\": 2022}, {\"Topic\": 16, \"Bin\": 0, \"Count\": 1, \"Year\": 1952}, {\"Topic\": 16, \"Bin\": 6, \"Count\": 2, \"Year\": 1982}, {\"Topic\": 16, \"Bin\": 7, \"Count\": 2, \"Year\": 1987}, {\"Topic\": 16, \"Bin\": 8, \"Count\": 2, \"Year\": 1992}, {\"Topic\": 16, \"Bin\": 9, \"Count\": 2, \"Year\": 1997}, {\"Topic\": 16, \"Bin\": 10, \"Count\": 1, \"Year\": 2002}, {\"Topic\": 16, \"Bin\": 13, \"Count\": 4, \"Year\": 2017}, {\"Topic\": 16, \"Bin\": 14, \"Count\": 7, \"Year\": 2022}, {\"Topic\": 17, \"Bin\": 11, \"Count\": 1, \"Year\": 2007}, {\"Topic\": 17, \"Bin\": 12, \"Count\": 2, \"Year\": 2012}, {\"Topic\": 17, \"Bin\": 13, \"Count\": 2, \"Year\": 2017}, {\"Topic\": 18, \"Bin\": 4, \"Count\": 1, \"Year\": 1972}, {\"Topic\": 18, \"Bin\": 5, \"Count\": 1, \"Year\": 1977}, {\"Topic\": 18, \"Bin\": 12, \"Count\": 2, \"Year\": 2012}, {\"Topic\": 18, \"Bin\": 13, \"Count\": 3, \"Year\": 2017}, {\"Topic\": 19, \"Bin\": 2, \"Count\": 1, \"Year\": 1962}, {\"Topic\": 19, \"Bin\": 7, \"Count\": 1, \"Year\": 1987}, {\"Topic\": 19, \"Bin\": 8, \"Count\": 1, \"Year\": 1992}, {\"Topic\": 19, \"Bin\": 9, \"Count\": 4, \"Year\": 1997}, {\"Topic\": 19, \"Bin\": 10, \"Count\": 4, \"Year\": 2002}, {\"Topic\": 19, \"Bin\": 11, \"Count\": 8, \"Year\": 2007}, {\"Topic\": 19, \"Bin\": 12, \"Count\": 12, \"Year\": 2012}, {\"Topic\": 19, \"Bin\": 13, \"Count\": 6, \"Year\": 2017}, {\"Topic\": 19, \"Bin\": 14, \"Count\": 1, \"Year\": 2022}, {\"Topic\": 28, \"Bin\": 3, \"Count\": 1, \"Year\": 1967}, {\"Topic\": 33, \"Bin\": 13, \"Count\": 1, \"Year\": 2017}, {\"Topic\": 43, \"Bin\": 5, \"Count\": 1, \"Year\": 1977}, {\"Topic\": 43, \"Bin\": 7, \"Count\": 2, \"Year\": 1987}, {\"Topic\": 43, \"Bin\": 8, \"Count\": 3, \"Year\": 1992}, {\"Topic\": 43, \"Bin\": 9, \"Count\": 1, \"Year\": 1997}, {\"Topic\": 43, \"Bin\": 10, \"Count\": 3, \"Year\": 2002}, {\"Topic\": 43, \"Bin\": 11, \"Count\": 3, \"Year\": 2007}, {\"Topic\": 43, \"Bin\": 12, \"Count\": 13, \"Year\": 2012}, {\"Topic\": 43, \"Bin\": 13, \"Count\": 10, \"Year\": 2017}, {\"Topic\": 43, \"Bin\": 14, \"Count\": 1, \"Year\": 2022}, {\"Topic\": 49, \"Bin\": 13, \"Count\": 1, \"Year\": 2017}, {\"Topic\": 50, \"Bin\": 13, \"Count\": 5, \"Year\": 2017}, {\"Topic\": 53, \"Bin\": 6, \"Count\": 1, \"Year\": 1982}, {\"Topic\": 53, \"Bin\": 7, \"Count\": 3, \"Year\": 1987}, {\"Topic\": 53, \"Bin\": 8, \"Count\": 1, \"Year\": 1992}, {\"Topic\": 53, \"Bin\": 9, \"Count\": 1, \"Year\": 1997}, {\"Topic\": 53, \"Bin\": 10, \"Count\": 1, \"Year\": 2002}, {\"Topic\": 53, \"Bin\": 11, \"Count\": 1, \"Year\": 2007}, {\"Topic\": 53, \"Bin\": 12, \"Count\": 9, \"Year\": 2012}, {\"Topic\": 53, \"Bin\": 13, \"Count\": 12, \"Year\": 2017}, {\"Topic\": 53, \"Bin\": 14, \"Count\": 1, \"Year\": 2022}, {\"Topic\": 55, \"Bin\": 0, \"Count\": 38, \"Year\": 1952}, {\"Topic\": 55, \"Bin\": 2, \"Count\": 26, \"Year\": 1962}, {\"Topic\": 55, \"Bin\": 3, \"Count\": 17, \"Year\": 1967}, {\"Topic\": 55, \"Bin\": 4, \"Count\": 20, \"Year\": 1972}, {\"Topic\": 55, \"Bin\": 5, \"Count\": 21, \"Year\": 1977}, {\"Topic\": 55, \"Bin\": 6, \"Count\": 19, \"Year\": 1982}, {\"Topic\": 55, \"Bin\": 7, \"Count\": 23, \"Year\": 1987}, {\"Topic\": 55, \"Bin\": 8, \"Count\": 22, \"Year\": 1992}, {\"Topic\": 55, \"Bin\": 9, \"Count\": 23, \"Year\": 1997}, {\"Topic\": 55, \"Bin\": 10, \"Count\": 23, \"Year\": 2002}, {\"Topic\": 55, \"Bin\": 11, \"Count\": 26, \"Year\": 2007}, {\"Topic\": 55, \"Bin\": 12, \"Count\": 42, \"Year\": 2012}, {\"Topic\": 55, \"Bin\": 13, \"Count\": 73, \"Year\": 2017}, {\"Topic\": 55, \"Bin\": 14, \"Count\": 17, \"Year\": 2022}, {\"Topic\": 56, \"Bin\": 9, \"Count\": 8, \"Year\": 1997}, {\"Topic\": 56, \"Bin\": 10, \"Count\": 3, \"Year\": 2002}, {\"Topic\": 56, \"Bin\": 11, \"Count\": 8, \"Year\": 2007}, {\"Topic\": 56, \"Bin\": 12, \"Count\": 17, \"Year\": 2012}, {\"Topic\": 56, \"Bin\": 13, \"Count\": 23, \"Year\": 2017}, {\"Topic\": 56, \"Bin\": 14, \"Count\": 4, \"Year\": 2022}, {\"Topic\": 65, \"Bin\": 9, \"Count\": 1, \"Year\": 1997}, {\"Topic\": 65, \"Bin\": 11, \"Count\": 1, \"Year\": 2007}, {\"Topic\": 65, \"Bin\": 12, \"Count\": 1, \"Year\": 2012}, {\"Topic\": 65, \"Bin\": 13, \"Count\": 6, \"Year\": 2017}, {\"Topic\": 70, \"Bin\": 4, \"Count\": 1, \"Year\": 1972}, {\"Topic\": 70, \"Bin\": 12, \"Count\": 1, \"Year\": 2012}, {\"Topic\": 71, \"Bin\": 9, \"Count\": 1, \"Year\": 1997}, {\"Topic\": 71, \"Bin\": 10, \"Count\": 1, \"Year\": 2002}, {\"Topic\": 71, \"Bin\": 11, \"Count\": 2, \"Year\": 2007}, {\"Topic\": 71, \"Bin\": 12, \"Count\": 2, \"Year\": 2012}, {\"Topic\": 73, \"Bin\": 12, \"Count\": 1, \"Year\": 2012}, {\"Topic\": 73, \"Bin\": 13, \"Count\": 1, \"Year\": 2017}, {\"Topic\": 83, \"Bin\": 10, \"Count\": 1, \"Year\": 2002}, {\"Topic\": 88, \"Bin\": 4, \"Count\": 1, \"Year\": 1972}, {\"Topic\": 88, \"Bin\": 6, \"Count\": 11, \"Year\": 1982}, {\"Topic\": 88, \"Bin\": 7, \"Count\": 17, \"Year\": 1987}, {\"Topic\": 88, \"Bin\": 8, \"Count\": 17, \"Year\": 1992}, {\"Topic\": 88, \"Bin\": 9, \"Count\": 12, \"Year\": 1997}, {\"Topic\": 88, \"Bin\": 10, \"Count\": 25, \"Year\": 2002}, {\"Topic\": 88, \"Bin\": 11, \"Count\": 26, \"Year\": 2007}, {\"Topic\": 88, \"Bin\": 12, \"Count\": 23, \"Year\": 2012}, {\"Topic\": 88, \"Bin\": 13, \"Count\": 37, \"Year\": 2017}, {\"Topic\": 88, \"Bin\": 14, \"Count\": 5, \"Year\": 2022}]}}, {\"mode\": \"vega-lite\"});\n",
       "</script>"
      ],
      "text/plain": [
       "alt.Chart(...)"
      ]
     },
     "execution_count": 15,
     "metadata": {},
     "output_type": "execute_result"
    }
   ],
   "source": [
    "import altair as alt\n",
    "\n",
    "alt.Chart(df).mark_area().encode(\n",
    "    alt.X('Year:N'),\n",
    "    alt.Y('sum(Count)', stack = 'center', axis = None),\n",
    "    alt.Color('Topic', scale=alt.Scale(scheme='category20b'))\n",
    ").properties(width=800)"
   ]
  },
  {
   "cell_type": "markdown",
   "metadata": {},
   "source": [
    "## Getting all articles in a topic"
   ]
  },
  {
   "cell_type": "markdown",
   "metadata": {},
   "source": [
    "You can get all article ID's and probabilities in a topic using the `Topic.get_top_articles()` method. Set an `n` if you want to cap the results. By default we have `n=5`."
   ]
  },
  {
   "cell_type": "code",
   "execution_count": 26,
   "metadata": {},
   "outputs": [
    {
     "data": {
      "text/plain": [
       "[('66898', 0.8983381390571594),\n",
       " ('48173', 0.8065474629402161),\n",
       " ('57601', 0.39241376519203186),\n",
       " ('8831', 0.009229096584022045)]"
      ]
     },
     "execution_count": 26,
     "metadata": {},
     "output_type": "execute_result"
    }
   ],
   "source": [
    "model.topics[3].get_top_articles()"
   ]
  },
  {
   "cell_type": "markdown",
   "metadata": {},
   "source": [
    "We can also get titles."
   ]
  },
  {
   "cell_type": "code",
   "execution_count": 27,
   "metadata": {},
   "outputs": [
    {
     "data": {
      "text/plain": [
       "['Leonardo Ivarola (2019/09/01). Consecuencias alternativas y asimetría de resultados en la implementación de políticas socioeconómicas',\n",
       " 'José Manuel Chillón (2019/01/01). Heidegger y la prudencia aristotélica como protofenomenología',\n",
       " 'Matías Abeijón (2019/01/01). Historia, estructura y experiencia. Relaciones metodológicas entre Michel Foucault y Georges Dumézil',\n",
       " 'Jorge Aurelio Díaz (2021/12/15). Impacto de las políticas gubernamentales en Ideas y Valores',\n",
       " 'José H. Silveira De Brito (2012/01/01). HUMANIZAÇÃO DA SAÚDE: DA INTENÇÃO À INTELIGÊNCIA EMOTIVA PELAS IDEIAS']"
      ]
     },
     "execution_count": 27,
     "metadata": {},
     "output_type": "execute_result"
    }
   ],
   "source": [
    "model.topics[5].get_top_titles()"
   ]
  },
  {
   "cell_type": "markdown",
   "metadata": {},
   "source": [
    "## Summarize an article"
   ]
  },
  {
   "cell_type": "markdown",
   "metadata": {},
   "source": [
    "If you have an `Article` object, you can use the `Model.get_topics_in_article(Article)` method to get a summary of what topics the article is likely to be in."
   ]
  },
  {
   "cell_type": "code",
   "execution_count": 22,
   "metadata": {},
   "outputs": [],
   "source": [
    "model.get_topics_in_article(model.articles[3])"
   ]
  },
  {
   "cell_type": "markdown",
   "metadata": {},
   "source": [
    "## Summarizing an entire topic"
   ]
  },
  {
   "cell_type": "markdown",
   "metadata": {},
   "source": [
    "For this, we have implemented `Topic.summary()`."
   ]
  },
  {
   "cell_type": "code",
   "execution_count": 6,
   "metadata": {},
   "outputs": [
    {
     "data": {
      "text/markdown": [
       "# Topic 0\n",
       "\n",
       "## Top words:\n",
       "|    | Word       |   Probability |\n",
       "|---:|:-----------|--------------:|\n",
       "|  0 | smith      |         0.01  |\n",
       "|  1 | él         |         0.01  |\n",
       "|  2 | moral      |         0.008 |\n",
       "|  3 | naturaleza |         0.006 |\n",
       "|  4 | objeto     |         0.006 |\n",
       "|  5 | humano     |         0.005 |\n",
       "|  6 | razón      |         0.005 |\n",
       "|  7 | idea       |         0.005 |\n",
       "|  8 | kant       |         0.005 |\n",
       "|  9 | hombre     |         0.004 |\n",
       "## Top articles:\n",
       "\n",
       "* Rosa Colmenarejo (2016/01/01). Enfoque de capacidades  y sostenibilidad. Aportaciones de Amartya Sen  y Martha Nussbaum\n",
       "* José de la Cruz Garrido (2015/09/01). El papel de la imaginación en la refutación de Adam Smith a la tesis del homo economicus\n",
       "* Nicolás Novoa Artigas (2016/01/01). La problemática posición  de Adam Smith acerca  de la suerte moral\n",
       "* Martín Fleitas González (2015/09/01). ¿Solo hay realismo o constructivismo moral dentro del neokantismo contemporáneo? Notas para una fundamentación moral kantiana con base en la idea de libertad\n",
       "* Emilse Galvis (2016/01/01). La subjetivación política  más allá de la esfera pública: Michel Foucault, Jacques Rancière  y Simone Weil\n"
      ],
      "text/plain": [
       "<IPython.core.display.Markdown object>"
      ]
     },
     "execution_count": 6,
     "metadata": {},
     "output_type": "execute_result"
    }
   ],
   "source": [
    "from IPython.display import Markdown as md\n",
    "\n",
    "\n",
    "md(model.topics[0].summary())"
   ]
  },
  {
   "cell_type": "markdown",
   "metadata": {},
   "source": [
    "We can export the summary of all topics in the model to pdf by using the `Model.export_summary()` method. This will output a `summary.pdf` file we can read."
   ]
  },
  {
   "cell_type": "code",
   "execution_count": 7,
   "metadata": {},
   "outputs": [],
   "source": [
    "model.export_summary(\"summary.pdf\")"
   ]
  }
 ],
 "metadata": {
  "interpreter": {
   "hash": "d200da13d3d6a3f0988eb941b90abc0c57177e51b3c73553e7bc08a3e24cf245"
  },
  "kernelspec": {
   "display_name": "Python 3.9.12 ('journal')",
   "language": "python",
   "name": "python3"
  },
  "language_info": {
   "codemirror_mode": {
    "name": "ipython",
    "version": 3
   },
   "file_extension": ".py",
   "mimetype": "text/x-python",
   "name": "python",
   "nbconvert_exporter": "python",
   "pygments_lexer": "ipython3",
   "version": "3.9.12"
  }
 },
 "nbformat": 4,
 "nbformat_minor": 4
}
