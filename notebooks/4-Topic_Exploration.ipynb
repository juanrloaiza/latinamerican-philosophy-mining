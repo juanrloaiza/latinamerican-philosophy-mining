{
 "cells": [
  {
   "cell_type": "markdown",
   "metadata": {},
   "source": [
    "# Topic Exploration"
   ]
  },
  {
   "cell_type": "markdown",
   "metadata": {},
   "source": [
    "This notebook serves as an interface with the LDA model, and uses several utility functions that are specifically implemented to explore what each topic contains.\n",
    "\n",
    "Let's start by loading up the model and these auxiliary functions:"
   ]
  },
  {
   "cell_type": "markdown",
   "metadata": {},
   "source": [
    "And now, the LDA model:"
   ]
  },
  {
   "cell_type": "code",
   "execution_count": 1,
   "metadata": {},
   "outputs": [
    {
     "name": "stdout",
     "output_type": "stream",
     "text": [
      "Loading corpus. Num. of articles: 771\n"
     ]
    }
   ],
   "source": [
    "from utils.model import Model\n",
    "from utils.corpus import Corpus\n",
    "\n",
    "corpus = Corpus(registry_path = 'utils/article_registry.json')\n",
    "model = Model(corpus, num_topics=50)\n",
    "#model.load()"
   ]
  },
  {
   "cell_type": "code",
   "execution_count": 2,
   "metadata": {},
   "outputs": [
    {
     "name": "stdout",
     "output_type": "stream",
     "text": [
      "[(0, 16), (1, 1), (2, 3), (3, 1), (4, 1), (5, 1), (6, 3), (7, 1), (8, 1), (9, 1), (10, 4), (11, 1), (12, 3), (13, 2), (14, 8), (15, 1), (16, 2), (17, 1), (18, 1), (19, 2), (20, 1), (21, 4), (22, 1), (23, 2), (24, 1), (25, 2), (26, 1), (27, 1), (28, 1), (29, 3), (30, 1), (31, 2), (32, 1), (33, 2), (34, 1), (35, 1), (36, 1), (37, 1), (38, 1), (39, 2), (40, 2), (41, 1), (42, 2), (43, 3), (44, 1), (45, 2), (46, 1), (47, 2), (48, 1), (49, 6), (50, 1), (51, 1), (52, 1), (53, 1), (54, 2), (55, 3), (56, 12), (57, 1), (58, 2), (59, 1), (60, 1), (61, 1), (62, 1), (63, 1), (64, 2), (65, 8), (66, 1), (67, 1), (68, 1), (69, 1), (70, 1), (71, 2), (72, 1), (73, 3), (74, 1), (75, 1), (76, 1), (77, 1), (78, 1), (79, 1), (80, 5), (81, 1), (82, 1), (83, 4), (84, 1), (85, 2), (86, 3), (87, 1), (88, 1), (89, 1), (90, 2), (91, 2), (92, 1), (93, 1), (94, 1), (95, 3), (96, 1), (97, 1), (98, 4), (99, 1), (100, 1), (101, 1), (102, 1), (103, 2), (104, 4), (105, 1), (106, 3), (107, 2), (108, 1), (109, 3), (110, 1), (111, 1), (112, 1), (113, 1), (114, 1), (115, 1), (116, 1), (117, 1), (118, 2), (119, 5), (120, 1), (121, 1), (122, 1), (123, 1), (124, 1), (125, 51), (126, 5), (127, 1), (128, 53), (129, 10), (130, 2), (131, 3), (132, 1), (133, 1), (134, 1), (135, 2), (136, 1), (137, 3), (138, 1), (139, 4), (140, 3), (141, 3), (142, 1), (143, 4), (144, 1), (145, 1), (146, 2), (147, 1), (148, 4), (149, 5), (150, 1), (151, 5), (152, 7), (153, 3), (154, 5), (155, 2), (156, 3), (157, 1), (158, 1), (159, 1), (160, 1), (161, 1), (162, 1), (163, 2), (164, 1), (165, 1), (166, 1), (167, 13), (168, 8), (169, 1), (170, 1), (171, 1), (172, 4), (173, 4), (174, 1), (175, 4), (176, 1), (177, 3), (178, 1), (179, 5), (180, 1), (181, 1), (182, 3), (183, 2), (184, 1), (185, 3), (186, 2), (187, 1), (188, 5), (189, 5), (190, 1), (191, 14), (192, 1), (193, 1), (194, 3), (195, 1), (196, 2), (197, 2), (198, 2), (199, 1), (200, 1), (201, 1), (202, 1), (203, 1), (204, 6), (205, 2), (206, 1), (207, 1), (208, 1), (209, 1), (210, 1), (211, 3), (212, 1), (213, 5), (214, 1), (215, 4), (216, 8), (217, 3), (218, 1), (219, 3), (220, 6), (221, 1), (222, 1), (223, 7), (224, 2), (225, 1), (226, 5), (227, 1), (228, 9), (229, 3), (230, 1), (231, 1), (232, 2), (233, 1), (234, 3), (235, 1), (236, 2), (237, 4), (238, 5), (239, 2), (240, 1), (241, 1), (242, 1), (243, 2), (244, 1), (245, 2), (246, 1), (247, 2), (248, 2), (249, 1), (250, 1), (251, 12), (252, 2), (253, 1), (254, 1), (255, 11), (256, 1), (257, 1), (258, 1), (259, 1), (260, 1), (261, 1), (262, 1), (263, 4), (264, 4), (265, 1), (266, 1), (267, 1), (268, 1), (269, 2), (270, 1), (271, 1), (272, 1), (273, 2), (274, 3), (275, 2), (276, 1), (277, 1), (278, 1), (279, 1), (280, 2), (281, 1), (282, 2), (283, 3), (284, 1), (285, 2), (286, 1), (287, 1), (288, 1), (289, 2), (290, 1), (291, 4), (292, 6), (293, 4), (294, 1), (295, 4), (296, 2), (297, 7), (298, 1), (299, 1), (300, 19), (301, 3), (302, 5), (303, 4), (304, 1), (305, 3), (306, 2), (307, 3), (308, 2), (309, 1), (310, 12), (311, 12), (312, 2), (313, 1), (314, 1), (315, 1), (316, 1), (317, 7), (318, 1), (319, 1), (320, 6), (321, 1), (322, 1), (323, 8), (324, 1), (325, 2), (326, 3), (327, 1), (328, 1), (329, 2), (330, 1), (331, 3), (332, 1), (333, 1), (334, 8), (335, 1), (336, 2), (337, 1), (338, 4), (339, 1), (340, 1), (341, 1), (342, 2), (343, 7), (344, 1), (345, 1), (346, 3), (347, 1), (348, 11), (349, 11), (350, 30), (351, 3), (352, 1), (353, 1), (354, 1), (355, 1), (356, 1), (357, 7), (358, 16), (359, 1), (360, 1), (361, 2), (362, 1), (363, 2), (364, 1), (365, 1), (366, 1), (367, 1), (368, 2), (369, 2), (370, 1), (371, 10), (372, 2), (373, 1), (374, 1), (375, 1), (376, 14), (377, 3), (378, 12), (379, 1), (380, 10), (381, 1), (382, 1), (383, 1), (384, 1), (385, 1), (386, 1), (387, 2), (388, 1), (389, 2), (390, 2), (391, 1), (392, 2), (393, 1), (394, 1), (395, 1), (396, 1), (397, 4), (398, 1), (399, 1), (400, 2), (401, 1), (402, 1), (403, 1), (404, 4), (405, 3), (406, 2), (407, 1), (408, 1), (409, 1), (410, 1), (411, 1), (412, 3), (413, 1), (414, 1), (415, 1), (416, 4), (417, 1), (418, 1), (419, 1), (420, 1), (421, 1), (422, 1), (423, 3), (424, 1), (425, 3), (426, 2), (427, 3), (428, 1), (429, 1), (430, 1), (431, 1), (432, 3), (433, 1), (434, 14), (435, 2), (436, 1), (437, 1), (438, 2), (439, 3), (440, 2), (441, 5), (442, 1), (443, 1), (444, 1), (445, 1), (446, 16), (447, 7), (448, 1), (449, 2), (450, 1), (451, 1), (452, 1), (453, 2), (454, 3), (455, 5), (456, 24), (457, 5), (458, 1), (459, 1), (460, 3), (461, 1), (462, 3), (463, 3), (464, 1), (465, 1), (466, 3), (467, 1), (468, 3), (469, 1), (470, 7), (471, 5), (472, 2), (473, 3), (474, 1), (475, 1), (476, 1), (477, 1), (478, 1), (479, 1), (480, 1), (481, 3), (482, 1), (483, 3), (484, 1), (485, 3), (486, 3), (487, 2), (488, 2), (489, 1), (490, 1), (491, 1), (492, 7), (493, 1), (494, 1), (495, 3), (496, 1), (497, 4), (498, 6), (499, 2), (500, 8), (501, 2), (502, 1), (503, 1), (504, 2), (505, 29), (506, 11), (507, 1), (508, 2), (509, 1), (510, 1), (511, 1), (512, 3), (513, 1), (514, 7), (515, 8), (516, 1), (517, 1), (518, 1), (519, 1), (520, 1), (521, 2), (522, 1), (523, 2), (524, 2), (525, 3), (526, 2), (527, 1), (528, 1), (529, 1), (530, 1), (531, 4), (532, 2), (533, 1), (534, 1), (535, 1), (536, 1), (537, 1), (538, 1), (539, 1), (540, 2), (541, 3), (542, 1), (543, 2), (544, 3), (545, 1), (546, 1), (547, 3), (548, 5), (549, 8), (550, 6), (551, 1), (552, 1), (553, 10), (554, 1), (555, 2), (556, 4), (557, 5), (558, 3), (559, 2), (560, 4), (561, 2), (562, 1), (563, 1), (564, 4), (565, 2), (566, 1), (567, 2), (568, 1), (569, 1), (570, 1), (571, 1), (572, 2), (573, 1), (574, 1), (575, 2), (576, 2), (577, 2), (578, 10), (579, 8), (580, 1), (581, 3), (582, 1), (583, 6), (584, 1), (585, 7), (586, 1), (587, 1), (588, 2), (589, 3), (590, 1), (591, 2), (592, 1), (593, 4), (594, 1), (595, 1), (596, 1), (597, 1), (598, 1), (599, 1), (600, 1), (601, 4), (602, 2), (603, 1), (604, 3), (605, 1), (606, 1), (607, 4), (608, 1), (609, 4), (610, 2), (611, 1), (612, 4), (613, 1), (614, 2), (615, 1), (616, 2), (617, 2), (618, 17), (619, 1), (620, 1), (621, 1), (622, 2), (623, 1), (624, 1), (625, 2), (626, 1), (627, 1), (628, 1), (629, 4), (630, 1), (631, 2), (632, 1), (633, 3), (634, 2), (635, 1), (636, 1), (637, 1), (638, 1), (639, 1), (640, 3), (641, 2), (642, 5), (643, 1), (644, 1), (645, 1), (646, 1), (647, 1), (648, 1), (649, 2), (650, 5), (651, 1), (652, 7), (653, 1), (654, 2), (655, 1), (656, 1), (657, 1), (658, 1), (659, 2), (660, 2), (661, 4), (662, 1), (663, 3), (664, 2), (665, 1), (666, 1), (667, 6), (668, 5), (669, 1), (670, 1), (671, 1), (672, 1), (673, 3), (674, 1), (675, 1), (676, 2), (677, 1), (678, 7), (679, 1), (680, 1), (681, 9), (682, 1), (683, 1), (684, 1), (685, 1), (686, 3), (687, 2), (688, 1), (689, 8), (690, 2), (691, 1), (692, 1), (693, 4), (694, 1), (695, 1), (696, 1), (697, 1), (698, 2), (699, 1), (700, 1), (701, 1), (702, 4), (703, 4), (704, 1), (705, 4), (706, 1), (707, 2), (708, 1), (709, 1), (710, 1), (711, 1), (712, 1), (713, 1), (714, 2), (715, 2), (716, 4), (717, 1), (718, 1), (719, 4), (720, 4), (721, 1), (722, 1), (723, 1), (724, 15), (725, 1), (726, 9), (727, 2), (728, 1), (729, 1), (730, 1), (731, 3), (732, 1), (733, 1), (734, 1), (735, 2), (736, 2), (737, 1), (738, 1), (739, 1), (740, 1), (741, 2), (742, 1), (743, 2), (744, 2), (745, 1), (746, 1), (747, 1), (748, 1), (749, 1), (750, 1), (751, 2), (752, 7), (753, 7), (754, 5), (755, 1), (756, 1), (757, 1), (758, 5), (759, 1), (760, 1), (761, 1), (762, 1), (763, 1), (764, 1), (765, 1), (766, 1), (767, 1), (768, 26), (769, 13), (770, 2), (771, 1), (772, 1), (773, 1), (774, 1), (775, 3), (776, 43), (777, 1), (778, 1), (779, 1), (780, 1), (781, 1), (782, 1), (783, 1), (784, 3), (785, 2), (786, 1), (787, 2), (788, 6), (789, 1), (790, 2), (791, 1), (792, 2), (793, 5), (794, 1), (795, 5), (796, 1), (797, 1), (798, 4), (799, 1), (800, 25), (801, 2), (802, 3), (803, 1), (804, 2), (805, 1), (806, 1), (807, 8), (808, 2), (809, 1), (810, 1), (811, 1), (812, 7), (813, 7), (814, 1), (815, 2), (816, 1), (817, 1), (818, 6), (819, 1), (820, 1), (821, 1), (822, 1), (823, 1), (824, 2), (825, 5), (826, 6), (827, 1), (828, 1), (829, 1), (830, 2), (831, 2), (832, 3), (833, 1), (834, 2), (835, 1), (836, 1), (837, 2), (838, 2), (839, 5), (840, 1), (841, 1), (842, 3), (843, 2), (844, 1), (845, 5), (846, 7), (847, 1), (848, 1), (849, 3), (850, 8), (851, 5), (852, 2), (853, 6), (854, 1), (855, 2), (856, 6), (857, 2), (858, 2), (859, 1), (860, 1), (861, 1), (862, 1), (863, 2), (864, 3), (865, 1), (866, 2), (867, 6), (868, 1), (869, 6), (870, 4), (871, 24), (872, 1), (873, 4), (874, 18), (875, 1), (876, 1), (877, 1), (878, 1), (879, 1), (880, 1), (881, 2), (882, 36), (883, 11), (884, 1), (885, 1), (886, 1), (887, 1), (888, 1), (889, 1), (890, 2), (891, 34), (892, 15), (893, 1), (894, 14), (895, 1), (896, 2), (897, 1), (898, 8), (899, 1), (900, 2), (901, 1), (902, 2), (903, 1), (904, 1), (905, 1), (906, 3), (907, 3), (908, 2), (909, 4), (910, 2), (911, 1), (912, 2), (913, 1), (914, 1), (915, 1), (916, 8), (917, 5), (918, 3), (919, 10), (920, 8), (921, 1), (922, 1), (923, 1), (924, 1), (925, 1), (926, 1), (927, 1), (928, 1), (929, 1), (930, 2), (931, 1), (932, 1), (933, 1), (934, 1), (935, 3), (936, 1), (937, 2), (938, 1), (939, 1), (940, 1), (941, 2), (942, 1), (943, 2), (944, 2), (945, 1), (946, 1), (947, 1), (948, 2), (949, 1), (950, 3), (951, 1), (952, 3), (953, 1), (954, 1), (955, 1), (956, 2), (957, 1), (958, 1), (959, 1), (960, 1), (961, 3), (962, 2), (963, 1), (964, 1), (965, 1), (966, 1), (967, 4), (968, 1), (969, 1), (970, 1), (971, 1), (972, 1), (973, 1), (974, 1), (975, 1), (976, 1), (977, 1), (978, 1), (979, 1), (980, 1), (981, 2), (982, 1), (983, 1), (984, 1), (985, 1), (986, 1), (987, 2), (988, 1), (989, 1), (990, 2), (991, 1), (992, 1), (993, 3), (994, 1), (995, 1), (996, 1), (997, 1), (998, 1), (999, 1), (1000, 3), (1001, 4), (1002, 4), (1003, 3), (1004, 1), (1005, 1), (1006, 1), (1007, 1), (1008, 1), (1009, 1), (1010, 1), (1011, 1), (1012, 3), (1013, 14), (1014, 2), (1015, 6), (1016, 1), (1017, 1), (1018, 1), (1019, 3), (1020, 5), (1021, 2), (1022, 1), (1023, 1), (1024, 1), (1025, 1), (1026, 1), (1027, 1), (1028, 1), (1029, 7), (1030, 1), (1031, 3), (1032, 1), (1033, 1), (1034, 1), (1035, 1), (1036, 1), (1037, 1), (1038, 1), (1039, 1), (1040, 1), (1041, 1), (1042, 3), (1043, 1), (1044, 1), (1045, 5), (1046, 1), (1047, 4), (1048, 18), (1049, 1), (1050, 1), (1051, 1), (1052, 9), (1053, 4), (1054, 19), (1055, 1), (1056, 4), (1057, 1), (1058, 1), (1059, 1), (1060, 2), (1061, 2), (1062, 1), (1063, 1), (1064, 1), (1065, 1), (1066, 1), (1067, 1), (1068, 1), (1069, 1), (1070, 2), (1071, 1), (1072, 4), (1073, 1), (1074, 1), (1075, 1), (1076, 11), (1077, 1), (1078, 1), (1079, 1), (1080, 1), (1081, 23), (1082, 2), (1083, 1), (1084, 5), (1085, 5), (1086, 23), (1087, 1), (1088, 1), (1089, 2), (1090, 1), (1091, 1), (1092, 1), (1093, 4), (1094, 7), (1095, 1), (1096, 7), (1097, 1), (1098, 4), (1099, 1), (1100, 1), (1101, 4), (1102, 3), (1103, 4), (1104, 1), (1105, 1), (1106, 3), (1107, 4), (1108, 7), (1109, 6), (1110, 1), (1111, 3), (1112, 1), (1113, 1), (1114, 8), (1115, 1), (1116, 2), (1117, 2), (1118, 3), (1119, 2), (1120, 4), (1121, 1), (1122, 12), (1123, 1), (1124, 1), (1125, 4), (1126, 1), (1127, 1), (1128, 7), (1129, 1), (1130, 1), (1131, 1), (1132, 1), (1133, 1), (1134, 1), (1135, 1), (1136, 1), (1137, 1), (1138, 1), (1139, 1), (1140, 3), (1141, 1), (1142, 1), (1143, 1), (1144, 2), (1145, 1), (1146, 1), (1147, 1), (1148, 1), (1149, 4), (1150, 1), (1151, 2), (1152, 1), (1153, 1), (1154, 1), (1155, 1), (1156, 18), (1157, 2), (1158, 12), (1159, 1), (1160, 4), (1161, 1), (1162, 1), (1163, 1), (1164, 4), (1165, 64), (1166, 3), (1167, 1), (1168, 10), (1169, 2), (1170, 6), (1171, 1), (1172, 5), (1173, 1), (1174, 1), (1175, 1), (1176, 4), (1177, 17), (1178, 1), (1179, 9), (1180, 4), (1181, 1), (1182, 2), (1183, 5), (1184, 1), (1185, 1), (1186, 1), (1187, 1), (1188, 5), (1189, 1), (1190, 1), (1191, 1), (1192, 4), (1193, 7), (1194, 4), (1195, 1), (1196, 2), (1197, 2), (1198, 2), (1199, 1), (1200, 2), (1201, 2), (1202, 1), (1203, 1), (1204, 5), (1205, 12), (1206, 18), (1207, 1), (1208, 9), (1209, 1), (1210, 1), (1211, 1), (1212, 1), (1213, 1), (1214, 1), (1215, 8), (1216, 4), (1217, 5), (1218, 1), (1219, 1), (1220, 1), (1221, 3), (1222, 1), (1223, 11), (1224, 2), (1225, 1), (1226, 4), (1227, 3), (1228, 1), (1229, 1), (1230, 6), (1231, 1), (1232, 1), (1233, 1), (1234, 1), (1235, 2), (1236, 1), (1237, 1), (1238, 1), (1239, 2), (1240, 1), (1241, 1), (1242, 1), (1243, 3), (1244, 1), (1245, 4), (1246, 2), (1247, 1), (1248, 1), (1249, 1), (1250, 1), (1251, 3), (1252, 4), (1253, 1), (1254, 3), (1255, 2), (1256, 1), (1257, 6), (1258, 1), (1259, 4), (1260, 4), (1261, 1), (1262, 1), (1263, 5), (1264, 1), (1265, 1), (1266, 1), (1267, 1), (1268, 1), (1269, 2), (1270, 1), (1271, 2), (1272, 2), (1273, 2), (1274, 3), (1275, 2), (1276, 3), (1277, 1), (1278, 2), (1279, 1), (1280, 1), (1281, 1), (1282, 1), (1283, 1), (1284, 1), (1285, 1), (1286, 6), (1287, 37), (1288, 7), (1289, 6), (1290, 3), (1291, 1), (1292, 1), (1293, 1), (1294, 3), (1295, 1), (1296, 1), (1297, 19), (1298, 1), (1299, 5), (1300, 6), (1301, 1), (1302, 3), (1303, 1), (1304, 1), (1305, 1), (1306, 1), (1307, 3), (1308, 1), (1309, 1), (1310, 1), (1311, 3), (1312, 1), (1313, 1), (1314, 4), (1315, 4), (1316, 2), (1317, 6), (1318, 1), (1319, 1), (1320, 1), (1321, 1), (1322, 3), (1323, 1), (1324, 9), (1325, 3), (1326, 1), (1327, 1), (1328, 1), (1329, 1), (1330, 11), (1331, 1), (1332, 18), (1333, 5), (1334, 1), (1335, 4), (1336, 1), (1337, 1), (1338, 10), (1339, 3), (1340, 18), (1341, 1), (1342, 1), (1343, 1), (1344, 2), (1345, 1), (1346, 1), (1347, 3), (1348, 1), (1349, 7), (1350, 1), (1351, 2), (1352, 1), (1353, 2), (1354, 2), (1355, 1), (1356, 1), (1357, 1), (1358, 3), (1359, 1), (1360, 5), (1361, 1), (1362, 1), (1363, 6), (1364, 3), (1365, 2), (1366, 2), (1367, 1), (1368, 2), (1369, 2), (1370, 1), (1371, 1), (1372, 3), (1373, 1), (1374, 28), (1375, 1), (1376, 2), (1377, 1), (1378, 1), (1379, 1), (1380, 1), (1381, 12), (1382, 2), (1383, 1), (1384, 1), (1385, 1), (1386, 3), (1387, 1), (1388, 1), (1389, 2), (1390, 8), (1391, 2), (1392, 4), (1393, 2), (1394, 1), (1395, 1), (1396, 2), (1397, 10), (1398, 1), (1399, 1), (1400, 4), (1401, 1), (1402, 3), (1403, 2), (1404, 2), (1405, 1), (1406, 1), (1407, 2), (1408, 1), (1409, 1), (1410, 6), (1411, 9), (1412, 1), (1413, 8), (1414, 2), (1415, 1), (1416, 1), (1417, 1), (1418, 1), (1419, 5), (1420, 12), (1421, 2), (1422, 1), (1423, 1), (1424, 1), (1425, 1), (1426, 2), (1427, 2), (1428, 1), (1429, 10), (1430, 1), (1431, 2), (1432, 2), (1433, 1), (1434, 2), (1435, 1), (1436, 9), (1437, 4), (1438, 3), (1439, 1), (1440, 8), (1441, 1), (1442, 1), (1443, 1), (1444, 1), (1445, 1), (1446, 3), (1447, 6), (1448, 1), (1449, 2), (1450, 3), (1451, 1), (1452, 1), (1453, 1), (1454, 2), (1455, 1), (1456, 1), (1457, 1), (1458, 1), (1459, 2), (1460, 2), (1461, 1), (1462, 1), (1463, 2), (1464, 7), (1465, 1), (1466, 6), (1467, 1), (1468, 1), (1469, 2), (1470, 1), (1471, 13), (1472, 1), (1473, 1), (1474, 1), (1475, 1), (1476, 1), (1477, 5), (1478, 1), (1479, 2), (1480, 4), (1481, 1), (1482, 3), (1483, 4), (1484, 1), (1485, 1), (1486, 3), (1487, 1), (1488, 4), (1489, 1), (1490, 1), (1491, 1), (1492, 1), (1493, 1), (1494, 2), (1495, 1), (1496, 12), (1497, 1), (1498, 2), (1499, 1), (1500, 1), (1501, 1), (1502, 5), (1503, 1), (1504, 3), (1505, 1), (1506, 1), (1507, 1), (1508, 1), (1509, 3), (1510, 1), (1511, 1), (1512, 3), (1513, 3), (1514, 1), (1515, 1), (1516, 13), (1517, 1), (1518, 1), (1519, 2), (1520, 1), (1521, 1), (1522, 2), (1523, 1), (1524, 7), (1525, 1), (1526, 6), (1527, 1), (1528, 4), (1529, 2), (1530, 1), (1531, 3), (1532, 4), (1533, 7), (1534, 1), (1535, 2), (1536, 1), (1537, 14), (1538, 1), (1539, 4), (1540, 1), (1541, 1), (1542, 1), (1543, 2), (1544, 2), (1545, 6), (1546, 1), (1547, 1), (1548, 1), (1549, 1), (1550, 1), (1551, 1), (1552, 2), (1553, 1), (1554, 3), (1555, 1), (1556, 1), (1557, 1), (1558, 4), (1559, 1), (1560, 1), (1561, 1), (1562, 2), (1563, 1), (1564, 1), (1565, 1), (1566, 1), (1567, 1), (1568, 3), (1569, 2), (1570, 1), (1571, 4), (1572, 1), (1573, 1), (1574, 1), (1575, 2), (1576, 1), (1577, 1), (1578, 1), (1579, 5), (1580, 1), (1581, 1), (1582, 10), (1583, 1), (1584, 7), (1585, 1), (1586, 5), (1587, 1), (1588, 1), (1589, 1), (1590, 1), (1591, 1), (1592, 11), (1593, 1), (1594, 1), (1595, 1), (1596, 2), (1597, 1), (1598, 1), (1599, 1), (1600, 1), (1601, 1), (1602, 1), (1603, 1), (1604, 2), (1605, 2), (1606, 4), (1607, 3), (1608, 1), (1609, 1), (1610, 11), (1611, 1), (1612, 1), (1613, 4), (1614, 1), (1615, 1), (1616, 1), (1617, 27), (1618, 15), (1619, 2), (1620, 1), (1621, 1), (1622, 5), (1623, 1), (1624, 1), (1625, 1), (1626, 1), (1627, 22), (1628, 6), (1629, 3), (1630, 7), (1631, 1), (1632, 1), (1633, 1), (1634, 1), (1635, 1), (1636, 2), (1637, 2), (1638, 1), (1639, 1), (1640, 1), (1641, 1), (1642, 1), (1643, 2), (1644, 1), (1645, 1), (1646, 7), (1647, 1), (1648, 8), (1649, 1), (1650, 1), (1651, 2), (1652, 3), (1653, 4), (1654, 1), (1655, 6), (1656, 1), (1657, 1), (1658, 1), (1659, 1), (1660, 3), (1661, 1), (1662, 7), (1663, 1), (1664, 4), (1665, 12), (1666, 2), (1667, 110), (1668, 1), (1669, 1), (1670, 2), (1671, 1), (1672, 2), (1673, 4), (1674, 4), (1675, 1), (1676, 1), (1677, 1), (1678, 27), (1679, 1), (1680, 4), (1681, 1), (1682, 1), (1683, 1), (1684, 1), (1685, 4), (1686, 1), (1687, 1), (1688, 5), (1689, 1), (1690, 2), (1691, 1), (1692, 24), (1693, 1), (1694, 1), (1695, 1), (1696, 1), (1697, 1), (1698, 15), (1699, 2), (1700, 2), (1701, 5), (1702, 3), (1703, 1), (1704, 1), (1705, 8), (1706, 1), (1707, 1), (1708, 3), (1709, 1), (1710, 6), (1711, 4), (1712, 10), (1713, 1), (1714, 4), (1715, 2), (1716, 1), (1717, 6), (1718, 3), (1719, 1), (1720, 1), (1721, 2), (1722, 1), (1723, 1), (1724, 1), (1725, 1), (1726, 2), (1727, 2), (1728, 2), (1729, 1), (1730, 3), (1731, 7), (1732, 3), (1733, 1), (1734, 2), (1735, 1), (1736, 1), (1737, 1), (1738, 1), (1739, 1), (1740, 5), (1741, 1), (1742, 1), (1743, 5), (1744, 2), (1745, 1), (1746, 1), (1747, 4), (1748, 4), (1749, 1), (1750, 1), (1751, 1), (1752, 4), (1753, 1), (1754, 13), (1755, 1), (1756, 16), (1757, 1), (1758, 1), (1759, 1), (1760, 1), (1761, 1), (1762, 4), (1763, 1), (1764, 3), (1765, 1), (1766, 3), (1767, 1), (1768, 1), (1769, 18), (1770, 1), (1771, 1), (1772, 1), (1773, 2), (1774, 2), (1775, 3), (1776, 2), (1777, 2), (1778, 3), (1779, 1), (1780, 1), (1781, 7), (1782, 7), (1783, 2), (1784, 9), (1785, 2), (1786, 1), (1787, 1), (1788, 3), (1789, 9), (1790, 1), (1791, 3), (1792, 9), (1793, 2), (1794, 2), (1795, 1), (1796, 2), (1797, 1), (1798, 2), (1799, 1), (1800, 1), (1801, 3), (1802, 3), (1803, 1), (1804, 1), (1805, 3), (1806, 1), (1807, 58), (1808, 1), (1809, 3), (1810, 4), (1811, 8), (1812, 14)]\n",
      "Bags of words collected. Starting training...\n"
     ]
    },
    {
     "ename": "KeyboardInterrupt",
     "evalue": "",
     "output_type": "error",
     "traceback": [
      "\u001b[0;31m---------------------------------------------------------------------------\u001b[0m",
      "\u001b[0;31mKeyboardInterrupt\u001b[0m                         Traceback (most recent call last)",
      "\u001b[1;32m/home/juanrloaiza/JournalMiningProject/latinamerican-philosophy-mining/notebooks/4-Topic_Exploration.ipynb Cell 5'\u001b[0m in \u001b[0;36m<cell line: 1>\u001b[0;34m()\u001b[0m\n\u001b[0;32m----> <a href='vscode-notebook-cell:/home/juanrloaiza/JournalMiningProject/latinamerican-philosophy-mining/notebooks/4-Topic_Exploration.ipynb#ch0000024?line=0'>1</a>\u001b[0m model\u001b[39m.\u001b[39;49mtrain()\n",
      "File \u001b[0;32m~/JournalMiningProject/latinamerican-philosophy-mining/notebooks/utils/model.py:28\u001b[0m, in \u001b[0;36mModel.train\u001b[0;34m(self, seed, workers)\u001b[0m\n\u001b[1;32m     <a href='file:///home/juanrloaiza/JournalMiningProject/latinamerican-philosophy-mining/notebooks/utils/model.py?line=24'>25</a>\u001b[0m \u001b[39minput\u001b[39m()\n\u001b[1;32m     <a href='file:///home/juanrloaiza/JournalMiningProject/latinamerican-philosophy-mining/notebooks/utils/model.py?line=26'>27</a>\u001b[0m \u001b[39mprint\u001b[39m(\u001b[39m\"\u001b[39m\u001b[39mBags of words collected. Starting training...\u001b[39m\u001b[39m\"\u001b[39m)\n\u001b[0;32m---> <a href='file:///home/juanrloaiza/JournalMiningProject/latinamerican-philosophy-mining/notebooks/utils/model.py?line=27'>28</a>\u001b[0m \u001b[39mself\u001b[39m\u001b[39m.\u001b[39mlda \u001b[39m=\u001b[39m LdaMulticore(\n\u001b[1;32m     <a href='file:///home/juanrloaiza/JournalMiningProject/latinamerican-philosophy-mining/notebooks/utils/model.py?line=28'>29</a>\u001b[0m     corpus_bows,\n\u001b[1;32m     <a href='file:///home/juanrloaiza/JournalMiningProject/latinamerican-philosophy-mining/notebooks/utils/model.py?line=29'>30</a>\u001b[0m     num_topics\u001b[39m=\u001b[39;49m\u001b[39mself\u001b[39;49m\u001b[39m.\u001b[39;49mnum_topics,\n\u001b[1;32m     <a href='file:///home/juanrloaiza/JournalMiningProject/latinamerican-philosophy-mining/notebooks/utils/model.py?line=30'>31</a>\u001b[0m     id2word\u001b[39m=\u001b[39;49m\u001b[39mself\u001b[39;49m\u001b[39m.\u001b[39;49mid2word,\n\u001b[1;32m     <a href='file:///home/juanrloaiza/JournalMiningProject/latinamerican-philosophy-mining/notebooks/utils/model.py?line=31'>32</a>\u001b[0m     passes\u001b[39m=\u001b[39;49m\u001b[39m15\u001b[39;49m,\n\u001b[1;32m     <a href='file:///home/juanrloaiza/JournalMiningProject/latinamerican-philosophy-mining/notebooks/utils/model.py?line=32'>33</a>\u001b[0m     random_state\u001b[39m=\u001b[39;49mseed,\n\u001b[1;32m     <a href='file:///home/juanrloaiza/JournalMiningProject/latinamerican-philosophy-mining/notebooks/utils/model.py?line=33'>34</a>\u001b[0m     workers\u001b[39m=\u001b[39;49mworkers,\n\u001b[1;32m     <a href='file:///home/juanrloaiza/JournalMiningProject/latinamerican-philosophy-mining/notebooks/utils/model.py?line=34'>35</a>\u001b[0m )\n\u001b[1;32m     <a href='file:///home/juanrloaiza/JournalMiningProject/latinamerican-philosophy-mining/notebooks/utils/model.py?line=35'>36</a>\u001b[0m \u001b[39mprint\u001b[39m(\u001b[39m\"\u001b[39m\u001b[39mModel trained! Creating Topic objects...\u001b[39m\u001b[39m\"\u001b[39m)\n\u001b[1;32m     <a href='file:///home/juanrloaiza/JournalMiningProject/latinamerican-philosophy-mining/notebooks/utils/model.py?line=36'>37</a>\u001b[0m \u001b[39mself\u001b[39m\u001b[39m.\u001b[39mcreate_topics()\n",
      "File \u001b[0;32m~/.miniconda3/envs/journal/lib/python3.9/site-packages/gensim/models/ldamulticore.py:186\u001b[0m, in \u001b[0;36mLdaMulticore.__init__\u001b[0;34m(self, corpus, num_topics, id2word, workers, chunksize, passes, batch, alpha, eta, decay, offset, eval_every, iterations, gamma_threshold, random_state, minimum_probability, minimum_phi_value, per_word_topics, dtype)\u001b[0m\n\u001b[1;32m    <a href='file:///home/juanrloaiza/.miniconda3/envs/journal/lib/python3.9/site-packages/gensim/models/ldamulticore.py?line=182'>183</a>\u001b[0m \u001b[39mif\u001b[39;00m \u001b[39misinstance\u001b[39m(alpha, \u001b[39mstr\u001b[39m) \u001b[39mand\u001b[39;00m alpha \u001b[39m==\u001b[39m \u001b[39m'\u001b[39m\u001b[39mauto\u001b[39m\u001b[39m'\u001b[39m:\n\u001b[1;32m    <a href='file:///home/juanrloaiza/.miniconda3/envs/journal/lib/python3.9/site-packages/gensim/models/ldamulticore.py?line=183'>184</a>\u001b[0m     \u001b[39mraise\u001b[39;00m \u001b[39mNotImplementedError\u001b[39;00m(\u001b[39m\"\u001b[39m\u001b[39mauto-tuning alpha not implemented in LdaMulticore; use plain LdaModel.\u001b[39m\u001b[39m\"\u001b[39m)\n\u001b[0;32m--> <a href='file:///home/juanrloaiza/.miniconda3/envs/journal/lib/python3.9/site-packages/gensim/models/ldamulticore.py?line=185'>186</a>\u001b[0m \u001b[39msuper\u001b[39;49m(LdaMulticore, \u001b[39mself\u001b[39;49m)\u001b[39m.\u001b[39;49m\u001b[39m__init__\u001b[39;49m(\n\u001b[1;32m    <a href='file:///home/juanrloaiza/.miniconda3/envs/journal/lib/python3.9/site-packages/gensim/models/ldamulticore.py?line=186'>187</a>\u001b[0m     corpus\u001b[39m=\u001b[39;49mcorpus, num_topics\u001b[39m=\u001b[39;49mnum_topics,\n\u001b[1;32m    <a href='file:///home/juanrloaiza/.miniconda3/envs/journal/lib/python3.9/site-packages/gensim/models/ldamulticore.py?line=187'>188</a>\u001b[0m     id2word\u001b[39m=\u001b[39;49mid2word, chunksize\u001b[39m=\u001b[39;49mchunksize, passes\u001b[39m=\u001b[39;49mpasses, alpha\u001b[39m=\u001b[39;49malpha, eta\u001b[39m=\u001b[39;49meta,\n\u001b[1;32m    <a href='file:///home/juanrloaiza/.miniconda3/envs/journal/lib/python3.9/site-packages/gensim/models/ldamulticore.py?line=188'>189</a>\u001b[0m     decay\u001b[39m=\u001b[39;49mdecay, offset\u001b[39m=\u001b[39;49moffset, eval_every\u001b[39m=\u001b[39;49meval_every, iterations\u001b[39m=\u001b[39;49miterations,\n\u001b[1;32m    <a href='file:///home/juanrloaiza/.miniconda3/envs/journal/lib/python3.9/site-packages/gensim/models/ldamulticore.py?line=189'>190</a>\u001b[0m     gamma_threshold\u001b[39m=\u001b[39;49mgamma_threshold, random_state\u001b[39m=\u001b[39;49mrandom_state, minimum_probability\u001b[39m=\u001b[39;49mminimum_probability,\n\u001b[1;32m    <a href='file:///home/juanrloaiza/.miniconda3/envs/journal/lib/python3.9/site-packages/gensim/models/ldamulticore.py?line=190'>191</a>\u001b[0m     minimum_phi_value\u001b[39m=\u001b[39;49mminimum_phi_value, per_word_topics\u001b[39m=\u001b[39;49mper_word_topics, dtype\u001b[39m=\u001b[39;49mdtype,\n\u001b[1;32m    <a href='file:///home/juanrloaiza/.miniconda3/envs/journal/lib/python3.9/site-packages/gensim/models/ldamulticore.py?line=191'>192</a>\u001b[0m )\n",
      "File \u001b[0;32m~/.miniconda3/envs/journal/lib/python3.9/site-packages/gensim/models/ldamodel.py:520\u001b[0m, in \u001b[0;36mLdaModel.__init__\u001b[0;34m(self, corpus, num_topics, id2word, distributed, chunksize, passes, update_every, alpha, eta, decay, offset, eval_every, iterations, gamma_threshold, minimum_probability, random_state, ns_conf, minimum_phi_value, per_word_topics, callbacks, dtype)\u001b[0m\n\u001b[1;32m    <a href='file:///home/juanrloaiza/.miniconda3/envs/journal/lib/python3.9/site-packages/gensim/models/ldamodel.py?line=517'>518</a>\u001b[0m use_numpy \u001b[39m=\u001b[39m \u001b[39mself\u001b[39m\u001b[39m.\u001b[39mdispatcher \u001b[39mis\u001b[39;00m \u001b[39mnot\u001b[39;00m \u001b[39mNone\u001b[39;00m\n\u001b[1;32m    <a href='file:///home/juanrloaiza/.miniconda3/envs/journal/lib/python3.9/site-packages/gensim/models/ldamodel.py?line=518'>519</a>\u001b[0m start \u001b[39m=\u001b[39m time\u001b[39m.\u001b[39mtime()\n\u001b[0;32m--> <a href='file:///home/juanrloaiza/.miniconda3/envs/journal/lib/python3.9/site-packages/gensim/models/ldamodel.py?line=519'>520</a>\u001b[0m \u001b[39mself\u001b[39;49m\u001b[39m.\u001b[39;49mupdate(corpus, chunks_as_numpy\u001b[39m=\u001b[39;49muse_numpy)\n\u001b[1;32m    <a href='file:///home/juanrloaiza/.miniconda3/envs/journal/lib/python3.9/site-packages/gensim/models/ldamodel.py?line=520'>521</a>\u001b[0m \u001b[39mself\u001b[39m\u001b[39m.\u001b[39madd_lifecycle_event(\n\u001b[1;32m    <a href='file:///home/juanrloaiza/.miniconda3/envs/journal/lib/python3.9/site-packages/gensim/models/ldamodel.py?line=521'>522</a>\u001b[0m     \u001b[39m\"\u001b[39m\u001b[39mcreated\u001b[39m\u001b[39m\"\u001b[39m,\n\u001b[1;32m    <a href='file:///home/juanrloaiza/.miniconda3/envs/journal/lib/python3.9/site-packages/gensim/models/ldamodel.py?line=522'>523</a>\u001b[0m     msg\u001b[39m=\u001b[39m\u001b[39mf\u001b[39m\u001b[39m\"\u001b[39m\u001b[39mtrained \u001b[39m\u001b[39m{\u001b[39;00m\u001b[39mself\u001b[39m\u001b[39m}\u001b[39;00m\u001b[39m in \u001b[39m\u001b[39m{\u001b[39;00mtime\u001b[39m.\u001b[39mtime() \u001b[39m-\u001b[39m start\u001b[39m:\u001b[39;00m\u001b[39m.2f\u001b[39m\u001b[39m}\u001b[39;00m\u001b[39ms\u001b[39m\u001b[39m\"\u001b[39m,\n\u001b[1;32m    <a href='file:///home/juanrloaiza/.miniconda3/envs/journal/lib/python3.9/site-packages/gensim/models/ldamodel.py?line=523'>524</a>\u001b[0m )\n",
      "File \u001b[0;32m~/.miniconda3/envs/journal/lib/python3.9/site-packages/gensim/models/ldamulticore.py:316\u001b[0m, in \u001b[0;36mLdaMulticore.update\u001b[0;34m(self, corpus, chunks_as_numpy)\u001b[0m\n\u001b[1;32m    <a href='file:///home/juanrloaiza/.miniconda3/envs/journal/lib/python3.9/site-packages/gensim/models/ldamulticore.py?line=311'>312</a>\u001b[0m \u001b[39m# endfor single corpus pass\u001b[39;00m\n\u001b[1;32m    <a href='file:///home/juanrloaiza/.miniconda3/envs/journal/lib/python3.9/site-packages/gensim/models/ldamulticore.py?line=312'>313</a>\u001b[0m \n\u001b[1;32m    <a href='file:///home/juanrloaiza/.miniconda3/envs/journal/lib/python3.9/site-packages/gensim/models/ldamulticore.py?line=313'>314</a>\u001b[0m \u001b[39m# wait for all outstanding jobs to finish\u001b[39;00m\n\u001b[1;32m    <a href='file:///home/juanrloaiza/.miniconda3/envs/journal/lib/python3.9/site-packages/gensim/models/ldamulticore.py?line=314'>315</a>\u001b[0m \u001b[39mwhile\u001b[39;00m queue_size[\u001b[39m0\u001b[39m] \u001b[39m>\u001b[39m \u001b[39m0\u001b[39m:\n\u001b[0;32m--> <a href='file:///home/juanrloaiza/.miniconda3/envs/journal/lib/python3.9/site-packages/gensim/models/ldamulticore.py?line=315'>316</a>\u001b[0m     process_result_queue(force\u001b[39m=\u001b[39;49m\u001b[39mTrue\u001b[39;49;00m)\n\u001b[1;32m    <a href='file:///home/juanrloaiza/.miniconda3/envs/journal/lib/python3.9/site-packages/gensim/models/ldamulticore.py?line=317'>318</a>\u001b[0m \u001b[39mif\u001b[39;00m reallen \u001b[39m!=\u001b[39m lencorpus:\n\u001b[1;32m    <a href='file:///home/juanrloaiza/.miniconda3/envs/journal/lib/python3.9/site-packages/gensim/models/ldamulticore.py?line=318'>319</a>\u001b[0m     \u001b[39mraise\u001b[39;00m \u001b[39mRuntimeError\u001b[39;00m(\u001b[39m\"\u001b[39m\u001b[39minput corpus size changed during training (don\u001b[39m\u001b[39m'\u001b[39m\u001b[39mt use generators as input)\u001b[39m\u001b[39m\"\u001b[39m)\n",
      "File \u001b[0;32m~/.miniconda3/envs/journal/lib/python3.9/site-packages/gensim/models/ldamulticore.py:274\u001b[0m, in \u001b[0;36mLdaMulticore.update.<locals>.process_result_queue\u001b[0;34m(force)\u001b[0m\n\u001b[1;32m    <a href='file:///home/juanrloaiza/.miniconda3/envs/journal/lib/python3.9/site-packages/gensim/models/ldamulticore.py?line=267'>268</a>\u001b[0m \u001b[39m\"\"\"\u001b[39;00m\n\u001b[1;32m    <a href='file:///home/juanrloaiza/.miniconda3/envs/journal/lib/python3.9/site-packages/gensim/models/ldamulticore.py?line=268'>269</a>\u001b[0m \u001b[39mClear the result queue, merging all intermediate results, and update the\u001b[39;00m\n\u001b[1;32m    <a href='file:///home/juanrloaiza/.miniconda3/envs/journal/lib/python3.9/site-packages/gensim/models/ldamulticore.py?line=269'>270</a>\u001b[0m \u001b[39mLDA model if necessary.\u001b[39;00m\n\u001b[1;32m    <a href='file:///home/juanrloaiza/.miniconda3/envs/journal/lib/python3.9/site-packages/gensim/models/ldamulticore.py?line=270'>271</a>\u001b[0m \n\u001b[1;32m    <a href='file:///home/juanrloaiza/.miniconda3/envs/journal/lib/python3.9/site-packages/gensim/models/ldamulticore.py?line=271'>272</a>\u001b[0m \u001b[39m\"\"\"\u001b[39;00m\n\u001b[1;32m    <a href='file:///home/juanrloaiza/.miniconda3/envs/journal/lib/python3.9/site-packages/gensim/models/ldamulticore.py?line=272'>273</a>\u001b[0m merged_new \u001b[39m=\u001b[39m \u001b[39mFalse\u001b[39;00m\n\u001b[0;32m--> <a href='file:///home/juanrloaiza/.miniconda3/envs/journal/lib/python3.9/site-packages/gensim/models/ldamulticore.py?line=273'>274</a>\u001b[0m \u001b[39mwhile\u001b[39;00m \u001b[39mnot\u001b[39;00m result_queue\u001b[39m.\u001b[39;49mempty():\n\u001b[1;32m    <a href='file:///home/juanrloaiza/.miniconda3/envs/journal/lib/python3.9/site-packages/gensim/models/ldamulticore.py?line=274'>275</a>\u001b[0m     other\u001b[39m.\u001b[39mmerge(result_queue\u001b[39m.\u001b[39mget())\n\u001b[1;32m    <a href='file:///home/juanrloaiza/.miniconda3/envs/journal/lib/python3.9/site-packages/gensim/models/ldamulticore.py?line=275'>276</a>\u001b[0m     queue_size[\u001b[39m0\u001b[39m] \u001b[39m-\u001b[39m\u001b[39m=\u001b[39m \u001b[39m1\u001b[39m\n",
      "File \u001b[0;32m~/.miniconda3/envs/journal/lib/python3.9/multiprocessing/queues.py:129\u001b[0m, in \u001b[0;36mQueue.empty\u001b[0;34m(self)\u001b[0m\n\u001b[1;32m    <a href='file:///home/juanrloaiza/.miniconda3/envs/journal/lib/python3.9/multiprocessing/queues.py?line=127'>128</a>\u001b[0m \u001b[39mdef\u001b[39;00m \u001b[39mempty\u001b[39m(\u001b[39mself\u001b[39m):\n\u001b[0;32m--> <a href='file:///home/juanrloaiza/.miniconda3/envs/journal/lib/python3.9/multiprocessing/queues.py?line=128'>129</a>\u001b[0m     \u001b[39mreturn\u001b[39;00m \u001b[39mnot\u001b[39;00m \u001b[39mself\u001b[39;49m\u001b[39m.\u001b[39;49m_poll()\n",
      "File \u001b[0;32m~/.miniconda3/envs/journal/lib/python3.9/multiprocessing/connection.py:262\u001b[0m, in \u001b[0;36m_ConnectionBase.poll\u001b[0;34m(self, timeout)\u001b[0m\n\u001b[1;32m    <a href='file:///home/juanrloaiza/.miniconda3/envs/journal/lib/python3.9/multiprocessing/connection.py?line=259'>260</a>\u001b[0m \u001b[39mself\u001b[39m\u001b[39m.\u001b[39m_check_closed()\n\u001b[1;32m    <a href='file:///home/juanrloaiza/.miniconda3/envs/journal/lib/python3.9/multiprocessing/connection.py?line=260'>261</a>\u001b[0m \u001b[39mself\u001b[39m\u001b[39m.\u001b[39m_check_readable()\n\u001b[0;32m--> <a href='file:///home/juanrloaiza/.miniconda3/envs/journal/lib/python3.9/multiprocessing/connection.py?line=261'>262</a>\u001b[0m \u001b[39mreturn\u001b[39;00m \u001b[39mself\u001b[39;49m\u001b[39m.\u001b[39;49m_poll(timeout)\n",
      "File \u001b[0;32m~/.miniconda3/envs/journal/lib/python3.9/multiprocessing/connection.py:429\u001b[0m, in \u001b[0;36mConnection._poll\u001b[0;34m(self, timeout)\u001b[0m\n\u001b[1;32m    <a href='file:///home/juanrloaiza/.miniconda3/envs/journal/lib/python3.9/multiprocessing/connection.py?line=427'>428</a>\u001b[0m \u001b[39mdef\u001b[39;00m \u001b[39m_poll\u001b[39m(\u001b[39mself\u001b[39m, timeout):\n\u001b[0;32m--> <a href='file:///home/juanrloaiza/.miniconda3/envs/journal/lib/python3.9/multiprocessing/connection.py?line=428'>429</a>\u001b[0m     r \u001b[39m=\u001b[39m wait([\u001b[39mself\u001b[39;49m], timeout)\n\u001b[1;32m    <a href='file:///home/juanrloaiza/.miniconda3/envs/journal/lib/python3.9/multiprocessing/connection.py?line=429'>430</a>\u001b[0m     \u001b[39mreturn\u001b[39;00m \u001b[39mbool\u001b[39m(r)\n",
      "File \u001b[0;32m~/.miniconda3/envs/journal/lib/python3.9/multiprocessing/connection.py:936\u001b[0m, in \u001b[0;36mwait\u001b[0;34m(object_list, timeout)\u001b[0m\n\u001b[1;32m    <a href='file:///home/juanrloaiza/.miniconda3/envs/journal/lib/python3.9/multiprocessing/connection.py?line=932'>933</a>\u001b[0m     deadline \u001b[39m=\u001b[39m time\u001b[39m.\u001b[39mmonotonic() \u001b[39m+\u001b[39m timeout\n\u001b[1;32m    <a href='file:///home/juanrloaiza/.miniconda3/envs/journal/lib/python3.9/multiprocessing/connection.py?line=934'>935</a>\u001b[0m \u001b[39mwhile\u001b[39;00m \u001b[39mTrue\u001b[39;00m:\n\u001b[0;32m--> <a href='file:///home/juanrloaiza/.miniconda3/envs/journal/lib/python3.9/multiprocessing/connection.py?line=935'>936</a>\u001b[0m     ready \u001b[39m=\u001b[39m selector\u001b[39m.\u001b[39;49mselect(timeout)\n\u001b[1;32m    <a href='file:///home/juanrloaiza/.miniconda3/envs/journal/lib/python3.9/multiprocessing/connection.py?line=936'>937</a>\u001b[0m     \u001b[39mif\u001b[39;00m ready:\n\u001b[1;32m    <a href='file:///home/juanrloaiza/.miniconda3/envs/journal/lib/python3.9/multiprocessing/connection.py?line=937'>938</a>\u001b[0m         \u001b[39mreturn\u001b[39;00m [key\u001b[39m.\u001b[39mfileobj \u001b[39mfor\u001b[39;00m (key, events) \u001b[39min\u001b[39;00m ready]\n",
      "File \u001b[0;32m~/.miniconda3/envs/journal/lib/python3.9/selectors.py:416\u001b[0m, in \u001b[0;36m_PollLikeSelector.select\u001b[0;34m(self, timeout)\u001b[0m\n\u001b[1;32m    <a href='file:///home/juanrloaiza/.miniconda3/envs/journal/lib/python3.9/selectors.py?line=413'>414</a>\u001b[0m ready \u001b[39m=\u001b[39m []\n\u001b[1;32m    <a href='file:///home/juanrloaiza/.miniconda3/envs/journal/lib/python3.9/selectors.py?line=414'>415</a>\u001b[0m \u001b[39mtry\u001b[39;00m:\n\u001b[0;32m--> <a href='file:///home/juanrloaiza/.miniconda3/envs/journal/lib/python3.9/selectors.py?line=415'>416</a>\u001b[0m     fd_event_list \u001b[39m=\u001b[39m \u001b[39mself\u001b[39;49m\u001b[39m.\u001b[39;49m_selector\u001b[39m.\u001b[39;49mpoll(timeout)\n\u001b[1;32m    <a href='file:///home/juanrloaiza/.miniconda3/envs/journal/lib/python3.9/selectors.py?line=416'>417</a>\u001b[0m \u001b[39mexcept\u001b[39;00m \u001b[39mInterruptedError\u001b[39;00m:\n\u001b[1;32m    <a href='file:///home/juanrloaiza/.miniconda3/envs/journal/lib/python3.9/selectors.py?line=417'>418</a>\u001b[0m     \u001b[39mreturn\u001b[39;00m ready\n",
      "\u001b[0;31mKeyboardInterrupt\u001b[0m: "
     ]
    }
   ],
   "source": [
    "model.train()"
   ]
  },
  {
   "cell_type": "code",
   "execution_count": 6,
   "metadata": {},
   "outputs": [
    {
     "data": {
      "text/plain": [
       "724"
      ]
     },
     "execution_count": 6,
     "metadata": {},
     "output_type": "execute_result"
    }
   ],
   "source": [
    "len(model.get_orphans())"
   ]
  },
  {
   "cell_type": "markdown",
   "metadata": {},
   "source": [
    "Our `Model` object uses `Topic` objects that we can interface with. We will use methods of both classes to navigate the model we have trained."
   ]
  },
  {
   "cell_type": "markdown",
   "metadata": {},
   "source": [
    "## Getting the top words in a topic"
   ]
  },
  {
   "cell_type": "markdown",
   "metadata": {},
   "source": [
    "The `Topic.get_top_words()` method returns the top `n` words and their probabilities:"
   ]
  },
  {
   "cell_type": "code",
   "execution_count": 25,
   "metadata": {},
   "outputs": [
    {
     "data": {
      "text/plain": [
       "[('merleauponty', '0.011'),\n",
       " ('marx', '0.010'),\n",
       " ('experiencia', '0.010'),\n",
       " ('arte', '0.009'),\n",
       " ('él', '0.008'),\n",
       " ('cuerpo', '0.007'),\n",
       " ('obra', '0.007'),\n",
       " ('forma', '0.007'),\n",
       " ('conciencia', '0.006'),\n",
       " ('capital', '0.005')]"
      ]
     },
     "execution_count": 25,
     "metadata": {},
     "output_type": "execute_result"
    }
   ],
   "source": [
    "model.topics[3].get_top_words()"
   ]
  },
  {
   "cell_type": "markdown",
   "metadata": {},
   "source": [
    "## Getting all articles in a topic"
   ]
  },
  {
   "cell_type": "markdown",
   "metadata": {},
   "source": [
    "You can get all article ID's and probabilities in a topic using the `Topic.get_top_articles()` method. Set an `n` if you want to cap the results. By default we have `n=5`."
   ]
  },
  {
   "cell_type": "code",
   "execution_count": 26,
   "metadata": {},
   "outputs": [
    {
     "data": {
      "text/plain": [
       "[('66898', 0.8983381390571594),\n",
       " ('48173', 0.8065474629402161),\n",
       " ('57601', 0.39241376519203186),\n",
       " ('8831', 0.009229096584022045)]"
      ]
     },
     "execution_count": 26,
     "metadata": {},
     "output_type": "execute_result"
    }
   ],
   "source": [
    "model.topics[3].get_top_articles()"
   ]
  },
  {
   "cell_type": "markdown",
   "metadata": {},
   "source": [
    "We can also get titles."
   ]
  },
  {
   "cell_type": "code",
   "execution_count": 27,
   "metadata": {},
   "outputs": [
    {
     "data": {
      "text/plain": [
       "['Leonardo Ivarola (2019/09/01). Consecuencias alternativas y asimetría de resultados en la implementación de políticas socioeconómicas',\n",
       " 'José Manuel Chillón (2019/01/01). Heidegger y la prudencia aristotélica como protofenomenología',\n",
       " 'Matías Abeijón (2019/01/01). Historia, estructura y experiencia. Relaciones metodológicas entre Michel Foucault y Georges Dumézil',\n",
       " 'Jorge Aurelio Díaz (2021/12/15). Impacto de las políticas gubernamentales en Ideas y Valores',\n",
       " 'José H. Silveira De Brito (2012/01/01). HUMANIZAÇÃO DA SAÚDE: DA INTENÇÃO À INTELIGÊNCIA EMOTIVA PELAS IDEIAS']"
      ]
     },
     "execution_count": 27,
     "metadata": {},
     "output_type": "execute_result"
    }
   ],
   "source": [
    "model.topics[5].get_top_titles()"
   ]
  },
  {
   "cell_type": "markdown",
   "metadata": {},
   "source": [
    "## Summarize an article"
   ]
  },
  {
   "cell_type": "markdown",
   "metadata": {},
   "source": [
    "If you have an `Article` object, you can use the `Model.get_topics_in_article(Article)` method to get a summary of what topics the article is likely to be in."
   ]
  },
  {
   "cell_type": "code",
   "execution_count": 22,
   "metadata": {},
   "outputs": [],
   "source": [
    "model.get_topics_in_article(model.articles[3])"
   ]
  },
  {
   "cell_type": "markdown",
   "metadata": {},
   "source": [
    "## Summarizing an entire topic"
   ]
  },
  {
   "cell_type": "markdown",
   "metadata": {},
   "source": [
    "For this, we have implemented `Topic.summary()`."
   ]
  },
  {
   "cell_type": "code",
   "execution_count": 6,
   "metadata": {},
   "outputs": [
    {
     "data": {
      "text/markdown": [
       "# Topic 0\n",
       "\n",
       "## Top words:\n",
       "|    | Word       |   Probability |\n",
       "|---:|:-----------|--------------:|\n",
       "|  0 | smith      |         0.01  |\n",
       "|  1 | él         |         0.01  |\n",
       "|  2 | moral      |         0.008 |\n",
       "|  3 | naturaleza |         0.006 |\n",
       "|  4 | objeto     |         0.006 |\n",
       "|  5 | humano     |         0.005 |\n",
       "|  6 | razón      |         0.005 |\n",
       "|  7 | idea       |         0.005 |\n",
       "|  8 | kant       |         0.005 |\n",
       "|  9 | hombre     |         0.004 |\n",
       "## Top articles:\n",
       "\n",
       "* Rosa Colmenarejo (2016/01/01). Enfoque de capacidades  y sostenibilidad. Aportaciones de Amartya Sen  y Martha Nussbaum\n",
       "* José de la Cruz Garrido (2015/09/01). El papel de la imaginación en la refutación de Adam Smith a la tesis del homo economicus\n",
       "* Nicolás Novoa Artigas (2016/01/01). La problemática posición  de Adam Smith acerca  de la suerte moral\n",
       "* Martín Fleitas González (2015/09/01). ¿Solo hay realismo o constructivismo moral dentro del neokantismo contemporáneo? Notas para una fundamentación moral kantiana con base en la idea de libertad\n",
       "* Emilse Galvis (2016/01/01). La subjetivación política  más allá de la esfera pública: Michel Foucault, Jacques Rancière  y Simone Weil\n"
      ],
      "text/plain": [
       "<IPython.core.display.Markdown object>"
      ]
     },
     "execution_count": 6,
     "metadata": {},
     "output_type": "execute_result"
    }
   ],
   "source": [
    "from IPython.display import Markdown as md\n",
    "\n",
    "\n",
    "md(model.topics[0].summary())"
   ]
  },
  {
   "cell_type": "markdown",
   "metadata": {},
   "source": [
    "We can export the summary of all topics in the model to pdf by using the `Model.export_summary()` method. This will output a `summary.pdf` file we can read."
   ]
  },
  {
   "cell_type": "code",
   "execution_count": 7,
   "metadata": {},
   "outputs": [],
   "source": [
    "model.export_summary(\"summary.pdf\")"
   ]
  }
 ],
 "metadata": {
  "kernelspec": {
   "display_name": "Python 3",
   "language": "python",
   "name": "python3"
  },
  "language_info": {
   "codemirror_mode": {
    "name": "ipython",
    "version": 3
   },
   "file_extension": ".py",
   "mimetype": "text/x-python",
   "name": "python",
   "nbconvert_exporter": "python",
   "pygments_lexer": "ipython3",
   "version": "3.9.12"
  }
 },
 "nbformat": 4,
 "nbformat_minor": 4
}
