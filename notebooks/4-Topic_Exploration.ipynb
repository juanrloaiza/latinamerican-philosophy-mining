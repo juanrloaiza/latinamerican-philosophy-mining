{
 "cells": [
  {
   "cell_type": "markdown",
   "metadata": {},
   "source": [
    "# Topic Exploration"
   ]
  },
  {
   "cell_type": "markdown",
   "metadata": {},
   "source": [
    "This notebook serves as an interface with the LDA model, and uses several utility functions that are specifically implemented to explore what each topic contains.\n",
    "\n",
    "Let's start by loading up the model and these auxiliar functions:"
   ]
  },
  {
   "cell_type": "code",
   "execution_count": 2,
   "metadata": {},
   "outputs": [],
   "source": [
    "import datetime # We probably should add the year to the Article class."
   ]
  },
  {
   "cell_type": "code",
   "execution_count": 3,
   "metadata": {},
   "outputs": [],
   "source": [
    "import os\n",
    "import sys \n",
    "\n",
    "# Jupyter Notebooks are not good at handling relative imports.\n",
    "# Best solution (not great practice) is to add the project's path\n",
    "# to the module loading paths of sys.\n",
    "\n",
    "module_path = os.path.abspath(os.path.join('..'))\n",
    "if module_path not in sys.path:\n",
    "    sys.path.append(module_path)"
   ]
  },
  {
   "cell_type": "code",
   "execution_count": 4,
   "metadata": {},
   "outputs": [],
   "source": [
    "from utils.exploration import get_articles_in_topic, get_titles_in_topic\n",
    "from utils.exploration import get_keywords_in_topic, summary\n",
    "from utils.exploration import summarize_topic, topic_top_n"
   ]
  },
  {
   "cell_type": "markdown",
   "metadata": {},
   "source": [
    "And now, the LDA model:"
   ]
  },
  {
   "cell_type": "code",
   "execution_count": null,
   "metadata": {},
   "outputs": [],
   "source": [
    "from gensim.models.ldamodel import LdaModel\n",
    "lda = LdaModel.load(\"LDA_gensim_90_final.model\")"
   ]
  },
  {
   "cell_type": "markdown",
   "metadata": {},
   "source": [
    "## Getting the top words in a topic"
   ]
  },
  {
   "cell_type": "markdown",
   "metadata": {},
   "source": [
    "The function `topic_top_n(lda, topic_id, n=10, verbose=False)` grabs the lda model and a topic id and returns the top `n` words and their probabilities:"
   ]
  },
  {
   "cell_type": "code",
   "execution_count": 4,
   "metadata": {},
   "outputs": [
    {
     "ename": "NameError",
     "evalue": "name 'get_articles_in_topic' is not defined",
     "output_type": "error",
     "traceback": [
      "\u001b[0;31m---------------------------------------------------------------------------\u001b[0m",
      "\u001b[0;31mNameError\u001b[0m                                 Traceback (most recent call last)",
      "\u001b[0;32m<ipython-input-4-2a12f60e7f14>\u001b[0m in \u001b[0;36m<module>\u001b[0;34m\u001b[0m\n\u001b[1;32m      4\u001b[0m     \u001b[0;32mfor\u001b[0m \u001b[0mt\u001b[0m \u001b[0;32min\u001b[0m \u001b[0mrange\u001b[0m\u001b[0;34m(\u001b[0m\u001b[0;36m90\u001b[0m\u001b[0;34m)\u001b[0m\u001b[0;34m:\u001b[0m\u001b[0;34m\u001b[0m\u001b[0;34m\u001b[0m\u001b[0m\n\u001b[1;32m      5\u001b[0m \u001b[0;34m\u001b[0m\u001b[0m\n\u001b[0;32m----> 6\u001b[0;31m         \u001b[0mnum_articles\u001b[0m \u001b[0;34m=\u001b[0m \u001b[0mlen\u001b[0m\u001b[0;34m(\u001b[0m\u001b[0mget_articles_in_topic\u001b[0m\u001b[0;34m(\u001b[0m\u001b[0mt\u001b[0m\u001b[0;34m,\u001b[0m \u001b[0mmin_prob\u001b[0m\u001b[0;34m=\u001b[0m\u001b[0;36m0.5\u001b[0m\u001b[0;34m)\u001b[0m\u001b[0;34m)\u001b[0m\u001b[0;34m\u001b[0m\u001b[0;34m\u001b[0m\u001b[0m\n\u001b[0m\u001b[1;32m      7\u001b[0m \u001b[0;34m\u001b[0m\u001b[0m\n\u001b[1;32m      8\u001b[0m         \u001b[0;32mif\u001b[0m \u001b[0mnum_articles\u001b[0m \u001b[0;34m<\u001b[0m \u001b[0;36m5\u001b[0m\u001b[0;34m:\u001b[0m\u001b[0;34m\u001b[0m\u001b[0;34m\u001b[0m\u001b[0m\n",
      "\u001b[0;31mNameError\u001b[0m: name 'get_articles_in_topic' is not defined"
     ]
    }
   ],
   "source": [
    "!rm topics.md\n",
    "\n",
    "with open('topics.md', 'a') as fp:\n",
    "    for t in range(90):\n",
    "       \n",
    "        num_articles = len(get_articles_in_topic(t, min_prob=0.5))\n",
    "        \n",
    "        if num_articles < 5:\n",
    "            continue\n",
    "            \n",
    "        fp.write(f'\\n# Topic {t}\\n\\n')\n",
    "        fp.write(f'## Articles in topic: {num_articles}\\n')\n",
    "        \n",
    "        \n",
    "        fp.write('## Topic word probabilities:\\n')\n",
    "        fp.write('| Word | Probability |\\n')\n",
    "        fp.write('|---|---|\\n')\n",
    "\n",
    "        for word in topic_top_n(lda, t, n=20):\n",
    "\n",
    "            fp.write(f\"| {word[0]} | {word[1]} | \\n\")\n",
    "            \n",
    "        \n",
    "        fp.write('\\n## Top articles:\\n')\n",
    "            \n",
    "        articles = get_articles_in_topic(t, min_prob=0.5, n=5)\n",
    "        \n",
    "        for article, _ in articles:\n",
    "            try:\n",
    "                year = datetime.datetime.strptime(article.date, \"%Y/%m/%d\").year\n",
    "            except:\n",
    "                year = article.date\n",
    "                \n",
    "            fp.write(f\"* {article.author} ({year}). {article.title}\\n\")\n",
    "\n",
    "        fp.write('\\n\\\\newpage')\n",
    "        \n",
    "!pandoc topics.md -o topics.pdf --pdf-engine=xelatex"
   ]
  },
  {
   "cell_type": "markdown",
   "metadata": {},
   "source": [
    "## Getting all articles in a topic"
   ]
  },
  {
   "cell_type": "markdown",
   "metadata": {},
   "source": [
    "You can get all `Article`s in a topic using `get_articles_in_topic(topic_id, min_prob=0.1, n=None)`. Set an `n` if you want to cap the results."
   ]
  },
  {
   "cell_type": "code",
   "execution_count": null,
   "metadata": {},
   "outputs": [],
   "source": [
    "top_5_articles = get_articles_in_topic(17, min_prob=0.5, n=5)\n",
    "top_5_articles"
   ]
  },
  {
   "cell_type": "markdown",
   "metadata": {},
   "source": [
    "Notice that it also returns the probability. An example of how to use it:"
   ]
  },
  {
   "cell_type": "code",
   "execution_count": null,
   "metadata": {},
   "outputs": [],
   "source": [
    "for article, _ in top_5_articles:\n",
    "    print(article.title)"
   ]
  },
  {
   "cell_type": "markdown",
   "metadata": {},
   "source": [
    "## Getting titles and keywords"
   ]
  },
  {
   "cell_type": "markdown",
   "metadata": {},
   "source": [
    "For this, we have the functions `get_titles_in_topic(topic_id, min_prob=0.1, n=None)` and `get_keywords_in_topic(topic_id, min_prob=0.1, n=None)`. Some examples:"
   ]
  },
  {
   "cell_type": "code",
   "execution_count": null,
   "metadata": {},
   "outputs": [],
   "source": [
    "get_titles_in_topic(17, n=5)"
   ]
  },
  {
   "cell_type": "markdown",
   "metadata": {},
   "source": [
    "If the `Article` class has no value for the `keyword` attribute, then a default `\"NO KEYWORDS FOUND\"` is put into the list."
   ]
  },
  {
   "cell_type": "code",
   "execution_count": null,
   "metadata": {},
   "outputs": [],
   "source": [
    "get_keywords_in_topic(17, n=5)"
   ]
  },
  {
   "cell_type": "markdown",
   "metadata": {},
   "source": [
    "## Summarize an article"
   ]
  },
  {
   "cell_type": "markdown",
   "metadata": {},
   "source": [
    "If you have an `Article` object, you can use the `summary(lda, article, probability=None, topics=False)` to get a quick summary of it."
   ]
  },
  {
   "cell_type": "code",
   "execution_count": null,
   "metadata": {},
   "outputs": [],
   "source": [
    "# Let's pick the last one from the list we've created:\n",
    "article, prob = top_5_articles[-1]\n",
    "summary(lda, article, probability=prob, topics=True)"
   ]
  },
  {
   "cell_type": "markdown",
   "metadata": {},
   "source": [
    "## Summarizing an entire topic"
   ]
  },
  {
   "cell_type": "markdown",
   "metadata": {},
   "source": [
    "For this, we have implemented `summarize_topic(lda, topic_id, min_prob=0.1, n=None)`."
   ]
  },
  {
   "cell_type": "code",
   "execution_count": null,
   "metadata": {},
   "outputs": [],
   "source": [
    "for i in range(90):\n",
    "    summarize_topic(lda, i, n=5)"
   ]
  },
  {
   "cell_type": "markdown",
   "metadata": {},
   "source": [
    "## Using pyLDAvis"
   ]
  },
  {
   "cell_type": "code",
   "execution_count": null,
   "metadata": {},
   "outputs": [],
   "source": [
    "from utils.loaders import loadCorpusList\n",
    "\n",
    "corpusPath = '../data/corpus'\n",
    "corpusList = loadCorpusList(corpusPath)\n",
    "corpusList = [a for a in corpusList if a.lang == \"es\"]"
   ]
  },
  {
   "cell_type": "code",
   "execution_count": null,
   "metadata": {},
   "outputs": [],
   "source": [
    "from utils.exploration import prepare_bag_of_words\n",
    "corpus = [lda.id2word.doc2bow(prepare_bag_of_words(a)) for a in corpusList]"
   ]
  },
  {
   "cell_type": "code",
   "execution_count": null,
   "metadata": {},
   "outputs": [],
   "source": [
    "import pyLDAvis.gensim\n",
    "lda_display = pyLDAvis.gensim.prepare(lda, corpus, lda.id2word, sort_topics=False)\n",
    "pyLDAvis.display(lda_display)"
   ]
  },
  {
   "cell_type": "code",
   "execution_count": null,
   "metadata": {},
   "outputs": [],
   "source": []
  }
 ],
 "metadata": {
  "kernelspec": {
   "display_name": "Python 3",
   "language": "python",
   "name": "python3"
  },
  "language_info": {
   "codemirror_mode": {
    "name": "ipython",
    "version": 3
   },
   "file_extension": ".py",
   "mimetype": "text/x-python",
   "name": "python",
   "nbconvert_exporter": "python",
   "pygments_lexer": "ipython3",
   "version": "3.8.5"
  }
 },
 "nbformat": 4,
 "nbformat_minor": 4
}
